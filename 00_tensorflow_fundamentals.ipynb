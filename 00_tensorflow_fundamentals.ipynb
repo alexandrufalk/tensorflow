{
  "nbformat": 4,
  "nbformat_minor": 0,
  "metadata": {
    "colab": {
      "provenance": [],
      "authorship_tag": "ABX9TyPQVOaLgPs7VGAKEqt10hzK",
      "include_colab_link": true
    },
    "kernelspec": {
      "name": "python3",
      "display_name": "Python 3"
    },
    "language_info": {
      "name": "python"
    }
  },
  "cells": [
    {
      "cell_type": "markdown",
      "metadata": {
        "id": "view-in-github",
        "colab_type": "text"
      },
      "source": [
        "<a href=\"https://colab.research.google.com/github/alexandrufalk/tensorflow/blob/Master/00_tensorflow_fundamentals.ipynb\" target=\"_parent\"><img src=\"https://colab.research.google.com/assets/colab-badge.svg\" alt=\"Open In Colab\"/></a>"
      ]
    },
    {
      "cell_type": "code",
      "source": [],
      "metadata": {
        "id": "5MMtYyOEgdWL"
      },
      "execution_count": 8,
      "outputs": []
    },
    {
      "cell_type": "markdown",
      "source": [
        "# TensorFlow fundamentals\n",
        "\n",
        "TensorFlow Fundamentals\n",
        "\n",
        "Introduction to tensors (creating tensors)\n",
        "\n",
        "Getting information from tensors (tensor attributes)\n",
        "\n",
        "Manipulating tensors (tensor operations)\n",
        "\n",
        "Tensors and NumPy\n",
        "\n",
        "Using @tf.function (a way to speed up your regular Python functions)\n",
        "\n",
        "Using GPUs with TensorFlow"
      ],
      "metadata": {
        "id": "ypNPXi7Mhm2-"
      }
    },
    {
      "cell_type": "markdown",
      "source": [
        "## Introduction to Ternsors\n"
      ],
      "metadata": {
        "id": "2yyk6qvliYQf"
      }
    },
    {
      "cell_type": "code",
      "source": [
        "# Import TensorFlow\n",
        "import tensorflow as tf\n",
        "print(tf.__version__)"
      ],
      "metadata": {
        "colab": {
          "base_uri": "https://localhost:8080/"
        },
        "id": "bPb3IwBsh4K0",
        "outputId": "341ee219-4e84-415e-a692-c031f0a7601f"
      },
      "execution_count": 2,
      "outputs": [
        {
          "output_type": "stream",
          "name": "stdout",
          "text": [
            "2.15.0\n"
          ]
        }
      ]
    },
    {
      "cell_type": "code",
      "source": [
        "# Create tensors with tf.constant()\n",
        "scalar=tf.constant(7)\n",
        "scalar"
      ],
      "metadata": {
        "colab": {
          "base_uri": "https://localhost:8080/"
        },
        "id": "FoEw72Mdi2Ur",
        "outputId": "20c9a13d-d582-4fe8-d76c-dc12327299de"
      },
      "execution_count": 10,
      "outputs": [
        {
          "output_type": "execute_result",
          "data": {
            "text/plain": [
              "<tf.Tensor: shape=(), dtype=int32, numpy=7>"
            ]
          },
          "metadata": {},
          "execution_count": 10
        }
      ]
    },
    {
      "cell_type": "code",
      "source": [
        "# Check the number of dimensions of a tesors\n",
        "scalar.ndim"
      ],
      "metadata": {
        "colab": {
          "base_uri": "https://localhost:8080/"
        },
        "id": "wWkC9j-Hj7jo",
        "outputId": "df28622e-8b6b-460b-e276-82662c906044"
      },
      "execution_count": 11,
      "outputs": [
        {
          "output_type": "execute_result",
          "data": {
            "text/plain": [
              "0"
            ]
          },
          "metadata": {},
          "execution_count": 11
        }
      ]
    },
    {
      "cell_type": "code",
      "source": [
        "# Create a vector\n",
        "vector=tf.constant([10,10])\n",
        "vector"
      ],
      "metadata": {
        "colab": {
          "base_uri": "https://localhost:8080/"
        },
        "id": "fPGyu7qQkHIn",
        "outputId": "bfc86e19-1939-4c66-b34f-4cf381b7ab75"
      },
      "execution_count": 12,
      "outputs": [
        {
          "output_type": "execute_result",
          "data": {
            "text/plain": [
              "<tf.Tensor: shape=(2,), dtype=int32, numpy=array([10, 10], dtype=int32)>"
            ]
          },
          "metadata": {},
          "execution_count": 12
        }
      ]
    },
    {
      "cell_type": "code",
      "source": [
        "# Check the number of dimensions of a vector\n",
        "vector.ndim"
      ],
      "metadata": {
        "colab": {
          "base_uri": "https://localhost:8080/"
        },
        "id": "eQuncezik9PX",
        "outputId": "8bdcec42-4f3f-4e9f-ce2b-e62b98b29b6a"
      },
      "execution_count": 13,
      "outputs": [
        {
          "output_type": "execute_result",
          "data": {
            "text/plain": [
              "1"
            ]
          },
          "metadata": {},
          "execution_count": 13
        }
      ]
    },
    {
      "cell_type": "code",
      "source": [
        "# Create a matrix\n",
        "matrix=tf.constant([[10,7],[7,10]])\n",
        "matrix"
      ],
      "metadata": {
        "colab": {
          "base_uri": "https://localhost:8080/"
        },
        "id": "hQJLaYx0lhL_",
        "outputId": "b6f6df7c-377c-4127-f9be-f181f7d35c2e"
      },
      "execution_count": 14,
      "outputs": [
        {
          "output_type": "execute_result",
          "data": {
            "text/plain": [
              "<tf.Tensor: shape=(2, 2), dtype=int32, numpy=\n",
              "array([[10,  7],\n",
              "       [ 7, 10]], dtype=int32)>"
            ]
          },
          "metadata": {},
          "execution_count": 14
        }
      ]
    },
    {
      "cell_type": "code",
      "source": [
        "# Check the number of dimensions of a matrix\n",
        "matrix.ndim"
      ],
      "metadata": {
        "colab": {
          "base_uri": "https://localhost:8080/"
        },
        "id": "WWbzU9bGmALf",
        "outputId": "225bd94c-30d3-4040-cb54-6f92099ee0da"
      },
      "execution_count": 15,
      "outputs": [
        {
          "output_type": "execute_result",
          "data": {
            "text/plain": [
              "2"
            ]
          },
          "metadata": {},
          "execution_count": 15
        }
      ]
    },
    {
      "cell_type": "code",
      "source": [
        "# Create another matrix\n",
        "matrix2=tf.constant([[10.,7.],[3.,2.],[8.,9.]], dtype=tf.float16) #specify the data type\n",
        "matrix2"
      ],
      "metadata": {
        "colab": {
          "base_uri": "https://localhost:8080/"
        },
        "id": "etbrA3yNmlfZ",
        "outputId": "858f18f8-2423-4786-ef21-ff2d3011dc46"
      },
      "execution_count": 16,
      "outputs": [
        {
          "output_type": "execute_result",
          "data": {
            "text/plain": [
              "<tf.Tensor: shape=(3, 2), dtype=float16, numpy=\n",
              "array([[10.,  7.],\n",
              "       [ 3.,  2.],\n",
              "       [ 8.,  9.]], dtype=float16)>"
            ]
          },
          "metadata": {},
          "execution_count": 16
        }
      ]
    },
    {
      "cell_type": "code",
      "source": [
        "# Check the number of dimensions of  matrix2\n",
        "matrix2.ndim"
      ],
      "metadata": {
        "colab": {
          "base_uri": "https://localhost:8080/"
        },
        "id": "51Ik9euFoJkp",
        "outputId": "61ea73fb-6ecf-43d3-b142-ab8a220787b3"
      },
      "execution_count": 17,
      "outputs": [
        {
          "output_type": "execute_result",
          "data": {
            "text/plain": [
              "2"
            ]
          },
          "metadata": {},
          "execution_count": 17
        }
      ]
    },
    {
      "cell_type": "code",
      "source": [
        "# Let's create a tensor\n",
        "tensor=tf.constant([[[1,2,3],[4,5,6]],[[7,8,9],[10,11,12]],[[13,14,15],[16,17,18]]])\n",
        "tensor"
      ],
      "metadata": {
        "colab": {
          "base_uri": "https://localhost:8080/"
        },
        "id": "0mE3ZObwohxQ",
        "outputId": "b329d7cb-5e01-4d86-f5d3-47a4648717d9"
      },
      "execution_count": 18,
      "outputs": [
        {
          "output_type": "execute_result",
          "data": {
            "text/plain": [
              "<tf.Tensor: shape=(3, 2, 3), dtype=int32, numpy=\n",
              "array([[[ 1,  2,  3],\n",
              "        [ 4,  5,  6]],\n",
              "\n",
              "       [[ 7,  8,  9],\n",
              "        [10, 11, 12]],\n",
              "\n",
              "       [[13, 14, 15],\n",
              "        [16, 17, 18]]], dtype=int32)>"
            ]
          },
          "metadata": {},
          "execution_count": 18
        }
      ]
    },
    {
      "cell_type": "code",
      "source": [
        "# Check the number of dimensions of tensor\n",
        "tensor.ndim"
      ],
      "metadata": {
        "colab": {
          "base_uri": "https://localhost:8080/"
        },
        "id": "5PHwiyq8pXFh",
        "outputId": "22ce3140-9eac-4f20-9f65-4602e1e27f3f"
      },
      "execution_count": 19,
      "outputs": [
        {
          "output_type": "execute_result",
          "data": {
            "text/plain": [
              "3"
            ]
          },
          "metadata": {},
          "execution_count": 19
        }
      ]
    },
    {
      "cell_type": "markdown",
      "source": [
        "-Scalar:a single number\n",
        "-Vector: a number with direction (e.g wind speed an direction)\n",
        "-Matrix: a 2-dimensional array of numbers\n",
        "-Tensor: an n-dimensional array of numbers\n"
      ],
      "metadata": {
        "id": "gBQ5dysrp3LB"
      }
    },
    {
      "cell_type": "markdown",
      "source": [
        "# Creating tensors tf.Variable"
      ],
      "metadata": {
        "id": "_FgAmiw1qffr"
      }
    },
    {
      "cell_type": "code",
      "source": [
        "changeable_tensor=tf.Variable([10,7])\n",
        "unchangeable_tensor=tf.constant([10,7])\n",
        "changeable_tensor,unchangeable_tensor"
      ],
      "metadata": {
        "colab": {
          "base_uri": "https://localhost:8080/"
        },
        "id": "Yc1f8Fdzqdw7",
        "outputId": "be927c28-ab10-4497-8e4d-e425990b81a0"
      },
      "execution_count": 20,
      "outputs": [
        {
          "output_type": "execute_result",
          "data": {
            "text/plain": [
              "(<tf.Variable 'Variable:0' shape=(2,) dtype=int32, numpy=array([10,  7], dtype=int32)>,\n",
              " <tf.Tensor: shape=(2,), dtype=int32, numpy=array([10,  7], dtype=int32)>)"
            ]
          },
          "metadata": {},
          "execution_count": 20
        }
      ]
    },
    {
      "cell_type": "code",
      "source": [
        "# Change element with .assign\n",
        "changeable_tensor[0].assign(7)\n",
        "changeable_tensor"
      ],
      "metadata": {
        "colab": {
          "base_uri": "https://localhost:8080/"
        },
        "id": "Tr0hOYLUt4tP",
        "outputId": "1a605431-9f92-42d6-b749-e9cc272106c9"
      },
      "execution_count": 21,
      "outputs": [
        {
          "output_type": "execute_result",
          "data": {
            "text/plain": [
              "<tf.Variable 'Variable:0' shape=(2,) dtype=int32, numpy=array([7, 7], dtype=int32)>"
            ]
          },
          "metadata": {},
          "execution_count": 21
        }
      ]
    },
    {
      "cell_type": "code",
      "source": [
        "# Try to change unchangeble tensor\n",
        "unchangeable_tensor[0].assign(7)\n",
        "unchangeable_tensor"
      ],
      "metadata": {
        "colab": {
          "base_uri": "https://localhost:8080/",
          "height": 297
        },
        "id": "uGZnVZ-guSH8",
        "outputId": "ccb9cdf8-ab9e-40ed-aca5-e31fcb911460"
      },
      "execution_count": 23,
      "outputs": [
        {
          "output_type": "error",
          "ename": "AttributeError",
          "evalue": "'tensorflow.python.framework.ops.EagerTensor' object has no attribute 'assign'",
          "traceback": [
            "\u001b[0;31m---------------------------------------------------------------------------\u001b[0m",
            "\u001b[0;31mAttributeError\u001b[0m                            Traceback (most recent call last)",
            "\u001b[0;32m<ipython-input-23-7c81d6081e80>\u001b[0m in \u001b[0;36m<cell line: 2>\u001b[0;34m()\u001b[0m\n\u001b[1;32m      1\u001b[0m \u001b[0;31m# Try to change unchangeble tensor\u001b[0m\u001b[0;34m\u001b[0m\u001b[0;34m\u001b[0m\u001b[0m\n\u001b[0;32m----> 2\u001b[0;31m \u001b[0munchangeable_tensor\u001b[0m\u001b[0;34m[\u001b[0m\u001b[0;36m0\u001b[0m\u001b[0;34m]\u001b[0m\u001b[0;34m.\u001b[0m\u001b[0massign\u001b[0m\u001b[0;34m(\u001b[0m\u001b[0;36m7\u001b[0m\u001b[0;34m)\u001b[0m\u001b[0;34m\u001b[0m\u001b[0;34m\u001b[0m\u001b[0m\n\u001b[0m\u001b[1;32m      3\u001b[0m \u001b[0munchangeable_tensor\u001b[0m\u001b[0;34m\u001b[0m\u001b[0;34m\u001b[0m\u001b[0m\n",
            "\u001b[0;32m/usr/local/lib/python3.10/dist-packages/tensorflow/python/framework/tensor.py\u001b[0m in \u001b[0;36m__getattr__\u001b[0;34m(self, name)\u001b[0m\n\u001b[1;32m    259\u001b[0m         \u001b[0mtf\u001b[0m\u001b[0;34m.\u001b[0m\u001b[0mexperimental\u001b[0m\u001b[0;34m.\u001b[0m\u001b[0mnumpy\u001b[0m\u001b[0;34m.\u001b[0m\u001b[0mexperimental_enable_numpy_behavior\u001b[0m\u001b[0;34m(\u001b[0m\u001b[0;34m)\u001b[0m\u001b[0;34m\u001b[0m\u001b[0;34m\u001b[0m\u001b[0m\n\u001b[1;32m    260\u001b[0m       \"\"\")\n\u001b[0;32m--> 261\u001b[0;31m     \u001b[0mself\u001b[0m\u001b[0;34m.\u001b[0m\u001b[0m__getattribute__\u001b[0m\u001b[0;34m(\u001b[0m\u001b[0mname\u001b[0m\u001b[0;34m)\u001b[0m\u001b[0;34m\u001b[0m\u001b[0;34m\u001b[0m\u001b[0m\n\u001b[0m\u001b[1;32m    262\u001b[0m \u001b[0;34m\u001b[0m\u001b[0m\n\u001b[1;32m    263\u001b[0m   \u001b[0;34m@\u001b[0m\u001b[0mproperty\u001b[0m\u001b[0;34m\u001b[0m\u001b[0;34m\u001b[0m\u001b[0m\n",
            "\u001b[0;31mAttributeError\u001b[0m: 'tensorflow.python.framework.ops.EagerTensor' object has no attribute 'assign'"
          ]
        }
      ]
    },
    {
      "cell_type": "markdown",
      "source": [
        " # Creating random tensors\n",
        ""
      ],
      "metadata": {
        "id": "a8cp7ACkSRbo"
      }
    },
    {
      "cell_type": "markdown",
      "source": [
        "**Note** Rarely in practice will be needed to decide whether to use 'tf.constant' or 'tf.Variable' to create tensors, as TensorFlow does this. However, if in doubt, use 'tf.constant' and change it later if needed"
      ],
      "metadata": {
        "id": "cb_G5iBCSqwq"
      }
    },
    {
      "cell_type": "code",
      "source": [
        "# Creating 2 random (but the same) tensors\n",
        "random_1=tf.random.Generator.from_seed(42) # set seed for reproducibility\n",
        "random_1=random_1.normal(shape=(3,2))\n",
        "random_2=tf.random.Generator.from_seed(42) # set seed for reproducibility\n",
        "random_2=random_2.normal(shape=(3,2))\n",
        "# Are they equal?\n",
        "random_1,random_2, random_1==random_2"
      ],
      "metadata": {
        "id": "imJjYfgCupRE",
        "colab": {
          "base_uri": "https://localhost:8080/"
        },
        "outputId": "42d0239e-1a1f-4a62-d03a-084762337907"
      },
      "execution_count": 24,
      "outputs": [
        {
          "output_type": "execute_result",
          "data": {
            "text/plain": [
              "(<tf.Tensor: shape=(3, 2), dtype=float32, numpy=\n",
              " array([[-0.7565803 , -0.06854702],\n",
              "        [ 0.07595026, -1.2573844 ],\n",
              "        [-0.23193763, -1.8107855 ]], dtype=float32)>,\n",
              " <tf.Tensor: shape=(3, 2), dtype=float32, numpy=\n",
              " array([[-0.7565803 , -0.06854702],\n",
              "        [ 0.07595026, -1.2573844 ],\n",
              "        [-0.23193763, -1.8107855 ]], dtype=float32)>,\n",
              " <tf.Tensor: shape=(3, 2), dtype=bool, numpy=\n",
              " array([[ True,  True],\n",
              "        [ True,  True],\n",
              "        [ True,  True]])>)"
            ]
          },
          "metadata": {},
          "execution_count": 24
        }
      ]
    },
    {
      "cell_type": "markdown",
      "source": [
        "# Shuffle the order of elemets in a tesor"
      ],
      "metadata": {
        "id": "VBZuT-FfXZ48"
      }
    },
    {
      "cell_type": "code",
      "source": [
        "#Shuffle a tensor\n",
        "not_shuffled=tf.constant([[10,7],[3,4],[2,5]])\n",
        "not_shuffled\n",
        "# Shuffle\n",
        "tf.random.shuffle(not_shuffled)\n"
      ],
      "metadata": {
        "colab": {
          "base_uri": "https://localhost:8080/"
        },
        "id": "1By21VD5SHDY",
        "outputId": "accd3e22-f276-4b35-e5ae-8851b65f4f88"
      },
      "execution_count": 25,
      "outputs": [
        {
          "output_type": "execute_result",
          "data": {
            "text/plain": [
              "<tf.Tensor: shape=(3, 2), dtype=int32, numpy=\n",
              "array([[ 3,  4],\n",
              "       [10,  7],\n",
              "       [ 2,  5]], dtype=int32)>"
            ]
          },
          "metadata": {},
          "execution_count": 25
        }
      ]
    },
    {
      "cell_type": "code",
      "source": [
        "# Shuffle\n",
        "tf.random.shuffle(not_shuffled,seed=42)"
      ],
      "metadata": {
        "id": "uioKZrqySTwT"
      },
      "execution_count": null,
      "outputs": []
    },
    {
      "cell_type": "code",
      "source": [
        "# To have tensor in the same order, we have to use global level radom seeds and operation level random seed\n",
        "tf.random.set_seed(42) #global level random seed\n",
        "tf.random.shuffle(not_shuffled,seed=42) #operation level random seed"
      ],
      "metadata": {
        "colab": {
          "base_uri": "https://localhost:8080/"
        },
        "id": "ViFMDrXwY0gw",
        "outputId": "be8cf339-a894-400b-8873-1fc195399fcb"
      },
      "execution_count": 26,
      "outputs": [
        {
          "output_type": "execute_result",
          "data": {
            "text/plain": [
              "<tf.Tensor: shape=(3, 2), dtype=int32, numpy=\n",
              "array([[10,  7],\n",
              "       [ 3,  4],\n",
              "       [ 2,  5]], dtype=int32)>"
            ]
          },
          "metadata": {},
          "execution_count": 26
        }
      ]
    },
    {
      "cell_type": "markdown",
      "source": [
        "# Other ways to makes tesors"
      ],
      "metadata": {
        "id": "5-5CRTlbbvWP"
      }
    },
    {
      "cell_type": "code",
      "source": [
        "tf.ones([10,7])"
      ],
      "metadata": {
        "colab": {
          "base_uri": "https://localhost:8080/"
        },
        "id": "HBpybB_zZQAP",
        "outputId": "0f67b6a3-250f-44ef-c458-841d491185fa"
      },
      "execution_count": 27,
      "outputs": [
        {
          "output_type": "execute_result",
          "data": {
            "text/plain": [
              "<tf.Tensor: shape=(10, 7), dtype=float32, numpy=\n",
              "array([[1., 1., 1., 1., 1., 1., 1.],\n",
              "       [1., 1., 1., 1., 1., 1., 1.],\n",
              "       [1., 1., 1., 1., 1., 1., 1.],\n",
              "       [1., 1., 1., 1., 1., 1., 1.],\n",
              "       [1., 1., 1., 1., 1., 1., 1.],\n",
              "       [1., 1., 1., 1., 1., 1., 1.],\n",
              "       [1., 1., 1., 1., 1., 1., 1.],\n",
              "       [1., 1., 1., 1., 1., 1., 1.],\n",
              "       [1., 1., 1., 1., 1., 1., 1.],\n",
              "       [1., 1., 1., 1., 1., 1., 1.]], dtype=float32)>"
            ]
          },
          "metadata": {},
          "execution_count": 27
        }
      ]
    },
    {
      "cell_type": "code",
      "source": [
        "tf.zeros([3,4])"
      ],
      "metadata": {
        "colab": {
          "base_uri": "https://localhost:8080/"
        },
        "id": "ZtAemfvHb9bW",
        "outputId": "08de9448-3642-4d2a-a427-e9a0548abacb"
      },
      "execution_count": 28,
      "outputs": [
        {
          "output_type": "execute_result",
          "data": {
            "text/plain": [
              "<tf.Tensor: shape=(3, 4), dtype=float32, numpy=\n",
              "array([[0., 0., 0., 0.],\n",
              "       [0., 0., 0., 0.],\n",
              "       [0., 0., 0., 0.]], dtype=float32)>"
            ]
          },
          "metadata": {},
          "execution_count": 28
        }
      ]
    },
    {
      "cell_type": "markdown",
      "source": [
        "## Turn Numpy arrays into tensors\n",
        "Difference between NumPy arrays and TesnsorFlow tensors is that tensors can be run on a GPU (much faster numerical computing)"
      ],
      "metadata": {
        "id": "dvxAIvRUcE6I"
      }
    },
    {
      "cell_type": "code",
      "source": [
        "import numpy as np\n",
        "numpy_a=np.arange(1,25, dtype=np.int32)\n",
        "numpy_a"
      ],
      "metadata": {
        "colab": {
          "base_uri": "https://localhost:8080/"
        },
        "id": "yx-MdynbcDqP",
        "outputId": "bb899dcc-bdec-419d-fc6a-68ebe54515fe"
      },
      "execution_count": 5,
      "outputs": [
        {
          "output_type": "execute_result",
          "data": {
            "text/plain": [
              "array([ 1,  2,  3,  4,  5,  6,  7,  8,  9, 10, 11, 12, 13, 14, 15, 16, 17,\n",
              "       18, 19, 20, 21, 22, 23, 24], dtype=int32)"
            ]
          },
          "metadata": {},
          "execution_count": 5
        }
      ]
    },
    {
      "cell_type": "code",
      "source": [
        "A=tf.constant(numpy_a,shape=(2,3,4))\n",
        "B=tf.constant(numpy_a)\n",
        "A,B"
      ],
      "metadata": {
        "colab": {
          "base_uri": "https://localhost:8080/"
        },
        "id": "ENQNqtO1ct7v",
        "outputId": "06c0d556-2bc1-4dd5-9520-26e348036b3b"
      },
      "execution_count": 30,
      "outputs": [
        {
          "output_type": "execute_result",
          "data": {
            "text/plain": [
              "(<tf.Tensor: shape=(2, 3, 4), dtype=int32, numpy=\n",
              " array([[[ 1,  2,  3,  4],\n",
              "         [ 5,  6,  7,  8],\n",
              "         [ 9, 10, 11, 12]],\n",
              " \n",
              "        [[13, 14, 15, 16],\n",
              "         [17, 18, 19, 20],\n",
              "         [21, 22, 23, 24]]], dtype=int32)>,\n",
              " <tf.Tensor: shape=(24,), dtype=int32, numpy=\n",
              " array([ 1,  2,  3,  4,  5,  6,  7,  8,  9, 10, 11, 12, 13, 14, 15, 16, 17,\n",
              "        18, 19, 20, 21, 22, 23, 24], dtype=int32)>)"
            ]
          },
          "metadata": {},
          "execution_count": 30
        }
      ]
    },
    {
      "cell_type": "markdown",
      "source": [
        "# Getting information from tesnors\n",
        "\n",
        "There will be times when you'll want to get different pieces of information from your tensors, in particuluar, you should know the following tensor vocabulary:\n",
        "\n",
        "**Shape**: The length (number of elements) of each of the dimensions of a tensor.\n",
        "\n",
        "**Rank**: The number of tensor dimensions. A scalar has rank 0, a vector has rank 1, a matrix is rank 2, a tensor has rank n.\n",
        "\n",
        "**Axis** or Dimension: A particular dimension of a tensor.\n",
        "\n",
        "**Size**: The total number of items in the tensor.\n",
        "\n",
        "You'll use these especially when you're trying to line up the shapes of your data to the shapes of your model. For example, making sure the shape of your image tensors are the same shape as your models input layer.\n",
        "\n",
        "We've already seen one of these before using the ndim attribute. Let's see the rest."
      ],
      "metadata": {
        "id": "aOzxZbifeGRR"
      }
    },
    {
      "cell_type": "code",
      "source": [
        "# Create a Rank 4 tesor (4 dimensions)\n",
        "rank_4_tensor=tf.zeros(shape=[2,3,4,5])\n",
        "rank_4_tensor"
      ],
      "metadata": {
        "colab": {
          "base_uri": "https://localhost:8080/"
        },
        "id": "oY25xjRZdZ8T",
        "outputId": "b4f6ee9f-7af1-4f41-8a87-1c4960b27cff"
      },
      "execution_count": 31,
      "outputs": [
        {
          "output_type": "execute_result",
          "data": {
            "text/plain": [
              "<tf.Tensor: shape=(2, 3, 4, 5), dtype=float32, numpy=\n",
              "array([[[[0., 0., 0., 0., 0.],\n",
              "         [0., 0., 0., 0., 0.],\n",
              "         [0., 0., 0., 0., 0.],\n",
              "         [0., 0., 0., 0., 0.]],\n",
              "\n",
              "        [[0., 0., 0., 0., 0.],\n",
              "         [0., 0., 0., 0., 0.],\n",
              "         [0., 0., 0., 0., 0.],\n",
              "         [0., 0., 0., 0., 0.]],\n",
              "\n",
              "        [[0., 0., 0., 0., 0.],\n",
              "         [0., 0., 0., 0., 0.],\n",
              "         [0., 0., 0., 0., 0.],\n",
              "         [0., 0., 0., 0., 0.]]],\n",
              "\n",
              "\n",
              "       [[[0., 0., 0., 0., 0.],\n",
              "         [0., 0., 0., 0., 0.],\n",
              "         [0., 0., 0., 0., 0.],\n",
              "         [0., 0., 0., 0., 0.]],\n",
              "\n",
              "        [[0., 0., 0., 0., 0.],\n",
              "         [0., 0., 0., 0., 0.],\n",
              "         [0., 0., 0., 0., 0.],\n",
              "         [0., 0., 0., 0., 0.]],\n",
              "\n",
              "        [[0., 0., 0., 0., 0.],\n",
              "         [0., 0., 0., 0., 0.],\n",
              "         [0., 0., 0., 0., 0.],\n",
              "         [0., 0., 0., 0., 0.]]]], dtype=float32)>"
            ]
          },
          "metadata": {},
          "execution_count": 31
        }
      ]
    },
    {
      "cell_type": "code",
      "source": [
        "rank_4_tensor[0]"
      ],
      "metadata": {
        "colab": {
          "base_uri": "https://localhost:8080/"
        },
        "id": "iE4d_1cwfLPk",
        "outputId": "536ebeeb-8955-4b14-ba35-987dedf6efcb"
      },
      "execution_count": 32,
      "outputs": [
        {
          "output_type": "execute_result",
          "data": {
            "text/plain": [
              "<tf.Tensor: shape=(3, 4, 5), dtype=float32, numpy=\n",
              "array([[[0., 0., 0., 0., 0.],\n",
              "        [0., 0., 0., 0., 0.],\n",
              "        [0., 0., 0., 0., 0.],\n",
              "        [0., 0., 0., 0., 0.]],\n",
              "\n",
              "       [[0., 0., 0., 0., 0.],\n",
              "        [0., 0., 0., 0., 0.],\n",
              "        [0., 0., 0., 0., 0.],\n",
              "        [0., 0., 0., 0., 0.]],\n",
              "\n",
              "       [[0., 0., 0., 0., 0.],\n",
              "        [0., 0., 0., 0., 0.],\n",
              "        [0., 0., 0., 0., 0.],\n",
              "        [0., 0., 0., 0., 0.]]], dtype=float32)>"
            ]
          },
          "metadata": {},
          "execution_count": 32
        }
      ]
    },
    {
      "cell_type": "code",
      "source": [
        "rank_4_tensor.shape,rank_4_tensor.ndim,tf.size(rank_4_tensor)"
      ],
      "metadata": {
        "id": "IQrK9vKkfetF"
      },
      "execution_count": null,
      "outputs": []
    },
    {
      "cell_type": "code",
      "source": [
        "\n",
        "# Get various attributes of tensor\n",
        "print(\"Datatype of every element:\", rank_4_tensor.dtype)\n",
        "print(\"Number of dimensions (rank):\", rank_4_tensor.ndim)\n",
        "print(\"Shape of tensor:\", rank_4_tensor.shape)\n",
        "print(\"Elements along axis 0 of tensor:\", rank_4_tensor.shape[0])\n",
        "print(\"Elements along last axis of tensor:\", rank_4_tensor.shape[-1])\n",
        "print(\"Total number of elements (2*3*4*5):\", tf.size(rank_4_tensor).numpy()) # .numpy() converts to NumPy array"
      ],
      "metadata": {
        "colab": {
          "base_uri": "https://localhost:8080/"
        },
        "id": "PJTEpduKfzkW",
        "outputId": "58aff840-4d91-47e5-966e-5c7fbdefeeae"
      },
      "execution_count": 33,
      "outputs": [
        {
          "output_type": "stream",
          "name": "stdout",
          "text": [
            "Datatype of every element: <dtype: 'float32'>\n",
            "Number of dimensions (rank): 4\n",
            "Shape of tensor: (2, 3, 4, 5)\n",
            "Elements along axis 0 of tensor: 2\n",
            "Elements along last axis of tensor: 5\n",
            "Total number of elements (2*3*4*5): 120\n"
          ]
        }
      ]
    },
    {
      "cell_type": "markdown",
      "source": [
        "# Indexing tensors\n",
        "Tensors can be indexed just like Pythone lists."
      ],
      "metadata": {
        "id": "qziULz-i370h"
      }
    },
    {
      "cell_type": "code",
      "source": [
        "# Get the first 2 items of each dimension\n",
        "rank_4_tensor[:2, :2, :2, :2]"
      ],
      "metadata": {
        "id": "mYh_oc-Uf_Al"
      },
      "execution_count": null,
      "outputs": []
    },
    {
      "cell_type": "code",
      "source": [
        "# Get the dimension from each index except for the final one\n",
        "rank_4_tensor[:1, :1, :1, :]"
      ],
      "metadata": {
        "id": "Z3Q3VcE04Lfc"
      },
      "execution_count": null,
      "outputs": []
    },
    {
      "cell_type": "code",
      "source": [
        "\n",
        "# Create a rank 2 tensor (2 dimensions)\n",
        "rank_2_tensor = tf.constant([[10, 7],\n",
        "                             [3, 4]])\n",
        "\n",
        "# Get the last item of each row\n",
        "rank_2_tensor[:, -1]"
      ],
      "metadata": {
        "id": "ryqf2nh25lCZ"
      },
      "execution_count": null,
      "outputs": []
    },
    {
      "cell_type": "code",
      "source": [
        "\n",
        "# Add an extra dimension (to the end)\n",
        "rank_3_tensor = rank_2_tensor[..., tf.newaxis] # in Python \"...\" means \"all dimensions prior to\"\n",
        "rank_2_tensor, rank_3_tensor # shape (2, 2), shape (2, 2, 1)"
      ],
      "metadata": {
        "id": "N3Y0_cy76th6"
      },
      "execution_count": null,
      "outputs": []
    },
    {
      "cell_type": "markdown",
      "source": [
        "can be achieve the same using tf.expand_dims()."
      ],
      "metadata": {
        "id": "16-yRDKFF5EB"
      }
    },
    {
      "cell_type": "code",
      "source": [
        "tf.expand_dims(rank_2_tensor, axis=-1) # \"-1\" means last axis"
      ],
      "metadata": {
        "id": "6UQwnWz5EUk6"
      },
      "execution_count": null,
      "outputs": []
    },
    {
      "cell_type": "code",
      "source": [
        "tf.expand_dims(rank_2_tensor, axis=0)"
      ],
      "metadata": {
        "id": "9mrxgt4xF-6Y"
      },
      "execution_count": null,
      "outputs": []
    },
    {
      "cell_type": "code",
      "source": [
        "rank_2_tensor\n"
      ],
      "metadata": {
        "id": "lhCeHc6ZHU0t"
      },
      "execution_count": null,
      "outputs": []
    },
    {
      "cell_type": "markdown",
      "source": [
        "# Manipulating tensors (tensors operations)\n",
        "\n",
        "Basic Operations"
      ],
      "metadata": {
        "id": "EXXbHTgGVeUp"
      }
    },
    {
      "cell_type": "code",
      "source": [
        "# You can add values to a tensor using the addition operator\n",
        "tensor = tf.constant([[10, 7], [3, 4]])\n",
        "tensor + 10"
      ],
      "metadata": {
        "id": "9JB8BAdXHijc"
      },
      "execution_count": null,
      "outputs": []
    },
    {
      "cell_type": "code",
      "source": [
        "# Original tensor unchanged\n",
        "tensor\n"
      ],
      "metadata": {
        "id": "4kqInbo4Vqz2"
      },
      "execution_count": null,
      "outputs": []
    },
    {
      "cell_type": "code",
      "source": [
        "\n",
        "# Multiplication (known as element-wise multiplication)\n",
        "tensor * 10\n",
        ""
      ],
      "metadata": {
        "id": "0MVI_2vKWHz1"
      },
      "execution_count": null,
      "outputs": []
    },
    {
      "cell_type": "code",
      "source": [
        "\n",
        "# Subtraction\n",
        "tensor - 10\n"
      ],
      "metadata": {
        "id": "klnv4xTJWJ5I"
      },
      "execution_count": null,
      "outputs": []
    },
    {
      "cell_type": "code",
      "source": [
        "# Use the tensorflow function equivalent of the '*' (multiply) operator\n",
        "tf.multiply(tensor, 10)"
      ],
      "metadata": {
        "id": "-W1Ow8ENWL7_"
      },
      "execution_count": null,
      "outputs": []
    },
    {
      "cell_type": "code",
      "source": [
        "\n",
        "# The original tensor is still unchanged\n",
        "tensor"
      ],
      "metadata": {
        "id": "mhfUvyfxWOBv"
      },
      "execution_count": null,
      "outputs": []
    },
    {
      "cell_type": "markdown",
      "source": [
        "To speed up operations use tensorsFlow operations"
      ],
      "metadata": {
        "id": "3brhcRUMWeA2"
      }
    },
    {
      "cell_type": "markdown",
      "source": [
        "To keep changes need to alocate tensor=tf.multiply(tensor, 10)"
      ],
      "metadata": {
        "id": "Dg2Zdj5PWkx5"
      }
    },
    {
      "cell_type": "markdown",
      "source": [
        "# Matrix mutliplication"
      ],
      "metadata": {
        "id": "TbZB5UR8W3Af"
      }
    },
    {
      "cell_type": "markdown",
      "source": [
        "One of the most common operations in machine learning algorithms is matrix multiplication.\n",
        "\n",
        "TensorFlow implements this matrix multiplication functionality in the tf.matmul() method."
      ],
      "metadata": {
        "id": "3HcL79MmXHqY"
      }
    },
    {
      "cell_type": "code",
      "source": [
        "#Matrix multiplication\n",
        "tf.matmul(tensor,tensor)"
      ],
      "metadata": {
        "id": "-xoFlXbmWUO_"
      },
      "execution_count": null,
      "outputs": []
    },
    {
      "cell_type": "code",
      "source": [
        "tensor*tensor"
      ],
      "metadata": {
        "id": "SkVO7EkWYO9o"
      },
      "execution_count": null,
      "outputs": []
    },
    {
      "cell_type": "code",
      "source": [
        "# Matrix multiplication with Python operator '@'\n",
        "tensor @ tensor"
      ],
      "metadata": {
        "id": "JPWhC3dFYf9H"
      },
      "execution_count": null,
      "outputs": []
    },
    {
      "cell_type": "code",
      "source": [
        "\n",
        "# Create (3, 2) tensor\n",
        "X = tf.constant([[1, 2],\n",
        "                 [3, 4],\n",
        "                 [5, 6]])\n",
        "\n",
        "# Create another (3, 2) tensor\n",
        "Y = tf.constant([[7, 8],\n",
        "                 [9, 10],\n",
        "                 [11, 12]])\n",
        "X, Y"
      ],
      "metadata": {
        "colab": {
          "base_uri": "https://localhost:8080/"
        },
        "id": "2S1Cxc2nYhaw",
        "outputId": "c702aa20-ab96-4f77-c1f2-81c35744f641"
      },
      "execution_count": 21,
      "outputs": [
        {
          "output_type": "execute_result",
          "data": {
            "text/plain": [
              "(<tf.Tensor: shape=(3, 2), dtype=int32, numpy=\n",
              " array([[1, 2],\n",
              "        [3, 4],\n",
              "        [5, 6]], dtype=int32)>,\n",
              " <tf.Tensor: shape=(3, 2), dtype=int32, numpy=\n",
              " array([[ 7,  8],\n",
              "        [ 9, 10],\n",
              "        [11, 12]], dtype=int32)>)"
            ]
          },
          "metadata": {},
          "execution_count": 21
        }
      ]
    },
    {
      "cell_type": "code",
      "source": [
        "\n",
        "# Try to matrix multiply them (will error)\n",
        "X @ Y"
      ],
      "metadata": {
        "id": "JQJhvhq9YpYI"
      },
      "execution_count": null,
      "outputs": []
    },
    {
      "cell_type": "markdown",
      "source": [
        "Trying to matrix multiply two tensors with the shape (3, 2) errors because the inner dimensions don't match.\n",
        "\n",
        "We need to either:\n",
        "\n",
        "Reshape X to (2, 3) so it's (2, 3) @ (3, 2).\n",
        "Reshape Y to (3, 2) so it's (3, 2) @ (2, 3).\n",
        "We can do this with either:\n",
        "\n",
        "tf.reshape() - allows us to reshape a tensor into a defined shape.\n",
        "tf.transpose() - switches the dimensions of a given tensor.\n"
      ],
      "metadata": {
        "id": "6pNUZo5XY3qq"
      }
    },
    {
      "cell_type": "code",
      "source": [
        "tf.reshape(Y,shape=(2,3))"
      ],
      "metadata": {
        "id": "nsKmkgVJYyVf"
      },
      "execution_count": null,
      "outputs": []
    },
    {
      "cell_type": "code",
      "source": [
        "X@tf.reshape(Y,shape=(2,3))"
      ],
      "metadata": {
        "id": "pxj6xX1Sal4q"
      },
      "execution_count": null,
      "outputs": []
    },
    {
      "cell_type": "code",
      "source": [
        "tf.matmul(tf.reshape(X,shape=(2,3)),Y)"
      ],
      "metadata": {
        "id": "85vMqwX5axJZ"
      },
      "execution_count": null,
      "outputs": []
    },
    {
      "cell_type": "code",
      "source": [
        "# transpose a matrix\n",
        "\n",
        "X,tf.transpose(X),tf.reshape(X,shape=(2,3))"
      ],
      "metadata": {
        "id": "aqA9KwjvbfV9"
      },
      "execution_count": null,
      "outputs": []
    },
    {
      "cell_type": "code",
      "source": [
        "\n",
        "# Try matrix multiplication\n",
        "tf.matmul(tf.transpose(X), Y)"
      ],
      "metadata": {
        "id": "f6yveaGIcRFa"
      },
      "execution_count": null,
      "outputs": []
    },
    {
      "cell_type": "markdown",
      "source": [
        "# The dot product\n",
        "Multiplying matrices by eachother is also referred to as the dot product.\n",
        "\n",
        "You can perform the tf.matmul() operation using tf.tensordot()."
      ],
      "metadata": {
        "id": "MpNlD0atha9X"
      }
    },
    {
      "cell_type": "code",
      "source": [
        "# Perform the dot product on X and Y (requires X to be transposed)\n",
        "tf.tensordot(tf.transpose(X), Y, axes=1)"
      ],
      "metadata": {
        "colab": {
          "base_uri": "https://localhost:8080/"
        },
        "id": "RmDXSvZ4crn8",
        "outputId": "558fd8f8-e428-4561-dc1f-6d9380d5d6a5"
      },
      "execution_count": 22,
      "outputs": [
        {
          "output_type": "execute_result",
          "data": {
            "text/plain": [
              "<tf.Tensor: shape=(2, 2), dtype=int32, numpy=\n",
              "array([[ 89,  98],\n",
              "       [116, 128]], dtype=int32)>"
            ]
          },
          "metadata": {},
          "execution_count": 22
        }
      ]
    },
    {
      "cell_type": "code",
      "source": [
        "\n",
        "# Perform matrix multiplication between X and Y (transposed)\n",
        "tf.matmul(X, tf.transpose(Y))"
      ],
      "metadata": {
        "colab": {
          "base_uri": "https://localhost:8080/"
        },
        "id": "3Rc-IMkbhZ_8",
        "outputId": "0ab3e86e-12da-4c8d-c51d-0a73295f5dbf"
      },
      "execution_count": 25,
      "outputs": [
        {
          "output_type": "execute_result",
          "data": {
            "text/plain": [
              "<tf.Tensor: shape=(3, 3), dtype=int32, numpy=\n",
              "array([[ 23,  29,  35],\n",
              "       [ 53,  67,  81],\n",
              "       [ 83, 105, 127]], dtype=int32)>"
            ]
          },
          "metadata": {},
          "execution_count": 25
        }
      ]
    },
    {
      "cell_type": "code",
      "source": [
        "\n",
        "# Perform matrix multiplication between X and Y (reshaped)\n",
        "tf.matmul(X, tf.reshape(Y, (2, 3)))"
      ],
      "metadata": {
        "id": "JOzV9AQHiNPC"
      },
      "execution_count": null,
      "outputs": []
    },
    {
      "cell_type": "code",
      "source": [
        "\n",
        "# Check values of Y, reshape Y and tranposed Y\n",
        "print(\"Normal Y:\")\n",
        "print(Y, \"\\n\") # \"\\n\" for newline\n",
        "\n",
        "print(\"Y reshaped to (2, 3):\")\n",
        "print(tf.reshape(Y, (2, 3)), \"\\n\")\n",
        "\n",
        "print(\"Y transposed:\")\n",
        "print(tf.transpose(Y))"
      ],
      "metadata": {
        "id": "YhOcxbE3iPHC"
      },
      "execution_count": null,
      "outputs": []
    },
    {
      "cell_type": "markdown",
      "source": [
        "generally, whenever performing a matrix multiplication and the shapes of two matrices don't line up, you will transpose (not reshape) one of them in order to line them up."
      ],
      "metadata": {
        "id": "xhA6a-ISi-Vo"
      }
    },
    {
      "cell_type": "markdown",
      "source": [
        "# Changing the datatype of a tensor"
      ],
      "metadata": {
        "id": "AS8zUpVijHdM"
      }
    },
    {
      "cell_type": "code",
      "source": [
        "tf.__version__"
      ],
      "metadata": {
        "id": "aQZH1yF6kcAW"
      },
      "execution_count": null,
      "outputs": []
    },
    {
      "cell_type": "code",
      "source": [
        "\n",
        "# Create a new tensor with default datatype (float32)\n",
        "B = tf.constant([1.7, 7.4])\n",
        "\n",
        "# Create a new tensor with default datatype (int32)\n",
        "C = tf.constant([1, 7])\n",
        "B, C"
      ],
      "metadata": {
        "id": "z9TZ5FF-ibjO"
      },
      "execution_count": null,
      "outputs": []
    },
    {
      "cell_type": "code",
      "source": [
        "\n",
        "# Change from float32 to float16 (reduced precision)\n",
        "B = tf.cast(B, dtype=tf.float16)\n",
        "B"
      ],
      "metadata": {
        "id": "OFzDfQ4wkWq6"
      },
      "execution_count": null,
      "outputs": []
    },
    {
      "cell_type": "code",
      "source": [
        "# Change from int32 to float32\n",
        "C = tf.cast(C, dtype=tf.float32)\n",
        "C\n",
        ""
      ],
      "metadata": {
        "id": "7XuXxawAkmNi"
      },
      "execution_count": null,
      "outputs": []
    },
    {
      "cell_type": "markdown",
      "source": [
        "# Aggregation tensors\n",
        "-condensing them drom multiple values down to a smaller amount of values"
      ],
      "metadata": {
        "id": "5nlNmnhPpCiA"
      }
    },
    {
      "cell_type": "code",
      "source": [
        "# Get the absolut values\n",
        "D=tf.constant([-1,-10])\n",
        "tf.abs(D)"
      ],
      "metadata": {
        "colab": {
          "base_uri": "https://localhost:8080/"
        },
        "id": "PYDXPjB5lPId",
        "outputId": "5d4c54e0-ef8f-4e8a-bbe6-308dd51f2330"
      },
      "execution_count": 34,
      "outputs": [
        {
          "output_type": "execute_result",
          "data": {
            "text/plain": [
              "<tf.Tensor: shape=(2,), dtype=int32, numpy=array([ 1, 10], dtype=int32)>"
            ]
          },
          "metadata": {},
          "execution_count": 34
        }
      ]
    },
    {
      "cell_type": "markdown",
      "source": [
        "Finding the min, max, mean, sum (aggregation)\n",
        "tf.reduce_min() - find the minimum value in a tensor.\n",
        "\n",
        "tf.reduce_max() - find the maximum value in a tensor (helpful for when you want to find the highest prediction probability).\n",
        "\n",
        "tf.reduce_mean() - find the mean of all elements in a tensor.\n",
        "\n",
        "tf.reduce_sum() - find the sum of all elements in a tensor.\n",
        "\n",
        "Note: typically, each of these is under the math module, e.g. tf.math.reduce_min() but you can use the alias tf.reduce_min().\n",
        "\n",
        "---\n",
        "\n"
      ],
      "metadata": {
        "id": "4Hl02FwAp47W"
      }
    },
    {
      "cell_type": "code",
      "source": [
        "\n",
        "# Create a tensor with 50 random values between 0 and 100\n",
        "E = tf.constant(np.random.randint(low=0, high=100, size=50))\n",
        "E"
      ],
      "metadata": {
        "colab": {
          "base_uri": "https://localhost:8080/"
        },
        "id": "DYmgOWVKpivN",
        "outputId": "5f25c71f-c2fc-44b6-e0d8-22e5f0cb3d23"
      },
      "execution_count": 35,
      "outputs": [
        {
          "output_type": "execute_result",
          "data": {
            "text/plain": [
              "<tf.Tensor: shape=(50,), dtype=int64, numpy=\n",
              "array([84,  8, 65, 97, 42, 96,  9, 50, 51, 37, 46, 31, 36, 83, 49, 29, 53,\n",
              "       76, 80, 47, 83, 34,  2,  4, 74,  6, 41, 24, 56, 42, 93, 16, 88, 17,\n",
              "       95, 19, 49, 33, 22, 95, 96, 49, 89, 17, 15, 91, 27, 20, 73, 65])>"
            ]
          },
          "metadata": {},
          "execution_count": 35
        }
      ]
    },
    {
      "cell_type": "code",
      "source": [
        "tf.size(E), E.shape, E.ndim"
      ],
      "metadata": {
        "colab": {
          "base_uri": "https://localhost:8080/"
        },
        "id": "wg479m4BqMtc",
        "outputId": "404ef691-c491-4d6b-f495-76b2223fedcb"
      },
      "execution_count": 36,
      "outputs": [
        {
          "output_type": "execute_result",
          "data": {
            "text/plain": [
              "(<tf.Tensor: shape=(), dtype=int32, numpy=50>, TensorShape([50]), 1)"
            ]
          },
          "metadata": {},
          "execution_count": 36
        }
      ]
    },
    {
      "cell_type": "code",
      "source": [
        "#find th minimum\n",
        "tf.reduce_min(E)"
      ],
      "metadata": {
        "colab": {
          "base_uri": "https://localhost:8080/"
        },
        "id": "AGc6ztOqqybi",
        "outputId": "cf45a6d6-76fb-4a6d-985e-e03c1be36f7a"
      },
      "execution_count": 37,
      "outputs": [
        {
          "output_type": "execute_result",
          "data": {
            "text/plain": [
              "<tf.Tensor: shape=(), dtype=int64, numpy=2>"
            ]
          },
          "metadata": {},
          "execution_count": 37
        }
      ]
    },
    {
      "cell_type": "code",
      "source": [
        "#find th maximum\n",
        "tf.reduce_max(E)"
      ],
      "metadata": {
        "colab": {
          "base_uri": "https://localhost:8080/"
        },
        "id": "LySt3IwFq6lb",
        "outputId": "6c67834d-4324-4e97-ec3b-707173949f6b"
      },
      "execution_count": 38,
      "outputs": [
        {
          "output_type": "execute_result",
          "data": {
            "text/plain": [
              "<tf.Tensor: shape=(), dtype=int64, numpy=97>"
            ]
          },
          "metadata": {},
          "execution_count": 38
        }
      ]
    },
    {
      "cell_type": "code",
      "source": [
        "\n",
        "# Find the mean\n",
        "tf.reduce_mean(E)"
      ],
      "metadata": {
        "colab": {
          "base_uri": "https://localhost:8080/"
        },
        "id": "Vn0fLtk-rELz",
        "outputId": "cf86c9e3-13c2-4af2-9fc5-3a26f5fcbe37"
      },
      "execution_count": 39,
      "outputs": [
        {
          "output_type": "execute_result",
          "data": {
            "text/plain": [
              "<tf.Tensor: shape=(), dtype=int64, numpy=50>"
            ]
          },
          "metadata": {},
          "execution_count": 39
        }
      ]
    },
    {
      "cell_type": "code",
      "source": [
        "\n",
        "# Find the sum\n",
        "tf.reduce_sum(E)"
      ],
      "metadata": {
        "colab": {
          "base_uri": "https://localhost:8080/"
        },
        "id": "JGdcbdmHrHWy",
        "outputId": "811ca0d1-885b-4017-d0d8-28090d458c1e"
      },
      "execution_count": 40,
      "outputs": [
        {
          "output_type": "execute_result",
          "data": {
            "text/plain": [
              "<tf.Tensor: shape=(), dtype=int64, numpy=2504>"
            ]
          },
          "metadata": {},
          "execution_count": 40
        }
      ]
    },
    {
      "cell_type": "code",
      "source": [
        "import tensorflow_probability as tfp"
      ],
      "metadata": {
        "id": "bPthrEKa3Uhz"
      },
      "execution_count": 43,
      "outputs": []
    },
    {
      "cell_type": "code",
      "source": [
        "#Find the varance and standard deviation\n",
        "tfp.stats.variance(E)\n"
      ],
      "metadata": {
        "colab": {
          "base_uri": "https://localhost:8080/"
        },
        "id": "ln56VHQ9rI6T",
        "outputId": "185317c7-1b5a-46b8-fed3-d2238da9b24c"
      },
      "execution_count": 45,
      "outputs": [
        {
          "output_type": "execute_result",
          "data": {
            "text/plain": [
              "<tf.Tensor: shape=(), dtype=int64, numpy=873>"
            ]
          },
          "metadata": {},
          "execution_count": 45
        }
      ]
    },
    {
      "cell_type": "code",
      "source": [
        "tfp.stats.stddev(tf.cast(E,dtype=tf.float32))"
      ],
      "metadata": {
        "colab": {
          "base_uri": "https://localhost:8080/"
        },
        "id": "pziqXfZ60yLG",
        "outputId": "e3ae32a0-c4ca-4062-fe9b-50433305ce1a"
      },
      "execution_count": 47,
      "outputs": [
        {
          "output_type": "execute_result",
          "data": {
            "text/plain": [
              "<tf.Tensor: shape=(), dtype=float32, numpy=29.548496>"
            ]
          },
          "metadata": {},
          "execution_count": 47
        }
      ]
    },
    {
      "cell_type": "markdown",
      "source": [
        "# Find the postional maximum and minimum"
      ],
      "metadata": {
        "id": "Q8Gz26C84qSq"
      }
    },
    {
      "cell_type": "code",
      "source": [
        "# Create a tensor with 50 values between 0 and 1\n",
        "tf.random.set_seed(42)\n",
        "F = tf.constant(np.random.random(50))\n",
        "F"
      ],
      "metadata": {
        "colab": {
          "base_uri": "https://localhost:8080/"
        },
        "id": "bYT9ocTq4H-8",
        "outputId": "ec44a5e2-c905-4d9a-a0ed-790deddae370"
      },
      "execution_count": 7,
      "outputs": [
        {
          "output_type": "execute_result",
          "data": {
            "text/plain": [
              "<tf.Tensor: shape=(50,), dtype=float64, numpy=\n",
              "array([0.53661944, 0.72744591, 0.22339506, 0.76384667, 0.82852045,\n",
              "       0.25358758, 0.861329  , 0.39347567, 0.77811865, 0.47097742,\n",
              "       0.74869082, 0.04444929, 0.56852593, 0.8367325 , 0.9211386 ,\n",
              "       0.67754704, 0.49015746, 0.69083172, 0.41331934, 0.10981572,\n",
              "       0.79459674, 0.1467446 , 0.51647365, 0.84416432, 0.36250444,\n",
              "       0.32794633, 0.32454498, 0.29338173, 0.53271679, 0.35684422,\n",
              "       0.732162  , 0.54080795, 0.66198827, 0.30443099, 0.04732018,\n",
              "       0.34419597, 0.03172055, 0.95520204, 0.19575637, 0.6981966 ,\n",
              "       0.73256952, 0.40613891, 0.03099098, 0.19752935, 0.56879685,\n",
              "       0.85579448, 0.655894  , 0.69552454, 0.62253858, 0.33212208])>"
            ]
          },
          "metadata": {},
          "execution_count": 7
        }
      ]
    },
    {
      "cell_type": "code",
      "source": [
        "# Find the positional maximum\n",
        "tf.argmax(F)"
      ],
      "metadata": {
        "colab": {
          "base_uri": "https://localhost:8080/"
        },
        "id": "HnU2scu55Z4C",
        "outputId": "176ea6ec-921e-4b25-b866-59a91db59f89"
      },
      "execution_count": 51,
      "outputs": [
        {
          "output_type": "execute_result",
          "data": {
            "text/plain": [
              "<tf.Tensor: shape=(), dtype=int64, numpy=44>"
            ]
          },
          "metadata": {},
          "execution_count": 51
        }
      ]
    },
    {
      "cell_type": "code",
      "source": [
        "# Index of our larger value position\n",
        "F[tf.argmax(F)]"
      ],
      "metadata": {
        "colab": {
          "base_uri": "https://localhost:8080/"
        },
        "id": "yUOplBUO52Pn",
        "outputId": "95938451-9f5d-4295-e972-7b1efa1ff00f"
      },
      "execution_count": 54,
      "outputs": [
        {
          "output_type": "execute_result",
          "data": {
            "text/plain": [
              "<tf.Tensor: shape=(), dtype=float64, numpy=0.9751444306063499>"
            ]
          },
          "metadata": {},
          "execution_count": 54
        }
      ]
    },
    {
      "cell_type": "code",
      "source": [
        "#Find the max value of F\n",
        "tf.reduce_max(F)"
      ],
      "metadata": {
        "colab": {
          "base_uri": "https://localhost:8080/"
        },
        "id": "eRKy7Fyb6DAy",
        "outputId": "f193d737-ed17-4fc9-b338-e34d5793cdcd"
      },
      "execution_count": 56,
      "outputs": [
        {
          "output_type": "execute_result",
          "data": {
            "text/plain": [
              "<tf.Tensor: shape=(), dtype=float64, numpy=0.9751444306063499>"
            ]
          },
          "metadata": {},
          "execution_count": 56
        }
      ]
    },
    {
      "cell_type": "code",
      "source": [
        "#Find the positional minimal\n",
        "tf.argmin(F)"
      ],
      "metadata": {
        "colab": {
          "base_uri": "https://localhost:8080/"
        },
        "id": "yDFCwy9_6P5s",
        "outputId": "d711e8fa-8b1e-47b6-e840-111576ed4454"
      },
      "execution_count": 57,
      "outputs": [
        {
          "output_type": "execute_result",
          "data": {
            "text/plain": [
              "<tf.Tensor: shape=(), dtype=int64, numpy=37>"
            ]
          },
          "metadata": {},
          "execution_count": 57
        }
      ]
    },
    {
      "cell_type": "code",
      "source": [
        "# Find the maximum element position of F\n",
        "print(f\"The maximum value of F is at position: {tf.argmax(F).numpy()}\")\n",
        "print(f\"The maximum value of F is: {tf.reduce_max(F).numpy()}\")\n",
        "print(f\"Using tf.argmax() to index F, the maximum value of F is: {F[tf.argmax(F)].numpy()}\")\n",
        "print(f\"Are the two max values the same (they should be)? {F[tf.argmax(F)].numpy() == tf.reduce_max(F).numpy()}\")"
      ],
      "metadata": {
        "colab": {
          "base_uri": "https://localhost:8080/"
        },
        "id": "lx08PNNze_o6",
        "outputId": "e9140e1c-1b8f-446d-8007-7535dbc1a57e"
      },
      "execution_count": 8,
      "outputs": [
        {
          "output_type": "stream",
          "name": "stdout",
          "text": [
            "The maximum value of F is at position: 37\n",
            "The maximum value of F is: 0.95520203901915\n",
            "Using tf.argmax() to index F, the maximum value of F is: 0.95520203901915\n",
            "Are the two max values the same (they should be)? True\n"
          ]
        }
      ]
    },
    {
      "cell_type": "code",
      "source": [
        "# Squeezing a tensor (removing all single dimensions)\n",
        "tf.random.set_seed(42)\n",
        "G=tf.constant(tf.random.uniform(shape=[50]), shape=(1,1,1,1,50))\n",
        "G"
      ],
      "metadata": {
        "colab": {
          "base_uri": "https://localhost:8080/"
        },
        "id": "I3mgSps86rr4",
        "outputId": "acd11f40-fbb8-4cf3-f135-8e95c72edeb5"
      },
      "execution_count": 60,
      "outputs": [
        {
          "output_type": "execute_result",
          "data": {
            "text/plain": [
              "<tf.Tensor: shape=(1, 1, 1, 1, 50), dtype=float32, numpy=\n",
              "array([[[[[0.6645621 , 0.44100678, 0.3528825 , 0.46448255, 0.03366041,\n",
              "           0.68467236, 0.74011743, 0.8724445 , 0.22632635, 0.22319686,\n",
              "           0.3103881 , 0.7223358 , 0.13318717, 0.5480639 , 0.5746088 ,\n",
              "           0.8996835 , 0.00946367, 0.5212307 , 0.6345445 , 0.1993283 ,\n",
              "           0.72942245, 0.54583454, 0.10756552, 0.6767061 , 0.6602763 ,\n",
              "           0.33695042, 0.60141766, 0.21062577, 0.8527372 , 0.44062173,\n",
              "           0.9485276 , 0.23752594, 0.81179297, 0.5263394 , 0.494308  ,\n",
              "           0.21612847, 0.8457197 , 0.8718841 , 0.3083862 , 0.6868038 ,\n",
              "           0.23764038, 0.7817228 , 0.9671384 , 0.06870162, 0.79873943,\n",
              "           0.66028714, 0.5871513 , 0.16461694, 0.7381023 , 0.32054043]]]]],\n",
              "      dtype=float32)>"
            ]
          },
          "metadata": {},
          "execution_count": 60
        }
      ]
    },
    {
      "cell_type": "code",
      "source": [
        "G.shape"
      ],
      "metadata": {
        "colab": {
          "base_uri": "https://localhost:8080/"
        },
        "id": "xW3Gyh597VBn",
        "outputId": "ee188953-cb79-4f57-e584-f645f87a1e35"
      },
      "execution_count": 61,
      "outputs": [
        {
          "output_type": "execute_result",
          "data": {
            "text/plain": [
              "TensorShape([1, 1, 1, 1, 50])"
            ]
          },
          "metadata": {},
          "execution_count": 61
        }
      ]
    },
    {
      "cell_type": "code",
      "source": [
        "G_squeezed=tf.squeeze(G)\n",
        "G_squeezed"
      ],
      "metadata": {
        "colab": {
          "base_uri": "https://localhost:8080/"
        },
        "id": "YBQ93eT47xKm",
        "outputId": "bcbd2e88-c243-400a-d2ad-74c577aae225"
      },
      "execution_count": 62,
      "outputs": [
        {
          "output_type": "execute_result",
          "data": {
            "text/plain": [
              "<tf.Tensor: shape=(50,), dtype=float32, numpy=\n",
              "array([0.6645621 , 0.44100678, 0.3528825 , 0.46448255, 0.03366041,\n",
              "       0.68467236, 0.74011743, 0.8724445 , 0.22632635, 0.22319686,\n",
              "       0.3103881 , 0.7223358 , 0.13318717, 0.5480639 , 0.5746088 ,\n",
              "       0.8996835 , 0.00946367, 0.5212307 , 0.6345445 , 0.1993283 ,\n",
              "       0.72942245, 0.54583454, 0.10756552, 0.6767061 , 0.6602763 ,\n",
              "       0.33695042, 0.60141766, 0.21062577, 0.8527372 , 0.44062173,\n",
              "       0.9485276 , 0.23752594, 0.81179297, 0.5263394 , 0.494308  ,\n",
              "       0.21612847, 0.8457197 , 0.8718841 , 0.3083862 , 0.6868038 ,\n",
              "       0.23764038, 0.7817228 , 0.9671384 , 0.06870162, 0.79873943,\n",
              "       0.66028714, 0.5871513 , 0.16461694, 0.7381023 , 0.32054043],\n",
              "      dtype=float32)>"
            ]
          },
          "metadata": {},
          "execution_count": 62
        }
      ]
    },
    {
      "cell_type": "markdown",
      "source": [
        "# One-hot encoding"
      ],
      "metadata": {
        "id": "Wpy50HAv8AFu"
      }
    },
    {
      "cell_type": "code",
      "source": [
        "\n",
        "# Create a list of indices\n",
        "some_list = [0, 1, 2, 3]\n",
        "\n",
        "# One hot encode them\n",
        "tf.one_hot(some_list, depth=4)"
      ],
      "metadata": {
        "colab": {
          "base_uri": "https://localhost:8080/"
        },
        "id": "CdDwpgwT79WO",
        "outputId": "fdf502a6-7548-4b17-8011-0785079bc167"
      },
      "execution_count": 63,
      "outputs": [
        {
          "output_type": "execute_result",
          "data": {
            "text/plain": [
              "<tf.Tensor: shape=(4, 4), dtype=float32, numpy=\n",
              "array([[1., 0., 0., 0.],\n",
              "       [0., 1., 0., 0.],\n",
              "       [0., 0., 1., 0.],\n",
              "       [0., 0., 0., 1.]], dtype=float32)>"
            ]
          },
          "metadata": {},
          "execution_count": 63
        }
      ]
    },
    {
      "cell_type": "code",
      "source": [
        "# Specify custom values for on and off encoding\n",
        "tf.one_hot(some_list, depth=4, on_value=\"one\", off_value=\"zero\")"
      ],
      "metadata": {
        "colab": {
          "base_uri": "https://localhost:8080/"
        },
        "id": "b-eUXcg68fBy",
        "outputId": "92a27fe8-466c-4ecb-d971-9e0f0c8f45f7"
      },
      "execution_count": 64,
      "outputs": [
        {
          "output_type": "execute_result",
          "data": {
            "text/plain": [
              "<tf.Tensor: shape=(4, 4), dtype=string, numpy=\n",
              "array([[b'one', b'zero', b'zero', b'zero'],\n",
              "       [b'zero', b'one', b'zero', b'zero'],\n",
              "       [b'zero', b'zero', b'one', b'zero'],\n",
              "       [b'zero', b'zero', b'zero', b'one']], dtype=object)>"
            ]
          },
          "metadata": {},
          "execution_count": 64
        }
      ]
    },
    {
      "cell_type": "markdown",
      "source": [
        "# Squaring, log, square root"
      ],
      "metadata": {
        "id": "Ru0ZNERD9ZEB"
      }
    },
    {
      "cell_type": "code",
      "source": [
        "H=tf.range(1,10)\n",
        "H"
      ],
      "metadata": {
        "colab": {
          "base_uri": "https://localhost:8080/"
        },
        "id": "OrbvH80y86M_",
        "outputId": "dea6f8c7-5afa-4036-b858-6375147e9c97"
      },
      "execution_count": 67,
      "outputs": [
        {
          "output_type": "execute_result",
          "data": {
            "text/plain": [
              "<tf.Tensor: shape=(9,), dtype=int32, numpy=array([1, 2, 3, 4, 5, 6, 7, 8, 9], dtype=int32)>"
            ]
          },
          "metadata": {},
          "execution_count": 67
        }
      ]
    },
    {
      "cell_type": "code",
      "source": [
        "#Square\n",
        "tf.square(H)"
      ],
      "metadata": {
        "colab": {
          "base_uri": "https://localhost:8080/"
        },
        "id": "37HTOTRV9Xum",
        "outputId": "41bc4938-53af-4ea0-dcc7-1bf89e8e074b"
      },
      "execution_count": 69,
      "outputs": [
        {
          "output_type": "execute_result",
          "data": {
            "text/plain": [
              "<tf.Tensor: shape=(9,), dtype=int32, numpy=array([ 1,  4,  9, 16, 25, 36, 49, 64, 81], dtype=int32)>"
            ]
          },
          "metadata": {},
          "execution_count": 69
        }
      ]
    },
    {
      "cell_type": "code",
      "source": [
        "# Square root"
      ],
      "metadata": {
        "id": "Jf0bC6mr9mKP"
      },
      "execution_count": 70,
      "outputs": []
    },
    {
      "cell_type": "code",
      "source": [
        "tf.sqrt(tf.cast(H,dtype=tf.float32))"
      ],
      "metadata": {
        "colab": {
          "base_uri": "https://localhost:8080/"
        },
        "id": "F3sg6hMF9wyp",
        "outputId": "fdd83a8b-7623-4f25-cf0b-61ffe092b30a"
      },
      "execution_count": 72,
      "outputs": [
        {
          "output_type": "execute_result",
          "data": {
            "text/plain": [
              "<tf.Tensor: shape=(9,), dtype=float32, numpy=\n",
              "array([1.       , 1.4142135, 1.7320508, 2.       , 2.236068 , 2.4494898,\n",
              "       2.6457512, 2.828427 , 3.       ], dtype=float32)>"
            ]
          },
          "metadata": {},
          "execution_count": 72
        }
      ]
    },
    {
      "cell_type": "code",
      "source": [
        "# Find the log\n",
        "tf.math.log(tf.cast(H,dtype=tf.float32))"
      ],
      "metadata": {
        "colab": {
          "base_uri": "https://localhost:8080/"
        },
        "id": "PKvj7O50-A5B",
        "outputId": "a85bac2b-d584-45a3-94e9-687c6a503399"
      },
      "execution_count": 74,
      "outputs": [
        {
          "output_type": "execute_result",
          "data": {
            "text/plain": [
              "<tf.Tensor: shape=(9,), dtype=float32, numpy=\n",
              "array([0.       , 0.6931472, 1.0986123, 1.3862944, 1.609438 , 1.7917595,\n",
              "       1.9459102, 2.0794415, 2.1972246], dtype=float32)>"
            ]
          },
          "metadata": {},
          "execution_count": 74
        }
      ]
    },
    {
      "cell_type": "markdown",
      "source": [
        "## Tensors and Numpy\n",
        "\n"
      ],
      "metadata": {
        "id": "vI8SVWaH-aZa"
      }
    },
    {
      "cell_type": "code",
      "source": [
        "# Create a tensor directly from a NumPy array"
      ],
      "metadata": {
        "id": "DgYFPKiU-Laq"
      },
      "execution_count": 75,
      "outputs": []
    },
    {
      "cell_type": "code",
      "source": [
        "J=tf.constant(np.array([3.,7.,10.]))\n",
        "J"
      ],
      "metadata": {
        "colab": {
          "base_uri": "https://localhost:8080/"
        },
        "id": "ZMwaM2PW-qHG",
        "outputId": "9aa31d65-365b-4ab5-f2d5-6d39cc94e389"
      },
      "execution_count": 76,
      "outputs": [
        {
          "output_type": "execute_result",
          "data": {
            "text/plain": [
              "<tf.Tensor: shape=(3,), dtype=float64, numpy=array([ 3.,  7., 10.])>"
            ]
          },
          "metadata": {},
          "execution_count": 76
        }
      ]
    },
    {
      "cell_type": "code",
      "source": [
        "# Convert to Numpy\n",
        "np.array(J), type(np.array(J))"
      ],
      "metadata": {
        "colab": {
          "base_uri": "https://localhost:8080/"
        },
        "id": "A4uLw28b-zHW",
        "outputId": "bea6cad9-aaed-4a27-9a39-b1adfb397cd9"
      },
      "execution_count": 78,
      "outputs": [
        {
          "output_type": "execute_result",
          "data": {
            "text/plain": [
              "(array([ 3.,  7., 10.]), numpy.ndarray)"
            ]
          },
          "metadata": {},
          "execution_count": 78
        }
      ]
    },
    {
      "cell_type": "code",
      "source": [
        "# Convert tensor J to NumPy array\n",
        "J.numpy(), type(J.numpy())"
      ],
      "metadata": {
        "colab": {
          "base_uri": "https://localhost:8080/"
        },
        "id": "T0GryqBh-7_X",
        "outputId": "86b5a31a-b3ab-4c56-fb7d-dcd84d153e2c"
      },
      "execution_count": 79,
      "outputs": [
        {
          "output_type": "execute_result",
          "data": {
            "text/plain": [
              "(array([ 3.,  7., 10.]), numpy.ndarray)"
            ]
          },
          "metadata": {},
          "execution_count": 79
        }
      ]
    },
    {
      "cell_type": "code",
      "source": [
        "J.numpy()[1]"
      ],
      "metadata": {
        "colab": {
          "base_uri": "https://localhost:8080/"
        },
        "id": "IARRtvv__XFO",
        "outputId": "03748d44-5bc6-44b7-e8ee-b78fa45c3f31"
      },
      "execution_count": 81,
      "outputs": [
        {
          "output_type": "execute_result",
          "data": {
            "text/plain": [
              "7.0"
            ]
          },
          "metadata": {},
          "execution_count": 81
        }
      ]
    },
    {
      "cell_type": "code",
      "source": [
        "\n",
        "# Create a tensor from NumPy and from an array\n",
        "numpy_J = tf.constant(np.array([3., 7., 10.])) # will be float64 (due to NumPy)\n",
        "tensor_J = tf.constant([3., 7., 10.]) # will be float32 (due to being TensorFlow default)\n",
        "numpy_J.dtype, tensor_J.dtype"
      ],
      "metadata": {
        "colab": {
          "base_uri": "https://localhost:8080/"
        },
        "id": "jUg5whqB_cRB",
        "outputId": "aea6be6d-1513-44b2-f719-3ac27b5057e9"
      },
      "execution_count": 82,
      "outputs": [
        {
          "output_type": "execute_result",
          "data": {
            "text/plain": [
              "(tf.float64, tf.float32)"
            ]
          },
          "metadata": {},
          "execution_count": 82
        }
      ]
    },
    {
      "cell_type": "markdown",
      "source": [
        "# Using @tf.function"
      ],
      "metadata": {
        "id": "HtJk8cCnhpj9"
      }
    },
    {
      "cell_type": "code",
      "source": [
        "# Create a simple function\n",
        "def function(x, y):\n",
        "  return x ** 2 + y\n",
        "\n",
        "x = tf.constant(np.arange(0, 10))\n",
        "y = tf.constant(np.arange(10, 20))\n",
        "function(x, y)"
      ],
      "metadata": {
        "colab": {
          "base_uri": "https://localhost:8080/"
        },
        "id": "sJboZOIkhlaV",
        "outputId": "54d8bf91-255b-400b-d804-d2743fd32a81"
      },
      "execution_count": 9,
      "outputs": [
        {
          "output_type": "execute_result",
          "data": {
            "text/plain": [
              "<tf.Tensor: shape=(10,), dtype=int64, numpy=array([ 10,  12,  16,  22,  30,  40,  52,  66,  82, 100])>"
            ]
          },
          "metadata": {},
          "execution_count": 9
        }
      ]
    },
    {
      "cell_type": "code",
      "source": [
        "\n",
        "# Create the same function and decorate it with tf.function\n",
        "@tf.function\n",
        "def tf_function(x, y):\n",
        "  return x ** 2 + y\n",
        "\n",
        "tf_function(x, y)"
      ],
      "metadata": {
        "colab": {
          "base_uri": "https://localhost:8080/"
        },
        "id": "Q8OWSu2dhunn",
        "outputId": "e0d3ee80-2490-4121-a22e-b969986d47ce"
      },
      "execution_count": 10,
      "outputs": [
        {
          "output_type": "execute_result",
          "data": {
            "text/plain": [
              "<tf.Tensor: shape=(10,), dtype=int64, numpy=array([ 10,  12,  16,  22,  30,  40,  52,  66,  82, 100])>"
            ]
          },
          "metadata": {},
          "execution_count": 10
        }
      ]
    },
    {
      "cell_type": "markdown",
      "source": [
        "no difference between the above two functions (the decorated one and the non-decorated one)\n",
        "Much of the difference happens behind the scenes. One of the main ones being potential code speed-ups where possible."
      ],
      "metadata": {
        "id": "foBS2OxijH48"
      }
    },
    {
      "cell_type": "markdown",
      "source": [
        "# Finding access to GPUs"
      ],
      "metadata": {
        "id": "3uEbWch6AZs-"
      }
    },
    {
      "cell_type": "code",
      "source": [
        "print(tf.config.list_physical_devices())"
      ],
      "metadata": {
        "colab": {
          "base_uri": "https://localhost:8080/"
        },
        "id": "eAis3ep0_xaH",
        "outputId": "eba6ad84-e6c2-469e-99b6-4829931579e5"
      },
      "execution_count": 84,
      "outputs": [
        {
          "output_type": "stream",
          "name": "stdout",
          "text": [
            "[PhysicalDevice(name='/physical_device:CPU:0', device_type='CPU')]\n"
          ]
        }
      ]
    },
    {
      "cell_type": "markdown",
      "source": [
        "If you're running in Google Colab, you can access a GPU by going to Runtime -> Change Runtime Type -> Select GPU"
      ],
      "metadata": {
        "id": "N-sN5RneCDAd"
      }
    },
    {
      "cell_type": "code",
      "source": [
        "\n",
        "!nvidia-smi"
      ],
      "metadata": {
        "id": "qKEvmVgAArU6"
      },
      "execution_count": null,
      "outputs": []
    },
    {
      "cell_type": "code",
      "source": [],
      "metadata": {
        "id": "P5BVyGjsCFz6"
      },
      "execution_count": null,
      "outputs": []
    },
    {
      "cell_type": "markdown",
      "source": [
        "# Exercises"
      ],
      "metadata": {
        "id": "v65PYLzLjdUE"
      }
    },
    {
      "cell_type": "code",
      "source": [
        "# Create two tensors containing random values between 0 and 1 with shape [5, 300].\n",
        "H=tf.random.uniform(shape=[5,300],minval=0,maxval=1)\n",
        "H\n"
      ],
      "metadata": {
        "colab": {
          "base_uri": "https://localhost:8080/"
        },
        "id": "6celZsryjfgt",
        "outputId": "22b8ccf8-9212-4e92-bc9e-d0538f43e5fb"
      },
      "execution_count": 16,
      "outputs": [
        {
          "output_type": "execute_result",
          "data": {
            "text/plain": [
              "TensorShape([5, 300])"
            ]
          },
          "metadata": {},
          "execution_count": 16
        }
      ]
    },
    {
      "cell_type": "code",
      "source": [],
      "metadata": {
        "id": "Y-m57dVplBZy"
      },
      "execution_count": null,
      "outputs": []
    },
    {
      "cell_type": "code",
      "source": [
        "I=tf.random.uniform(shape=[5,300],minval=0,maxval=1)\n",
        "I"
      ],
      "metadata": {
        "colab": {
          "base_uri": "https://localhost:8080/"
        },
        "id": "XEsvkde6jsrd",
        "outputId": "2b11110d-d058-4bb4-f791-570ba5f108cc"
      },
      "execution_count": 14,
      "outputs": [
        {
          "output_type": "execute_result",
          "data": {
            "text/plain": [
              "<tf.Tensor: shape=(5, 300), dtype=float32, numpy=\n",
              "array([[0.7413678 , 0.62854624, 0.01738465, ..., 0.4851334 , 0.21059811,\n",
              "        0.25082767],\n",
              "       [0.10842848, 0.48783147, 0.8240961 , ..., 0.9204427 , 0.36046863,\n",
              "        0.28176582],\n",
              "       [0.7326695 , 0.46489418, 0.13622475, ..., 0.28130388, 0.63987684,\n",
              "        0.9987265 ],\n",
              "       [0.01447165, 0.7845044 , 0.33475304, ..., 0.56194997, 0.0209924 ,\n",
              "        0.1740731 ],\n",
              "       [0.90936875, 0.19861352, 0.9481231 , ..., 0.3573054 , 0.13161755,\n",
              "        0.22565222]], dtype=float32)>"
            ]
          },
          "metadata": {},
          "execution_count": 14
        }
      ]
    },
    {
      "cell_type": "code",
      "source": [
        "# Multiply the two tensors you created in 3 using matrix multiplication\n",
        "tf.matmul(H,tf.transpose(I))"
      ],
      "metadata": {
        "colab": {
          "base_uri": "https://localhost:8080/"
        },
        "id": "Lt0NBzG5k5-K",
        "outputId": "3d11146d-65ca-4ff5-f46f-6982932bad56"
      },
      "execution_count": 17,
      "outputs": [
        {
          "output_type": "execute_result",
          "data": {
            "text/plain": [
              "<tf.Tensor: shape=(5, 5), dtype=float32, numpy=\n",
              "array([[70.72622 , 74.726906, 71.275734, 72.729385, 74.68822 ],\n",
              "       [75.72979 , 77.85751 , 74.78479 , 79.52106 , 79.29985 ],\n",
              "       [71.49379 , 71.81675 , 70.81471 , 73.937904, 70.17963 ],\n",
              "       [67.994896, 72.3465  , 67.8546  , 69.63492 , 71.5575  ],\n",
              "       [69.66651 , 68.144295, 70.59231 , 71.62952 , 73.04637 ]],\n",
              "      dtype=float32)>"
            ]
          },
          "metadata": {},
          "execution_count": 17
        }
      ]
    },
    {
      "cell_type": "code",
      "source": [
        "tf.matmul(H,tf.reshape(I,shape=[300,5]))"
      ],
      "metadata": {
        "colab": {
          "base_uri": "https://localhost:8080/"
        },
        "id": "FVa2GxCIlpgm",
        "outputId": "ed27d9bb-da6a-4522-e309-91784738bb4b"
      },
      "execution_count": 19,
      "outputs": [
        {
          "output_type": "execute_result",
          "data": {
            "text/plain": [
              "<tf.Tensor: shape=(5, 5), dtype=float32, numpy=\n",
              "array([[74.91705 , 77.39891 , 70.447624, 74.581726, 73.653015],\n",
              "       [80.62897 , 75.43423 , 73.656235, 75.584206, 76.39882 ],\n",
              "       [73.87909 , 70.52286 , 67.78756 , 72.999   , 71.34606 ],\n",
              "       [72.17226 , 71.10154 , 68.0393  , 68.37593 , 67.39522 ],\n",
              "       [70.51744 , 71.153206, 69.47278 , 74.247086, 69.8927  ]],\n",
              "      dtype=float32)>"
            ]
          },
          "metadata": {},
          "execution_count": 19
        }
      ]
    },
    {
      "cell_type": "code",
      "source": [
        "tf.tensordot(H,tf.transpose(I),axes=1)"
      ],
      "metadata": {
        "colab": {
          "base_uri": "https://localhost:8080/"
        },
        "id": "gcq_N0GYmMKi",
        "outputId": "16252219-e19a-4f2d-e2b1-ddf3c0069ed9"
      },
      "execution_count": 26,
      "outputs": [
        {
          "output_type": "execute_result",
          "data": {
            "text/plain": [
              "<tf.Tensor: shape=(5, 5), dtype=float32, numpy=\n",
              "array([[70.72622 , 74.726906, 71.275734, 72.729385, 74.68822 ],\n",
              "       [75.72979 , 77.85751 , 74.78479 , 79.52106 , 79.29985 ],\n",
              "       [71.49379 , 71.81675 , 70.81471 , 73.937904, 70.17963 ],\n",
              "       [67.994896, 72.3465  , 67.8546  , 69.63492 , 71.5575  ],\n",
              "       [69.66651 , 68.144295, 70.59231 , 71.62952 , 73.04637 ]],\n",
              "      dtype=float32)>"
            ]
          },
          "metadata": {},
          "execution_count": 26
        }
      ]
    },
    {
      "cell_type": "code",
      "source": [
        "# Create a tensor with random values between 0 and 1 with shape [224, 224, 3]\n",
        "J=tf.random.uniform(shape=[224,224,3],minval=0,maxval=1)\n",
        "J.ndim,J"
      ],
      "metadata": {
        "colab": {
          "base_uri": "https://localhost:8080/"
        },
        "id": "MzK6elQfngHC",
        "outputId": "98a827aa-ad3d-4944-c35e-0e27061b34ee"
      },
      "execution_count": 31,
      "outputs": [
        {
          "output_type": "execute_result",
          "data": {
            "text/plain": [
              "(3,\n",
              " <tf.Tensor: shape=(224, 224, 3), dtype=float32, numpy=\n",
              " array([[[0.14241445, 0.40161622, 0.33360183],\n",
              "         [0.6816542 , 0.69087017, 0.22069418],\n",
              "         [0.61336195, 0.9588975 , 0.3314948 ],\n",
              "         ...,\n",
              "         [0.21534526, 0.8758553 , 0.90849984],\n",
              "         [0.913136  , 0.3300879 , 0.21957576],\n",
              "         [0.294909  , 0.51060224, 0.41247094]],\n",
              " \n",
              "        [[0.24516141, 0.0526433 , 0.8009639 ],\n",
              "         [0.39559937, 0.91123044, 0.66148484],\n",
              "         [0.62018025, 0.13185847, 0.2584139 ],\n",
              "         ...,\n",
              "         [0.69155025, 0.35061288, 0.7918345 ],\n",
              "         [0.71887565, 0.13187587, 0.6776898 ],\n",
              "         [0.91522217, 0.72013485, 0.5736792 ]],\n",
              " \n",
              "        [[0.32997262, 0.01919758, 0.7673421 ],\n",
              "         [0.37867343, 0.09564745, 0.07906318],\n",
              "         [0.7100911 , 0.934427  , 0.5622425 ],\n",
              "         ...,\n",
              "         [0.8063401 , 0.53997624, 0.9590297 ],\n",
              "         [0.7728716 , 0.5758432 , 0.53311133],\n",
              "         [0.00398016, 0.15231979, 0.6468185 ]],\n",
              " \n",
              "        ...,\n",
              " \n",
              "        [[0.3400538 , 0.40921474, 0.04457414],\n",
              "         [0.8624321 , 0.9367907 , 0.839291  ],\n",
              "         [0.21796441, 0.61002827, 0.20527577],\n",
              "         ...,\n",
              "         [0.48761916, 0.46545267, 0.9492396 ],\n",
              "         [0.60848117, 0.4233297 , 0.92878056],\n",
              "         [0.5943769 , 0.86359346, 0.43811893]],\n",
              " \n",
              "        [[0.6843432 , 0.13533545, 0.83167446],\n",
              "         [0.21111202, 0.33052886, 0.7118019 ],\n",
              "         [0.66532993, 0.40470684, 0.20319033],\n",
              "         ...,\n",
              "         [0.07761109, 0.96958005, 0.61649036],\n",
              "         [0.8853055 , 0.2956084 , 0.08331525],\n",
              "         [0.5259522 , 0.40515542, 0.6414683 ]],\n",
              " \n",
              "        [[0.34870815, 0.7481811 , 0.77736974],\n",
              "         [0.62542915, 0.9978602 , 0.00938201],\n",
              "         [0.4835496 , 0.96025705, 0.02535343],\n",
              "         ...,\n",
              "         [0.8244965 , 0.39622104, 0.8123003 ],\n",
              "         [0.44511092, 0.6529583 , 0.57683337],\n",
              "         [0.15109932, 0.23112547, 0.38747323]]], dtype=float32)>)"
            ]
          },
          "metadata": {},
          "execution_count": 31
        }
      ]
    },
    {
      "cell_type": "code",
      "source": [
        "#min and max\n",
        "print(f\"The min value of J is : {tf.reduce_min(J).numpy()}\")\n",
        "print(f\"The min value of J is at position: {tf.math.argmin(J)}\")\n",
        "print(f\"The maximum value of J is : {tf.reduce_max(J).numpy()}\")\n",
        "print(f\"The maximum value of J is at position: {tf.math.argmax(J).numpy()}\")\n"
      ],
      "metadata": {
        "colab": {
          "base_uri": "https://localhost:8080/"
        },
        "id": "vAnAGJsBoLuz",
        "outputId": "fb960bc1-9723-425b-eaa1-9a7902a55d8f"
      },
      "execution_count": 32,
      "outputs": [
        {
          "output_type": "stream",
          "name": "stdout",
          "text": [
            "The min value of J is : 4.172325134277344e-06\n",
            "The min value of J is at position: [[ 78 151 209]\n",
            " [113 208  94]\n",
            " [140 181 107]\n",
            " [ 27  63  41]\n",
            " [125 161  52]\n",
            " [210  11 191]\n",
            " [  1 161  72]\n",
            " [209   2 140]\n",
            " [ 97  60  23]\n",
            " [112 144 201]\n",
            " [121 170 147]\n",
            " [ 92  93 212]\n",
            " [ 94 116  92]\n",
            " [ 92 197 146]\n",
            " [152  77 204]\n",
            " [199 162  31]\n",
            " [ 95 170 176]\n",
            " [173 141 204]\n",
            " [176  70 106]\n",
            " [117   8  79]\n",
            " [ 65  48 217]\n",
            " [ 65 182  97]\n",
            " [111  36 148]\n",
            " [ 50 181 183]\n",
            " [ 67 184 124]\n",
            " [ 21 100  49]\n",
            " [184 218 154]\n",
            " [166  29 125]\n",
            " [ 82  55 174]\n",
            " [214 178  81]\n",
            " [ 79  57   2]\n",
            " [ 86 203 193]\n",
            " [167 176 141]\n",
            " [ 84 155  83]\n",
            " [221 195 196]\n",
            " [190 194  98]\n",
            " [112  78 177]\n",
            " [ 28  94 125]\n",
            " [ 93 152  33]\n",
            " [ 24  55 171]\n",
            " [192  71  66]\n",
            " [112   5  41]\n",
            " [171   2  71]\n",
            " [  4  43  67]\n",
            " [ 53  47 193]\n",
            " [ 49  78 152]\n",
            " [104 110  69]\n",
            " [186  79 172]\n",
            " [183 140  76]\n",
            " [210 171 131]\n",
            " [218 223  51]\n",
            " [206   2  79]\n",
            " [193 210 184]\n",
            " [  9  64 186]\n",
            " [ 22 212  32]\n",
            " [215  32  99]\n",
            " [162  29 216]\n",
            " [190 125 120]\n",
            " [140 215 215]\n",
            " [176 216  81]\n",
            " [135  48  27]\n",
            " [  2  74  63]\n",
            " [ 72  54  62]\n",
            " [ 62 214 133]\n",
            " [129 202 141]\n",
            " [128 171 128]\n",
            " [ 91  98  95]\n",
            " [119   4 196]\n",
            " [ 78 211 216]\n",
            " [129 161  76]\n",
            " [ 59  86  17]\n",
            " [159 218  47]\n",
            " [185  11 186]\n",
            " [ 16  57 140]\n",
            " [163 184 123]\n",
            " [ 68  37 164]\n",
            " [201  57 112]\n",
            " [ 76  65  31]\n",
            " [213 198  24]\n",
            " [206 214  88]\n",
            " [ 67  86  26]\n",
            " [ 20   9  82]\n",
            " [ 96   9 112]\n",
            " [ 70 127  52]\n",
            " [211 213 124]\n",
            " [126  76  19]\n",
            " [145  95 103]\n",
            " [196 156  84]\n",
            " [200 208 104]\n",
            " [ 60 129 165]\n",
            " [220 221 162]\n",
            " [203  56  98]\n",
            " [ 77  75  52]\n",
            " [  2 139  50]\n",
            " [103 133 167]\n",
            " [143  70  38]\n",
            " [203  88 149]\n",
            " [105  77 217]\n",
            " [157 175  37]\n",
            " [154  19 214]\n",
            " [  5 196  11]\n",
            " [ 78 101 116]\n",
            " [117  13  84]\n",
            " [ 41 142 117]\n",
            " [159  35 164]\n",
            " [208  22  85]\n",
            " [  6 101 103]\n",
            " [198  83 206]\n",
            " [104 162   1]\n",
            " [208 183 182]\n",
            " [  3 210  51]\n",
            " [219 112 153]\n",
            " [181 124 172]\n",
            " [126 178 148]\n",
            " [ 90 159 125]\n",
            " [ 35  22 213]\n",
            " [104 215  95]\n",
            " [ 51 120  55]\n",
            " [ 43  56 125]\n",
            " [216   8 145]\n",
            " [197 104 108]\n",
            " [212 113  17]\n",
            " [ 42  27   7]\n",
            " [ 27 183  40]\n",
            " [ 15  19  89]\n",
            " [ 99   1 142]\n",
            " [108 170 217]\n",
            " [ 23   7  96]\n",
            " [181 211 132]\n",
            " [116  55 159]\n",
            " [212  10   0]\n",
            " [ 79  17  50]\n",
            " [202 213 178]\n",
            " [ 40  23  68]\n",
            " [ 18  13  40]\n",
            " [143 126   4]\n",
            " [ 92 220 115]\n",
            " [ 44 215  58]\n",
            " [188 163 117]\n",
            " [206 138 144]\n",
            " [179  48  26]\n",
            " [214 114 211]\n",
            " [  0  47 169]\n",
            " [ 37 153 200]\n",
            " [ 50  14 109]\n",
            " [194  90 108]\n",
            " [ 14   9 156]\n",
            " [222 146 207]\n",
            " [142 157  42]\n",
            " [219  60  61]\n",
            " [182  90  99]\n",
            " [ 59 222 217]\n",
            " [ 38   4  99]\n",
            " [209 195  89]\n",
            " [ 15  38  29]\n",
            " [ 79 185 182]\n",
            " [ 40  27 210]\n",
            " [137 196  51]\n",
            " [ 89  25 143]\n",
            " [198 160 220]\n",
            " [ 43 191 214]\n",
            " [ 66 180  41]\n",
            " [164 122  65]\n",
            " [ 43   5 129]\n",
            " [189  70 210]\n",
            " [173 153  35]\n",
            " [178  80 148]\n",
            " [ 85 100  46]\n",
            " [ 12 158 209]\n",
            " [ 72 206  36]\n",
            " [ 16 112  50]\n",
            " [ 60 168 186]\n",
            " [104 124 126]\n",
            " [ 84 190 116]\n",
            " [ 22 201  15]\n",
            " [183 204 150]\n",
            " [ 55  32 205]\n",
            " [ 35 200 125]\n",
            " [127  74  81]\n",
            " [ 22 187  73]\n",
            " [ 67  42 142]\n",
            " [ 37 105  24]\n",
            " [169  68  39]\n",
            " [146  16 190]\n",
            " [135  43  45]\n",
            " [ 60  95 173]\n",
            " [200 111 168]\n",
            " [ 87 222  29]\n",
            " [  7 148  10]\n",
            " [164 211 151]\n",
            " [187 149 176]\n",
            " [110 195  94]\n",
            " [ 69  25 176]\n",
            " [164  31 215]\n",
            " [ 94 213 173]\n",
            " [ 29   7  52]\n",
            " [119  42  32]\n",
            " [159 130  34]\n",
            " [ 72 118  77]\n",
            " [ 54  39 110]\n",
            " [142 169 117]\n",
            " [ 81 162 180]\n",
            " [199 219 220]\n",
            " [ 94  42 221]\n",
            " [191  65 141]\n",
            " [139 215 157]\n",
            " [104 143  45]\n",
            " [  3   9 151]\n",
            " [ 26  47  57]\n",
            " [220  13 170]\n",
            " [180  53 202]\n",
            " [132   7 161]\n",
            " [ 62 152  57]\n",
            " [  4 207 136]\n",
            " [ 92  92 141]\n",
            " [136  40  36]\n",
            " [ 65  57  61]\n",
            " [ 61 139  14]\n",
            " [148  54  78]\n",
            " [105 142 193]\n",
            " [137 129  74]\n",
            " [ 92  92 125]\n",
            " [ 77 170  38]\n",
            " [  2  39 167]]\n",
            "The maximum value of J is : 0.9999963045120239\n",
            "The maximum value of J is at position: [[112 182  95]\n",
            " [214 223  68]\n",
            " [204 209  63]\n",
            " [144 131  93]\n",
            " [183   3  75]\n",
            " [ 52 201  99]\n",
            " [156  22 196]\n",
            " [ 70  85  93]\n",
            " [ 61  53 172]\n",
            " [ 20 192 194]\n",
            " [ 44 131 126]\n",
            " [154 145  44]\n",
            " [ 60 207  93]\n",
            " [ 95 205 142]\n",
            " [  8  95 210]\n",
            " [196 167 149]\n",
            " [ 69 118   0]\n",
            " [119  17   4]\n",
            " [153  61 176]\n",
            " [112  87 195]\n",
            " [ 78   6  12]\n",
            " [ 69 164  99]\n",
            " [ 64 218 187]\n",
            " [161 107 147]\n",
            " [135  16  64]\n",
            " [ 96  48 100]\n",
            " [120  41 175]\n",
            " [ 30 206 201]\n",
            " [ 23 108   9]\n",
            " [196  26 194]\n",
            " [ 51  55 121]\n",
            " [141 128 208]\n",
            " [165 200 166]\n",
            " [ 93  99  87]\n",
            " [121 198 170]\n",
            " [220 211  14]\n",
            " [164  97  37]\n",
            " [214 164 222]\n",
            " [ 40   6 120]\n",
            " [ 80 161 162]\n",
            " [ 92 157 122]\n",
            " [155 217  34]\n",
            " [  3 134 142]\n",
            " [128 135 222]\n",
            " [185  78 156]\n",
            " [158 110 129]\n",
            " [ 44  78  57]\n",
            " [ 89 223 148]\n",
            " [130 123  77]\n",
            " [178 215 180]\n",
            " [ 35  63 135]\n",
            " [106  53  32]\n",
            " [ 55 175  33]\n",
            " [ 37 201  50]\n",
            " [ 84  75 217]\n",
            " [ 91 141  43]\n",
            " [211 167  81]\n",
            " [186 216 218]\n",
            " [ 80 139 126]\n",
            " [ 40 154  60]\n",
            " [ 38  47 185]\n",
            " [192 158 172]\n",
            " [206 121 170]\n",
            " [163 203 179]\n",
            " [203 121 151]\n",
            " [102  66   3]\n",
            " [177  22  32]\n",
            " [ 80 163  80]\n",
            " [ 85  68 213]\n",
            " [152 121  57]\n",
            " [193 152 198]\n",
            " [127 213  67]\n",
            " [ 69 204 166]\n",
            " [ 90 152  33]\n",
            " [210  56 172]\n",
            " [ 82 215  57]\n",
            " [178  55 210]\n",
            " [122 111  90]\n",
            " [ 95  57  79]\n",
            " [213 178  95]\n",
            " [162 140   4]\n",
            " [ 79 173  53]\n",
            " [150 146  52]\n",
            " [  2 178  29]\n",
            " [ 83   7 100]\n",
            " [199 103 218]\n",
            " [162   1  15]\n",
            " [141  41 153]\n",
            " [ 21  84  47]\n",
            " [199 213 221]\n",
            " [ 92  24  45]\n",
            " [ 25 191  97]\n",
            " [133 145 168]\n",
            " [182 117 223]\n",
            " [172  60 120]\n",
            " [152 109  53]\n",
            " [153  54  80]\n",
            " [129 200 151]\n",
            " [184  50 112]\n",
            " [ 47 131 204]\n",
            " [127 176 123]\n",
            " [203 141  34]\n",
            " [ 18 209  15]\n",
            " [132  30   6]\n",
            " [141  19  47]\n",
            " [114  13  20]\n",
            " [127  53  59]\n",
            " [ 98  37 212]\n",
            " [ 84 175 124]\n",
            " [212 154 123]\n",
            " [  5 192  97]\n",
            " [220 187  83]\n",
            " [182  97 220]\n",
            " [ 55 150  68]\n",
            " [198 155  45]\n",
            " [196  14 146]\n",
            " [179  92  70]\n",
            " [ 35  52  31]\n",
            " [  4 145 154]\n",
            " [173 163 154]\n",
            " [208 157  99]\n",
            " [143  68 213]\n",
            " [ 28 148  79]\n",
            " [  6  55   9]\n",
            " [220 183 124]\n",
            " [164 188  54]\n",
            " [217  13 137]\n",
            " [109  71 221]\n",
            " [ 64 122 143]\n",
            " [ 79 199 209]\n",
            " [ 94   6  67]\n",
            " [  8 183 209]\n",
            " [ 90 169 169]\n",
            " [ 79 141  84]\n",
            " [179  54  42]\n",
            " [105   3  70]\n",
            " [ 72 215  69]\n",
            " [205 145  90]\n",
            " [186 175   1]\n",
            " [ 70   0  80]\n",
            " [217  13  24]\n",
            " [133  56 113]\n",
            " [ 79 104 176]\n",
            " [ 15   4   4]\n",
            " [  4 163 157]\n",
            " [197 101  68]\n",
            " [ 58 217 216]\n",
            " [ 75  65  86]\n",
            " [ 54  98 223]\n",
            " [172 115 171]\n",
            " [ 34 141 156]\n",
            " [ 71  80 110]\n",
            " [ 51 209 191]\n",
            " [211  40  57]\n",
            " [116  34  35]\n",
            " [108  69 123]\n",
            " [ 93  33  60]\n",
            " [141 152  17]\n",
            " [ 73  42  76]\n",
            " [ 77 178  43]\n",
            " [167 179  96]\n",
            " [ 25 215 166]\n",
            " [177   1 178]\n",
            " [170  56 133]\n",
            " [ 13 126 211]\n",
            " [145  26  85]\n",
            " [ 44 148 151]\n",
            " [179 198  83]\n",
            " [202  10  29]\n",
            " [183  79  49]\n",
            " [ 41  68  94]\n",
            " [118 146  95]\n",
            " [ 66 145 162]\n",
            " [ 80  90 157]\n",
            " [217 203  38]\n",
            " [179  12  22]\n",
            " [ 84  81 156]\n",
            " [140 136 218]\n",
            " [155 209  92]\n",
            " [ 57 140 189]\n",
            " [124   2  81]\n",
            " [134 145  20]\n",
            " [179  94 101]\n",
            " [ 72 111   9]\n",
            " [121  47   9]\n",
            " [211  39   5]\n",
            " [113 189  64]\n",
            " [ 31 169 223]\n",
            " [ 95  85 184]\n",
            " [106 162 216]\n",
            " [ 87  26  14]\n",
            " [ 21  20 167]\n",
            " [ 73 168 221]\n",
            " [192 100 207]\n",
            " [ 80 197  43]\n",
            " [132 162 154]\n",
            " [153 137  23]\n",
            " [131  19 163]\n",
            " [108 192 104]\n",
            " [193 189 163]\n",
            " [136 117 220]\n",
            " [167 219  92]\n",
            " [188 172 121]\n",
            " [ 58 117  14]\n",
            " [221 162 217]\n",
            " [196 119 186]\n",
            " [186 125  79]\n",
            " [117 188  10]\n",
            " [ 56  77 125]\n",
            " [ 19 186  38]\n",
            " [ 89  35 143]\n",
            " [ 71  33  52]\n",
            " [129 172  80]\n",
            " [218 161 197]\n",
            " [210  29 179]\n",
            " [ 41 136   6]\n",
            " [146 102  89]\n",
            " [100  40 213]\n",
            " [ 96  79  28]\n",
            " [192 127 123]\n",
            " [ 94  37 111]\n",
            " [211  15 208]\n",
            " [151  74  65]\n",
            " [ 33  97  85]]\n"
          ]
        }
      ]
    },
    {
      "cell_type": "code",
      "source": [
        "#Create a tensor with shape [10]\n",
        "K=tf.constant([1,2,3,4,5,6,7,8,9,10])\n",
        "K.shape"
      ],
      "metadata": {
        "colab": {
          "base_uri": "https://localhost:8080/"
        },
        "id": "zO0sEQmzpuBv",
        "outputId": "2613cd40-8ffc-45a7-c176-a2275c91ad12"
      },
      "execution_count": 33,
      "outputs": [
        {
          "output_type": "execute_result",
          "data": {
            "text/plain": [
              "TensorShape([10])"
            ]
          },
          "metadata": {},
          "execution_count": 33
        }
      ]
    },
    {
      "cell_type": "code",
      "source": [
        "#One-hot encode the tensor\n",
        "tf.one_hot(K,depth=10)"
      ],
      "metadata": {
        "colab": {
          "base_uri": "https://localhost:8080/"
        },
        "id": "Ox6iEDuIs_tr",
        "outputId": "af9f53bc-51e6-4ac2-d245-06915ba330ad"
      },
      "execution_count": 35,
      "outputs": [
        {
          "output_type": "execute_result",
          "data": {
            "text/plain": [
              "<tf.Tensor: shape=(10, 10), dtype=float32, numpy=\n",
              "array([[0., 1., 0., 0., 0., 0., 0., 0., 0., 0.],\n",
              "       [0., 0., 1., 0., 0., 0., 0., 0., 0., 0.],\n",
              "       [0., 0., 0., 1., 0., 0., 0., 0., 0., 0.],\n",
              "       [0., 0., 0., 0., 1., 0., 0., 0., 0., 0.],\n",
              "       [0., 0., 0., 0., 0., 1., 0., 0., 0., 0.],\n",
              "       [0., 0., 0., 0., 0., 0., 1., 0., 0., 0.],\n",
              "       [0., 0., 0., 0., 0., 0., 0., 1., 0., 0.],\n",
              "       [0., 0., 0., 0., 0., 0., 0., 0., 1., 0.],\n",
              "       [0., 0., 0., 0., 0., 0., 0., 0., 0., 1.],\n",
              "       [0., 0., 0., 0., 0., 0., 0., 0., 0., 0.]], dtype=float32)>"
            ]
          },
          "metadata": {},
          "execution_count": 35
        }
      ]
    },
    {
      "cell_type": "code",
      "source": [],
      "metadata": {
        "id": "Qknzp5h_tLXz"
      },
      "execution_count": null,
      "outputs": []
    }
  ]
}