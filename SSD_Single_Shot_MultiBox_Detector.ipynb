{
  "nbformat": 4,
  "nbformat_minor": 0,
  "metadata": {
    "colab": {
      "provenance": [],
      "authorship_tag": "ABX9TyPkvwMo1MaToEbys9w26xhB",
      "include_colab_link": true
    },
    "kernelspec": {
      "name": "python3",
      "display_name": "Python 3"
    },
    "language_info": {
      "name": "python"
    }
  },
  "cells": [
    {
      "cell_type": "markdown",
      "metadata": {
        "id": "view-in-github",
        "colab_type": "text"
      },
      "source": [
        "<a href=\"https://colab.research.google.com/github/alexandrufalk/tensorflow/blob/Master/SSD_Single_Shot_MultiBox_Detector.ipynb\" target=\"_parent\"><img src=\"https://colab.research.google.com/assets/colab-badge.svg\" alt=\"Open In Colab\"/></a>"
      ]
    },
    {
      "cell_type": "code",
      "execution_count": null,
      "metadata": {
        "id": "zgXyZ7uS43DC"
      },
      "outputs": [],
      "source": [
        "import tensorflow as tf\n",
        "from tensorflow.keras.applications import MobileNetV2"
      ]
    },
    {
      "cell_type": "markdown",
      "source": [
        "#Load MobileNetV2\n",
        " -pre-trained backbone MobileNetV2 for feature extraction"
      ],
      "metadata": {
        "id": "1_jcGaz28VG9"
      }
    },
    {
      "cell_type": "code",
      "source": [
        "backbone=MobileNetV2(input_shape=(300,300,3),include_top=False, weights='imagenet')\n",
        "# Freeze the backbone layers\n",
        "backbone.trainable=False"
      ],
      "metadata": {
        "colab": {
          "base_uri": "https://localhost:8080/"
        },
        "id": "AZEt2Z0U8iut",
        "outputId": "b4f68e51-45fd-4c83-cc80-d8b92ac72d84"
      },
      "execution_count": null,
      "outputs": [
        {
          "output_type": "stream",
          "name": "stderr",
          "text": [
            "<ipython-input-2-bd1181a1ef32>:1: UserWarning: `input_shape` is undefined or non-square, or `rows` is not in [96, 128, 160, 192, 224]. Weights for input shape (224, 224) will be loaded as the default.\n",
            "  backbone=MobileNetV2(input_shape=(300,300,3),include_top=False, weights='imagenet')\n"
          ]
        },
        {
          "output_type": "stream",
          "name": "stdout",
          "text": [
            "Downloading data from https://storage.googleapis.com/tensorflow/keras-applications/mobilenet_v2/mobilenet_v2_weights_tf_dim_ordering_tf_kernels_1.0_224_no_top.h5\n",
            "\u001b[1m9406464/9406464\u001b[0m \u001b[32m━━━━━━━━━━━━━━━━━━━━\u001b[0m\u001b[37m\u001b[0m \u001b[1m0s\u001b[0m 0us/step\n"
          ]
        }
      ]
    },
    {
      "cell_type": "markdown",
      "source": [
        "#Create SSD Head\n",
        "-SSD uses convolutional layers for predicting both bounding boxes and object classes.\n"
      ],
      "metadata": {
        "id": "k0eU3CQT9Gfe"
      }
    },
    {
      "cell_type": "code",
      "source": [
        "def ssd_head(feature_map, num_classes):\n",
        "  #number of bounding boxes to predict per cell\n",
        "  num_boxes=4\n",
        "  #Bounding box regresion\n",
        "  bbox_regression=tf.keras.layers.Conv2D(num_boxes*4,kernel_size=(3,3),padding='same',activation='linear')(feature_map)\n",
        "\n",
        "  #Class prediction\n",
        "  class_prediction=tf.keras.layers.Conv2D(num_boxes*(num_classes+1),kernel_size=(3,3),padding='same')(feature_map)\n",
        "\n",
        "  return bbox_regression,class_prediction"
      ],
      "metadata": {
        "id": "rFv0rAVr9AOE"
      },
      "execution_count": null,
      "outputs": []
    },
    {
      "cell_type": "markdown",
      "source": [
        "#Add Multiple Prediction Layers\n",
        "SSD makes predictions at multiple feature map scales. Add convolutional layers on top of the backbone to predict bounding boxes and classes at different resolutions."
      ],
      "metadata": {
        "id": "AX7-J-Gi-3wg"
      }
    },
    {
      "cell_type": "code",
      "source": [
        "def build_ssd_model(backbone,num_classes):\n",
        "  feature_maps=[]\n",
        "   # Add feature maps from the backbone for different scales\n",
        "  feature_maps.append(backbone.get_layer('block_13_expand_relu').output)  # High-resolution feature map\n",
        "  feature_maps.append(backbone.get_layer('block_16_project').output)  # Lower-resolution feature map\n",
        "\n",
        "  # Create extra feature maps by applying convolutions\n",
        "\n",
        "  x=backbone.output\n",
        "  for i in range(3):\n",
        "    x=tf.keras.layers.Conv2D(256,(3.3),strides=2,padding=\"same\",activation=\"relu\")(x)\n",
        "    feature_maps.append(x)\n",
        "\n",
        "  # Collect bounding box and class predictions from each feature map\n",
        "  bbox_regressions = []\n",
        "  class_predictions = []\n",
        "\n",
        "  for feature_map in feature_maps:\n",
        "    bbox_reg, class_pred=ssd_head(feature_map,num_classes)\n",
        "    bbox_regressions.append(bbox_reg)\n",
        "    class_predictions.append(class_pred)\n",
        "\n",
        "  # Concatenate predictions from different scales\n",
        "  bbox_regressions=tf.keras.layers.Concatenate(axis=1)(bbox_regressions)\n",
        "  class_predictions=tf.keras.layers.Concatenate(axis=1)(class_predictions)\n",
        "\n",
        "  #Define the SSD model\n",
        "  model=tf.keras.models.Model(inputs=backbone.input,outputs=[bbox_regressions,class_predictions])\n",
        "\n",
        "  return model\n",
        "\n",
        "\n"
      ],
      "metadata": {
        "id": "KGHi-JZW--tx"
      },
      "execution_count": null,
      "outputs": []
    }
  ]
}