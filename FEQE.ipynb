{
  "nbformat": 4,
  "nbformat_minor": 0,
  "metadata": {
    "colab": {
      "provenance": [],
      "gpuType": "T4",
      "authorship_tag": "ABX9TyMDuf4p4swhOH6qfEo1llnq",
      "include_colab_link": true
    },
    "kernelspec": {
      "name": "python3",
      "display_name": "Python 3"
    },
    "language_info": {
      "name": "python"
    },
    "accelerator": "GPU"
  },
  "cells": [
    {
      "cell_type": "markdown",
      "metadata": {
        "id": "view-in-github",
        "colab_type": "text"
      },
      "source": [
        "<a href=\"https://colab.research.google.com/github/alexandrufalk/tensorflow/blob/Master/FEQE.ipynb\" target=\"_parent\"><img src=\"https://colab.research.google.com/assets/colab-badge.svg\" alt=\"Open In Colab\"/></a>"
      ]
    },
    {
      "cell_type": "code",
      "execution_count": 88,
      "metadata": {
        "id": "Y_bWJXTNej-4"
      },
      "outputs": [],
      "source": [
        "import tensorflow as tf\n",
        "from tensorflow.keras.layers import Layer, Conv2D, Add, Input, UpSampling2D\n",
        "from tensorflow.keras.models import Model\n",
        "from tensorflow.keras.applications import VGG19\n",
        "from tensorflow.keras.optimizers import Adam\n",
        "from tensorflow.keras.callbacks import ModelCheckpoint, EarlyStopping, ReduceLROnPlateau\n",
        "import os\n",
        "from PIL import Image\n",
        "import matplotlib.pyplot as plt"
      ]
    },
    {
      "cell_type": "code",
      "source": [
        "from google.colab import drive\n",
        "drive.mount('/content/drive')"
      ],
      "metadata": {
        "colab": {
          "base_uri": "https://localhost:8080/"
        },
        "id": "vPQUZeW3iQfk",
        "outputId": "368b0e4f-9097-4cb4-e329-f1725407ad99"
      },
      "execution_count": 3,
      "outputs": [
        {
          "output_type": "stream",
          "name": "stdout",
          "text": [
            "Mounted at /content/drive\n"
          ]
        }
      ]
    },
    {
      "cell_type": "code",
      "source": [
        "root_dir = \"/content/drive/MyDrive/Datasets/BSDS500/images/\""
      ],
      "metadata": {
        "id": "yJ463kqHiV-O"
      },
      "execution_count": 4,
      "outputs": []
    },
    {
      "cell_type": "markdown",
      "source": [
        "#Parameters"
      ],
      "metadata": {
        "id": "7rN3BG_OiZpE"
      }
    },
    {
      "cell_type": "code",
      "source": [
        "# Parameters\n",
        "BATCH_SIZE = 16\n",
        "SCALE_FACTOR = 2\n",
        "IMG_HEIGHT = 256\n",
        "IMG_WIDTH = 256\n",
        "CHANNELS = 3\n",
        "AUTOTUNE = tf.data.AUTOTUNE"
      ],
      "metadata": {
        "id": "4tNvuxC6iYrt"
      },
      "execution_count": 120,
      "outputs": []
    },
    {
      "cell_type": "markdown",
      "source": [
        "#Paths"
      ],
      "metadata": {
        "id": "adjDu9PtigwF"
      }
    },
    {
      "cell_type": "code",
      "source": [
        "# Paths\n",
        "BASE_DIR = '/content/drive/MyDrive/Datasets/BSDS500/images/'\n",
        "TRAIN_DIR = os.path.join(BASE_DIR, 'training')\n",
        "VALIDATION_DIR = os.path.join(BASE_DIR, 'validation')\n",
        "TEST_DIR = os.path.join(BASE_DIR, 'test')"
      ],
      "metadata": {
        "id": "SWPG4fHfifZM"
      },
      "execution_count": 121,
      "outputs": []
    },
    {
      "cell_type": "markdown",
      "source": [
        "#Preprocessing functions"
      ],
      "metadata": {
        "id": "irzT618RioRE"
      }
    },
    {
      "cell_type": "code",
      "source": [
        "# Define Preprocessing and Utility Functions\n",
        "def load_and_preprocess_image(file_path):\n",
        "    \"\"\"\n",
        "    Loads an image from a file, preprocesses it by resizing and scaling,\n",
        "    and generates a low-resolution version.\n",
        "    \"\"\"\n",
        "    try:\n",
        "        # Read the image file\n",
        "        image = tf.io.read_file(file_path)\n",
        "\n",
        "        # Decode the image to RGB format (forces 3 channels)\n",
        "        image = tf.image.decode_image(image, channels=3, expand_animations=False)\n",
        "\n",
        "        # Convert to float32 and scale to [0, 1]\n",
        "        image = tf.image.convert_image_dtype(image, tf.float32)\n",
        "\n",
        "        # Resize the image to ensure consistent dimensions\n",
        "        image = tf.image.resize(image, [256, 256], method='bicubic')\n",
        "\n",
        "        # Generate low-resolution image by downsampling\n",
        "        lr_image = tf.image.resize(image, [128, 128], method='bicubic')\n",
        "\n",
        "        return lr_image, image  # (LR, HR)\n",
        "    except tf.errors.InvalidArgumentError:\n",
        "        # Handle corrupted images by returning zero tensors or skipping\n",
        "        return tf.zeros([128, 128, 3]), tf.zeros([256, 256, 3])\n",
        "\n",
        "def augment(lr, hr):\n",
        "    \"\"\"\n",
        "    Applies random horizontal and vertical flips to the LR and HR images.\n",
        "    \"\"\"\n",
        "    # Random horizontal flip\n",
        "    if tf.random.uniform(()) > 0.5:\n",
        "        lr = tf.image.flip_left_right(lr)\n",
        "        hr = tf.image.flip_left_right(hr)\n",
        "\n",
        "    # Random vertical flip\n",
        "    if tf.random.uniform(()) > 0.5:\n",
        "        lr = tf.image.flip_up_down(lr)\n",
        "        hr = tf.image.flip_up_down(hr)\n",
        "\n",
        "    return lr, hr\n",
        "\n",
        "def create_dataset(directory, batch_size, augment_data=False):\n",
        "    \"\"\"\n",
        "    Creates a TensorFlow dataset from image files in a directory.\n",
        "    \"\"\"\n",
        "    # Supported extensions\n",
        "    extensions = ['*.png', '*.jpg', '*.jpeg', '*.bmp', '*.tiff']\n",
        "\n",
        "    # Create a dataset of file paths\n",
        "    list_ds = tf.data.Dataset.list_files(\n",
        "        [os.path.join(directory, ext) for ext in extensions],\n",
        "        shuffle=True\n",
        "    )\n",
        "\n",
        "    # Load and preprocess images\n",
        "    dataset = list_ds.map(load_and_preprocess_image, num_parallel_calls=tf.data.AUTOTUNE)\n",
        "\n",
        "    # Apply data augmentation if specified\n",
        "    if augment_data:\n",
        "        dataset = dataset.map(augment, num_parallel_calls=tf.data.AUTOTUNE)\n",
        "\n",
        "    # Batch and prefetch\n",
        "    dataset = dataset.batch(batch_size)\n",
        "    dataset = dataset.prefetch(tf.data.AUTOTUNE)\n",
        "\n",
        "    return dataset\n",
        "\n",
        "def postprocess_image(image):\n",
        "    \"\"\"\n",
        "    Converts image tensor from [0, 1] to [0, 255] and casts to uint8.\n",
        "    \"\"\"\n",
        "    image = tf.clip_by_value(image, 0.0, 1.0)  # Ensure values are within [0, 1]\n",
        "    image = image * 255.0\n",
        "    return tf.cast(image, tf.uint8).numpy()\n",
        "\n",
        "def save_image(image, filename):\n",
        "    \"\"\"\n",
        "    Saves a numpy array as an image file.\n",
        "    \"\"\"\n",
        "    img = Image.fromarray(image)\n",
        "    img.save(filename)"
      ],
      "metadata": {
        "id": "VDKRr8Kxiqq0"
      },
      "execution_count": 122,
      "outputs": []
    },
    {
      "cell_type": "code",
      "source": [
        "# Create datasets\n",
        "train_dataset = create_dataset(TRAIN_DIR, BATCH_SIZE, augment_data=True)\n",
        "validation_dataset = create_dataset(VALIDATION_DIR, BATCH_SIZE, augment_data=False)\n",
        "test_dataset = create_dataset(TEST_DIR, BATCH_SIZE, augment_data=False)"
      ],
      "metadata": {
        "id": "G03gU04EjdM0"
      },
      "execution_count": 123,
      "outputs": []
    },
    {
      "cell_type": "code",
      "source": [
        "# Define Custom DepthToSpaceLayer\n",
        "class DepthToSpaceLayer(Layer):\n",
        "    def __init__(self, scale, **kwargs):\n",
        "        super(DepthToSpaceLayer, self).__init__(**kwargs)\n",
        "        self.scale = scale\n",
        "\n",
        "    def call(self, inputs):\n",
        "        return tf.nn.depth_to_space(inputs, self.scale)\n",
        "\n",
        "    def get_config(self):\n",
        "        config = super(DepthToSpaceLayer, self).get_config()\n",
        "        config.update({'scale': self.scale})\n",
        "        return config"
      ],
      "metadata": {
        "id": "TqK3dCkrJVEz"
      },
      "execution_count": 138,
      "outputs": []
    },
    {
      "cell_type": "code",
      "source": [
        "# Define Residual Block (if needed)\n",
        "def residual_block(x):\n",
        "    skip = x\n",
        "    x = Conv2D(64, (3, 3), padding='same', activation='relu')(x)\n",
        "    x = Conv2D(64, (3, 3), padding='same')(x)\n",
        "    x = Add()([x, skip])\n",
        "    return x"
      ],
      "metadata": {
        "id": "HBrmwqlWJGwx"
      },
      "execution_count": 139,
      "outputs": []
    },
    {
      "cell_type": "markdown",
      "source": [
        "# Feature Extraction Module VGG19"
      ],
      "metadata": {
        "id": "bCGXU6xjfQwH"
      }
    },
    {
      "cell_type": "code",
      "source": [
        "# Define Custom Feature Extractor without Downsampling\n",
        "def feature_extractor(input_shape=(128, 128, 3)):\n",
        "    input_img = Input(shape=input_shape)\n",
        "\n",
        "    # Simple convolutional layers without pooling\n",
        "    x = Conv2D(64, (3,3), padding='same', activation='relu')(input_img)\n",
        "    x = Conv2D(128, (3,3), padding='same', activation='relu')(x)\n",
        "    x = Conv2D(256, (3,3), padding='same', activation='relu')(x)\n",
        "\n",
        "    # Create the feature extraction model\n",
        "    model = Model(inputs=input_img, outputs=x)\n",
        "\n",
        "    # Freeze the pretrained weights if any\n",
        "    model.trainable = False\n",
        "\n",
        "    return model"
      ],
      "metadata": {
        "id": "_WBCv_vzfZU_"
      },
      "execution_count": 140,
      "outputs": []
    },
    {
      "cell_type": "code",
      "source": [
        "# Define Quality Enhancement Module with Single Upsampling Step\n",
        "\n",
        "def quality_enhancement_module(features, scale=2):\n",
        "    x = features\n",
        "    upsample_steps = int(tf.math.log(float(scale)) / tf.math.log(2.0))  # For scale=2, steps=1\n",
        "\n",
        "    for _ in range(upsample_steps):\n",
        "        # Upsample by a factor of 2 with 'bilinear' interpolation\n",
        "        x = UpSampling2D(size=(2, 2), interpolation='bilinear')(x)\n",
        "        # Apply convolution to refine the upsampled feature maps\n",
        "        x = Conv2D(256, (3, 3), padding='same', activation='relu')(x)\n",
        "\n",
        "    # Final output layer to get 3 channels\n",
        "    output = Conv2D(3, (3, 3), padding='same', activation='sigmoid')(x)\n",
        "\n",
        "    return output"
      ],
      "metadata": {
        "id": "KHucf357fbcA"
      },
      "execution_count": 141,
      "outputs": []
    },
    {
      "cell_type": "markdown",
      "source": [
        "#Custom Feature Extraction Layers"
      ],
      "metadata": {
        "id": "a4-V4h2ogaMd"
      }
    },
    {
      "cell_type": "code",
      "source": [
        "def custom_feature_extractor(input_shape=(256, 256, 3)):\n",
        "    input_img = Input(shape=input_shape)\n",
        "\n",
        "    x = Conv2D(64, (3, 3), padding='same', activation='relu')(input_img)\n",
        "    x = Conv2D(128, (3, 3), padding='same', activation='relu')(x)\n",
        "    x = Conv2D(256, (3, 3), padding='same', activation='relu')(x)\n",
        "\n",
        "    model = Model(inputs=input_img, outputs=x)\n",
        "\n",
        "    return model"
      ],
      "metadata": {
        "id": "V5aBBFhogckd"
      },
      "execution_count": 142,
      "outputs": []
    },
    {
      "cell_type": "code",
      "source": [
        "# Combine into FEQE Model\n",
        "def feqe_model(input_shape=(128, 128, 3), scale=2, use_pretrained=True):\n",
        "    input_img = Input(shape=input_shape)\n",
        "\n",
        "    if use_pretrained:\n",
        "        extractor = feature_extractor(input_shape)\n",
        "    else:\n",
        "        extractor = custom_feature_extractor(input_shape)  # Define if needed\n",
        "\n",
        "    features = extractor(input_img)  # Single tensor of shape (None, 128, 128, 256)\n",
        "    enhanced_img = quality_enhancement_module(features, scale)\n",
        "\n",
        "    model = Model(inputs=input_img, outputs=enhanced_img)\n",
        "\n",
        "    return model"
      ],
      "metadata": {
        "id": "FzKnC_8zfwaf"
      },
      "execution_count": 143,
      "outputs": []
    },
    {
      "cell_type": "code",
      "source": [
        "# Inspect a batch from the training dataset\n",
        "for lr_batch, hr_batch in train_dataset.take(1):\n",
        "    print(f\"LR batch shape: {lr_batch.shape}\")  # Expected: (BATCH_SIZE, 128, 128, 3)\n",
        "    print(f\"HR batch shape: {hr_batch.shape}\")  # Expected: (BATCH_SIZE, 256, 256, 3)\n",
        "    break"
      ],
      "metadata": {
        "colab": {
          "base_uri": "https://localhost:8080/"
        },
        "id": "k_MKilo9O298",
        "outputId": "850f2957-ebb7-4d03-ac22-0ff813bd2070"
      },
      "execution_count": 144,
      "outputs": [
        {
          "output_type": "stream",
          "name": "stdout",
          "text": [
            "LR batch shape: (16, 128, 128, 3)\n",
            "HR batch shape: (16, 256, 256, 3)\n"
          ]
        }
      ]
    },
    {
      "cell_type": "code",
      "source": [
        "# Define Custom Metrics\n",
        "def psnr_metric(y_true, y_pred):\n",
        "    return tf.image.psnr(y_true, y_pred, max_val=1.0)\n",
        "\n",
        "def ssim_metric(y_true, y_pred):\n",
        "    return tf.image.ssim(y_true, y_pred, max_val=1.0)"
      ],
      "metadata": {
        "id": "5sByVzyBLkeU"
      },
      "execution_count": 145,
      "outputs": []
    },
    {
      "cell_type": "markdown",
      "source": [
        "#Quality Enhancement Module"
      ],
      "metadata": {
        "id": "ULHeiznpfnDP"
      }
    },
    {
      "cell_type": "markdown",
      "source": [
        "# Combine Modules into FEQE Model"
      ],
      "metadata": {
        "id": "urOTADGJfsnG"
      }
    },
    {
      "cell_type": "markdown",
      "source": [
        "#Compile and Train the FEQE Model"
      ],
      "metadata": {
        "id": "i36oq6JYjrAN"
      }
    },
    {
      "cell_type": "code",
      "source": [
        "# Choose whether to use a pretrained feature extractor\n",
        "USE_PRETRAINED = True  # Set to False to use custom feature extractor\n",
        "\n",
        "# Instantiate the FEQE model\n",
        "feqe = feqe_model(scale=SCALE_FACTOR, use_pretrained=USE_PRETRAINED)\n",
        "\n",
        "# Display the model summary\n",
        "feqe.summary()\n"
      ],
      "metadata": {
        "colab": {
          "base_uri": "https://localhost:8080/",
          "height": 306
        },
        "id": "FiYSdIGrfw03",
        "outputId": "8c831977-39fa-4b63-a7b8-17d93df4955f"
      },
      "execution_count": 146,
      "outputs": [
        {
          "output_type": "display_data",
          "data": {
            "text/plain": [
              "\u001b[1mModel: \"functional_21\"\u001b[0m\n"
            ],
            "text/html": [
              "<pre style=\"white-space:pre;overflow-x:auto;line-height:normal;font-family:Menlo,'DejaVu Sans Mono',consolas,'Courier New',monospace\"><span style=\"font-weight: bold\">Model: \"functional_21\"</span>\n",
              "</pre>\n"
            ]
          },
          "metadata": {}
        },
        {
          "output_type": "display_data",
          "data": {
            "text/plain": [
              "┏━━━━━━━━━━━━━━━━━━━━━━━━━━━━━━━━━━━━━━┳━━━━━━━━━━━━━━━━━━━━━━━━━━━━━┳━━━━━━━━━━━━━━━━━┓\n",
              "┃\u001b[1m \u001b[0m\u001b[1mLayer (type)                        \u001b[0m\u001b[1m \u001b[0m┃\u001b[1m \u001b[0m\u001b[1mOutput Shape               \u001b[0m\u001b[1m \u001b[0m┃\u001b[1m \u001b[0m\u001b[1m        Param #\u001b[0m\u001b[1m \u001b[0m┃\n",
              "┡━━━━━━━━━━━━━━━━━━━━━━━━━━━━━━━━━━━━━━╇━━━━━━━━━━━━━━━━━━━━━━━━━━━━━╇━━━━━━━━━━━━━━━━━┩\n",
              "│ input_layer_21 (\u001b[38;5;33mInputLayer\u001b[0m)          │ (\u001b[38;5;45mNone\u001b[0m, \u001b[38;5;34m128\u001b[0m, \u001b[38;5;34m128\u001b[0m, \u001b[38;5;34m3\u001b[0m)         │               \u001b[38;5;34m0\u001b[0m │\n",
              "├──────────────────────────────────────┼─────────────────────────────┼─────────────────┤\n",
              "│ functional_20 (\u001b[38;5;33mFunctional\u001b[0m)           │ (\u001b[38;5;45mNone\u001b[0m, \u001b[38;5;34m128\u001b[0m, \u001b[38;5;34m128\u001b[0m, \u001b[38;5;34m256\u001b[0m)       │         \u001b[38;5;34m370,816\u001b[0m │\n",
              "├──────────────────────────────────────┼─────────────────────────────┼─────────────────┤\n",
              "│ up_sampling2d_19 (\u001b[38;5;33mUpSampling2D\u001b[0m)      │ (\u001b[38;5;45mNone\u001b[0m, \u001b[38;5;34m256\u001b[0m, \u001b[38;5;34m256\u001b[0m, \u001b[38;5;34m256\u001b[0m)       │               \u001b[38;5;34m0\u001b[0m │\n",
              "├──────────────────────────────────────┼─────────────────────────────┼─────────────────┤\n",
              "│ conv2d_38 (\u001b[38;5;33mConv2D\u001b[0m)                   │ (\u001b[38;5;45mNone\u001b[0m, \u001b[38;5;34m256\u001b[0m, \u001b[38;5;34m256\u001b[0m, \u001b[38;5;34m256\u001b[0m)       │         \u001b[38;5;34m590,080\u001b[0m │\n",
              "├──────────────────────────────────────┼─────────────────────────────┼─────────────────┤\n",
              "│ conv2d_39 (\u001b[38;5;33mConv2D\u001b[0m)                   │ (\u001b[38;5;45mNone\u001b[0m, \u001b[38;5;34m256\u001b[0m, \u001b[38;5;34m256\u001b[0m, \u001b[38;5;34m3\u001b[0m)         │           \u001b[38;5;34m6,915\u001b[0m │\n",
              "└──────────────────────────────────────┴─────────────────────────────┴─────────────────┘\n"
            ],
            "text/html": [
              "<pre style=\"white-space:pre;overflow-x:auto;line-height:normal;font-family:Menlo,'DejaVu Sans Mono',consolas,'Courier New',monospace\">┏━━━━━━━━━━━━━━━━━━━━━━━━━━━━━━━━━━━━━━┳━━━━━━━━━━━━━━━━━━━━━━━━━━━━━┳━━━━━━━━━━━━━━━━━┓\n",
              "┃<span style=\"font-weight: bold\"> Layer (type)                         </span>┃<span style=\"font-weight: bold\"> Output Shape                </span>┃<span style=\"font-weight: bold\">         Param # </span>┃\n",
              "┡━━━━━━━━━━━━━━━━━━━━━━━━━━━━━━━━━━━━━━╇━━━━━━━━━━━━━━━━━━━━━━━━━━━━━╇━━━━━━━━━━━━━━━━━┩\n",
              "│ input_layer_21 (<span style=\"color: #0087ff; text-decoration-color: #0087ff\">InputLayer</span>)          │ (<span style=\"color: #00d7ff; text-decoration-color: #00d7ff\">None</span>, <span style=\"color: #00af00; text-decoration-color: #00af00\">128</span>, <span style=\"color: #00af00; text-decoration-color: #00af00\">128</span>, <span style=\"color: #00af00; text-decoration-color: #00af00\">3</span>)         │               <span style=\"color: #00af00; text-decoration-color: #00af00\">0</span> │\n",
              "├──────────────────────────────────────┼─────────────────────────────┼─────────────────┤\n",
              "│ functional_20 (<span style=\"color: #0087ff; text-decoration-color: #0087ff\">Functional</span>)           │ (<span style=\"color: #00d7ff; text-decoration-color: #00d7ff\">None</span>, <span style=\"color: #00af00; text-decoration-color: #00af00\">128</span>, <span style=\"color: #00af00; text-decoration-color: #00af00\">128</span>, <span style=\"color: #00af00; text-decoration-color: #00af00\">256</span>)       │         <span style=\"color: #00af00; text-decoration-color: #00af00\">370,816</span> │\n",
              "├──────────────────────────────────────┼─────────────────────────────┼─────────────────┤\n",
              "│ up_sampling2d_19 (<span style=\"color: #0087ff; text-decoration-color: #0087ff\">UpSampling2D</span>)      │ (<span style=\"color: #00d7ff; text-decoration-color: #00d7ff\">None</span>, <span style=\"color: #00af00; text-decoration-color: #00af00\">256</span>, <span style=\"color: #00af00; text-decoration-color: #00af00\">256</span>, <span style=\"color: #00af00; text-decoration-color: #00af00\">256</span>)       │               <span style=\"color: #00af00; text-decoration-color: #00af00\">0</span> │\n",
              "├──────────────────────────────────────┼─────────────────────────────┼─────────────────┤\n",
              "│ conv2d_38 (<span style=\"color: #0087ff; text-decoration-color: #0087ff\">Conv2D</span>)                   │ (<span style=\"color: #00d7ff; text-decoration-color: #00d7ff\">None</span>, <span style=\"color: #00af00; text-decoration-color: #00af00\">256</span>, <span style=\"color: #00af00; text-decoration-color: #00af00\">256</span>, <span style=\"color: #00af00; text-decoration-color: #00af00\">256</span>)       │         <span style=\"color: #00af00; text-decoration-color: #00af00\">590,080</span> │\n",
              "├──────────────────────────────────────┼─────────────────────────────┼─────────────────┤\n",
              "│ conv2d_39 (<span style=\"color: #0087ff; text-decoration-color: #0087ff\">Conv2D</span>)                   │ (<span style=\"color: #00d7ff; text-decoration-color: #00d7ff\">None</span>, <span style=\"color: #00af00; text-decoration-color: #00af00\">256</span>, <span style=\"color: #00af00; text-decoration-color: #00af00\">256</span>, <span style=\"color: #00af00; text-decoration-color: #00af00\">3</span>)         │           <span style=\"color: #00af00; text-decoration-color: #00af00\">6,915</span> │\n",
              "└──────────────────────────────────────┴─────────────────────────────┴─────────────────┘\n",
              "</pre>\n"
            ]
          },
          "metadata": {}
        },
        {
          "output_type": "display_data",
          "data": {
            "text/plain": [
              "\u001b[1m Total params: \u001b[0m\u001b[38;5;34m967,811\u001b[0m (3.69 MB)\n"
            ],
            "text/html": [
              "<pre style=\"white-space:pre;overflow-x:auto;line-height:normal;font-family:Menlo,'DejaVu Sans Mono',consolas,'Courier New',monospace\"><span style=\"font-weight: bold\"> Total params: </span><span style=\"color: #00af00; text-decoration-color: #00af00\">967,811</span> (3.69 MB)\n",
              "</pre>\n"
            ]
          },
          "metadata": {}
        },
        {
          "output_type": "display_data",
          "data": {
            "text/plain": [
              "\u001b[1m Trainable params: \u001b[0m\u001b[38;5;34m596,995\u001b[0m (2.28 MB)\n"
            ],
            "text/html": [
              "<pre style=\"white-space:pre;overflow-x:auto;line-height:normal;font-family:Menlo,'DejaVu Sans Mono',consolas,'Courier New',monospace\"><span style=\"font-weight: bold\"> Trainable params: </span><span style=\"color: #00af00; text-decoration-color: #00af00\">596,995</span> (2.28 MB)\n",
              "</pre>\n"
            ]
          },
          "metadata": {}
        },
        {
          "output_type": "display_data",
          "data": {
            "text/plain": [
              "\u001b[1m Non-trainable params: \u001b[0m\u001b[38;5;34m370,816\u001b[0m (1.41 MB)\n"
            ],
            "text/html": [
              "<pre style=\"white-space:pre;overflow-x:auto;line-height:normal;font-family:Menlo,'DejaVu Sans Mono',consolas,'Courier New',monospace\"><span style=\"font-weight: bold\"> Non-trainable params: </span><span style=\"color: #00af00; text-decoration-color: #00af00\">370,816</span> (1.41 MB)\n",
              "</pre>\n"
            ]
          },
          "metadata": {}
        }
      ]
    },
    {
      "cell_type": "code",
      "source": [
        "# Compile the Model\n",
        "feqe.compile(\n",
        "    optimizer=Adam(learning_rate=1e-4),\n",
        "    loss='mse',\n",
        "    metrics=[psnr_metric, ssim_metric]\n",
        ")"
      ],
      "metadata": {
        "id": "b7crNMwikT90"
      },
      "execution_count": 147,
      "outputs": []
    },
    {
      "cell_type": "markdown",
      "source": [
        "#Define Callbacks"
      ],
      "metadata": {
        "id": "E3vH-itbkiB-"
      }
    },
    {
      "cell_type": "code",
      "source": [
        "from tensorflow.keras.callbacks import ModelCheckpoint, EarlyStopping, ReduceLROnPlateau\n",
        "\n",
        "# Define callbacks\n",
        "checkpoint = ModelCheckpoint(\n",
        "    'feqe_best_model.keras',\n",
        "    monitor='val_psnr_metric',\n",
        "    save_best_only=True,\n",
        "    mode='max',\n",
        "    verbose=1\n",
        ")\n",
        "\n",
        "early_stop = EarlyStopping(\n",
        "    monitor='val_psnr_metric',\n",
        "    patience=10,\n",
        "    mode='max',\n",
        "    verbose=1\n",
        ")\n",
        "\n",
        "reduce_lr = ReduceLROnPlateau(\n",
        "    monitor='val_psnr_metric',\n",
        "    factor=0.5,\n",
        "    patience=5,\n",
        "    mode='max',\n",
        "    verbose=1\n",
        ")"
      ],
      "metadata": {
        "id": "PmdNTyPYkjLf"
      },
      "execution_count": 148,
      "outputs": []
    },
    {
      "cell_type": "code",
      "source": [
        "# Train the Model\n",
        "history = feqe.fit(\n",
        "    train_dataset,\n",
        "    epochs=100,\n",
        "    validation_data=validation_dataset,\n",
        "    callbacks=[checkpoint, early_stop, reduce_lr],\n",
        "    verbose=1  # Enable verbose logging\n",
        ")\n"
      ],
      "metadata": {
        "colab": {
          "base_uri": "https://localhost:8080/"
        },
        "id": "v6MKlWF0kzmM",
        "outputId": "6f14f089-93ad-4fd0-bacb-9745759437ca"
      },
      "execution_count": 149,
      "outputs": [
        {
          "output_type": "stream",
          "name": "stdout",
          "text": [
            "Epoch 1/100\n",
            "\u001b[1m13/13\u001b[0m \u001b[32m━━━━━━━━━━━━━━━━━━━━\u001b[0m\u001b[37m\u001b[0m \u001b[1m0s\u001b[0m 2s/step - loss: 0.0689 - psnr_metric: 12.0647 - ssim_metric: 0.3358   \n",
            "Epoch 1: val_psnr_metric improved from -inf to 12.31636, saving model to feqe_best_model.keras\n",
            "\u001b[1m13/13\u001b[0m \u001b[32m━━━━━━━━━━━━━━━━━━━━\u001b[0m\u001b[37m\u001b[0m \u001b[1m113s\u001b[0m 6s/step - loss: 0.0686 - psnr_metric: 12.0824 - ssim_metric: 0.3353 - val_loss: 0.0665 - val_psnr_metric: 12.3164 - val_ssim_metric: 0.3049 - learning_rate: 1.0000e-04\n",
            "Epoch 2/100\n",
            "\u001b[1m13/13\u001b[0m \u001b[32m━━━━━━━━━━━━━━━━━━━━\u001b[0m\u001b[37m\u001b[0m \u001b[1m0s\u001b[0m 554ms/step - loss: 0.0622 - psnr_metric: 12.6070 - ssim_metric: 0.3405\n",
            "Epoch 2: val_psnr_metric improved from 12.31636 to 12.46258, saving model to feqe_best_model.keras\n",
            "\u001b[1m13/13\u001b[0m \u001b[32m━━━━━━━━━━━━━━━━━━━━\u001b[0m\u001b[37m\u001b[0m \u001b[1m39s\u001b[0m 725ms/step - loss: 0.0623 - psnr_metric: 12.5977 - ssim_metric: 0.3405 - val_loss: 0.0645 - val_psnr_metric: 12.4626 - val_ssim_metric: 0.3123 - learning_rate: 1.0000e-04\n",
            "Epoch 3/100\n",
            "\u001b[1m13/13\u001b[0m \u001b[32m━━━━━━━━━━━━━━━━━━━━\u001b[0m\u001b[37m\u001b[0m \u001b[1m0s\u001b[0m 584ms/step - loss: 0.0617 - psnr_metric: 12.6316 - ssim_metric: 0.3410\n",
            "Epoch 3: val_psnr_metric improved from 12.46258 to 12.62607, saving model to feqe_best_model.keras\n",
            "\u001b[1m13/13\u001b[0m \u001b[32m━━━━━━━━━━━━━━━━━━━━\u001b[0m\u001b[37m\u001b[0m \u001b[1m11s\u001b[0m 803ms/step - loss: 0.0617 - psnr_metric: 12.6336 - ssim_metric: 0.3415 - val_loss: 0.0619 - val_psnr_metric: 12.6261 - val_ssim_metric: 0.3241 - learning_rate: 1.0000e-04\n",
            "Epoch 4/100\n",
            "\u001b[1m13/13\u001b[0m \u001b[32m━━━━━━━━━━━━━━━━━━━━\u001b[0m\u001b[37m\u001b[0m \u001b[1m0s\u001b[0m 598ms/step - loss: 0.0599 - psnr_metric: 12.7567 - ssim_metric: 0.3680\n",
            "Epoch 4: val_psnr_metric improved from 12.62607 to 12.87286, saving model to feqe_best_model.keras\n",
            "\u001b[1m13/13\u001b[0m \u001b[32m━━━━━━━━━━━━━━━━━━━━\u001b[0m\u001b[37m\u001b[0m \u001b[1m10s\u001b[0m 776ms/step - loss: 0.0598 - psnr_metric: 12.7660 - ssim_metric: 0.3674 - val_loss: 0.0587 - val_psnr_metric: 12.8729 - val_ssim_metric: 0.3344 - learning_rate: 1.0000e-04\n",
            "Epoch 5/100\n",
            "\u001b[1m13/13\u001b[0m \u001b[32m━━━━━━━━━━━━━━━━━━━━\u001b[0m\u001b[37m\u001b[0m \u001b[1m0s\u001b[0m 583ms/step - loss: 0.0570 - psnr_metric: 12.8631 - ssim_metric: 0.3704\n",
            "Epoch 5: val_psnr_metric improved from 12.87286 to 13.14429, saving model to feqe_best_model.keras\n",
            "\u001b[1m13/13\u001b[0m \u001b[32m━━━━━━━━━━━━━━━━━━━━\u001b[0m\u001b[37m\u001b[0m \u001b[1m10s\u001b[0m 803ms/step - loss: 0.0568 - psnr_metric: 12.8826 - ssim_metric: 0.3706 - val_loss: 0.0553 - val_psnr_metric: 13.1443 - val_ssim_metric: 0.3481 - learning_rate: 1.0000e-04\n",
            "Epoch 6/100\n",
            "\u001b[1m13/13\u001b[0m \u001b[32m━━━━━━━━━━━━━━━━━━━━\u001b[0m\u001b[37m\u001b[0m \u001b[1m0s\u001b[0m 538ms/step - loss: 0.0539 - psnr_metric: 13.1994 - ssim_metric: 0.3660\n",
            "Epoch 6: val_psnr_metric improved from 13.14429 to 13.37770, saving model to feqe_best_model.keras\n",
            "\u001b[1m13/13\u001b[0m \u001b[32m━━━━━━━━━━━━━━━━━━━━\u001b[0m\u001b[37m\u001b[0m \u001b[1m20s\u001b[0m 757ms/step - loss: 0.0537 - psnr_metric: 13.2184 - ssim_metric: 0.3676 - val_loss: 0.0516 - val_psnr_metric: 13.3777 - val_ssim_metric: 0.3719 - learning_rate: 1.0000e-04\n",
            "Epoch 7/100\n",
            "\u001b[1m13/13\u001b[0m \u001b[32m━━━━━━━━━━━━━━━━━━━━\u001b[0m\u001b[37m\u001b[0m \u001b[1m0s\u001b[0m 553ms/step - loss: 0.0458 - psnr_metric: 13.9862 - ssim_metric: 0.4120\n",
            "Epoch 7: val_psnr_metric improved from 13.37770 to 13.72818, saving model to feqe_best_model.keras\n",
            "\u001b[1m13/13\u001b[0m \u001b[32m━━━━━━━━━━━━━━━━━━━━\u001b[0m\u001b[37m\u001b[0m \u001b[1m10s\u001b[0m 720ms/step - loss: 0.0459 - psnr_metric: 13.9706 - ssim_metric: 0.4117 - val_loss: 0.0476 - val_psnr_metric: 13.7282 - val_ssim_metric: 0.3905 - learning_rate: 1.0000e-04\n",
            "Epoch 8/100\n",
            "\u001b[1m13/13\u001b[0m \u001b[32m━━━━━━━━━━━━━━━━━━━━\u001b[0m\u001b[37m\u001b[0m \u001b[1m0s\u001b[0m 568ms/step - loss: 0.0436 - psnr_metric: 14.1623 - ssim_metric: 0.4183\n",
            "Epoch 8: val_psnr_metric improved from 13.72818 to 14.09613, saving model to feqe_best_model.keras\n",
            "\u001b[1m13/13\u001b[0m \u001b[32m━━━━━━━━━━━━━━━━━━━━\u001b[0m\u001b[37m\u001b[0m \u001b[1m10s\u001b[0m 787ms/step - loss: 0.0435 - psnr_metric: 14.1639 - ssim_metric: 0.4189 - val_loss: 0.0435 - val_psnr_metric: 14.0961 - val_ssim_metric: 0.4120 - learning_rate: 1.0000e-04\n",
            "Epoch 9/100\n",
            "\u001b[1m13/13\u001b[0m \u001b[32m━━━━━━━━━━━━━━━━━━━━\u001b[0m\u001b[37m\u001b[0m \u001b[1m0s\u001b[0m 576ms/step - loss: 0.0400 - psnr_metric: 14.4785 - ssim_metric: 0.4538\n",
            "Epoch 9: val_psnr_metric improved from 14.09613 to 14.54937, saving model to feqe_best_model.keras\n",
            "\u001b[1m13/13\u001b[0m \u001b[32m━━━━━━━━━━━━━━━━━━━━\u001b[0m\u001b[37m\u001b[0m \u001b[1m10s\u001b[0m 797ms/step - loss: 0.0400 - psnr_metric: 14.4843 - ssim_metric: 0.4535 - val_loss: 0.0400 - val_psnr_metric: 14.5494 - val_ssim_metric: 0.4286 - learning_rate: 1.0000e-04\n",
            "Epoch 10/100\n",
            "\u001b[1m13/13\u001b[0m \u001b[32m━━━━━━━━━━━━━━━━━━━━\u001b[0m\u001b[37m\u001b[0m \u001b[1m0s\u001b[0m 552ms/step - loss: 0.0367 - psnr_metric: 14.8134 - ssim_metric: 0.4668\n",
            "Epoch 10: val_psnr_metric improved from 14.54937 to 14.86105, saving model to feqe_best_model.keras\n",
            "\u001b[1m13/13\u001b[0m \u001b[32m━━━━━━━━━━━━━━━━━━━━\u001b[0m\u001b[37m\u001b[0m \u001b[1m20s\u001b[0m 771ms/step - loss: 0.0367 - psnr_metric: 14.8164 - ssim_metric: 0.4671 - val_loss: 0.0378 - val_psnr_metric: 14.8610 - val_ssim_metric: 0.4463 - learning_rate: 1.0000e-04\n",
            "Epoch 11/100\n",
            "\u001b[1m13/13\u001b[0m \u001b[32m━━━━━━━━━━━━━━━━━━━━\u001b[0m\u001b[37m\u001b[0m \u001b[1m0s\u001b[0m 568ms/step - loss: 0.0340 - psnr_metric: 15.2625 - ssim_metric: 0.4811\n",
            "Epoch 11: val_psnr_metric improved from 14.86105 to 15.25869, saving model to feqe_best_model.keras\n",
            "\u001b[1m13/13\u001b[0m \u001b[32m━━━━━━━━━━━━━━━━━━━━\u001b[0m\u001b[37m\u001b[0m \u001b[1m10s\u001b[0m 787ms/step - loss: 0.0340 - psnr_metric: 15.2625 - ssim_metric: 0.4817 - val_loss: 0.0331 - val_psnr_metric: 15.2587 - val_ssim_metric: 0.4760 - learning_rate: 1.0000e-04\n",
            "Epoch 12/100\n",
            "\u001b[1m13/13\u001b[0m \u001b[32m━━━━━━━━━━━━━━━━━━━━\u001b[0m\u001b[37m\u001b[0m \u001b[1m0s\u001b[0m 578ms/step - loss: 0.0296 - psnr_metric: 15.9185 - ssim_metric: 0.5200\n",
            "Epoch 12: val_psnr_metric improved from 15.25869 to 15.58023, saving model to feqe_best_model.keras\n",
            "\u001b[1m13/13\u001b[0m \u001b[32m━━━━━━━━━━━━━━━━━━━━\u001b[0m\u001b[37m\u001b[0m \u001b[1m10s\u001b[0m 752ms/step - loss: 0.0296 - psnr_metric: 15.9045 - ssim_metric: 0.5193 - val_loss: 0.0305 - val_psnr_metric: 15.5802 - val_ssim_metric: 0.4964 - learning_rate: 1.0000e-04\n",
            "Epoch 13/100\n",
            "\u001b[1m13/13\u001b[0m \u001b[32m━━━━━━━━━━━━━━━━━━━━\u001b[0m\u001b[37m\u001b[0m \u001b[1m0s\u001b[0m 569ms/step - loss: 0.0279 - psnr_metric: 16.0626 - ssim_metric: 0.5206\n",
            "Epoch 13: val_psnr_metric improved from 15.58023 to 16.02746, saving model to feqe_best_model.keras\n",
            "\u001b[1m13/13\u001b[0m \u001b[32m━━━━━━━━━━━━━━━━━━━━\u001b[0m\u001b[37m\u001b[0m \u001b[1m10s\u001b[0m 739ms/step - loss: 0.0279 - psnr_metric: 16.0646 - ssim_metric: 0.5213 - val_loss: 0.0277 - val_psnr_metric: 16.0275 - val_ssim_metric: 0.5144 - learning_rate: 1.0000e-04\n",
            "Epoch 14/100\n",
            "\u001b[1m13/13\u001b[0m \u001b[32m━━━━━━━━━━━━━━━━━━━━\u001b[0m\u001b[37m\u001b[0m \u001b[1m0s\u001b[0m 563ms/step - loss: 0.0248 - psnr_metric: 16.6237 - ssim_metric: 0.5403\n",
            "Epoch 14: val_psnr_metric improved from 16.02746 to 16.39300, saving model to feqe_best_model.keras\n",
            "\u001b[1m13/13\u001b[0m \u001b[32m━━━━━━━━━━━━━━━━━━━━\u001b[0m\u001b[37m\u001b[0m \u001b[1m9s\u001b[0m 731ms/step - loss: 0.0249 - psnr_metric: 16.6152 - ssim_metric: 0.5408 - val_loss: 0.0254 - val_psnr_metric: 16.3930 - val_ssim_metric: 0.5324 - learning_rate: 1.0000e-04\n",
            "Epoch 15/100\n",
            "\u001b[1m13/13\u001b[0m \u001b[32m━━━━━━━━━━━━━━━━━━━━\u001b[0m\u001b[37m\u001b[0m \u001b[1m0s\u001b[0m 561ms/step - loss: 0.0229 - psnr_metric: 16.8768 - ssim_metric: 0.5589\n",
            "Epoch 15: val_psnr_metric improved from 16.39300 to 16.82411, saving model to feqe_best_model.keras\n",
            "\u001b[1m13/13\u001b[0m \u001b[32m━━━━━━━━━━━━━━━━━━━━\u001b[0m\u001b[37m\u001b[0m \u001b[1m9s\u001b[0m 735ms/step - loss: 0.0229 - psnr_metric: 16.8755 - ssim_metric: 0.5592 - val_loss: 0.0232 - val_psnr_metric: 16.8241 - val_ssim_metric: 0.5479 - learning_rate: 1.0000e-04\n",
            "Epoch 16/100\n",
            "\u001b[1m13/13\u001b[0m \u001b[32m━━━━━━━━━━━━━━━━━━━━\u001b[0m\u001b[37m\u001b[0m \u001b[1m0s\u001b[0m 567ms/step - loss: 0.0212 - psnr_metric: 17.1409 - ssim_metric: 0.5829\n",
            "Epoch 16: val_psnr_metric improved from 16.82411 to 17.20942, saving model to feqe_best_model.keras\n",
            "\u001b[1m13/13\u001b[0m \u001b[32m━━━━━━━━━━━━━━━━━━━━\u001b[0m\u001b[37m\u001b[0m \u001b[1m10s\u001b[0m 737ms/step - loss: 0.0212 - psnr_metric: 17.1474 - ssim_metric: 0.5825 - val_loss: 0.0212 - val_psnr_metric: 17.2094 - val_ssim_metric: 0.5619 - learning_rate: 1.0000e-04\n",
            "Epoch 17/100\n",
            "\u001b[1m13/13\u001b[0m \u001b[32m━━━━━━━━━━━━━━━━━━━━\u001b[0m\u001b[37m\u001b[0m \u001b[1m0s\u001b[0m 563ms/step - loss: 0.0194 - psnr_metric: 17.6892 - ssim_metric: 0.5908\n",
            "Epoch 17: val_psnr_metric improved from 17.20942 to 17.61170, saving model to feqe_best_model.keras\n",
            "\u001b[1m13/13\u001b[0m \u001b[32m━━━━━━━━━━━━━━━━━━━━\u001b[0m\u001b[37m\u001b[0m \u001b[1m11s\u001b[0m 782ms/step - loss: 0.0194 - psnr_metric: 17.6834 - ssim_metric: 0.5908 - val_loss: 0.0196 - val_psnr_metric: 17.6117 - val_ssim_metric: 0.5731 - learning_rate: 1.0000e-04\n",
            "Epoch 18/100\n",
            "\u001b[1m13/13\u001b[0m \u001b[32m━━━━━━━━━━━━━━━━━━━━\u001b[0m\u001b[37m\u001b[0m \u001b[1m0s\u001b[0m 560ms/step - loss: 0.0178 - psnr_metric: 18.0587 - ssim_metric: 0.6035\n",
            "Epoch 18: val_psnr_metric improved from 17.61170 to 17.97635, saving model to feqe_best_model.keras\n",
            "\u001b[1m13/13\u001b[0m \u001b[32m━━━━━━━━━━━━━━━━━━━━\u001b[0m\u001b[37m\u001b[0m \u001b[1m10s\u001b[0m 728ms/step - loss: 0.0178 - psnr_metric: 18.0492 - ssim_metric: 0.6033 - val_loss: 0.0182 - val_psnr_metric: 17.9764 - val_ssim_metric: 0.5833 - learning_rate: 1.0000e-04\n",
            "Epoch 19/100\n",
            "\u001b[1m13/13\u001b[0m \u001b[32m━━━━━━━━━━━━━━━━━━━━\u001b[0m\u001b[37m\u001b[0m \u001b[1m0s\u001b[0m 561ms/step - loss: 0.0171 - psnr_metric: 18.1319 - ssim_metric: 0.5974\n",
            "Epoch 19: val_psnr_metric improved from 17.97635 to 18.27336, saving model to feqe_best_model.keras\n",
            "\u001b[1m13/13\u001b[0m \u001b[32m━━━━━━━━━━━━━━━━━━━━\u001b[0m\u001b[37m\u001b[0m \u001b[1m9s\u001b[0m 731ms/step - loss: 0.0170 - psnr_metric: 18.1419 - ssim_metric: 0.5982 - val_loss: 0.0165 - val_psnr_metric: 18.2734 - val_ssim_metric: 0.5937 - learning_rate: 1.0000e-04\n",
            "Epoch 20/100\n",
            "\u001b[1m13/13\u001b[0m \u001b[32m━━━━━━━━━━━━━━━━━━━━\u001b[0m\u001b[37m\u001b[0m \u001b[1m0s\u001b[0m 565ms/step - loss: 0.0150 - psnr_metric: 18.6947 - ssim_metric: 0.6215\n",
            "Epoch 20: val_psnr_metric improved from 18.27336 to 18.44417, saving model to feqe_best_model.keras\n",
            "\u001b[1m13/13\u001b[0m \u001b[32m━━━━━━━━━━━━━━━━━━━━\u001b[0m\u001b[37m\u001b[0m \u001b[1m10s\u001b[0m 784ms/step - loss: 0.0151 - psnr_metric: 18.6903 - ssim_metric: 0.6212 - val_loss: 0.0156 - val_psnr_metric: 18.4442 - val_ssim_metric: 0.6012 - learning_rate: 1.0000e-04\n",
            "Epoch 21/100\n",
            "\u001b[1m13/13\u001b[0m \u001b[32m━━━━━━━━━━━━━━━━━━━━\u001b[0m\u001b[37m\u001b[0m \u001b[1m0s\u001b[0m 561ms/step - loss: 0.0143 - psnr_metric: 18.9240 - ssim_metric: 0.6337\n",
            "Epoch 21: val_psnr_metric improved from 18.44417 to 18.79489, saving model to feqe_best_model.keras\n",
            "\u001b[1m13/13\u001b[0m \u001b[32m━━━━━━━━━━━━━━━━━━━━\u001b[0m\u001b[37m\u001b[0m \u001b[1m10s\u001b[0m 779ms/step - loss: 0.0143 - psnr_metric: 18.9271 - ssim_metric: 0.6330 - val_loss: 0.0144 - val_psnr_metric: 18.7949 - val_ssim_metric: 0.6081 - learning_rate: 1.0000e-04\n",
            "Epoch 22/100\n",
            "\u001b[1m13/13\u001b[0m \u001b[32m━━━━━━━━━━━━━━━━━━━━\u001b[0m\u001b[37m\u001b[0m \u001b[1m0s\u001b[0m 563ms/step - loss: 0.0133 - psnr_metric: 19.2192 - ssim_metric: 0.6358\n",
            "Epoch 22: val_psnr_metric improved from 18.79489 to 18.94303, saving model to feqe_best_model.keras\n",
            "\u001b[1m13/13\u001b[0m \u001b[32m━━━━━━━━━━━━━━━━━━━━\u001b[0m\u001b[37m\u001b[0m \u001b[1m10s\u001b[0m 783ms/step - loss: 0.0133 - psnr_metric: 19.2197 - ssim_metric: 0.6354 - val_loss: 0.0138 - val_psnr_metric: 18.9430 - val_ssim_metric: 0.6136 - learning_rate: 1.0000e-04\n",
            "Epoch 23/100\n",
            "\u001b[1m13/13\u001b[0m \u001b[32m━━━━━━━━━━━━━━━━━━━━\u001b[0m\u001b[37m\u001b[0m \u001b[1m0s\u001b[0m 560ms/step - loss: 0.0125 - psnr_metric: 19.5937 - ssim_metric: 0.6343\n",
            "Epoch 23: val_psnr_metric improved from 18.94303 to 19.50245, saving model to feqe_best_model.keras\n",
            "\u001b[1m13/13\u001b[0m \u001b[32m━━━━━━━━━━━━━━━━━━━━\u001b[0m\u001b[37m\u001b[0m \u001b[1m10s\u001b[0m 781ms/step - loss: 0.0125 - psnr_metric: 19.5957 - ssim_metric: 0.6345 - val_loss: 0.0123 - val_psnr_metric: 19.5025 - val_ssim_metric: 0.6201 - learning_rate: 1.0000e-04\n",
            "Epoch 24/100\n",
            "\u001b[1m13/13\u001b[0m \u001b[32m━━━━━━━━━━━━━━━━━━━━\u001b[0m\u001b[37m\u001b[0m \u001b[1m0s\u001b[0m 562ms/step - loss: 0.0116 - psnr_metric: 19.7999 - ssim_metric: 0.6418\n",
            "Epoch 24: val_psnr_metric improved from 19.50245 to 19.90458, saving model to feqe_best_model.keras\n",
            "\u001b[1m13/13\u001b[0m \u001b[32m━━━━━━━━━━━━━━━━━━━━\u001b[0m\u001b[37m\u001b[0m \u001b[1m10s\u001b[0m 781ms/step - loss: 0.0116 - psnr_metric: 19.8050 - ssim_metric: 0.6418 - val_loss: 0.0114 - val_psnr_metric: 19.9046 - val_ssim_metric: 0.6252 - learning_rate: 1.0000e-04\n",
            "Epoch 25/100\n",
            "\u001b[1m13/13\u001b[0m \u001b[32m━━━━━━━━━━━━━━━━━━━━\u001b[0m\u001b[37m\u001b[0m \u001b[1m0s\u001b[0m 564ms/step - loss: 0.0107 - psnr_metric: 20.2160 - ssim_metric: 0.6499\n",
            "Epoch 25: val_psnr_metric improved from 19.90458 to 20.22080, saving model to feqe_best_model.keras\n",
            "\u001b[1m13/13\u001b[0m \u001b[32m━━━━━━━━━━━━━━━━━━━━\u001b[0m\u001b[37m\u001b[0m \u001b[1m10s\u001b[0m 783ms/step - loss: 0.0107 - psnr_metric: 20.2133 - ssim_metric: 0.6497 - val_loss: 0.0107 - val_psnr_metric: 20.2208 - val_ssim_metric: 0.6302 - learning_rate: 1.0000e-04\n",
            "Epoch 26/100\n",
            "\u001b[1m13/13\u001b[0m \u001b[32m━━━━━━━━━━━━━━━━━━━━\u001b[0m\u001b[37m\u001b[0m \u001b[1m0s\u001b[0m 562ms/step - loss: 0.0102 - psnr_metric: 20.4135 - ssim_metric: 0.6576\n",
            "Epoch 26: val_psnr_metric improved from 20.22080 to 20.48802, saving model to feqe_best_model.keras\n",
            "\u001b[1m13/13\u001b[0m \u001b[32m━━━━━━━━━━━━━━━━━━━━\u001b[0m\u001b[37m\u001b[0m \u001b[1m10s\u001b[0m 782ms/step - loss: 0.0102 - psnr_metric: 20.4160 - ssim_metric: 0.6571 - val_loss: 0.0100 - val_psnr_metric: 20.4880 - val_ssim_metric: 0.6348 - learning_rate: 1.0000e-04\n",
            "Epoch 27/100\n",
            "\u001b[1m13/13\u001b[0m \u001b[32m━━━━━━━━━━━━━━━━━━━━\u001b[0m\u001b[37m\u001b[0m \u001b[1m0s\u001b[0m 563ms/step - loss: 0.0096 - psnr_metric: 20.6748 - ssim_metric: 0.6527\n",
            "Epoch 27: val_psnr_metric improved from 20.48802 to 20.79649, saving model to feqe_best_model.keras\n",
            "\u001b[1m13/13\u001b[0m \u001b[32m━━━━━━━━━━━━━━━━━━━━\u001b[0m\u001b[37m\u001b[0m \u001b[1m10s\u001b[0m 735ms/step - loss: 0.0096 - psnr_metric: 20.6716 - ssim_metric: 0.6528 - val_loss: 0.0096 - val_psnr_metric: 20.7965 - val_ssim_metric: 0.6387 - learning_rate: 1.0000e-04\n",
            "Epoch 28/100\n",
            "\u001b[1m13/13\u001b[0m \u001b[32m━━━━━━━━━━━━━━━━━━━━\u001b[0m\u001b[37m\u001b[0m \u001b[1m0s\u001b[0m 561ms/step - loss: 0.0091 - psnr_metric: 20.9543 - ssim_metric: 0.6573\n",
            "Epoch 28: val_psnr_metric improved from 20.79649 to 21.03720, saving model to feqe_best_model.keras\n",
            "\u001b[1m13/13\u001b[0m \u001b[32m━━━━━━━━━━━━━━━━━━━━\u001b[0m\u001b[37m\u001b[0m \u001b[1m10s\u001b[0m 730ms/step - loss: 0.0091 - psnr_metric: 20.9562 - ssim_metric: 0.6575 - val_loss: 0.0089 - val_psnr_metric: 21.0372 - val_ssim_metric: 0.6432 - learning_rate: 1.0000e-04\n",
            "Epoch 29/100\n",
            "\u001b[1m13/13\u001b[0m \u001b[32m━━━━━━━━━━━━━━━━━━━━\u001b[0m\u001b[37m\u001b[0m \u001b[1m0s\u001b[0m 563ms/step - loss: 0.0091 - psnr_metric: 21.0063 - ssim_metric: 0.6593\n",
            "Epoch 29: val_psnr_metric did not improve from 21.03720\n",
            "\u001b[1m13/13\u001b[0m \u001b[32m━━━━━━━━━━━━━━━━━━━━\u001b[0m\u001b[37m\u001b[0m \u001b[1m10s\u001b[0m 776ms/step - loss: 0.0090 - psnr_metric: 21.0197 - ssim_metric: 0.6596 - val_loss: 0.0088 - val_psnr_metric: 20.9322 - val_ssim_metric: 0.6463 - learning_rate: 1.0000e-04\n",
            "Epoch 30/100\n",
            "\u001b[1m13/13\u001b[0m \u001b[32m━━━━━━━━━━━━━━━━━━━━\u001b[0m\u001b[37m\u001b[0m \u001b[1m0s\u001b[0m 563ms/step - loss: 0.0087 - psnr_metric: 21.1284 - ssim_metric: 0.6566\n",
            "Epoch 30: val_psnr_metric improved from 21.03720 to 21.50078, saving model to feqe_best_model.keras\n",
            "\u001b[1m13/13\u001b[0m \u001b[32m━━━━━━━━━━━━━━━━━━━━\u001b[0m\u001b[37m\u001b[0m \u001b[1m10s\u001b[0m 783ms/step - loss: 0.0087 - psnr_metric: 21.1467 - ssim_metric: 0.6573 - val_loss: 0.0080 - val_psnr_metric: 21.5008 - val_ssim_metric: 0.6503 - learning_rate: 1.0000e-04\n",
            "Epoch 31/100\n",
            "\u001b[1m13/13\u001b[0m \u001b[32m━━━━━━━━━━━━━━━━━━━━\u001b[0m\u001b[37m\u001b[0m \u001b[1m0s\u001b[0m 561ms/step - loss: 0.0076 - psnr_metric: 21.7015 - ssim_metric: 0.6731\n",
            "Epoch 31: val_psnr_metric improved from 21.50078 to 21.74673, saving model to feqe_best_model.keras\n",
            "\u001b[1m13/13\u001b[0m \u001b[32m━━━━━━━━━━━━━━━━━━━━\u001b[0m\u001b[37m\u001b[0m \u001b[1m9s\u001b[0m 731ms/step - loss: 0.0076 - psnr_metric: 21.6992 - ssim_metric: 0.6729 - val_loss: 0.0077 - val_psnr_metric: 21.7467 - val_ssim_metric: 0.6534 - learning_rate: 1.0000e-04\n",
            "Epoch 32/100\n",
            "\u001b[1m13/13\u001b[0m \u001b[32m━━━━━━━━━━━━━━━━━━━━\u001b[0m\u001b[37m\u001b[0m \u001b[1m0s\u001b[0m 562ms/step - loss: 0.0071 - psnr_metric: 21.9889 - ssim_metric: 0.6793\n",
            "Epoch 32: val_psnr_metric did not improve from 21.74673\n",
            "\u001b[1m13/13\u001b[0m \u001b[32m━━━━━━━━━━━━━━━━━━━━\u001b[0m\u001b[37m\u001b[0m \u001b[1m9s\u001b[0m 726ms/step - loss: 0.0071 - psnr_metric: 21.9792 - ssim_metric: 0.6789 - val_loss: 0.0075 - val_psnr_metric: 21.7056 - val_ssim_metric: 0.6564 - learning_rate: 1.0000e-04\n",
            "Epoch 33/100\n",
            "\u001b[1m13/13\u001b[0m \u001b[32m━━━━━━━━━━━━━━━━━━━━\u001b[0m\u001b[37m\u001b[0m \u001b[1m0s\u001b[0m 567ms/step - loss: 0.0073 - psnr_metric: 21.9133 - ssim_metric: 0.6733\n",
            "Epoch 33: val_psnr_metric improved from 21.74673 to 22.10255, saving model to feqe_best_model.keras\n",
            "\u001b[1m13/13\u001b[0m \u001b[32m━━━━━━━━━━━━━━━━━━━━\u001b[0m\u001b[37m\u001b[0m \u001b[1m10s\u001b[0m 786ms/step - loss: 0.0073 - psnr_metric: 21.9285 - ssim_metric: 0.6735 - val_loss: 0.0070 - val_psnr_metric: 22.1026 - val_ssim_metric: 0.6596 - learning_rate: 1.0000e-04\n",
            "Epoch 34/100\n",
            "\u001b[1m13/13\u001b[0m \u001b[32m━━━━━━━━━━━━━━━━━━━━\u001b[0m\u001b[37m\u001b[0m \u001b[1m0s\u001b[0m 560ms/step - loss: 0.0071 - psnr_metric: 22.0821 - ssim_metric: 0.6753\n",
            "Epoch 34: val_psnr_metric improved from 22.10255 to 22.25794, saving model to feqe_best_model.keras\n",
            "\u001b[1m13/13\u001b[0m \u001b[32m━━━━━━━━━━━━━━━━━━━━\u001b[0m\u001b[37m\u001b[0m \u001b[1m9s\u001b[0m 736ms/step - loss: 0.0071 - psnr_metric: 22.0996 - ssim_metric: 0.6756 - val_loss: 0.0068 - val_psnr_metric: 22.2579 - val_ssim_metric: 0.6623 - learning_rate: 1.0000e-04\n",
            "Epoch 35/100\n",
            "\u001b[1m13/13\u001b[0m \u001b[32m━━━━━━━━━━━━━━━━━━━━\u001b[0m\u001b[37m\u001b[0m \u001b[1m0s\u001b[0m 559ms/step - loss: 0.0067 - psnr_metric: 22.2958 - ssim_metric: 0.6792\n",
            "Epoch 35: val_psnr_metric improved from 22.25794 to 22.43352, saving model to feqe_best_model.keras\n",
            "\u001b[1m13/13\u001b[0m \u001b[32m━━━━━━━━━━━━━━━━━━━━\u001b[0m\u001b[37m\u001b[0m \u001b[1m11s\u001b[0m 780ms/step - loss: 0.0067 - psnr_metric: 22.3112 - ssim_metric: 0.6794 - val_loss: 0.0065 - val_psnr_metric: 22.4335 - val_ssim_metric: 0.6647 - learning_rate: 1.0000e-04\n",
            "Epoch 36/100\n",
            "\u001b[1m13/13\u001b[0m \u001b[32m━━━━━━━━━━━━━━━━━━━━\u001b[0m\u001b[37m\u001b[0m \u001b[1m0s\u001b[0m 564ms/step - loss: 0.0061 - psnr_metric: 22.7148 - ssim_metric: 0.6859\n",
            "Epoch 36: val_psnr_metric improved from 22.43352 to 22.63597, saving model to feqe_best_model.keras\n",
            "\u001b[1m13/13\u001b[0m \u001b[32m━━━━━━━━━━━━━━━━━━━━\u001b[0m\u001b[37m\u001b[0m \u001b[1m10s\u001b[0m 782ms/step - loss: 0.0061 - psnr_metric: 22.7121 - ssim_metric: 0.6858 - val_loss: 0.0063 - val_psnr_metric: 22.6360 - val_ssim_metric: 0.6669 - learning_rate: 1.0000e-04\n",
            "Epoch 37/100\n",
            "\u001b[1m13/13\u001b[0m \u001b[32m━━━━━━━━━━━━━━━━━━━━\u001b[0m\u001b[37m\u001b[0m \u001b[1m0s\u001b[0m 564ms/step - loss: 0.0060 - psnr_metric: 22.9358 - ssim_metric: 0.6853\n",
            "Epoch 37: val_psnr_metric improved from 22.63597 to 22.67209, saving model to feqe_best_model.keras\n",
            "\u001b[1m13/13\u001b[0m \u001b[32m━━━━━━━━━━━━━━━━━━━━\u001b[0m\u001b[37m\u001b[0m \u001b[1m10s\u001b[0m 733ms/step - loss: 0.0060 - psnr_metric: 22.9274 - ssim_metric: 0.6854 - val_loss: 0.0062 - val_psnr_metric: 22.6721 - val_ssim_metric: 0.6691 - learning_rate: 1.0000e-04\n",
            "Epoch 38/100\n",
            "\u001b[1m13/13\u001b[0m \u001b[32m━━━━━━━━━━━━━━━━━━━━\u001b[0m\u001b[37m\u001b[0m \u001b[1m0s\u001b[0m 566ms/step - loss: 0.0062 - psnr_metric: 22.8548 - ssim_metric: 0.6940\n",
            "Epoch 38: val_psnr_metric improved from 22.67209 to 22.88334, saving model to feqe_best_model.keras\n",
            "\u001b[1m13/13\u001b[0m \u001b[32m━━━━━━━━━━━━━━━━━━━━\u001b[0m\u001b[37m\u001b[0m \u001b[1m10s\u001b[0m 785ms/step - loss: 0.0061 - psnr_metric: 22.8584 - ssim_metric: 0.6936 - val_loss: 0.0060 - val_psnr_metric: 22.8833 - val_ssim_metric: 0.6709 - learning_rate: 1.0000e-04\n",
            "Epoch 39/100\n",
            "\u001b[1m13/13\u001b[0m \u001b[32m━━━━━━━━━━━━━━━━━━━━\u001b[0m\u001b[37m\u001b[0m \u001b[1m0s\u001b[0m 561ms/step - loss: 0.0056 - psnr_metric: 23.1456 - ssim_metric: 0.6857\n",
            "Epoch 39: val_psnr_metric improved from 22.88334 to 22.93481, saving model to feqe_best_model.keras\n",
            "\u001b[1m13/13\u001b[0m \u001b[32m━━━━━━━━━━━━━━━━━━━━\u001b[0m\u001b[37m\u001b[0m \u001b[1m9s\u001b[0m 730ms/step - loss: 0.0056 - psnr_metric: 23.1401 - ssim_metric: 0.6861 - val_loss: 0.0059 - val_psnr_metric: 22.9348 - val_ssim_metric: 0.6731 - learning_rate: 1.0000e-04\n",
            "Epoch 40/100\n",
            "\u001b[1m13/13\u001b[0m \u001b[32m━━━━━━━━━━━━━━━━━━━━\u001b[0m\u001b[37m\u001b[0m \u001b[1m0s\u001b[0m 564ms/step - loss: 0.0056 - psnr_metric: 23.2687 - ssim_metric: 0.6931\n",
            "Epoch 40: val_psnr_metric improved from 22.93481 to 23.11063, saving model to feqe_best_model.keras\n",
            "\u001b[1m13/13\u001b[0m \u001b[32m━━━━━━━━━━━━━━━━━━━━\u001b[0m\u001b[37m\u001b[0m \u001b[1m9s\u001b[0m 733ms/step - loss: 0.0056 - psnr_metric: 23.2626 - ssim_metric: 0.6931 - val_loss: 0.0057 - val_psnr_metric: 23.1106 - val_ssim_metric: 0.6748 - learning_rate: 1.0000e-04\n",
            "Epoch 41/100\n",
            "\u001b[1m13/13\u001b[0m \u001b[32m━━━━━━━━━━━━━━━━━━━━\u001b[0m\u001b[37m\u001b[0m \u001b[1m0s\u001b[0m 564ms/step - loss: 0.0056 - psnr_metric: 23.2356 - ssim_metric: 0.6995\n",
            "Epoch 41: val_psnr_metric improved from 23.11063 to 23.16890, saving model to feqe_best_model.keras\n",
            "\u001b[1m13/13\u001b[0m \u001b[32m━━━━━━━━━━━━━━━━━━━━\u001b[0m\u001b[37m\u001b[0m \u001b[1m9s\u001b[0m 736ms/step - loss: 0.0056 - psnr_metric: 23.2406 - ssim_metric: 0.6992 - val_loss: 0.0056 - val_psnr_metric: 23.1689 - val_ssim_metric: 0.6766 - learning_rate: 1.0000e-04\n",
            "Epoch 42/100\n",
            "\u001b[1m13/13\u001b[0m \u001b[32m━━━━━━━━━━━━━━━━━━━━\u001b[0m\u001b[37m\u001b[0m \u001b[1m0s\u001b[0m 559ms/step - loss: 0.0054 - psnr_metric: 23.4483 - ssim_metric: 0.6923\n",
            "Epoch 42: val_psnr_metric improved from 23.16890 to 23.21646, saving model to feqe_best_model.keras\n",
            "\u001b[1m13/13\u001b[0m \u001b[32m━━━━━━━━━━━━━━━━━━━━\u001b[0m\u001b[37m\u001b[0m \u001b[1m10s\u001b[0m 729ms/step - loss: 0.0054 - psnr_metric: 23.4446 - ssim_metric: 0.6926 - val_loss: 0.0055 - val_psnr_metric: 23.2165 - val_ssim_metric: 0.6783 - learning_rate: 1.0000e-04\n",
            "Epoch 43/100\n",
            "\u001b[1m13/13\u001b[0m \u001b[32m━━━━━━━━━━━━━━━━━━━━\u001b[0m\u001b[37m\u001b[0m \u001b[1m0s\u001b[0m 562ms/step - loss: 0.0054 - psnr_metric: 23.4343 - ssim_metric: 0.6954\n",
            "Epoch 43: val_psnr_metric improved from 23.21646 to 23.30639, saving model to feqe_best_model.keras\n",
            "\u001b[1m13/13\u001b[0m \u001b[32m━━━━━━━━━━━━━━━━━━━━\u001b[0m\u001b[37m\u001b[0m \u001b[1m10s\u001b[0m 732ms/step - loss: 0.0054 - psnr_metric: 23.4355 - ssim_metric: 0.6955 - val_loss: 0.0055 - val_psnr_metric: 23.3064 - val_ssim_metric: 0.6793 - learning_rate: 1.0000e-04\n",
            "Epoch 44/100\n",
            "\u001b[1m13/13\u001b[0m \u001b[32m━━━━━━━━━━━━━━━━━━━━\u001b[0m\u001b[37m\u001b[0m \u001b[1m0s\u001b[0m 564ms/step - loss: 0.0052 - psnr_metric: 23.5359 - ssim_metric: 0.7013\n",
            "Epoch 44: val_psnr_metric improved from 23.30639 to 23.41679, saving model to feqe_best_model.keras\n",
            "\u001b[1m13/13\u001b[0m \u001b[32m━━━━━━━━━━━━━━━━━━━━\u001b[0m\u001b[37m\u001b[0m \u001b[1m9s\u001b[0m 733ms/step - loss: 0.0052 - psnr_metric: 23.5342 - ssim_metric: 0.7011 - val_loss: 0.0053 - val_psnr_metric: 23.4168 - val_ssim_metric: 0.6810 - learning_rate: 1.0000e-04\n",
            "Epoch 45/100\n",
            "\u001b[1m13/13\u001b[0m \u001b[32m━━━━━━━━━━━━━━━━━━━━\u001b[0m\u001b[37m\u001b[0m \u001b[1m0s\u001b[0m 565ms/step - loss: 0.0052 - psnr_metric: 23.5984 - ssim_metric: 0.6980\n",
            "Epoch 45: val_psnr_metric did not improve from 23.41679\n",
            "\u001b[1m13/13\u001b[0m \u001b[32m━━━━━━━━━━━━━━━━━━━━\u001b[0m\u001b[37m\u001b[0m \u001b[1m10s\u001b[0m 733ms/step - loss: 0.0052 - psnr_metric: 23.5978 - ssim_metric: 0.6982 - val_loss: 0.0053 - val_psnr_metric: 23.3876 - val_ssim_metric: 0.6825 - learning_rate: 1.0000e-04\n",
            "Epoch 46/100\n",
            "\u001b[1m13/13\u001b[0m \u001b[32m━━━━━━━━━━━━━━━━━━━━\u001b[0m\u001b[37m\u001b[0m \u001b[1m0s\u001b[0m 567ms/step - loss: 0.0050 - psnr_metric: 23.8407 - ssim_metric: 0.7069\n",
            "Epoch 46: val_psnr_metric improved from 23.41679 to 23.49829, saving model to feqe_best_model.keras\n",
            "\u001b[1m13/13\u001b[0m \u001b[32m━━━━━━━━━━━━━━━━━━━━\u001b[0m\u001b[37m\u001b[0m \u001b[1m10s\u001b[0m 740ms/step - loss: 0.0050 - psnr_metric: 23.8268 - ssim_metric: 0.7066 - val_loss: 0.0052 - val_psnr_metric: 23.4983 - val_ssim_metric: 0.6837 - learning_rate: 1.0000e-04\n",
            "Epoch 47/100\n",
            "\u001b[1m13/13\u001b[0m \u001b[32m━━━━━━━━━━━━━━━━━━━━\u001b[0m\u001b[37m\u001b[0m \u001b[1m0s\u001b[0m 567ms/step - loss: 0.0049 - psnr_metric: 23.8393 - ssim_metric: 0.7102\n",
            "Epoch 47: val_psnr_metric improved from 23.49829 to 23.55948, saving model to feqe_best_model.keras\n",
            "\u001b[1m13/13\u001b[0m \u001b[32m━━━━━━━━━━━━━━━━━━━━\u001b[0m\u001b[37m\u001b[0m \u001b[1m11s\u001b[0m 786ms/step - loss: 0.0049 - psnr_metric: 23.8306 - ssim_metric: 0.7097 - val_loss: 0.0052 - val_psnr_metric: 23.5595 - val_ssim_metric: 0.6851 - learning_rate: 1.0000e-04\n",
            "Epoch 48/100\n",
            "\u001b[1m13/13\u001b[0m \u001b[32m━━━━━━━━━━━━━━━━━━━━\u001b[0m\u001b[37m\u001b[0m \u001b[1m0s\u001b[0m 562ms/step - loss: 0.0050 - psnr_metric: 23.7351 - ssim_metric: 0.7009\n",
            "Epoch 48: val_psnr_metric improved from 23.55948 to 23.60611, saving model to feqe_best_model.keras\n",
            "\u001b[1m13/13\u001b[0m \u001b[32m━━━━━━━━━━━━━━━━━━━━\u001b[0m\u001b[37m\u001b[0m \u001b[1m10s\u001b[0m 781ms/step - loss: 0.0050 - psnr_metric: 23.7374 - ssim_metric: 0.7012 - val_loss: 0.0051 - val_psnr_metric: 23.6061 - val_ssim_metric: 0.6861 - learning_rate: 1.0000e-04\n",
            "Epoch 49/100\n",
            "\u001b[1m13/13\u001b[0m \u001b[32m━━━━━━━━━━━━━━━━━━━━\u001b[0m\u001b[37m\u001b[0m \u001b[1m0s\u001b[0m 564ms/step - loss: 0.0049 - psnr_metric: 23.8333 - ssim_metric: 0.7092\n",
            "Epoch 49: val_psnr_metric improved from 23.60611 to 23.63681, saving model to feqe_best_model.keras\n",
            "\u001b[1m13/13\u001b[0m \u001b[32m━━━━━━━━━━━━━━━━━━━━\u001b[0m\u001b[37m\u001b[0m \u001b[1m9s\u001b[0m 735ms/step - loss: 0.0049 - psnr_metric: 23.8317 - ssim_metric: 0.7090 - val_loss: 0.0051 - val_psnr_metric: 23.6368 - val_ssim_metric: 0.6872 - learning_rate: 1.0000e-04\n",
            "Epoch 50/100\n",
            "\u001b[1m13/13\u001b[0m \u001b[32m━━━━━━━━━━━━━━━━━━━━\u001b[0m\u001b[37m\u001b[0m \u001b[1m0s\u001b[0m 563ms/step - loss: 0.0048 - psnr_metric: 23.8359 - ssim_metric: 0.7154\n",
            "Epoch 50: val_psnr_metric improved from 23.63681 to 23.66499, saving model to feqe_best_model.keras\n",
            "\u001b[1m13/13\u001b[0m \u001b[32m━━━━━━━━━━━━━━━━━━━━\u001b[0m\u001b[37m\u001b[0m \u001b[1m11s\u001b[0m 784ms/step - loss: 0.0048 - psnr_metric: 23.8368 - ssim_metric: 0.7148 - val_loss: 0.0050 - val_psnr_metric: 23.6650 - val_ssim_metric: 0.6887 - learning_rate: 1.0000e-04\n",
            "Epoch 51/100\n",
            "\u001b[1m13/13\u001b[0m \u001b[32m━━━━━━━━━━━━━━━━━━━━\u001b[0m\u001b[37m\u001b[0m \u001b[1m0s\u001b[0m 561ms/step - loss: 0.0050 - psnr_metric: 23.7562 - ssim_metric: 0.7059\n",
            "Epoch 51: val_psnr_metric improved from 23.66499 to 23.70254, saving model to feqe_best_model.keras\n",
            "\u001b[1m13/13\u001b[0m \u001b[32m━━━━━━━━━━━━━━━━━━━━\u001b[0m\u001b[37m\u001b[0m \u001b[1m10s\u001b[0m 782ms/step - loss: 0.0050 - psnr_metric: 23.7647 - ssim_metric: 0.7061 - val_loss: 0.0050 - val_psnr_metric: 23.7025 - val_ssim_metric: 0.6896 - learning_rate: 1.0000e-04\n",
            "Epoch 52/100\n",
            "\u001b[1m13/13\u001b[0m \u001b[32m━━━━━━━━━━━━━━━━━━━━\u001b[0m\u001b[37m\u001b[0m \u001b[1m0s\u001b[0m 561ms/step - loss: 0.0050 - psnr_metric: 23.8321 - ssim_metric: 0.7097\n",
            "Epoch 52: val_psnr_metric improved from 23.70254 to 23.72010, saving model to feqe_best_model.keras\n",
            "\u001b[1m13/13\u001b[0m \u001b[32m━━━━━━━━━━━━━━━━━━━━\u001b[0m\u001b[37m\u001b[0m \u001b[1m10s\u001b[0m 730ms/step - loss: 0.0050 - psnr_metric: 23.8372 - ssim_metric: 0.7096 - val_loss: 0.0050 - val_psnr_metric: 23.7201 - val_ssim_metric: 0.6906 - learning_rate: 1.0000e-04\n",
            "Epoch 53/100\n",
            "\u001b[1m13/13\u001b[0m \u001b[32m━━━━━━━━━━━━━━━━━━━━\u001b[0m\u001b[37m\u001b[0m \u001b[1m0s\u001b[0m 566ms/step - loss: 0.0047 - psnr_metric: 23.9701 - ssim_metric: 0.7100\n",
            "Epoch 53: val_psnr_metric improved from 23.72010 to 23.75370, saving model to feqe_best_model.keras\n",
            "\u001b[1m13/13\u001b[0m \u001b[32m━━━━━━━━━━━━━━━━━━━━\u001b[0m\u001b[37m\u001b[0m \u001b[1m10s\u001b[0m 785ms/step - loss: 0.0047 - psnr_metric: 23.9670 - ssim_metric: 0.7100 - val_loss: 0.0049 - val_psnr_metric: 23.7537 - val_ssim_metric: 0.6916 - learning_rate: 1.0000e-04\n",
            "Epoch 54/100\n",
            "\u001b[1m13/13\u001b[0m \u001b[32m━━━━━━━━━━━━━━━━━━━━\u001b[0m\u001b[37m\u001b[0m \u001b[1m0s\u001b[0m 562ms/step - loss: 0.0047 - psnr_metric: 24.0846 - ssim_metric: 0.7086\n",
            "Epoch 54: val_psnr_metric improved from 23.75370 to 23.77736, saving model to feqe_best_model.keras\n",
            "\u001b[1m13/13\u001b[0m \u001b[32m━━━━━━━━━━━━━━━━━━━━\u001b[0m\u001b[37m\u001b[0m \u001b[1m10s\u001b[0m 736ms/step - loss: 0.0047 - psnr_metric: 24.0759 - ssim_metric: 0.7088 - val_loss: 0.0049 - val_psnr_metric: 23.7774 - val_ssim_metric: 0.6928 - learning_rate: 1.0000e-04\n",
            "Epoch 55/100\n",
            "\u001b[1m13/13\u001b[0m \u001b[32m━━━━━━━━━━━━━━━━━━━━\u001b[0m\u001b[37m\u001b[0m \u001b[1m0s\u001b[0m 564ms/step - loss: 0.0048 - psnr_metric: 24.0545 - ssim_metric: 0.7182\n",
            "Epoch 55: val_psnr_metric improved from 23.77736 to 23.79222, saving model to feqe_best_model.keras\n",
            "\u001b[1m13/13\u001b[0m \u001b[32m━━━━━━━━━━━━━━━━━━━━\u001b[0m\u001b[37m\u001b[0m \u001b[1m10s\u001b[0m 783ms/step - loss: 0.0048 - psnr_metric: 24.0489 - ssim_metric: 0.7178 - val_loss: 0.0049 - val_psnr_metric: 23.7922 - val_ssim_metric: 0.6938 - learning_rate: 1.0000e-04\n",
            "Epoch 56/100\n",
            "\u001b[1m13/13\u001b[0m \u001b[32m━━━━━━━━━━━━━━━━━━━━\u001b[0m\u001b[37m\u001b[0m \u001b[1m0s\u001b[0m 564ms/step - loss: 0.0048 - psnr_metric: 23.8711 - ssim_metric: 0.7045\n",
            "Epoch 56: val_psnr_metric improved from 23.79222 to 23.81726, saving model to feqe_best_model.keras\n",
            "\u001b[1m13/13\u001b[0m \u001b[32m━━━━━━━━━━━━━━━━━━━━\u001b[0m\u001b[37m\u001b[0m \u001b[1m10s\u001b[0m 783ms/step - loss: 0.0048 - psnr_metric: 23.8803 - ssim_metric: 0.7051 - val_loss: 0.0049 - val_psnr_metric: 23.8173 - val_ssim_metric: 0.6948 - learning_rate: 1.0000e-04\n",
            "Epoch 57/100\n",
            "\u001b[1m13/13\u001b[0m \u001b[32m━━━━━━━━━━━━━━━━━━━━\u001b[0m\u001b[37m\u001b[0m \u001b[1m0s\u001b[0m 563ms/step - loss: 0.0048 - psnr_metric: 24.0241 - ssim_metric: 0.7186\n",
            "Epoch 57: val_psnr_metric did not improve from 23.81726\n",
            "\u001b[1m13/13\u001b[0m \u001b[32m━━━━━━━━━━━━━━━━━━━━\u001b[0m\u001b[37m\u001b[0m \u001b[1m10s\u001b[0m 731ms/step - loss: 0.0048 - psnr_metric: 24.0235 - ssim_metric: 0.7182 - val_loss: 0.0049 - val_psnr_metric: 23.8074 - val_ssim_metric: 0.6954 - learning_rate: 1.0000e-04\n",
            "Epoch 58/100\n",
            "\u001b[1m13/13\u001b[0m \u001b[32m━━━━━━━━━━━━━━━━━━━━\u001b[0m\u001b[37m\u001b[0m \u001b[1m0s\u001b[0m 562ms/step - loss: 0.0046 - psnr_metric: 24.1169 - ssim_metric: 0.7184\n",
            "Epoch 58: val_psnr_metric improved from 23.81726 to 23.82981, saving model to feqe_best_model.keras\n",
            "\u001b[1m13/13\u001b[0m \u001b[32m━━━━━━━━━━━━━━━━━━━━\u001b[0m\u001b[37m\u001b[0m \u001b[1m10s\u001b[0m 733ms/step - loss: 0.0046 - psnr_metric: 24.1106 - ssim_metric: 0.7181 - val_loss: 0.0048 - val_psnr_metric: 23.8298 - val_ssim_metric: 0.6965 - learning_rate: 1.0000e-04\n",
            "Epoch 59/100\n",
            "\u001b[1m13/13\u001b[0m \u001b[32m━━━━━━━━━━━━━━━━━━━━\u001b[0m\u001b[37m\u001b[0m \u001b[1m0s\u001b[0m 560ms/step - loss: 0.0047 - psnr_metric: 24.1102 - ssim_metric: 0.7190\n",
            "Epoch 59: val_psnr_metric improved from 23.82981 to 23.86949, saving model to feqe_best_model.keras\n",
            "\u001b[1m13/13\u001b[0m \u001b[32m━━━━━━━━━━━━━━━━━━━━\u001b[0m\u001b[37m\u001b[0m \u001b[1m10s\u001b[0m 729ms/step - loss: 0.0047 - psnr_metric: 24.1065 - ssim_metric: 0.7188 - val_loss: 0.0048 - val_psnr_metric: 23.8695 - val_ssim_metric: 0.6974 - learning_rate: 1.0000e-04\n",
            "Epoch 60/100\n",
            "\u001b[1m13/13\u001b[0m \u001b[32m━━━━━━━━━━━━━━━━━━━━\u001b[0m\u001b[37m\u001b[0m \u001b[1m0s\u001b[0m 559ms/step - loss: 0.0047 - psnr_metric: 24.0488 - ssim_metric: 0.7159\n",
            "Epoch 60: val_psnr_metric did not improve from 23.86949\n",
            "\u001b[1m13/13\u001b[0m \u001b[32m━━━━━━━━━━━━━━━━━━━━\u001b[0m\u001b[37m\u001b[0m \u001b[1m10s\u001b[0m 722ms/step - loss: 0.0047 - psnr_metric: 24.0505 - ssim_metric: 0.7160 - val_loss: 0.0048 - val_psnr_metric: 23.8433 - val_ssim_metric: 0.6977 - learning_rate: 1.0000e-04\n",
            "Epoch 61/100\n",
            "\u001b[1m13/13\u001b[0m \u001b[32m━━━━━━━━━━━━━━━━━━━━\u001b[0m\u001b[37m\u001b[0m \u001b[1m0s\u001b[0m 559ms/step - loss: 0.0045 - psnr_metric: 24.2088 - ssim_metric: 0.7232\n",
            "Epoch 61: val_psnr_metric improved from 23.86949 to 23.90968, saving model to feqe_best_model.keras\n",
            "\u001b[1m13/13\u001b[0m \u001b[32m━━━━━━━━━━━━━━━━━━━━\u001b[0m\u001b[37m\u001b[0m \u001b[1m10s\u001b[0m 732ms/step - loss: 0.0045 - psnr_metric: 24.2002 - ssim_metric: 0.7228 - val_loss: 0.0048 - val_psnr_metric: 23.9097 - val_ssim_metric: 0.6992 - learning_rate: 1.0000e-04\n",
            "Epoch 62/100\n",
            "\u001b[1m13/13\u001b[0m \u001b[32m━━━━━━━━━━━━━━━━━━━━\u001b[0m\u001b[37m\u001b[0m \u001b[1m0s\u001b[0m 562ms/step - loss: 0.0047 - psnr_metric: 24.1615 - ssim_metric: 0.7225\n",
            "Epoch 62: val_psnr_metric did not improve from 23.90968\n",
            "\u001b[1m13/13\u001b[0m \u001b[32m━━━━━━━━━━━━━━━━━━━━\u001b[0m\u001b[37m\u001b[0m \u001b[1m9s\u001b[0m 725ms/step - loss: 0.0047 - psnr_metric: 24.1582 - ssim_metric: 0.7222 - val_loss: 0.0047 - val_psnr_metric: 23.8984 - val_ssim_metric: 0.7002 - learning_rate: 1.0000e-04\n",
            "Epoch 63/100\n",
            "\u001b[1m13/13\u001b[0m \u001b[32m━━━━━━━━━━━━━━━━━━━━\u001b[0m\u001b[37m\u001b[0m \u001b[1m0s\u001b[0m 567ms/step - loss: 0.0049 - psnr_metric: 23.8905 - ssim_metric: 0.7114\n",
            "Epoch 63: val_psnr_metric improved from 23.90968 to 23.93604, saving model to feqe_best_model.keras\n",
            "\u001b[1m13/13\u001b[0m \u001b[32m━━━━━━━━━━━━━━━━━━━━\u001b[0m\u001b[37m\u001b[0m \u001b[1m11s\u001b[0m 785ms/step - loss: 0.0049 - psnr_metric: 23.9076 - ssim_metric: 0.7119 - val_loss: 0.0047 - val_psnr_metric: 23.9360 - val_ssim_metric: 0.7008 - learning_rate: 1.0000e-04\n",
            "Epoch 64/100\n",
            "\u001b[1m13/13\u001b[0m \u001b[32m━━━━━━━━━━━━━━━━━━━━\u001b[0m\u001b[37m\u001b[0m \u001b[1m0s\u001b[0m 565ms/step - loss: 0.0047 - psnr_metric: 24.0954 - ssim_metric: 0.7213\n",
            "Epoch 64: val_psnr_metric improved from 23.93604 to 23.94229, saving model to feqe_best_model.keras\n",
            "\u001b[1m13/13\u001b[0m \u001b[32m━━━━━━━━━━━━━━━━━━━━\u001b[0m\u001b[37m\u001b[0m \u001b[1m9s\u001b[0m 736ms/step - loss: 0.0047 - psnr_metric: 24.0988 - ssim_metric: 0.7212 - val_loss: 0.0047 - val_psnr_metric: 23.9423 - val_ssim_metric: 0.7013 - learning_rate: 1.0000e-04\n",
            "Epoch 65/100\n",
            "\u001b[1m13/13\u001b[0m \u001b[32m━━━━━━━━━━━━━━━━━━━━\u001b[0m\u001b[37m\u001b[0m \u001b[1m0s\u001b[0m 564ms/step - loss: 0.0044 - psnr_metric: 24.2407 - ssim_metric: 0.7196\n",
            "Epoch 65: val_psnr_metric improved from 23.94229 to 23.95634, saving model to feqe_best_model.keras\n",
            "\u001b[1m13/13\u001b[0m \u001b[32m━━━━━━━━━━━━━━━━━━━━\u001b[0m\u001b[37m\u001b[0m \u001b[1m10s\u001b[0m 737ms/step - loss: 0.0044 - psnr_metric: 24.2347 - ssim_metric: 0.7196 - val_loss: 0.0047 - val_psnr_metric: 23.9563 - val_ssim_metric: 0.7022 - learning_rate: 1.0000e-04\n",
            "Epoch 66/100\n",
            "\u001b[1m13/13\u001b[0m \u001b[32m━━━━━━━━━━━━━━━━━━━━\u001b[0m\u001b[37m\u001b[0m \u001b[1m0s\u001b[0m 560ms/step - loss: 0.0044 - psnr_metric: 24.2813 - ssim_metric: 0.7290\n",
            "Epoch 66: val_psnr_metric did not improve from 23.95634\n",
            "\u001b[1m13/13\u001b[0m \u001b[32m━━━━━━━━━━━━━━━━━━━━\u001b[0m\u001b[37m\u001b[0m \u001b[1m11s\u001b[0m 774ms/step - loss: 0.0044 - psnr_metric: 24.2726 - ssim_metric: 0.7285 - val_loss: 0.0047 - val_psnr_metric: 23.9311 - val_ssim_metric: 0.7028 - learning_rate: 1.0000e-04\n",
            "Epoch 67/100\n",
            "\u001b[1m13/13\u001b[0m \u001b[32m━━━━━━━━━━━━━━━━━━━━\u001b[0m\u001b[37m\u001b[0m \u001b[1m0s\u001b[0m 562ms/step - loss: 0.0044 - psnr_metric: 24.2573 - ssim_metric: 0.7178\n",
            "Epoch 67: val_psnr_metric did not improve from 23.95634\n",
            "\u001b[1m13/13\u001b[0m \u001b[32m━━━━━━━━━━━━━━━━━━━━\u001b[0m\u001b[37m\u001b[0m \u001b[1m10s\u001b[0m 776ms/step - loss: 0.0044 - psnr_metric: 24.2525 - ssim_metric: 0.7181 - val_loss: 0.0047 - val_psnr_metric: 23.9173 - val_ssim_metric: 0.7032 - learning_rate: 1.0000e-04\n",
            "Epoch 68/100\n",
            "\u001b[1m13/13\u001b[0m \u001b[32m━━━━━━━━━━━━━━━━━━━━\u001b[0m\u001b[37m\u001b[0m \u001b[1m0s\u001b[0m 561ms/step - loss: 0.0045 - psnr_metric: 24.1822 - ssim_metric: 0.7192\n",
            "Epoch 68: val_psnr_metric improved from 23.95634 to 24.00284, saving model to feqe_best_model.keras\n",
            "\u001b[1m13/13\u001b[0m \u001b[32m━━━━━━━━━━━━━━━━━━━━\u001b[0m\u001b[37m\u001b[0m \u001b[1m10s\u001b[0m 780ms/step - loss: 0.0045 - psnr_metric: 24.1824 - ssim_metric: 0.7194 - val_loss: 0.0047 - val_psnr_metric: 24.0028 - val_ssim_metric: 0.7042 - learning_rate: 1.0000e-04\n",
            "Epoch 69/100\n",
            "\u001b[1m13/13\u001b[0m \u001b[32m━━━━━━━━━━━━━━━━━━━━\u001b[0m\u001b[37m\u001b[0m \u001b[1m0s\u001b[0m 565ms/step - loss: 0.0046 - psnr_metric: 24.1027 - ssim_metric: 0.7127\n",
            "Epoch 69: val_psnr_metric did not improve from 24.00284\n",
            "\u001b[1m13/13\u001b[0m \u001b[32m━━━━━━━━━━━━━━━━━━━━\u001b[0m\u001b[37m\u001b[0m \u001b[1m9s\u001b[0m 729ms/step - loss: 0.0046 - psnr_metric: 24.1117 - ssim_metric: 0.7134 - val_loss: 0.0047 - val_psnr_metric: 23.9476 - val_ssim_metric: 0.7044 - learning_rate: 1.0000e-04\n",
            "Epoch 70/100\n",
            "\u001b[1m13/13\u001b[0m \u001b[32m━━━━━━━━━━━━━━━━━━━━\u001b[0m\u001b[37m\u001b[0m \u001b[1m0s\u001b[0m 566ms/step - loss: 0.0046 - psnr_metric: 24.2137 - ssim_metric: 0.7298\n",
            "Epoch 70: val_psnr_metric did not improve from 24.00284\n",
            "\u001b[1m13/13\u001b[0m \u001b[32m━━━━━━━━━━━━━━━━━━━━\u001b[0m\u001b[37m\u001b[0m \u001b[1m11s\u001b[0m 781ms/step - loss: 0.0046 - psnr_metric: 24.2132 - ssim_metric: 0.7293 - val_loss: 0.0047 - val_psnr_metric: 23.9353 - val_ssim_metric: 0.7049 - learning_rate: 1.0000e-04\n",
            "Epoch 71/100\n",
            "\u001b[1m13/13\u001b[0m \u001b[32m━━━━━━━━━━━━━━━━━━━━\u001b[0m\u001b[37m\u001b[0m \u001b[1m0s\u001b[0m 563ms/step - loss: 0.0043 - psnr_metric: 24.3937 - ssim_metric: 0.7287\n",
            "Epoch 71: val_psnr_metric improved from 24.00284 to 24.05143, saving model to feqe_best_model.keras\n",
            "\u001b[1m13/13\u001b[0m \u001b[32m━━━━━━━━━━━━━━━━━━━━\u001b[0m\u001b[37m\u001b[0m \u001b[1m10s\u001b[0m 784ms/step - loss: 0.0043 - psnr_metric: 24.3823 - ssim_metric: 0.7284 - val_loss: 0.0046 - val_psnr_metric: 24.0514 - val_ssim_metric: 0.7063 - learning_rate: 1.0000e-04\n",
            "Epoch 72/100\n",
            "\u001b[1m13/13\u001b[0m \u001b[32m━━━━━━━━━━━━━━━━━━━━\u001b[0m\u001b[37m\u001b[0m \u001b[1m0s\u001b[0m 565ms/step - loss: 0.0040 - psnr_metric: 24.6512 - ssim_metric: 0.7336\n",
            "Epoch 72: val_psnr_metric improved from 24.05143 to 24.05507, saving model to feqe_best_model.keras\n",
            "\u001b[1m13/13\u001b[0m \u001b[32m━━━━━━━━━━━━━━━━━━━━\u001b[0m\u001b[37m\u001b[0m \u001b[1m10s\u001b[0m 735ms/step - loss: 0.0041 - psnr_metric: 24.6243 - ssim_metric: 0.7330 - val_loss: 0.0046 - val_psnr_metric: 24.0551 - val_ssim_metric: 0.7067 - learning_rate: 1.0000e-04\n",
            "Epoch 73/100\n",
            "\u001b[1m13/13\u001b[0m \u001b[32m━━━━━━━━━━━━━━━━━━━━\u001b[0m\u001b[37m\u001b[0m \u001b[1m0s\u001b[0m 564ms/step - loss: 0.0046 - psnr_metric: 24.2585 - ssim_metric: 0.7274\n",
            "Epoch 73: val_psnr_metric improved from 24.05507 to 24.05991, saving model to feqe_best_model.keras\n",
            "\u001b[1m13/13\u001b[0m \u001b[32m━━━━━━━━━━━━━━━━━━━━\u001b[0m\u001b[37m\u001b[0m \u001b[1m10s\u001b[0m 734ms/step - loss: 0.0046 - psnr_metric: 24.2596 - ssim_metric: 0.7273 - val_loss: 0.0046 - val_psnr_metric: 24.0599 - val_ssim_metric: 0.7072 - learning_rate: 1.0000e-04\n",
            "Epoch 74/100\n",
            "\u001b[1m13/13\u001b[0m \u001b[32m━━━━━━━━━━━━━━━━━━━━\u001b[0m\u001b[37m\u001b[0m \u001b[1m0s\u001b[0m 566ms/step - loss: 0.0047 - psnr_metric: 24.0960 - ssim_metric: 0.7194\n",
            "Epoch 74: val_psnr_metric improved from 24.05991 to 24.08056, saving model to feqe_best_model.keras\n",
            "\u001b[1m13/13\u001b[0m \u001b[32m━━━━━━━━━━━━━━━━━━━━\u001b[0m\u001b[37m\u001b[0m \u001b[1m10s\u001b[0m 786ms/step - loss: 0.0047 - psnr_metric: 24.1102 - ssim_metric: 0.7199 - val_loss: 0.0046 - val_psnr_metric: 24.0806 - val_ssim_metric: 0.7081 - learning_rate: 1.0000e-04\n",
            "Epoch 75/100\n",
            "\u001b[1m13/13\u001b[0m \u001b[32m━━━━━━━━━━━━━━━━━━━━\u001b[0m\u001b[37m\u001b[0m \u001b[1m0s\u001b[0m 566ms/step - loss: 0.0044 - psnr_metric: 24.2651 - ssim_metric: 0.7246\n",
            "Epoch 75: val_psnr_metric improved from 24.08056 to 24.09796, saving model to feqe_best_model.keras\n",
            "\u001b[1m13/13\u001b[0m \u001b[32m━━━━━━━━━━━━━━━━━━━━\u001b[0m\u001b[37m\u001b[0m \u001b[1m10s\u001b[0m 736ms/step - loss: 0.0044 - psnr_metric: 24.2672 - ssim_metric: 0.7248 - val_loss: 0.0046 - val_psnr_metric: 24.0980 - val_ssim_metric: 0.7089 - learning_rate: 1.0000e-04\n",
            "Epoch 76/100\n",
            "\u001b[1m13/13\u001b[0m \u001b[32m━━━━━━━━━━━━━━━━━━━━\u001b[0m\u001b[37m\u001b[0m \u001b[1m0s\u001b[0m 565ms/step - loss: 0.0042 - psnr_metric: 24.5317 - ssim_metric: 0.7333\n",
            "Epoch 76: val_psnr_metric did not improve from 24.09796\n",
            "\u001b[1m13/13\u001b[0m \u001b[32m━━━━━━━━━━━━━━━━━━━━\u001b[0m\u001b[37m\u001b[0m \u001b[1m10s\u001b[0m 728ms/step - loss: 0.0042 - psnr_metric: 24.5170 - ssim_metric: 0.7329 - val_loss: 0.0046 - val_psnr_metric: 24.0862 - val_ssim_metric: 0.7093 - learning_rate: 1.0000e-04\n",
            "Epoch 77/100\n",
            "\u001b[1m13/13\u001b[0m \u001b[32m━━━━━━━━━━━━━━━━━━━━\u001b[0m\u001b[37m\u001b[0m \u001b[1m0s\u001b[0m 563ms/step - loss: 0.0043 - psnr_metric: 24.5577 - ssim_metric: 0.7362\n",
            "Epoch 77: val_psnr_metric improved from 24.09796 to 24.10054, saving model to feqe_best_model.keras\n",
            "\u001b[1m13/13\u001b[0m \u001b[32m━━━━━━━━━━━━━━━━━━━━\u001b[0m\u001b[37m\u001b[0m \u001b[1m9s\u001b[0m 733ms/step - loss: 0.0043 - psnr_metric: 24.5415 - ssim_metric: 0.7356 - val_loss: 0.0045 - val_psnr_metric: 24.1005 - val_ssim_metric: 0.7097 - learning_rate: 1.0000e-04\n",
            "Epoch 78/100\n",
            "\u001b[1m13/13\u001b[0m \u001b[32m━━━━━━━━━━━━━━━━━━━━\u001b[0m\u001b[37m\u001b[0m \u001b[1m0s\u001b[0m 563ms/step - loss: 0.0046 - psnr_metric: 24.2069 - ssim_metric: 0.7246\n",
            "Epoch 78: val_psnr_metric improved from 24.10054 to 24.13319, saving model to feqe_best_model.keras\n",
            "\u001b[1m13/13\u001b[0m \u001b[32m━━━━━━━━━━━━━━━━━━━━\u001b[0m\u001b[37m\u001b[0m \u001b[1m10s\u001b[0m 785ms/step - loss: 0.0045 - psnr_metric: 24.2175 - ssim_metric: 0.7249 - val_loss: 0.0045 - val_psnr_metric: 24.1332 - val_ssim_metric: 0.7105 - learning_rate: 1.0000e-04\n",
            "Epoch 79/100\n",
            "\u001b[1m13/13\u001b[0m \u001b[32m━━━━━━━━━━━━━━━━━━━━\u001b[0m\u001b[37m\u001b[0m \u001b[1m0s\u001b[0m 559ms/step - loss: 0.0042 - psnr_metric: 24.4368 - ssim_metric: 0.7222\n",
            "Epoch 79: val_psnr_metric did not improve from 24.13319\n",
            "\u001b[1m13/13\u001b[0m \u001b[32m━━━━━━━━━━━━━━━━━━━━\u001b[0m\u001b[37m\u001b[0m \u001b[1m10s\u001b[0m 772ms/step - loss: 0.0042 - psnr_metric: 24.4315 - ssim_metric: 0.7227 - val_loss: 0.0045 - val_psnr_metric: 24.1301 - val_ssim_metric: 0.7110 - learning_rate: 1.0000e-04\n",
            "Epoch 80/100\n",
            "\u001b[1m13/13\u001b[0m \u001b[32m━━━━━━━━━━━━━━━━━━━━\u001b[0m\u001b[37m\u001b[0m \u001b[1m0s\u001b[0m 562ms/step - loss: 0.0043 - psnr_metric: 24.3065 - ssim_metric: 0.7290\n",
            "Epoch 80: val_psnr_metric did not improve from 24.13319\n",
            "\u001b[1m13/13\u001b[0m \u001b[32m━━━━━━━━━━━━━━━━━━━━\u001b[0m\u001b[37m\u001b[0m \u001b[1m9s\u001b[0m 726ms/step - loss: 0.0043 - psnr_metric: 24.3109 - ssim_metric: 0.7290 - val_loss: 0.0046 - val_psnr_metric: 24.0477 - val_ssim_metric: 0.7111 - learning_rate: 1.0000e-04\n",
            "Epoch 81/100\n",
            "\u001b[1m13/13\u001b[0m \u001b[32m━━━━━━━━━━━━━━━━━━━━\u001b[0m\u001b[37m\u001b[0m \u001b[1m0s\u001b[0m 565ms/step - loss: 0.0042 - psnr_metric: 24.4835 - ssim_metric: 0.7366\n",
            "Epoch 81: val_psnr_metric improved from 24.13319 to 24.16456, saving model to feqe_best_model.keras\n",
            "\u001b[1m13/13\u001b[0m \u001b[32m━━━━━━━━━━━━━━━━━━━━\u001b[0m\u001b[37m\u001b[0m \u001b[1m9s\u001b[0m 736ms/step - loss: 0.0042 - psnr_metric: 24.4755 - ssim_metric: 0.7362 - val_loss: 0.0045 - val_psnr_metric: 24.1646 - val_ssim_metric: 0.7123 - learning_rate: 1.0000e-04\n",
            "Epoch 82/100\n",
            "\u001b[1m13/13\u001b[0m \u001b[32m━━━━━━━━━━━━━━━━━━━━\u001b[0m\u001b[37m\u001b[0m \u001b[1m0s\u001b[0m 563ms/step - loss: 0.0047 - psnr_metric: 24.0265 - ssim_metric: 0.7217\n",
            "Epoch 82: val_psnr_metric improved from 24.16456 to 24.18449, saving model to feqe_best_model.keras\n",
            "\u001b[1m13/13\u001b[0m \u001b[32m━━━━━━━━━━━━━━━━━━━━\u001b[0m\u001b[37m\u001b[0m \u001b[1m10s\u001b[0m 785ms/step - loss: 0.0047 - psnr_metric: 24.0531 - ssim_metric: 0.7224 - val_loss: 0.0045 - val_psnr_metric: 24.1845 - val_ssim_metric: 0.7132 - learning_rate: 1.0000e-04\n",
            "Epoch 83/100\n",
            "\u001b[1m13/13\u001b[0m \u001b[32m━━━━━━━━━━━━━━━━━━━━\u001b[0m\u001b[37m\u001b[0m \u001b[1m0s\u001b[0m 563ms/step - loss: 0.0041 - psnr_metric: 24.7545 - ssim_metric: 0.7397\n",
            "Epoch 83: val_psnr_metric improved from 24.18449 to 24.19787, saving model to feqe_best_model.keras\n",
            "\u001b[1m13/13\u001b[0m \u001b[32m━━━━━━━━━━━━━━━━━━━━\u001b[0m\u001b[37m\u001b[0m \u001b[1m10s\u001b[0m 734ms/step - loss: 0.0042 - psnr_metric: 24.7303 - ssim_metric: 0.7391 - val_loss: 0.0045 - val_psnr_metric: 24.1979 - val_ssim_metric: 0.7138 - learning_rate: 1.0000e-04\n",
            "Epoch 84/100\n",
            "\u001b[1m13/13\u001b[0m \u001b[32m━━━━━━━━━━━━━━━━━━━━\u001b[0m\u001b[37m\u001b[0m \u001b[1m0s\u001b[0m 563ms/step - loss: 0.0042 - psnr_metric: 24.4300 - ssim_metric: 0.7348\n",
            "Epoch 84: val_psnr_metric did not improve from 24.19787\n",
            "\u001b[1m13/13\u001b[0m \u001b[32m━━━━━━━━━━━━━━━━━━━━\u001b[0m\u001b[37m\u001b[0m \u001b[1m11s\u001b[0m 777ms/step - loss: 0.0043 - psnr_metric: 24.4260 - ssim_metric: 0.7346 - val_loss: 0.0045 - val_psnr_metric: 24.1184 - val_ssim_metric: 0.7137 - learning_rate: 1.0000e-04\n",
            "Epoch 85/100\n",
            "\u001b[1m13/13\u001b[0m \u001b[32m━━━━━━━━━━━━━━━━━━━━\u001b[0m\u001b[37m\u001b[0m \u001b[1m0s\u001b[0m 567ms/step - loss: 0.0041 - psnr_metric: 24.6914 - ssim_metric: 0.7394\n",
            "Epoch 85: val_psnr_metric improved from 24.19787 to 24.21099, saving model to feqe_best_model.keras\n",
            "\u001b[1m13/13\u001b[0m \u001b[32m━━━━━━━━━━━━━━━━━━━━\u001b[0m\u001b[37m\u001b[0m \u001b[1m10s\u001b[0m 787ms/step - loss: 0.0041 - psnr_metric: 24.6727 - ssim_metric: 0.7389 - val_loss: 0.0044 - val_psnr_metric: 24.2110 - val_ssim_metric: 0.7151 - learning_rate: 1.0000e-04\n",
            "Epoch 86/100\n",
            "\u001b[1m13/13\u001b[0m \u001b[32m━━━━━━━━━━━━━━━━━━━━\u001b[0m\u001b[37m\u001b[0m \u001b[1m0s\u001b[0m 567ms/step - loss: 0.0047 - psnr_metric: 24.0261 - ssim_metric: 0.7195\n",
            "Epoch 86: val_psnr_metric did not improve from 24.21099\n",
            "\u001b[1m13/13\u001b[0m \u001b[32m━━━━━━━━━━━━━━━━━━━━\u001b[0m\u001b[37m\u001b[0m \u001b[1m10s\u001b[0m 781ms/step - loss: 0.0047 - psnr_metric: 24.0563 - ssim_metric: 0.7205 - val_loss: 0.0045 - val_psnr_metric: 24.1252 - val_ssim_metric: 0.7159 - learning_rate: 1.0000e-04\n",
            "Epoch 87/100\n",
            "\u001b[1m13/13\u001b[0m \u001b[32m━━━━━━━━━━━━━━━━━━━━\u001b[0m\u001b[37m\u001b[0m \u001b[1m0s\u001b[0m 569ms/step - loss: 0.0042 - psnr_metric: 24.4446 - ssim_metric: 0.7335\n",
            "Epoch 87: val_psnr_metric improved from 24.21099 to 24.22210, saving model to feqe_best_model.keras\n",
            "\u001b[1m13/13\u001b[0m \u001b[32m━━━━━━━━━━━━━━━━━━━━\u001b[0m\u001b[37m\u001b[0m \u001b[1m10s\u001b[0m 739ms/step - loss: 0.0042 - psnr_metric: 24.4413 - ssim_metric: 0.7336 - val_loss: 0.0044 - val_psnr_metric: 24.2221 - val_ssim_metric: 0.7160 - learning_rate: 1.0000e-04\n",
            "Epoch 88/100\n",
            "\u001b[1m13/13\u001b[0m \u001b[32m━━━━━━━━━━━━━━━━━━━━\u001b[0m\u001b[37m\u001b[0m \u001b[1m0s\u001b[0m 565ms/step - loss: 0.0046 - psnr_metric: 24.2610 - ssim_metric: 0.7319\n",
            "Epoch 88: val_psnr_metric did not improve from 24.22210\n",
            "\u001b[1m13/13\u001b[0m \u001b[32m━━━━━━━━━━━━━━━━━━━━\u001b[0m\u001b[37m\u001b[0m \u001b[1m10s\u001b[0m 779ms/step - loss: 0.0046 - psnr_metric: 24.2720 - ssim_metric: 0.7321 - val_loss: 0.0045 - val_psnr_metric: 24.1554 - val_ssim_metric: 0.7160 - learning_rate: 1.0000e-04\n",
            "Epoch 89/100\n",
            "\u001b[1m13/13\u001b[0m \u001b[32m━━━━━━━━━━━━━━━━━━━━\u001b[0m\u001b[37m\u001b[0m \u001b[1m0s\u001b[0m 563ms/step - loss: 0.0047 - psnr_metric: 24.0861 - ssim_metric: 0.7232\n",
            "Epoch 89: val_psnr_metric improved from 24.22210 to 24.23156, saving model to feqe_best_model.keras\n",
            "\u001b[1m13/13\u001b[0m \u001b[32m━━━━━━━━━━━━━━━━━━━━\u001b[0m\u001b[37m\u001b[0m \u001b[1m10s\u001b[0m 738ms/step - loss: 0.0047 - psnr_metric: 24.1145 - ssim_metric: 0.7241 - val_loss: 0.0044 - val_psnr_metric: 24.2316 - val_ssim_metric: 0.7170 - learning_rate: 1.0000e-04\n",
            "Epoch 90/100\n",
            "\u001b[1m13/13\u001b[0m \u001b[32m━━━━━━━━━━━━━━━━━━━━\u001b[0m\u001b[37m\u001b[0m \u001b[1m0s\u001b[0m 565ms/step - loss: 0.0043 - psnr_metric: 24.5569 - ssim_metric: 0.7362\n",
            "Epoch 90: val_psnr_metric improved from 24.23156 to 24.26340, saving model to feqe_best_model.keras\n",
            "\u001b[1m13/13\u001b[0m \u001b[32m━━━━━━━━━━━━━━━━━━━━\u001b[0m\u001b[37m\u001b[0m \u001b[1m10s\u001b[0m 736ms/step - loss: 0.0043 - psnr_metric: 24.5526 - ssim_metric: 0.7362 - val_loss: 0.0044 - val_psnr_metric: 24.2634 - val_ssim_metric: 0.7176 - learning_rate: 1.0000e-04\n",
            "Epoch 91/100\n",
            "\u001b[1m13/13\u001b[0m \u001b[32m━━━━━━━━━━━━━━━━━━━━\u001b[0m\u001b[37m\u001b[0m \u001b[1m0s\u001b[0m 564ms/step - loss: 0.0042 - psnr_metric: 24.4725 - ssim_metric: 0.7395\n",
            "Epoch 91: val_psnr_metric improved from 24.26340 to 24.27505, saving model to feqe_best_model.keras\n",
            "\u001b[1m13/13\u001b[0m \u001b[32m━━━━━━━━━━━━━━━━━━━━\u001b[0m\u001b[37m\u001b[0m \u001b[1m10s\u001b[0m 735ms/step - loss: 0.0042 - psnr_metric: 24.4737 - ssim_metric: 0.7392 - val_loss: 0.0044 - val_psnr_metric: 24.2750 - val_ssim_metric: 0.7184 - learning_rate: 1.0000e-04\n",
            "Epoch 92/100\n",
            "\u001b[1m13/13\u001b[0m \u001b[32m━━━━━━━━━━━━━━━━━━━━\u001b[0m\u001b[37m\u001b[0m \u001b[1m0s\u001b[0m 565ms/step - loss: 0.0041 - psnr_metric: 24.5914 - ssim_metric: 0.7383\n",
            "Epoch 92: val_psnr_metric improved from 24.27505 to 24.27714, saving model to feqe_best_model.keras\n",
            "\u001b[1m13/13\u001b[0m \u001b[32m━━━━━━━━━━━━━━━━━━━━\u001b[0m\u001b[37m\u001b[0m \u001b[1m10s\u001b[0m 733ms/step - loss: 0.0041 - psnr_metric: 24.5854 - ssim_metric: 0.7382 - val_loss: 0.0044 - val_psnr_metric: 24.2771 - val_ssim_metric: 0.7184 - learning_rate: 1.0000e-04\n",
            "Epoch 93/100\n",
            "\u001b[1m13/13\u001b[0m \u001b[32m━━━━━━━━━━━━━━━━━━━━\u001b[0m\u001b[37m\u001b[0m \u001b[1m0s\u001b[0m 565ms/step - loss: 0.0046 - psnr_metric: 24.1851 - ssim_metric: 0.7350\n",
            "Epoch 93: val_psnr_metric improved from 24.27714 to 24.30504, saving model to feqe_best_model.keras\n",
            "\u001b[1m13/13\u001b[0m \u001b[32m━━━━━━━━━━━━━━━━━━━━\u001b[0m\u001b[37m\u001b[0m \u001b[1m10s\u001b[0m 742ms/step - loss: 0.0046 - psnr_metric: 24.2091 - ssim_metric: 0.7351 - val_loss: 0.0044 - val_psnr_metric: 24.3050 - val_ssim_metric: 0.7192 - learning_rate: 1.0000e-04\n",
            "Epoch 94/100\n",
            "\u001b[1m13/13\u001b[0m \u001b[32m━━━━━━━━━━━━━━━━━━━━\u001b[0m\u001b[37m\u001b[0m \u001b[1m0s\u001b[0m 560ms/step - loss: 0.0042 - psnr_metric: 24.6232 - ssim_metric: 0.7385\n",
            "Epoch 94: val_psnr_metric improved from 24.30504 to 24.31067, saving model to feqe_best_model.keras\n",
            "\u001b[1m13/13\u001b[0m \u001b[32m━━━━━━━━━━━━━━━━━━━━\u001b[0m\u001b[37m\u001b[0m \u001b[1m10s\u001b[0m 730ms/step - loss: 0.0042 - psnr_metric: 24.6164 - ssim_metric: 0.7385 - val_loss: 0.0044 - val_psnr_metric: 24.3107 - val_ssim_metric: 0.7198 - learning_rate: 1.0000e-04\n",
            "Epoch 95/100\n",
            "\u001b[1m13/13\u001b[0m \u001b[32m━━━━━━━━━━━━━━━━━━━━\u001b[0m\u001b[37m\u001b[0m \u001b[1m0s\u001b[0m 562ms/step - loss: 0.0041 - psnr_metric: 24.5788 - ssim_metric: 0.7360\n",
            "Epoch 95: val_psnr_metric improved from 24.31067 to 24.32110, saving model to feqe_best_model.keras\n",
            "\u001b[1m13/13\u001b[0m \u001b[32m━━━━━━━━━━━━━━━━━━━━\u001b[0m\u001b[37m\u001b[0m \u001b[1m11s\u001b[0m 781ms/step - loss: 0.0041 - psnr_metric: 24.5761 - ssim_metric: 0.7361 - val_loss: 0.0043 - val_psnr_metric: 24.3211 - val_ssim_metric: 0.7203 - learning_rate: 1.0000e-04\n",
            "Epoch 96/100\n",
            "\u001b[1m13/13\u001b[0m \u001b[32m━━━━━━━━━━━━━━━━━━━━\u001b[0m\u001b[37m\u001b[0m \u001b[1m0s\u001b[0m 565ms/step - loss: 0.0039 - psnr_metric: 24.8791 - ssim_metric: 0.7479\n",
            "Epoch 96: val_psnr_metric did not improve from 24.32110\n",
            "\u001b[1m13/13\u001b[0m \u001b[32m━━━━━━━━━━━━━━━━━━━━\u001b[0m\u001b[37m\u001b[0m \u001b[1m10s\u001b[0m 779ms/step - loss: 0.0039 - psnr_metric: 24.8568 - ssim_metric: 0.7472 - val_loss: 0.0044 - val_psnr_metric: 24.2997 - val_ssim_metric: 0.7210 - learning_rate: 1.0000e-04\n",
            "Epoch 97/100\n",
            "\u001b[1m13/13\u001b[0m \u001b[32m━━━━━━━━━━━━━━━━━━━━\u001b[0m\u001b[37m\u001b[0m \u001b[1m0s\u001b[0m 562ms/step - loss: 0.0043 - psnr_metric: 24.4749 - ssim_metric: 0.7421\n",
            "Epoch 97: val_psnr_metric improved from 24.32110 to 24.33622, saving model to feqe_best_model.keras\n",
            "\u001b[1m13/13\u001b[0m \u001b[32m━━━━━━━━━━━━━━━━━━━━\u001b[0m\u001b[37m\u001b[0m \u001b[1m10s\u001b[0m 733ms/step - loss: 0.0042 - psnr_metric: 24.4808 - ssim_metric: 0.7419 - val_loss: 0.0043 - val_psnr_metric: 24.3362 - val_ssim_metric: 0.7210 - learning_rate: 1.0000e-04\n",
            "Epoch 98/100\n",
            "\u001b[1m13/13\u001b[0m \u001b[32m━━━━━━━━━━━━━━━━━━━━\u001b[0m\u001b[37m\u001b[0m \u001b[1m0s\u001b[0m 561ms/step - loss: 0.0040 - psnr_metric: 24.6049 - ssim_metric: 0.7456\n",
            "Epoch 98: val_psnr_metric did not improve from 24.33622\n",
            "\u001b[1m13/13\u001b[0m \u001b[32m━━━━━━━━━━━━━━━━━━━━\u001b[0m\u001b[37m\u001b[0m \u001b[1m11s\u001b[0m 776ms/step - loss: 0.0041 - psnr_metric: 24.6021 - ssim_metric: 0.7452 - val_loss: 0.0043 - val_psnr_metric: 24.3114 - val_ssim_metric: 0.7213 - learning_rate: 1.0000e-04\n",
            "Epoch 99/100\n",
            "\u001b[1m13/13\u001b[0m \u001b[32m━━━━━━━━━━━━━━━━━━━━\u001b[0m\u001b[37m\u001b[0m \u001b[1m0s\u001b[0m 563ms/step - loss: 0.0038 - psnr_metric: 24.8972 - ssim_metric: 0.7491\n",
            "Epoch 99: val_psnr_metric improved from 24.33622 to 24.36097, saving model to feqe_best_model.keras\n",
            "\u001b[1m13/13\u001b[0m \u001b[32m━━━━━━━━━━━━━━━━━━━━\u001b[0m\u001b[37m\u001b[0m \u001b[1m9s\u001b[0m 731ms/step - loss: 0.0039 - psnr_metric: 24.8760 - ssim_metric: 0.7485 - val_loss: 0.0043 - val_psnr_metric: 24.3610 - val_ssim_metric: 0.7220 - learning_rate: 1.0000e-04\n",
            "Epoch 100/100\n",
            "\u001b[1m13/13\u001b[0m \u001b[32m━━━━━━━━━━━━━━━━━━━━\u001b[0m\u001b[37m\u001b[0m \u001b[1m0s\u001b[0m 562ms/step - loss: 0.0041 - psnr_metric: 24.5707 - ssim_metric: 0.7414\n",
            "Epoch 100: val_psnr_metric did not improve from 24.36097\n",
            "\u001b[1m13/13\u001b[0m \u001b[32m━━━━━━━━━━━━━━━━━━━━\u001b[0m\u001b[37m\u001b[0m \u001b[1m9s\u001b[0m 732ms/step - loss: 0.0041 - psnr_metric: 24.5723 - ssim_metric: 0.7413 - val_loss: 0.0044 - val_psnr_metric: 24.2963 - val_ssim_metric: 0.7221 - learning_rate: 1.0000e-04\n"
          ]
        }
      ]
    },
    {
      "cell_type": "code",
      "source": [],
      "metadata": {
        "id": "guM46TVLY_vQ"
      },
      "execution_count": null,
      "outputs": []
    }
  ]
}