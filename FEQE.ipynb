{
  "nbformat": 4,
  "nbformat_minor": 0,
  "metadata": {
    "colab": {
      "provenance": [],
      "gpuType": "T4",
      "authorship_tag": "ABX9TyPahv6ESVIitvghKxh7bj4O",
      "include_colab_link": true
    },
    "kernelspec": {
      "name": "python3",
      "display_name": "Python 3"
    },
    "language_info": {
      "name": "python"
    },
    "accelerator": "GPU"
  },
  "cells": [
    {
      "cell_type": "markdown",
      "metadata": {
        "id": "view-in-github",
        "colab_type": "text"
      },
      "source": [
        "<a href=\"https://colab.research.google.com/github/alexandrufalk/tensorflow/blob/Master/FEQE.ipynb\" target=\"_parent\"><img src=\"https://colab.research.google.com/assets/colab-badge.svg\" alt=\"Open In Colab\"/></a>"
      ]
    },
    {
      "cell_type": "code",
      "execution_count": 6,
      "metadata": {
        "id": "Y_bWJXTNej-4"
      },
      "outputs": [],
      "source": [
        "import tensorflow as tf\n",
        "from tensorflow.keras.layers import Input, Conv2D, UpSampling2D, Add, ReLU\n",
        "from tensorflow.keras.models import Model\n",
        "from tensorflow.keras.applications import VGG19\n",
        "import os\n",
        "from tensorflow.keras.preprocessing.image import ImageDataGenerator"
      ]
    },
    {
      "cell_type": "code",
      "source": [
        "from google.colab import drive\n",
        "drive.mount('/content/drive')"
      ],
      "metadata": {
        "colab": {
          "base_uri": "https://localhost:8080/"
        },
        "id": "vPQUZeW3iQfk",
        "outputId": "9d770d64-5191-44ac-8dc0-20031bf24d57"
      },
      "execution_count": 7,
      "outputs": [
        {
          "output_type": "stream",
          "name": "stdout",
          "text": [
            "Mounted at /content/drive\n"
          ]
        }
      ]
    },
    {
      "cell_type": "code",
      "source": [
        "root_dir = \"/content/drive/MyDrive/Datasets/BSDS500/images/\""
      ],
      "metadata": {
        "id": "yJ463kqHiV-O"
      },
      "execution_count": 8,
      "outputs": []
    },
    {
      "cell_type": "markdown",
      "source": [
        "#Parameters"
      ],
      "metadata": {
        "id": "7rN3BG_OiZpE"
      }
    },
    {
      "cell_type": "code",
      "source": [
        "# Parameters\n",
        "BATCH_SIZE = 16\n",
        "SCALE_FACTOR = 2\n",
        "IMG_HEIGHT = 256\n",
        "IMG_WIDTH = 256\n",
        "CHANNELS = 3\n",
        "AUTOTUNE = tf.data.AUTOTUNE"
      ],
      "metadata": {
        "id": "4tNvuxC6iYrt"
      },
      "execution_count": 9,
      "outputs": []
    },
    {
      "cell_type": "markdown",
      "source": [
        "#Paths"
      ],
      "metadata": {
        "id": "adjDu9PtigwF"
      }
    },
    {
      "cell_type": "code",
      "source": [
        "# Paths\n",
        "BASE_DIR = '/content/drive/MyDrive/Datasets/BSDS500/images/'\n",
        "TRAIN_DIR = os.path.join(BASE_DIR, 'training')\n",
        "VALIDATION_DIR = os.path.join(BASE_DIR, 'validation')\n",
        "TEST_DIR = os.path.join(BASE_DIR, 'test')"
      ],
      "metadata": {
        "id": "SWPG4fHfifZM"
      },
      "execution_count": 10,
      "outputs": []
    },
    {
      "cell_type": "markdown",
      "source": [
        "#Preprocessing functions"
      ],
      "metadata": {
        "id": "irzT618RioRE"
      }
    },
    {
      "cell_type": "code",
      "source": [
        "def load_and_preprocess_image(file_path):\n",
        "    \"\"\"\n",
        "    Loads an image from a file, preprocesses it by resizing and scaling.\n",
        "    \"\"\"\n",
        "    # Read the image file\n",
        "    image = tf.io.read_file(file_path)\n",
        "\n",
        "    # Decode the image to RGB format\n",
        "    image = tf.image.decode_image(image, channels=CHANNELS, expand_animations=False)\n",
        "\n",
        "    # Convert to float32 and scale to [0, 1]\n",
        "    image = tf.image.convert_image_dtype(image, tf.float32)\n",
        "\n",
        "    # Resize the image\n",
        "    image = tf.image.resize(image, [IMG_HEIGHT, IMG_WIDTH], method='bicubic')\n",
        "\n",
        "    return image\n",
        "\n",
        "def create_dataset(directory, batch_size, augment=False):\n",
        "    \"\"\"\n",
        "    Creates a TensorFlow dataset from image files in a directory.\n",
        "    \"\"\"\n",
        "    # Supported extensions\n",
        "    extensions = ['*.png', '*.jpg', '*.jpeg', '*.bmp', '*.tiff']\n",
        "\n",
        "    # Create a dataset of file paths\n",
        "    list_ds = tf.data.Dataset.list_files(\n",
        "        [os.path.join(directory, ext) for ext in extensions],\n",
        "        shuffle=True\n",
        "    )\n",
        "\n",
        "    # Load and preprocess images\n",
        "    dataset = list_ds.map(load_and_preprocess_image, num_parallel_calls=AUTOTUNE)\n",
        "\n",
        "    if augment:\n",
        "        # Define data augmentation\n",
        "        data_augmentation = tf.keras.Sequential([\n",
        "            tf.keras.layers.RandomFlip(\"horizontal\"),\n",
        "            tf.keras.layers.RandomFlip(\"vertical\"),\n",
        "            tf.keras.layers.RandomRotation(0.1),\n",
        "        ])\n",
        "        dataset = dataset.map(lambda x: data_augmentation(x), num_parallel_calls=AUTOTUNE)\n",
        "\n",
        "    # Batch and prefetch\n",
        "    dataset = dataset.batch(batch_size)\n",
        "    dataset = dataset.prefetch(AUTOTUNE)\n",
        "\n",
        "    return dataset"
      ],
      "metadata": {
        "id": "VDKRr8Kxiqq0"
      },
      "execution_count": 11,
      "outputs": []
    },
    {
      "cell_type": "markdown",
      "source": [
        "# Feature Extraction Module VGG19"
      ],
      "metadata": {
        "id": "bCGXU6xjfQwH"
      }
    },
    {
      "cell_type": "code",
      "source": [
        "def feature_extractor(input_shape=(256, 256, 3)):\n",
        "    input_img = Input(shape=input_shape)\n",
        "\n",
        "    # Load VGG19 without the top classification layers\n",
        "    vgg = VGG19(weights='imagenet', include_top=False, input_tensor=input_img)\n",
        "\n",
        "    # Select intermediate layers for feature extraction\n",
        "    # You can choose layers based on the level of features you need\n",
        "    layers = ['block1_conv2', 'block3_conv4', 'block5_conv4']\n",
        "    outputs = [vgg.get_layer(name).output for name in layers]\n",
        "\n",
        "    # Create the feature extraction model\n",
        "    model = Model(inputs=input_img, outputs=outputs)\n",
        "\n",
        "    # Freeze the pretrained weights\n",
        "    model.trainable = False\n",
        "\n",
        "    return model"
      ],
      "metadata": {
        "id": "_WBCv_vzfZU_"
      },
      "execution_count": 2,
      "outputs": []
    },
    {
      "cell_type": "markdown",
      "source": [
        "#Custom Feature Extraction Layers"
      ],
      "metadata": {
        "id": "a4-V4h2ogaMd"
      }
    },
    {
      "cell_type": "code",
      "source": [
        "def custom_feature_extractor(input_shape=(256, 256, 3)):\n",
        "    input_img = Input(shape=input_shape)\n",
        "\n",
        "    x = Conv2D(64, (3, 3), padding='same', activation='relu')(input_img)\n",
        "    x = Conv2D(128, (3, 3), padding='same', activation='relu')(x)\n",
        "    x = Conv2D(256, (3, 3), padding='same', activation='relu')(x)\n",
        "\n",
        "    model = Model(inputs=input_img, outputs=x)\n",
        "\n",
        "    return model"
      ],
      "metadata": {
        "id": "V5aBBFhogckd"
      },
      "execution_count": 5,
      "outputs": []
    },
    {
      "cell_type": "markdown",
      "source": [
        "#Quality Enhancement Module"
      ],
      "metadata": {
        "id": "ULHeiznpfnDP"
      }
    },
    {
      "cell_type": "code",
      "source": [
        "def quality_enhancement_module(features, scale=2):\n",
        "    # Upsample the features\n",
        "    x = UpSampling2D(size=(scale, scale), interpolation='bicubic')(features)\n",
        "\n",
        "    # Apply convolutional layers to refine the upsampled image\n",
        "    x = Conv2D(256, (3, 3), padding='same', activation='relu')(x)\n",
        "    x = Conv2D(128, (3, 3), padding='same', activation='relu')(x)\n",
        "    x = Conv2D(64, (3, 3), padding='same', activation='relu')(x)\n",
        "\n",
        "    # Final output layer\n",
        "    output = Conv2D(3, (3, 3), padding='same', activation='sigmoid')(x)\n",
        "\n",
        "    return output"
      ],
      "metadata": {
        "id": "KHucf357fbcA"
      },
      "execution_count": 3,
      "outputs": []
    },
    {
      "cell_type": "markdown",
      "source": [
        "# Combine Modules into FEQE Model"
      ],
      "metadata": {
        "id": "urOTADGJfsnG"
      }
    },
    {
      "cell_type": "code",
      "source": [
        "def feqe_model(input_shape=(256, 256, 3), scale=2, use_pretrained=True):\n",
        "    input_img = Input(shape=input_shape)\n",
        "\n",
        "    if use_pretrained:\n",
        "        extractor = feature_extractor(input_shape)\n",
        "    else:\n",
        "        extractor = custom_feature_extractor(input_shape)\n",
        "\n",
        "    features = extractor(input_img)\n",
        "    enhanced_img = quality_enhancement_module(features, scale)\n",
        "\n",
        "    model = Model(inputs=input_img, outputs=enhanced_img)\n",
        "\n",
        "    return model"
      ],
      "metadata": {
        "id": "FzKnC_8zfwaf"
      },
      "execution_count": 4,
      "outputs": []
    },
    {
      "cell_type": "code",
      "source": [],
      "metadata": {
        "id": "FiYSdIGrfw03"
      },
      "execution_count": null,
      "outputs": []
    }
  ]
}