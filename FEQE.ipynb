{
  "nbformat": 4,
  "nbformat_minor": 0,
  "metadata": {
    "colab": {
      "provenance": [],
      "gpuType": "T4",
      "authorship_tag": "ABX9TyMXzg/DkSt7eqzAhmhV+sen",
      "include_colab_link": true
    },
    "kernelspec": {
      "name": "python3",
      "display_name": "Python 3"
    },
    "language_info": {
      "name": "python"
    },
    "accelerator": "GPU"
  },
  "cells": [
    {
      "cell_type": "markdown",
      "metadata": {
        "id": "view-in-github",
        "colab_type": "text"
      },
      "source": [
        "<a href=\"https://colab.research.google.com/github/alexandrufalk/tensorflow/blob/Master/FEQE.ipynb\" target=\"_parent\"><img src=\"https://colab.research.google.com/assets/colab-badge.svg\" alt=\"Open In Colab\"/></a>"
      ]
    },
    {
      "cell_type": "code",
      "execution_count": 6,
      "metadata": {
        "id": "Y_bWJXTNej-4"
      },
      "outputs": [],
      "source": [
        "import tensorflow as tf\n",
        "from tensorflow.keras.layers import Input, Conv2D, UpSampling2D, Add, ReLU\n",
        "from tensorflow.keras.models import Model\n",
        "from tensorflow.keras.applications import VGG19\n",
        "import os\n",
        "from tensorflow.keras.preprocessing.image import ImageDataGenerator"
      ]
    },
    {
      "cell_type": "markdown",
      "source": [
        "# Feature Extraction Module VGG19"
      ],
      "metadata": {
        "id": "bCGXU6xjfQwH"
      }
    },
    {
      "cell_type": "code",
      "source": [
        "def feature_extractor(input_shape=(256, 256, 3)):\n",
        "    input_img = Input(shape=input_shape)\n",
        "\n",
        "    # Load VGG19 without the top classification layers\n",
        "    vgg = VGG19(weights='imagenet', include_top=False, input_tensor=input_img)\n",
        "\n",
        "    # Select intermediate layers for feature extraction\n",
        "    # You can choose layers based on the level of features you need\n",
        "    layers = ['block1_conv2', 'block3_conv4', 'block5_conv4']\n",
        "    outputs = [vgg.get_layer(name).output for name in layers]\n",
        "\n",
        "    # Create the feature extraction model\n",
        "    model = Model(inputs=input_img, outputs=outputs)\n",
        "\n",
        "    # Freeze the pretrained weights\n",
        "    model.trainable = False\n",
        "\n",
        "    return model"
      ],
      "metadata": {
        "id": "_WBCv_vzfZU_"
      },
      "execution_count": 2,
      "outputs": []
    },
    {
      "cell_type": "markdown",
      "source": [
        "#Custom Feature Extraction Layers"
      ],
      "metadata": {
        "id": "a4-V4h2ogaMd"
      }
    },
    {
      "cell_type": "code",
      "source": [
        "def custom_feature_extractor(input_shape=(256, 256, 3)):\n",
        "    input_img = Input(shape=input_shape)\n",
        "\n",
        "    x = Conv2D(64, (3, 3), padding='same', activation='relu')(input_img)\n",
        "    x = Conv2D(128, (3, 3), padding='same', activation='relu')(x)\n",
        "    x = Conv2D(256, (3, 3), padding='same', activation='relu')(x)\n",
        "\n",
        "    model = Model(inputs=input_img, outputs=x)\n",
        "\n",
        "    return model"
      ],
      "metadata": {
        "id": "V5aBBFhogckd"
      },
      "execution_count": 5,
      "outputs": []
    },
    {
      "cell_type": "markdown",
      "source": [
        "#Quality Enhancement Module"
      ],
      "metadata": {
        "id": "ULHeiznpfnDP"
      }
    },
    {
      "cell_type": "code",
      "source": [
        "def quality_enhancement_module(features, scale=2):\n",
        "    # Upsample the features\n",
        "    x = UpSampling2D(size=(scale, scale), interpolation='bicubic')(features)\n",
        "\n",
        "    # Apply convolutional layers to refine the upsampled image\n",
        "    x = Conv2D(256, (3, 3), padding='same', activation='relu')(x)\n",
        "    x = Conv2D(128, (3, 3), padding='same', activation='relu')(x)\n",
        "    x = Conv2D(64, (3, 3), padding='same', activation='relu')(x)\n",
        "\n",
        "    # Final output layer\n",
        "    output = Conv2D(3, (3, 3), padding='same', activation='sigmoid')(x)\n",
        "\n",
        "    return output"
      ],
      "metadata": {
        "id": "KHucf357fbcA"
      },
      "execution_count": 3,
      "outputs": []
    },
    {
      "cell_type": "markdown",
      "source": [
        "# Combine Modules into FEQE Model"
      ],
      "metadata": {
        "id": "urOTADGJfsnG"
      }
    },
    {
      "cell_type": "code",
      "source": [
        "def feqe_model(input_shape=(256, 256, 3), scale=2, use_pretrained=True):\n",
        "    input_img = Input(shape=input_shape)\n",
        "\n",
        "    if use_pretrained:\n",
        "        extractor = feature_extractor(input_shape)\n",
        "    else:\n",
        "        extractor = custom_feature_extractor(input_shape)\n",
        "\n",
        "    features = extractor(input_img)\n",
        "    enhanced_img = quality_enhancement_module(features, scale)\n",
        "\n",
        "    model = Model(inputs=input_img, outputs=enhanced_img)\n",
        "\n",
        "    return model"
      ],
      "metadata": {
        "id": "FzKnC_8zfwaf"
      },
      "execution_count": 4,
      "outputs": []
    },
    {
      "cell_type": "code",
      "source": [],
      "metadata": {
        "id": "FiYSdIGrfw03"
      },
      "execution_count": null,
      "outputs": []
    }
  ]
}