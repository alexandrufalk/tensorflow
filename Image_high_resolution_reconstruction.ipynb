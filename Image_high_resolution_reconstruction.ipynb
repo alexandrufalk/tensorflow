{
  "nbformat": 4,
  "nbformat_minor": 0,
  "metadata": {
    "colab": {
      "provenance": [],
      "gpuType": "T4",
      "authorship_tag": "ABX9TyNYzXZBVLe1t1kjUpTqP36o",
      "include_colab_link": true
    },
    "kernelspec": {
      "name": "python3",
      "display_name": "Python 3"
    },
    "language_info": {
      "name": "python"
    },
    "accelerator": "GPU"
  },
  "cells": [
    {
      "cell_type": "markdown",
      "metadata": {
        "id": "view-in-github",
        "colab_type": "text"
      },
      "source": [
        "<a href=\"https://colab.research.google.com/github/alexandrufalk/tensorflow/blob/Master/Image_high_resolution_reconstruction.ipynb\" target=\"_parent\"><img src=\"https://colab.research.google.com/assets/colab-badge.svg\" alt=\"Open In Colab\"/></a>"
      ]
    },
    {
      "cell_type": "code",
      "execution_count": 21,
      "metadata": {
        "id": "tPet1lVnPh_s"
      },
      "outputs": [],
      "source": [
        "import keras\n",
        "from keras import layers\n",
        "from keras import ops\n",
        "from keras.utils import load_img\n",
        "from keras.utils import array_to_img\n",
        "from keras.utils import img_to_array\n",
        "from keras.preprocessing import image_dataset_from_directory\n",
        "import tensorflow as tf  #  only for data preprocessing\n",
        "\n",
        "import os\n",
        "import math\n",
        "import numpy as np\n",
        "\n",
        "from IPython.display import display"
      ]
    },
    {
      "cell_type": "code",
      "source": [
        "from google.colab import drive\n",
        "drive.mount('/content/drive')\n"
      ],
      "metadata": {
        "colab": {
          "base_uri": "https://localhost:8080/"
        },
        "id": "JwSetnWDeBGC",
        "outputId": "13b0525f-768f-42c1-bd18-8b2d4b08d91c"
      },
      "execution_count": 34,
      "outputs": [
        {
          "output_type": "stream",
          "name": "stdout",
          "text": [
            "Mounted at /content/drive\n"
          ]
        }
      ]
    },
    {
      "cell_type": "code",
      "source": [
        "root_dir = \"/content/drive/MyDrive/Datasets/BSDS500/images/\"\n",
        "\n"
      ],
      "metadata": {
        "id": "ULdBWcALQARl"
      },
      "execution_count": 36,
      "outputs": []
    },
    {
      "cell_type": "code",
      "source": [
        "crop_size = 300\n",
        "upscale_factor = 3\n",
        "input_size = crop_size // upscale_factor\n",
        "batch_size = 8\n",
        "\n",
        "train_ds = image_dataset_from_directory(\n",
        "    f\"{root_dir}/training\",\n",
        "    batch_size=batch_size,\n",
        "    image_size=(crop_size, crop_size),\n",
        "    validation_split=0.2,\n",
        "    subset=\"training\",\n",
        "    seed=1337,\n",
        "    label_mode=None,  # No labels expected\n",
        ")\n",
        "\n",
        "valid_ds = image_dataset_from_directory(\n",
        "    f\"{root_dir}/validation\",\n",
        "    batch_size=batch_size,\n",
        "    image_size=(crop_size, crop_size),\n",
        "    validation_split=0.2,\n",
        "    subset=\"validation\",\n",
        "    seed=1337,\n",
        "    label_mode=None,  # No labels expected\n",
        ")"
      ],
      "metadata": {
        "colab": {
          "base_uri": "https://localhost:8080/"
        },
        "id": "oFnNx8j4U-Gh",
        "outputId": "e6d53535-4579-4084-b797-b9f7483923bc"
      },
      "execution_count": 37,
      "outputs": [
        {
          "output_type": "stream",
          "name": "stdout",
          "text": [
            "Found 200 files.\n",
            "Using 160 files for training.\n",
            "Found 100 files.\n",
            "Using 20 files for validation.\n"
          ]
        }
      ]
    }
  ]
}