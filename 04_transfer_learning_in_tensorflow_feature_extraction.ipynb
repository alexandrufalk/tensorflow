{
  "cells": [
    {
      "cell_type": "markdown",
      "metadata": {
        "id": "view-in-github",
        "colab_type": "text"
      },
      "source": [
        "<a href=\"https://colab.research.google.com/github/alexandrufalk/tensorflow/blob/Master/04_transfer_learning_in_tensorflow_feature_extraction.ipynb\" target=\"_parent\"><img src=\"https://colab.research.google.com/assets/colab-badge.svg\" alt=\"Open In Colab\"/></a>"
      ]
    },
    {
      "cell_type": "markdown",
      "metadata": {
        "id": "fBa2eMlqI4lj"
      },
      "source": [
        "** Transfer learning**, in other words, taking the patterns (also called weights) another model has learned from another problem and using them for our own problem.\n",
        "\n",
        "There are two main benefits to using transfer learning:\n",
        "\n",
        "Can leverage an existing neural network architecture proven to work on problems similar to our own.\n",
        "\n",
        "Can leverage a working neural network architecture which has already learned patterns on similar data to our own. This often results in achieving great results with less custom data."
      ]
    },
    {
      "cell_type": "markdown",
      "metadata": {
        "id": "U5AOQTmJJGBJ"
      },
      "source": [
        "#Downloading and becoming one with the data"
      ]
    },
    {
      "cell_type": "code",
      "execution_count": 1,
      "metadata": {
        "colab": {
          "base_uri": "https://localhost:8080/"
        },
        "id": "T2ZkqvrCQw_s",
        "outputId": "2854cda4-6297-4d71-e610-cd14413c118e"
      },
      "outputs": [
        {
          "output_type": "stream",
          "name": "stdout",
          "text": [
            "--2024-04-17 14:28:06--  https://storage.googleapis.com/ztm_tf_course/food_vision/10_food_classes_10_percent.zip\n",
            "Resolving storage.googleapis.com (storage.googleapis.com)... 74.125.20.207, 74.125.195.207, 74.125.197.207, ...\n",
            "Connecting to storage.googleapis.com (storage.googleapis.com)|74.125.20.207|:443... connected.\n",
            "HTTP request sent, awaiting response... 200 OK\n",
            "Length: 168546183 (161M) [application/zip]\n",
            "Saving to: ‘10_food_classes_10_percent.zip’\n",
            "\n",
            "10_food_classes_10_ 100%[===================>] 160.74M  75.1MB/s    in 2.1s    \n",
            "\n",
            "2024-04-17 14:28:08 (75.1 MB/s) - ‘10_food_classes_10_percent.zip’ saved [168546183/168546183]\n",
            "\n"
          ]
        }
      ],
      "source": [
        "# Get data (10% of labels)\n",
        "import zipfile\n",
        "\n",
        "# Download data\n",
        "!wget https://storage.googleapis.com/ztm_tf_course/food_vision/10_food_classes_10_percent.zip\n",
        "\n",
        "# Unzip the downloaded file\n",
        "zip_ref = zipfile.ZipFile(\"10_food_classes_10_percent.zip\", \"r\")\n",
        "zip_ref.extractall()\n",
        "zip_ref.close()"
      ]
    },
    {
      "cell_type": "code",
      "execution_count": 2,
      "metadata": {
        "id": "iC1jJzISJJSY",
        "colab": {
          "base_uri": "https://localhost:8080/"
        },
        "outputId": "d6005d2f-932a-4a20-b590-04866361f911"
      },
      "outputs": [
        {
          "output_type": "stream",
          "name": "stdout",
          "text": [
            "There are 2 directories and 0 images in 10_food_classes_10_percent.\n",
            "There are 10 directories and 0 images in 10_food_classes_10_percent/test.\n",
            "There are 0 directories and 250 images in 10_food_classes_10_percent/test/sushi.\n",
            "There are 0 directories and 250 images in 10_food_classes_10_percent/test/chicken_wings.\n",
            "There are 0 directories and 250 images in 10_food_classes_10_percent/test/ramen.\n",
            "There are 0 directories and 250 images in 10_food_classes_10_percent/test/steak.\n",
            "There are 0 directories and 250 images in 10_food_classes_10_percent/test/ice_cream.\n",
            "There are 0 directories and 250 images in 10_food_classes_10_percent/test/fried_rice.\n",
            "There are 0 directories and 250 images in 10_food_classes_10_percent/test/chicken_curry.\n",
            "There are 0 directories and 250 images in 10_food_classes_10_percent/test/hamburger.\n",
            "There are 0 directories and 250 images in 10_food_classes_10_percent/test/pizza.\n",
            "There are 0 directories and 250 images in 10_food_classes_10_percent/test/grilled_salmon.\n",
            "There are 10 directories and 0 images in 10_food_classes_10_percent/train.\n",
            "There are 0 directories and 75 images in 10_food_classes_10_percent/train/sushi.\n",
            "There are 0 directories and 75 images in 10_food_classes_10_percent/train/chicken_wings.\n",
            "There are 0 directories and 75 images in 10_food_classes_10_percent/train/ramen.\n",
            "There are 0 directories and 75 images in 10_food_classes_10_percent/train/steak.\n",
            "There are 0 directories and 75 images in 10_food_classes_10_percent/train/ice_cream.\n",
            "There are 0 directories and 75 images in 10_food_classes_10_percent/train/fried_rice.\n",
            "There are 0 directories and 75 images in 10_food_classes_10_percent/train/chicken_curry.\n",
            "There are 0 directories and 75 images in 10_food_classes_10_percent/train/hamburger.\n",
            "There are 0 directories and 75 images in 10_food_classes_10_percent/train/pizza.\n",
            "There are 0 directories and 75 images in 10_food_classes_10_percent/train/grilled_salmon.\n"
          ]
        }
      ],
      "source": [
        "import os\n",
        "\n",
        "for dirpath, dirnames, filenames in os.walk(\"10_food_classes_10_percent\"):\n",
        "  print(f\"There are {len(dirnames)} directories and {len(filenames)} images in {dirpath}.\")\n",
        "\n"
      ]
    },
    {
      "cell_type": "markdown",
      "source": [
        "#Creating data loaders"
      ],
      "metadata": {
        "id": "TX4UHuHVLusI"
      }
    },
    {
      "cell_type": "code",
      "source": [
        "#Setup data inputs\n",
        "from tensorflow.keras.preprocessing.image import ImageDataGenerator\n",
        "\n",
        "IMAGE_SHAPE=(224,224)\n",
        "BATCH_SIZE=32\n",
        "\n",
        "train_dir=\"10_food_classes_10_percent/train\"\n",
        "test_dir=\"10_food_classes_10_percent/test\"\n",
        "\n",
        "train_datagen=ImageDataGenerator(rescale=1/255.)\n",
        "test_datagen=ImageDataGenerator(rescale=1/255.)\n",
        "\n",
        "print(\"Training images:\")\n",
        "train_data_10_percent=train_datagen.flow_from_directory(train_dir,\n",
        "                                                        target_size=IMAGE_SHAPE,\n",
        "                                                        batch_size=BATCH_SIZE,\n",
        "                                                        class_mode=\"categorical\")\n",
        "print(\"Testing images:\")\n",
        "test_data_10_percent=test_datagen.flow_from_directory(test_dir,\n",
        "                                                      target_size=IMAGE_SHAPE,\n",
        "                                                      batch_size=BATCH_SIZE,\n",
        "                                                      class_mode=\"categorical\")"
      ],
      "metadata": {
        "colab": {
          "base_uri": "https://localhost:8080/"
        },
        "id": "qXSIXVieLnGe",
        "outputId": "0678ae2e-a673-443f-b614-9354de11f61c"
      },
      "execution_count": 3,
      "outputs": [
        {
          "output_type": "stream",
          "name": "stdout",
          "text": [
            "Training images:\n",
            "Found 750 images belonging to 10 classes.\n",
            "Testing images:\n",
            "Found 2500 images belonging to 10 classes.\n"
          ]
        }
      ]
    },
    {
      "cell_type": "markdown",
      "source": [
        "#Setting up callbacks\n",
        "\n",
        "Callbacks are extra functionality you can add to your models to be performed during or after training. Some of the most popular callbacks include:\n",
        "\n",
        "**Experiment tracking with TensorBoard** - log the performance of multiple models and then view and compare these models in a visual way on TensorBoard (a dashboard for inspecting neural network parameters). Helpful to compare the results of different models on your data.\n",
        "\n",
        "**Model checkpointing **- save your model as it trains so you can stop training if needed and come back to continue off where you left. Helpful if training takes a long time and can't be done in one sitting.\n",
        "\n",
        "**Early stopping **- leave your model training for an arbitrary amount of time and have it stop training automatically when it ceases to improve. Helpful when you've got a large dataset and don't know how long training will take."
      ],
      "metadata": {
        "id": "m-ftU0KFN6Qk"
      }
    },
    {
      "cell_type": "code",
      "source": [
        "# Create tensorboard callback\n",
        "\n",
        "import datetime\n",
        "\n",
        "def create_tensorboard_callback(dir_name, experiment_name):\n",
        "  log_dir=dir_name+\"/\"+experiment_name+\"/\"+datetime.datetime.now().strftime(\"%Y%m%d-%H%M%S\")\n",
        "  tensorboard_callback=tf.keras.callbacks.TensorBoard(log_dir=log_dir)\n",
        "  print(f\"Saving TensorBoard log files to:{log_dir}\")\n",
        "  return tensorboard_callback"
      ],
      "metadata": {
        "id": "lILL4SWENzEN"
      },
      "execution_count": 4,
      "outputs": []
    },
    {
      "cell_type": "markdown",
      "source": [
        "# Creating models using TensorFlow Hub\n",
        "we're going to use two models from TensorFlow Hub:\n",
        "\n",
        "ResNetV2 - a state of the art computer vision model architecture from 2016.\n",
        "\n",
        "EfficientNet - a state of the art computer vision architecture from 2019."
      ],
      "metadata": {
        "id": "4aoX9EloQU1O"
      }
    },
    {
      "cell_type": "code",
      "source": [
        "import tensorflow as tf\n",
        "import tensorflow_hub as hub\n",
        "from tensorflow.keras import layers"
      ],
      "metadata": {
        "id": "HrOEde29QbhP"
      },
      "execution_count": 5,
      "outputs": []
    },
    {
      "cell_type": "code",
      "source": [
        "# Resnet 50 V2 feature vector\n",
        "resnet_url = \"https://tfhub.dev/google/imagenet/resnet_v2_50/feature_vector/4\"\n",
        "\n",
        "# Original: EfficientNetB0 feature vector (version 1)\n",
        "efficientnet_url = \"https://tfhub.dev/tensorflow/efficientnet/b0/feature-vector/1\"\n",
        "\n",
        "# # New: EfficientNetB0 feature vector (version 2)\n",
        "# efficientnet_url = \"https://tfhub.dev/google/imagenet/efficientnet_v2_imagenet1k_b0/feature_vector/2\"\n",
        ""
      ],
      "metadata": {
        "id": "qZjGt40GQ8AO"
      },
      "execution_count": 6,
      "outputs": []
    },
    {
      "cell_type": "code",
      "source": [
        "def create_model(model_url,num_classes=10):\n",
        "  \"\"\"Takes a TensorFlow Hub URL and creates a Keras Sequential model with it.\n",
        "\n",
        "  Args:\n",
        "    model_url (str): A TensorFlow Hub feature extraction URL.\n",
        "    num_classes (int): Number of output neurons in output layer,\n",
        "      should be equal to number of target classes, default 10.\n",
        "\n",
        "  Returns:\n",
        "    An uncompiled Keras Sequential model with model_url as feature\n",
        "    extractor layer and Dense output layer with num_classes outputs.\n",
        "  \"\"\"\n",
        "  # Download the pretrained model and save it as a Keras layer\n",
        "  feature_extractor_layer=hub.KerasLayer(model_url,\n",
        "                                         trainable=False, # freeze the underlying patterns\n",
        "                                         name=\"feature_extractor_layer\",\n",
        "                                         input_shape=IMAGE_SHAPE+(3,))\n",
        "  #Create the model\n",
        "  model=tf.keras.Sequential([\n",
        "      feature_extractor_layer,\n",
        "      layers.Dense(num_classes,activation='softmax',name='output_layer')\n",
        "  ])\n",
        "\n",
        "  return model\n"
      ],
      "metadata": {
        "id": "ozI5-y1w6Wki"
      },
      "execution_count": 7,
      "outputs": []
    },
    {
      "cell_type": "code",
      "source": [
        "#Create the resnet model\n",
        "resnet_model=create_model(resnet_url,num_classes=train_data_10_percent.num_classes)\n",
        "\n",
        "#Compile\n",
        "\n",
        "resnet_model.compile(loss='categorical_crossentropy',\n",
        "                     optimizer=tf.keras.optimizers.Adam(),\n",
        "                     metrics=['accuracy'])"
      ],
      "metadata": {
        "id": "lWhPNUKCH9XN"
      },
      "execution_count": 8,
      "outputs": []
    },
    {
      "cell_type": "code",
      "source": [
        "#Fit the model\n",
        "resnet_history=resnet_model.fit(train_data_10_percent,\n",
        "                                epochs=5,\n",
        "                                steps_per_epoch=len(train_data_10_percent),\n",
        "                                validation_data=test_data_10_percent,\n",
        "                                validation_steps=len(test_data_10_percent),\n",
        "                                callbacks=[create_tensorboard_callback(dir_name=\"tensorflow_hub\",\n",
        "                                                                       experiment_name=\"restnet50V2\")])"
      ],
      "metadata": {
        "colab": {
          "base_uri": "https://localhost:8080/"
        },
        "id": "6ktzxcdBbS_7",
        "outputId": "e47e70f3-a1d8-42ec-ed0e-985078c355b0"
      },
      "execution_count": 9,
      "outputs": [
        {
          "output_type": "stream",
          "name": "stdout",
          "text": [
            "Saving TensorBoard log files to:tensorflow_hub/restnet50V2/20240417-142824\n",
            "Epoch 1/5\n",
            "24/24 [==============================] - 23s 598ms/step - loss: 1.9281 - accuracy: 0.3680 - val_loss: 1.2080 - val_accuracy: 0.6060\n",
            "Epoch 2/5\n",
            "24/24 [==============================] - 11s 449ms/step - loss: 0.8880 - accuracy: 0.7293 - val_loss: 0.8615 - val_accuracy: 0.7200\n",
            "Epoch 3/5\n",
            "24/24 [==============================] - 13s 546ms/step - loss: 0.6260 - accuracy: 0.8307 - val_loss: 0.7602 - val_accuracy: 0.7560\n",
            "Epoch 4/5\n",
            "24/24 [==============================] - 11s 459ms/step - loss: 0.4780 - accuracy: 0.8747 - val_loss: 0.7051 - val_accuracy: 0.7664\n",
            "Epoch 5/5\n",
            "24/24 [==============================] - 13s 548ms/step - loss: 0.3832 - accuracy: 0.9080 - val_loss: 0.6735 - val_accuracy: 0.7788\n"
          ]
        }
      ]
    },
    {
      "cell_type": "code",
      "source": [
        "resnet_history.history"
      ],
      "metadata": {
        "colab": {
          "base_uri": "https://localhost:8080/"
        },
        "id": "bAPjQJwad4GK",
        "outputId": "315b857d-04e8-4e3e-bbd1-310d0aa14d30"
      },
      "execution_count": 10,
      "outputs": [
        {
          "output_type": "execute_result",
          "data": {
            "text/plain": [
              "{'loss': [1.9281460046768188,\n",
              "  0.888028085231781,\n",
              "  0.6260147094726562,\n",
              "  0.47799351811408997,\n",
              "  0.38321810960769653],\n",
              " 'accuracy': [0.36800000071525574,\n",
              "  0.7293333411216736,\n",
              "  0.8306666612625122,\n",
              "  0.874666690826416,\n",
              "  0.9079999923706055],\n",
              " 'val_loss': [1.2080341577529907,\n",
              "  0.8615144491195679,\n",
              "  0.7602208256721497,\n",
              "  0.7051241993904114,\n",
              "  0.6734884977340698],\n",
              " 'val_accuracy': [0.6060000061988831,\n",
              "  0.7200000286102295,\n",
              "  0.7559999823570251,\n",
              "  0.7663999795913696,\n",
              "  0.7788000106811523]}"
            ]
          },
          "metadata": {},
          "execution_count": 10
        }
      ]
    },
    {
      "cell_type": "code",
      "source": [
        "#Plot the loss curves\n",
        "import matplotlib.pyplot as plt\n",
        "\n",
        "\n",
        "def plot_loss_curves(history):\n",
        "  \"\"\"\n",
        "  Returns separate loss curves for training and validation metrics.\n",
        "  \"\"\"\n",
        "  loss=history.history[\"loss\"]\n",
        "  val_loss=history.history['val_loss']\n",
        "\n",
        "  accuracy=history.history[\"accuracy\"]\n",
        "  val_accuracy=history.history['val_accuracy']\n",
        "\n",
        "  epochs=range(len(history.history['loss']))\n",
        "\n",
        "  #Plot loss\n",
        "\n",
        "  plt.plot(epochs,loss,label='training_loss')\n",
        "  plt.plot(epochs,val_loss,label=\"val_loss\")\n",
        "  plt.title('Loss')\n",
        "  plt.xlabel(\"Epochs\")\n",
        "  plt.legend()\n",
        "\n",
        "  #Plot accuracy\n",
        "  plt.figure()\n",
        "  plt.plot(epochs, accuracy, label='training_accuracy')\n",
        "  plt.plot(epochs, val_accuracy, label='val_accuracy')\n",
        "  plt.title('Accuracy')\n",
        "  plt.xlabel('Epochs')\n",
        "  plt.legend();\n",
        "\n",
        "\n"
      ],
      "metadata": {
        "id": "IqENjp01dj45"
      },
      "execution_count": 11,
      "outputs": []
    },
    {
      "cell_type": "code",
      "source": [
        "plot_loss_curves(resnet_history)"
      ],
      "metadata": {
        "colab": {
          "base_uri": "https://localhost:8080/",
          "height": 927
        },
        "id": "BTt-T6i6fn_y",
        "outputId": "3fbc7ef2-1575-4d82-ccc8-29c0f670159c"
      },
      "execution_count": 12,
      "outputs": [
        {
          "output_type": "display_data",
          "data": {
            "text/plain": [
              "<Figure size 640x480 with 1 Axes>"
            ],
            "image/png": "[encoded data removed]"
          },
          "metadata": {}
        },
        {
          "output_type": "display_data",
          "data": {
            "text/plain": [
              "<Figure size 640x480 with 1 Axes>"
            ],
            "image/png": "[encoded data removed]"
          },
          "metadata": {}
        }
      ]
    }
  ],
  "metadata": {
    "colab": {
      "provenance": [],
      "toc_visible": true,
      "gpuType": "T4",
      "authorship_tag": "ABX9TyMmo+coF0TGM3I5mwrKiXvx",
      "include_colab_link": true
    },
    "kernelspec": {
      "display_name": "Python 3",
      "name": "python3"
    },
    "language_info": {
      "name": "python"
    },
    "accelerator": "GPU"
  },
  "nbformat": 4,
  "nbformat_minor": 0
}