{
  "cells": [
    {
      "cell_type": "markdown",
      "metadata": {
        "id": "view-in-github",
        "colab_type": "text"
      },
      "source": [
        "<a href=\"https://colab.research.google.com/github/alexandrufalk/tensorflow/blob/Master/04_transfer_learning_in_tensorflow_feature_extraction.ipynb\" target=\"_parent\"><img src=\"https://colab.research.google.com/assets/colab-badge.svg\" alt=\"Open In Colab\"/></a>"
      ]
    },
    {
      "cell_type": "markdown",
      "metadata": {
        "id": "fBa2eMlqI4lj"
      },
      "source": [
        "** Transfer learning**, in other words, taking the patterns (also called weights) another model has learned from another problem and using them for our own problem.\n",
        "\n",
        "There are two main benefits to using transfer learning:\n",
        "\n",
        "Can leverage an existing neural network architecture proven to work on problems similar to our own.\n",
        "\n",
        "Can leverage a working neural network architecture which has already learned patterns on similar data to our own. This often results in achieving great results with less custom data."
      ]
    },
    {
      "cell_type": "markdown",
      "metadata": {
        "id": "U5AOQTmJJGBJ"
      },
      "source": [
        "#Downloading and becoming one with the data"
      ]
    },
    {
      "cell_type": "code",
      "execution_count": 1,
      "metadata": {
        "colab": {
          "base_uri": "https://localhost:8080/"
        },
        "id": "T2ZkqvrCQw_s",
        "outputId": "d54abd9e-4275-4495-8bc8-3c80ed302586"
      },
      "outputs": [
        {
          "output_type": "stream",
          "name": "stdout",
          "text": [
            "--2024-04-17 08:28:16--  https://storage.googleapis.com/ztm_tf_course/food_vision/10_food_classes_10_percent.zip\n",
            "Resolving storage.googleapis.com (storage.googleapis.com)... 74.125.26.207, 172.217.193.207, 142.250.98.207, ...\n",
            "Connecting to storage.googleapis.com (storage.googleapis.com)|74.125.26.207|:443... connected.\n",
            "HTTP request sent, awaiting response... 200 OK\n",
            "Length: 168546183 (161M) [application/zip]\n",
            "Saving to: ‘10_food_classes_10_percent.zip’\n",
            "\n",
            "10_food_classes_10_ 100%[===================>] 160.74M   130MB/s    in 1.2s    \n",
            "\n",
            "2024-04-17 08:28:18 (130 MB/s) - ‘10_food_classes_10_percent.zip’ saved [168546183/168546183]\n",
            "\n"
          ]
        }
      ],
      "source": [
        "# Get data (10% of labels)\n",
        "import zipfile\n",
        "\n",
        "# Download data\n",
        "!wget https://storage.googleapis.com/ztm_tf_course/food_vision/10_food_classes_10_percent.zip\n",
        "\n",
        "# Unzip the downloaded file\n",
        "zip_ref = zipfile.ZipFile(\"10_food_classes_10_percent.zip\", \"r\")\n",
        "zip_ref.extractall()\n",
        "zip_ref.close()"
      ]
    },
    {
      "cell_type": "code",
      "execution_count": 3,
      "metadata": {
        "id": "iC1jJzISJJSY",
        "colab": {
          "base_uri": "https://localhost:8080/"
        },
        "outputId": "74b5db0b-5be2-4c0b-ff60-e2ad68937ce8"
      },
      "outputs": [
        {
          "output_type": "stream",
          "name": "stdout",
          "text": [
            "There are 2 directories and 0 images in 10_food_classes_10_percent.\n",
            "There are 10 directories and 0 images in 10_food_classes_10_percent/train.\n",
            "There are 0 directories and 75 images in 10_food_classes_10_percent/train/sushi.\n",
            "There are 0 directories and 75 images in 10_food_classes_10_percent/train/hamburger.\n",
            "There are 0 directories and 75 images in 10_food_classes_10_percent/train/fried_rice.\n",
            "There are 0 directories and 75 images in 10_food_classes_10_percent/train/pizza.\n",
            "There are 0 directories and 75 images in 10_food_classes_10_percent/train/chicken_curry.\n",
            "There are 0 directories and 75 images in 10_food_classes_10_percent/train/ramen.\n",
            "There are 0 directories and 75 images in 10_food_classes_10_percent/train/chicken_wings.\n",
            "There are 0 directories and 75 images in 10_food_classes_10_percent/train/ice_cream.\n",
            "There are 0 directories and 75 images in 10_food_classes_10_percent/train/grilled_salmon.\n",
            "There are 0 directories and 75 images in 10_food_classes_10_percent/train/steak.\n",
            "There are 10 directories and 0 images in 10_food_classes_10_percent/test.\n",
            "There are 0 directories and 250 images in 10_food_classes_10_percent/test/sushi.\n",
            "There are 0 directories and 250 images in 10_food_classes_10_percent/test/hamburger.\n",
            "There are 0 directories and 250 images in 10_food_classes_10_percent/test/fried_rice.\n",
            "There are 0 directories and 250 images in 10_food_classes_10_percent/test/pizza.\n",
            "There are 0 directories and 250 images in 10_food_classes_10_percent/test/chicken_curry.\n",
            "There are 0 directories and 250 images in 10_food_classes_10_percent/test/ramen.\n",
            "There are 0 directories and 250 images in 10_food_classes_10_percent/test/chicken_wings.\n",
            "There are 0 directories and 250 images in 10_food_classes_10_percent/test/ice_cream.\n",
            "There are 0 directories and 250 images in 10_food_classes_10_percent/test/grilled_salmon.\n",
            "There are 0 directories and 250 images in 10_food_classes_10_percent/test/steak.\n"
          ]
        }
      ],
      "source": [
        "import os\n",
        "\n",
        "for dirpath, dirnames, filenames in os.walk(\"10_food_classes_10_percent\"):\n",
        "  print(f\"There are {len(dirnames)} directories and {len(filenames)} images in {dirpath}.\")\n",
        "\n"
      ]
    },
    {
      "cell_type": "markdown",
      "source": [
        "#Creating data loaders"
      ],
      "metadata": {
        "id": "TX4UHuHVLusI"
      }
    },
    {
      "cell_type": "code",
      "source": [
        "#Setup data inputs\n",
        "from tensorflow.keras.preprocessing.image import ImageDataGenerator\n",
        "\n",
        "IMAGE_SHAPE=(224,224)\n",
        "BATCH_SIZE=32\n",
        "\n",
        "train_dir=\"10_food_classes_10_percent/train\"\n",
        "test_dir=\"10_food_classes_10_percent/test\"\n",
        "\n",
        "train_datagen=ImageDataGenerator(rescale=1/255.)\n",
        "test_datagen=ImageDataGenerator(rescale=1/255.)\n",
        "\n",
        "print(\"Training images:\")\n",
        "train_data_10_percent=train_datagen.flow_from_directory(train_dir,\n",
        "                                                        target_size=IMAGE_SHAPE,\n",
        "                                                        batch_size=BATCH_SIZE,\n",
        "                                                        class_mode=\"categorical\")\n",
        "print(\"Testing images:\")\n",
        "test_data_10_percent=test_datagen.flow_from_directory(test_dir,\n",
        "                                                      target_size=IMAGE_SHAPE,\n",
        "                                                      batch_size=BATCH_SIZE,\n",
        "                                                      class_mode=\"categorical\")"
      ],
      "metadata": {
        "colab": {
          "base_uri": "https://localhost:8080/"
        },
        "id": "qXSIXVieLnGe",
        "outputId": "40d9ab76-b0d7-4eee-bd77-c51b1ea3e3fb"
      },
      "execution_count": 8,
      "outputs": [
        {
          "output_type": "stream",
          "name": "stdout",
          "text": [
            "Training images:\n",
            "Found 750 images belonging to 10 classes.\n",
            "Testing images:\n",
            "Found 2500 images belonging to 10 classes.\n"
          ]
        }
      ]
    },
    {
      "cell_type": "markdown",
      "source": [
        "#Setting up callbacks\n",
        "\n",
        "Callbacks are extra functionality you can add to your models to be performed during or after training. Some of the most popular callbacks include:\n",
        "\n",
        "**Experiment tracking with TensorBoard** - log the performance of multiple models and then view and compare these models in a visual way on TensorBoard (a dashboard for inspecting neural network parameters). Helpful to compare the results of different models on your data.\n",
        "\n",
        "**Model checkpointing **- save your model as it trains so you can stop training if needed and come back to continue off where you left. Helpful if training takes a long time and can't be done in one sitting.\n",
        "\n",
        "**Early stopping **- leave your model training for an arbitrary amount of time and have it stop training automatically when it ceases to improve. Helpful when you've got a large dataset and don't know how long training will take."
      ],
      "metadata": {
        "id": "m-ftU0KFN6Qk"
      }
    },
    {
      "cell_type": "code",
      "source": [
        "# Create tensorboard callback\n",
        "\n",
        "import datetime\n",
        "\n",
        "def create_tensorboard_callback(dir_name, experiment_name):\n",
        "  log_dir=dir_name+\"/\"+experiment_name+\"/\"+datetime.datetime.now().strftime(\"%Y%m%d-%H%M%S\")\n",
        "  tensorboard_callback=tf.keras.callback.TensorBoard(log_dir=log_dir)\n",
        "  print(f\"Saving TensorBoard log files to:{log_dir}\")\n",
        "  return tensorboard_callback"
      ],
      "metadata": {
        "id": "lILL4SWENzEN"
      },
      "execution_count": 12,
      "outputs": []
    },
    {
      "cell_type": "markdown",
      "source": [
        "# Creating models using TensorFlow Hub\n",
        "we're going to use two models from TensorFlow Hub:\n",
        "\n",
        "ResNetV2 - a state of the art computer vision model architecture from 2016.\n",
        "\n",
        "EfficientNet - a state of the art computer vision architecture from 2019."
      ],
      "metadata": {
        "id": "4aoX9EloQU1O"
      }
    },
    {
      "cell_type": "code",
      "source": [
        "import tensorflow as tf\n",
        "import tensorflow_hub as hub\n",
        "from tensorflow.keras import layers"
      ],
      "metadata": {
        "id": "HrOEde29QbhP"
      },
      "execution_count": 13,
      "outputs": []
    },
    {
      "cell_type": "code",
      "source": [],
      "metadata": {
        "id": "qZjGt40GQ8AO"
      },
      "execution_count": null,
      "outputs": []
    }
  ],
  "metadata": {
    "colab": {
      "provenance": [],
      "toc_visible": true,
      "authorship_tag": "ABX9TyMqKMaVTNBHoxh7QS78iBGs",
      "include_colab_link": true
    },
    "kernelspec": {
      "display_name": "Python 3",
      "name": "python3"
    },
    "language_info": {
      "name": "python"
    }
  },
  "nbformat": 4,
  "nbformat_minor": 0
}