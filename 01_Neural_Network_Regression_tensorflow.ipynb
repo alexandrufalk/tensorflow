{
  "nbformat": 4,
  "nbformat_minor": 0,
  "metadata": {
    "colab": {
      "provenance": [],
      "authorship_tag": "ABX9TyPh4rZdkLIPNjvO1Lh2QdLx",
      "include_colab_link": true
    },
    "kernelspec": {
      "name": "python3",
      "display_name": "Python 3"
    },
    "language_info": {
      "name": "python"
    }
  },
  "cells": [
    {
      "cell_type": "markdown",
      "metadata": {
        "id": "view-in-github",
        "colab_type": "text"
      },
      "source": [
        "<a href=\"https://colab.research.google.com/github/alexandrufalk/tensorflow/blob/Master/01_Neural_Network_Regression_tensorflow.ipynb\" target=\"_parent\"><img src=\"https://colab.research.google.com/assets/colab-badge.svg\" alt=\"Open In Colab\"/></a>"
      ]
    },
    {
      "cell_type": "markdown",
      "source": [
        "# Neural Network Regression with TensorFlow\n",
        "\n",
        "To simplfy regresion-> predincting a number\n",
        "efinitions for a regression problem (https://en.wikipedia.org/wiki/Regression_analysis)"
      ],
      "metadata": {
        "id": "SfE7a-V9vhM0"
      }
    },
    {
      "cell_type": "markdown",
      "source": [
        "# Typical architecture of a regresison neural network\n",
        "\n",
        " -the following is a generic setup for ingesting a collection of numbers, finding patterns in them and then outputting some kind of target number.\n",
        "\n",
        "**Hyperparameter -\tTypical value**\n",
        "\n",
        "Input layer shape -\tSame shape as number of features (e.g. 3 for # bedrooms, # bathrooms, # car spaces in housing price prediction)\n",
        "\n",
        "Hidden layer(s) -\tProblem specific, minimum = 1, maximum = unlimited\n",
        "\n",
        "Neurons per hidden layer -\tProblem specific, generally 10 to 100\n",
        "\n",
        "Output layer shape -\tSame shape as desired prediction shape (e.g. 1 for house price)\n",
        "\n",
        "Hidden activation -\tUsually ReLU (rectified linear unit)\n",
        "\n",
        "Output activation -\tNone, ReLU, logistic/tanh\n",
        "\n",
        "Loss function -\tMSE (mean square error) or MAE (mean absolute error)/Huber (combination of MAE/MSE) if outliers\n",
        "\n",
        "Optimizer -\tSGD (stochastic gradient descent), Adam\n",
        "\n",
        "Table 1: Typical architecture of a regression network. Source: Adapted from page 293 of Hands-On Machine Learning with Scikit-Learn, Keras & TensorFlow Book by Aurélien Géron\n"
      ],
      "metadata": {
        "id": "2EfFwysoDncK"
      }
    },
    {
      "cell_type": "markdown",
      "source": [
        "🔑 Note: A hyperparameter in machine learning is something a data analyst or developer can set themselves, where as a parameter usually describes something a model learns on its own (a value not explicitly set by an analyst)."
      ],
      "metadata": {
        "id": "IMHJf2-KFIF0"
      }
    },
    {
      "cell_type": "code",
      "execution_count": null,
      "metadata": {
        "colab": {
          "base_uri": "https://localhost:8080/"
        },
        "id": "6B2MM90VuvU3",
        "outputId": "18f44efd-94fd-4d50-e507-a98f114092dd"
      },
      "outputs": [
        {
          "output_type": "stream",
          "name": "stdout",
          "text": [
            "2.15.0\n"
          ]
        }
      ],
      "source": [
        "import tensorflow as tf\n",
        "print(tf.__version__)"
      ]
    },
    {
      "cell_type": "markdown",
      "source": [
        "# Creating data to view and fit"
      ],
      "metadata": {
        "id": "GHtUkaEOGJvb"
      }
    },
    {
      "cell_type": "code",
      "source": [
        "import numpy as np\n",
        "import matplotlib.pyplot as plt\n",
        "\n",
        "# Create features\n",
        "X = np.array([-7.0, -4.0, -1.0, 2.0, 5.0, 8.0, 11.0, 14.0])\n",
        "\n",
        "# Create labels\n",
        "y = np.array([3.0, 6.0, 9.0, 12.0, 15.0, 18.0, 21.0, 24.0])\n",
        "\n",
        "# Visualize it\n",
        "plt.scatter(X, y);"
      ],
      "metadata": {
        "colab": {
          "base_uri": "https://localhost:8080/",
          "height": 435
        },
        "id": "lthrBIc1GE6T",
        "outputId": "8b706dae-72db-45f9-ee69-6805505ac861"
      },
      "execution_count": null,
      "outputs": [
        {
          "output_type": "display_data",
          "data": {
            "text/plain": [
              "<Figure size 640x480 with 1 Axes>"
            ],
            "image/png": "[encoded data removed]"
          },
          "metadata": {}
        }
      ]
    },
    {
      "cell_type": "code",
      "source": [
        "y==X+10"
      ],
      "metadata": {
        "colab": {
          "base_uri": "https://localhost:8080/"
        },
        "id": "0B82hkZ3Gvq4",
        "outputId": "70dfed59-91df-4b0d-833b-584ea8b45ecd"
      },
      "execution_count": null,
      "outputs": [
        {
          "output_type": "execute_result",
          "data": {
            "text/plain": [
              "array([ True,  True,  True,  True,  True,  True,  True,  True])"
            ]
          },
          "metadata": {},
          "execution_count": 3
        }
      ]
    },
    {
      "cell_type": "code",
      "source": [
        "# Take a single example of X\n",
        "input_shape = X[0].shape\n",
        "\n",
        "# Take a single example of y\n",
        "output_shape = y[0].shape\n",
        "\n",
        "input_shape, output_shape # these are both scalars (no shape)"
      ],
      "metadata": {
        "colab": {
          "base_uri": "https://localhost:8080/"
        },
        "id": "i8nKd0JbHX90",
        "outputId": "4772c5f4-8497-4c61-ea1c-0537c223fe16"
      },
      "execution_count": null,
      "outputs": [
        {
          "output_type": "execute_result",
          "data": {
            "text/plain": [
              "((), ())"
            ]
          },
          "metadata": {},
          "execution_count": 4
        }
      ]
    },
    {
      "cell_type": "code",
      "source": [
        "\n",
        "#  look at the single examples invidually\n",
        "X[0], y[0]"
      ],
      "metadata": {
        "colab": {
          "base_uri": "https://localhost:8080/"
        },
        "id": "vXc_FNhfIqKR",
        "outputId": "36a99f42-a951-4a2b-c8b2-c63c572ea118"
      },
      "execution_count": null,
      "outputs": [
        {
          "output_type": "execute_result",
          "data": {
            "text/plain": [
              "(-7.0, 3.0)"
            ]
          },
          "metadata": {},
          "execution_count": 5
        }
      ]
    },
    {
      "cell_type": "code",
      "source": [
        "# Turn numpy arrays into tensors\n",
        "X=tf.constant(X)\n",
        "y=tf.constant(y)\n",
        "X,y"
      ],
      "metadata": {
        "colab": {
          "base_uri": "https://localhost:8080/"
        },
        "id": "vg2mNVOCIsf5",
        "outputId": "085f59ef-dac0-40f9-aa97-623b5e32de4c"
      },
      "execution_count": null,
      "outputs": [
        {
          "output_type": "execute_result",
          "data": {
            "text/plain": [
              "(<tf.Tensor: shape=(8,), dtype=float64, numpy=array([-7., -4., -1.,  2.,  5.,  8., 11., 14.])>,\n",
              " <tf.Tensor: shape=(8,), dtype=float64, numpy=array([ 3.,  6.,  9., 12., 15., 18., 21., 24.])>)"
            ]
          },
          "metadata": {},
          "execution_count": 6
        }
      ]
    },
    {
      "cell_type": "code",
      "source": [
        "input_shape=X[0].shape\n",
        "output_shape=y[0].shape\n",
        "input_shape, output_shape"
      ],
      "metadata": {
        "colab": {
          "base_uri": "https://localhost:8080/"
        },
        "id": "c3IGx-th4Dso",
        "outputId": "cbfb465c-c351-449c-bdcc-675905d3fa59"
      },
      "execution_count": null,
      "outputs": [
        {
          "output_type": "execute_result",
          "data": {
            "text/plain": [
              "(TensorShape([]), TensorShape([]))"
            ]
          },
          "metadata": {},
          "execution_count": 7
        }
      ]
    },
    {
      "cell_type": "markdown",
      "source": [
        "# Steps in modelling with TensorFlow\n",
        "\n",
        "In TensorFlow, there are typically 3 fundamental steps to creating and training a model.\n",
        "\n",
        "**1.Creating a model** - piece together the layers of a neural network yourself (using the Functional or Sequential API) or import a previously built model (known as transfer learning).\n",
        "\n",
        "**2/Compiling a model** - defining how a models performance should be measured (loss/metrics) as well as defining how it should improve (optimizer).\n",
        "\n",
        "**3.Fitting a model** - letting the model try to find patterns in the data (how does X get to y)."
      ],
      "metadata": {
        "id": "FAjnulKO5RKn"
      }
    },
    {
      "cell_type": "code",
      "source": [
        "#Set random seed\n",
        "tf.random.set_seed(42)\n",
        "\n",
        "# 1. Create a model using the Sequential API\n",
        "model=tf.keras.Sequential([\n",
        "    tf.keras.layers.Dense(1)\n",
        "])\n",
        "\n",
        "# 2. Compile the model\n",
        "model.compile(loss=tf.keras.losses.mae, #mae is short for mean absolute error. Computes the mean of absolute difference between labels and predictions.\n",
        "              optimizer=tf.keras.optimizers.SGD(), #sgd is short for stochastic gradient descendent)\n",
        "              metrics=[\"mae\"])\n",
        "\n",
        "# 3. Fit the model\n",
        "model.fit(tf.expand_dims(X, axis=-1), y, epochs=5)"
      ],
      "metadata": {
        "colab": {
          "base_uri": "https://localhost:8080/"
        },
        "id": "P09Npgtl4WYy",
        "outputId": "da751254-5287-4eaa-90e2-17396ed6cb47"
      },
      "execution_count": null,
      "outputs": [
        {
          "output_type": "stream",
          "name": "stdout",
          "text": [
            "Epoch 1/5\n",
            "1/1 [==============================] - 1s 1s/step - loss: 15.8214 - mae: 15.8214\n",
            "Epoch 2/5\n",
            "1/1 [==============================] - 0s 20ms/step - loss: 15.5402 - mae: 15.5402\n",
            "Epoch 3/5\n",
            "1/1 [==============================] - 0s 38ms/step - loss: 15.2589 - mae: 15.2589\n",
            "Epoch 4/5\n",
            "1/1 [==============================] - 0s 18ms/step - loss: 14.9777 - mae: 14.9777\n",
            "Epoch 5/5\n",
            "1/1 [==============================] - 0s 14ms/step - loss: 14.7826 - mae: 14.7826\n"
          ]
        },
        {
          "output_type": "execute_result",
          "data": {
            "text/plain": [
              "<keras.src.callbacks.History at 0x7d98dd5878b0>"
            ]
          },
          "metadata": {},
          "execution_count": 8
        }
      ]
    },
    {
      "cell_type": "code",
      "source": [
        "\n",
        "# Make a prediction with the model\n",
        "model.predict([17.0])"
      ],
      "metadata": {
        "colab": {
          "base_uri": "https://localhost:8080/"
        },
        "id": "uNqriFiC6GPY",
        "outputId": "b4213309-0dd0-476f-f2ef-526c04c6dbbf"
      },
      "execution_count": null,
      "outputs": [
        {
          "output_type": "stream",
          "name": "stdout",
          "text": [
            "1/1 [==============================] - 0s 210ms/step\n"
          ]
        },
        {
          "output_type": "execute_result",
          "data": {
            "text/plain": [
              "array([[-5.7405353]], dtype=float32)"
            ]
          },
          "metadata": {},
          "execution_count": 9
        }
      ]
    },
    {
      "cell_type": "markdown",
      "source": [
        "# Improving a model\n",
        "\n",
        "To improve our model, we alter almost every part of the 3 steps we went through before.\n",
        "\n",
        "**Creating a model** - here you might want to add more layers, increase the number of hidden units (also called neurons) within each layer, change the activation functions of each layer.\n",
        "**Compiling a model** - you might want to choose optimization function or perhaps change the learning rate of the optimization function.\n",
        "**Fitting a model** - perhaps you could fit a model for more epochs (leave it training for longer) or on more data (give the model more examples to learn from)."
      ],
      "metadata": {
        "id": "boqESn0aRswh"
      }
    },
    {
      "cell_type": "code",
      "source": [
        "# Rebuild the model\n",
        "\n",
        "# 1. Create the model\n",
        "model=tf.keras.Sequential([\n",
        "    tf.keras.layers.Dense(1)\n",
        "])\n",
        "\n",
        "#2. Compile the model\n",
        "\n",
        "model.compile(loss=tf.keras.losses.mae,\n",
        "              optimizer=tf.keras.optimizers.SGD(),\n",
        "              metrics=[\"mae\"])\n",
        "\n",
        "#3. Fit the model -will be trained longer\n",
        "model.fit(tf.expand_dims(X,axis=1),y, epochs=100)"
      ],
      "metadata": {
        "colab": {
          "base_uri": "https://localhost:8080/"
        },
        "id": "vVdBkOmpRnET",
        "outputId": "b5942d9e-00a3-47ca-a672-85f7761fc9d8"
      },
      "execution_count": null,
      "outputs": [
        {
          "output_type": "stream",
          "name": "stdout",
          "text": [
            "Epoch 1/100\n",
            "1/1 [==============================] - 1s 705ms/step - loss: 19.6777 - mae: 19.6777\n",
            "Epoch 2/100\n",
            "1/1 [==============================] - 0s 25ms/step - loss: 19.3965 - mae: 19.3965\n",
            "Epoch 3/100\n",
            "1/1 [==============================] - 0s 24ms/step - loss: 19.1152 - mae: 19.1152\n",
            "Epoch 4/100\n",
            "1/1 [==============================] - 0s 25ms/step - loss: 18.8340 - mae: 18.8340\n",
            "Epoch 5/100\n",
            "1/1 [==============================] - 0s 37ms/step - loss: 18.5527 - mae: 18.5527\n",
            "Epoch 6/100\n",
            "1/1 [==============================] - 0s 24ms/step - loss: 18.2715 - mae: 18.2715\n",
            "Epoch 7/100\n",
            "1/1 [==============================] - 0s 18ms/step - loss: 17.9902 - mae: 17.9902\n",
            "Epoch 8/100\n",
            "1/1 [==============================] - 0s 19ms/step - loss: 17.7090 - mae: 17.7090\n",
            "Epoch 9/100\n",
            "1/1 [==============================] - 0s 19ms/step - loss: 17.4277 - mae: 17.4277\n",
            "Epoch 10/100\n",
            "1/1 [==============================] - 0s 36ms/step - loss: 17.1465 - mae: 17.1465\n",
            "Epoch 11/100\n",
            "1/1 [==============================] - 0s 35ms/step - loss: 16.8652 - mae: 16.8652\n",
            "Epoch 12/100\n",
            "1/1 [==============================] - 0s 35ms/step - loss: 16.5840 - mae: 16.5840\n",
            "Epoch 13/100\n",
            "1/1 [==============================] - 0s 20ms/step - loss: 16.3027 - mae: 16.3027\n",
            "Epoch 14/100\n",
            "1/1 [==============================] - 0s 16ms/step - loss: 16.0215 - mae: 16.0215\n",
            "Epoch 15/100\n",
            "1/1 [==============================] - 0s 15ms/step - loss: 15.7402 - mae: 15.7402\n",
            "Epoch 16/100\n",
            "1/1 [==============================] - 0s 15ms/step - loss: 15.4590 - mae: 15.4590\n",
            "Epoch 17/100\n",
            "1/1 [==============================] - 0s 16ms/step - loss: 15.1777 - mae: 15.1777\n",
            "Epoch 18/100\n",
            "1/1 [==============================] - 0s 16ms/step - loss: 14.8965 - mae: 14.8965\n",
            "Epoch 19/100\n",
            "1/1 [==============================] - 0s 28ms/step - loss: 14.6760 - mae: 14.6760\n",
            "Epoch 20/100\n",
            "1/1 [==============================] - 0s 16ms/step - loss: 14.5435 - mae: 14.5435\n",
            "Epoch 21/100\n",
            "1/1 [==============================] - 0s 14ms/step - loss: 14.4110 - mae: 14.4110\n",
            "Epoch 22/100\n",
            "1/1 [==============================] - 0s 13ms/step - loss: 14.2785 - mae: 14.2785\n",
            "Epoch 23/100\n",
            "1/1 [==============================] - 0s 14ms/step - loss: 14.1460 - mae: 14.1460\n",
            "Epoch 24/100\n",
            "1/1 [==============================] - 0s 16ms/step - loss: 14.0135 - mae: 14.0135\n",
            "Epoch 25/100\n",
            "1/1 [==============================] - 0s 18ms/step - loss: 13.8810 - mae: 13.8810\n",
            "Epoch 26/100\n",
            "1/1 [==============================] - 0s 16ms/step - loss: 13.7485 - mae: 13.7485\n",
            "Epoch 27/100\n",
            "1/1 [==============================] - 0s 15ms/step - loss: 13.6160 - mae: 13.6160\n",
            "Epoch 28/100\n",
            "1/1 [==============================] - 0s 15ms/step - loss: 13.4835 - mae: 13.4835\n",
            "Epoch 29/100\n",
            "1/1 [==============================] - 0s 15ms/step - loss: 13.3510 - mae: 13.3510\n",
            "Epoch 30/100\n",
            "1/1 [==============================] - 0s 15ms/step - loss: 13.2185 - mae: 13.2185\n",
            "Epoch 31/100\n",
            "1/1 [==============================] - 0s 14ms/step - loss: 13.0860 - mae: 13.0860\n",
            "Epoch 32/100\n",
            "1/1 [==============================] - 0s 16ms/step - loss: 12.9535 - mae: 12.9535\n",
            "Epoch 33/100\n",
            "1/1 [==============================] - 0s 13ms/step - loss: 12.8210 - mae: 12.8210\n",
            "Epoch 34/100\n",
            "1/1 [==============================] - 0s 18ms/step - loss: 12.6885 - mae: 12.6885\n",
            "Epoch 35/100\n",
            "1/1 [==============================] - 0s 20ms/step - loss: 12.5560 - mae: 12.5560\n",
            "Epoch 36/100\n",
            "1/1 [==============================] - 0s 15ms/step - loss: 12.4235 - mae: 12.4235\n",
            "Epoch 37/100\n",
            "1/1 [==============================] - 0s 20ms/step - loss: 12.2910 - mae: 12.2910\n",
            "Epoch 38/100\n",
            "1/1 [==============================] - 0s 16ms/step - loss: 12.1585 - mae: 12.1585\n",
            "Epoch 39/100\n",
            "1/1 [==============================] - 0s 17ms/step - loss: 12.0260 - mae: 12.0260\n",
            "Epoch 40/100\n",
            "1/1 [==============================] - 0s 19ms/step - loss: 11.8935 - mae: 11.8935\n",
            "Epoch 41/100\n",
            "1/1 [==============================] - 0s 16ms/step - loss: 11.7610 - mae: 11.7610\n",
            "Epoch 42/100\n",
            "1/1 [==============================] - 0s 16ms/step - loss: 11.6285 - mae: 11.6285\n",
            "Epoch 43/100\n",
            "1/1 [==============================] - 0s 15ms/step - loss: 11.4960 - mae: 11.4960\n",
            "Epoch 44/100\n",
            "1/1 [==============================] - 0s 20ms/step - loss: 11.3635 - mae: 11.3635\n",
            "Epoch 45/100\n",
            "1/1 [==============================] - 0s 25ms/step - loss: 11.2310 - mae: 11.2310\n",
            "Epoch 46/100\n",
            "1/1 [==============================] - 0s 21ms/step - loss: 11.0985 - mae: 11.0985\n",
            "Epoch 47/100\n",
            "1/1 [==============================] - 0s 12ms/step - loss: 10.9660 - mae: 10.9660\n",
            "Epoch 48/100\n",
            "1/1 [==============================] - 0s 12ms/step - loss: 10.8335 - mae: 10.8335\n",
            "Epoch 49/100\n",
            "1/1 [==============================] - 0s 30ms/step - loss: 10.7010 - mae: 10.7010\n",
            "Epoch 50/100\n",
            "1/1 [==============================] - 0s 22ms/step - loss: 10.5685 - mae: 10.5685\n",
            "Epoch 51/100\n",
            "1/1 [==============================] - 0s 31ms/step - loss: 10.4360 - mae: 10.4360\n",
            "Epoch 52/100\n",
            "1/1 [==============================] - 0s 22ms/step - loss: 10.3035 - mae: 10.3035\n",
            "Epoch 53/100\n",
            "1/1 [==============================] - 0s 28ms/step - loss: 10.1710 - mae: 10.1710\n",
            "Epoch 54/100\n",
            "1/1 [==============================] - 0s 28ms/step - loss: 10.0385 - mae: 10.0385\n",
            "Epoch 55/100\n",
            "1/1 [==============================] - 0s 22ms/step - loss: 9.9060 - mae: 9.9060\n",
            "Epoch 56/100\n",
            "1/1 [==============================] - 0s 26ms/step - loss: 9.7735 - mae: 9.7735\n",
            "Epoch 57/100\n",
            "1/1 [==============================] - 0s 46ms/step - loss: 9.6410 - mae: 9.6410\n",
            "Epoch 58/100\n",
            "1/1 [==============================] - 0s 30ms/step - loss: 9.5085 - mae: 9.5085\n",
            "Epoch 59/100\n",
            "1/1 [==============================] - 0s 21ms/step - loss: 9.3760 - mae: 9.3760\n",
            "Epoch 60/100\n",
            "1/1 [==============================] - 0s 19ms/step - loss: 9.2435 - mae: 9.2435\n",
            "Epoch 61/100\n",
            "1/1 [==============================] - 0s 27ms/step - loss: 9.1110 - mae: 9.1110\n",
            "Epoch 62/100\n",
            "1/1 [==============================] - 0s 21ms/step - loss: 8.9785 - mae: 8.9785\n",
            "Epoch 63/100\n",
            "1/1 [==============================] - 0s 22ms/step - loss: 8.8460 - mae: 8.8460\n",
            "Epoch 64/100\n",
            "1/1 [==============================] - 0s 20ms/step - loss: 8.7135 - mae: 8.7135\n",
            "Epoch 65/100\n",
            "1/1 [==============================] - 0s 17ms/step - loss: 8.5810 - mae: 8.5810\n",
            "Epoch 66/100\n",
            "1/1 [==============================] - 0s 20ms/step - loss: 8.4485 - mae: 8.4485\n",
            "Epoch 67/100\n",
            "1/1 [==============================] - 0s 17ms/step - loss: 8.3160 - mae: 8.3160\n",
            "Epoch 68/100\n",
            "1/1 [==============================] - 0s 28ms/step - loss: 8.1835 - mae: 8.1835\n",
            "Epoch 69/100\n",
            "1/1 [==============================] - 0s 20ms/step - loss: 8.0510 - mae: 8.0510\n",
            "Epoch 70/100\n",
            "1/1 [==============================] - 0s 20ms/step - loss: 7.9185 - mae: 7.9185\n",
            "Epoch 71/100\n",
            "1/1 [==============================] - 0s 32ms/step - loss: 7.7860 - mae: 7.7860\n",
            "Epoch 72/100\n",
            "1/1 [==============================] - 0s 23ms/step - loss: 7.6535 - mae: 7.6535\n",
            "Epoch 73/100\n",
            "1/1 [==============================] - 0s 28ms/step - loss: 7.5210 - mae: 7.5210\n",
            "Epoch 74/100\n",
            "1/1 [==============================] - 0s 23ms/step - loss: 7.3885 - mae: 7.3885\n",
            "Epoch 75/100\n",
            "1/1 [==============================] - 0s 19ms/step - loss: 7.2560 - mae: 7.2560\n",
            "Epoch 76/100\n",
            "1/1 [==============================] - 0s 25ms/step - loss: 7.1235 - mae: 7.1235\n",
            "Epoch 77/100\n",
            "1/1 [==============================] - 0s 24ms/step - loss: 6.9910 - mae: 6.9910\n",
            "Epoch 78/100\n",
            "1/1 [==============================] - 0s 29ms/step - loss: 6.9563 - mae: 6.9563\n",
            "Epoch 79/100\n",
            "1/1 [==============================] - 0s 23ms/step - loss: 6.9506 - mae: 6.9506\n",
            "Epoch 80/100\n",
            "1/1 [==============================] - 0s 22ms/step - loss: 6.9450 - mae: 6.9450\n",
            "Epoch 81/100\n",
            "1/1 [==============================] - 0s 27ms/step - loss: 6.9394 - mae: 6.9394\n",
            "Epoch 82/100\n",
            "1/1 [==============================] - 0s 28ms/step - loss: 6.9338 - mae: 6.9338\n",
            "Epoch 83/100\n",
            "1/1 [==============================] - 0s 15ms/step - loss: 6.9281 - mae: 6.9281\n",
            "Epoch 84/100\n",
            "1/1 [==============================] - 0s 20ms/step - loss: 6.9225 - mae: 6.9225\n",
            "Epoch 85/100\n",
            "1/1 [==============================] - 0s 17ms/step - loss: 6.9169 - mae: 6.9169\n",
            "Epoch 86/100\n",
            "1/1 [==============================] - 0s 18ms/step - loss: 6.9113 - mae: 6.9113\n",
            "Epoch 87/100\n",
            "1/1 [==============================] - 0s 15ms/step - loss: 6.9056 - mae: 6.9056\n",
            "Epoch 88/100\n",
            "1/1 [==============================] - 0s 15ms/step - loss: 6.9000 - mae: 6.9000\n",
            "Epoch 89/100\n",
            "1/1 [==============================] - 0s 15ms/step - loss: 6.8944 - mae: 6.8944\n",
            "Epoch 90/100\n",
            "1/1 [==============================] - 0s 19ms/step - loss: 6.8888 - mae: 6.8888\n",
            "Epoch 91/100\n",
            "1/1 [==============================] - 0s 16ms/step - loss: 6.8831 - mae: 6.8831\n",
            "Epoch 92/100\n",
            "1/1 [==============================] - 0s 18ms/step - loss: 6.8775 - mae: 6.8775\n",
            "Epoch 93/100\n",
            "1/1 [==============================] - 0s 16ms/step - loss: 6.8719 - mae: 6.8719\n",
            "Epoch 94/100\n",
            "1/1 [==============================] - 0s 30ms/step - loss: 6.8663 - mae: 6.8663\n",
            "Epoch 95/100\n",
            "1/1 [==============================] - 0s 19ms/step - loss: 6.8606 - mae: 6.8606\n",
            "Epoch 96/100\n",
            "1/1 [==============================] - 0s 13ms/step - loss: 6.8550 - mae: 6.8550\n",
            "Epoch 97/100\n",
            "1/1 [==============================] - 0s 24ms/step - loss: 6.8494 - mae: 6.8494\n",
            "Epoch 98/100\n",
            "1/1 [==============================] - 0s 21ms/step - loss: 6.8438 - mae: 6.8438\n",
            "Epoch 99/100\n",
            "1/1 [==============================] - 0s 22ms/step - loss: 6.8381 - mae: 6.8381\n",
            "Epoch 100/100\n",
            "1/1 [==============================] - 0s 24ms/step - loss: 6.8325 - mae: 6.8325\n"
          ]
        },
        {
          "output_type": "execute_result",
          "data": {
            "text/plain": [
              "<keras.src.callbacks.History at 0x7d98dcc450c0>"
            ]
          },
          "metadata": {},
          "execution_count": 10
        }
      ]
    },
    {
      "cell_type": "code",
      "source": [
        "# Make a prediction with the model\n",
        "\n",
        "model.predict([17.0])"
      ],
      "metadata": {
        "colab": {
          "base_uri": "https://localhost:8080/"
        },
        "id": "i9Un1OnUgKXC",
        "outputId": "cd5b8653-d16c-47fe-d4ad-8c7495b6670d"
      },
      "execution_count": null,
      "outputs": [
        {
          "output_type": "stream",
          "name": "stdout",
          "text": [
            "1/1 [==============================] - 0s 125ms/step\n"
          ]
        },
        {
          "output_type": "execute_result",
          "data": {
            "text/plain": [
              "array([[29.634918]], dtype=float32)"
            ]
          },
          "metadata": {},
          "execution_count": 11
        }
      ]
    },
    {
      "cell_type": "code",
      "source": [
        "# Rebuild the model\n",
        "\n",
        "# 1. Create the model\n",
        "model=tf.keras.Sequential([tf.keras.layers.Dense(100,activation='relu'),\n",
        "                           tf.keras.layers.Dense(1)])\n",
        "\n",
        "#2. Compile\n",
        "\n",
        "model.compile(loss=tf.keras.losses.mae,\n",
        "              optimizer=tf.keras.optimizers.SGD(),\n",
        "              metrics=['mae'])\n",
        "#3. Fit the model\n",
        "model.fit(tf.expand_dims(X, axis=-1), y, epochs=100)"
      ],
      "metadata": {
        "colab": {
          "base_uri": "https://localhost:8080/"
        },
        "id": "u8P890fBlfJk",
        "outputId": "f47b8af0-be55-489d-8dbc-9bb02657e7f5"
      },
      "execution_count": null,
      "outputs": [
        {
          "output_type": "stream",
          "name": "stdout",
          "text": [
            "Epoch 1/100\n",
            "1/1 [==============================] - 1s 1s/step - loss: 14.5893 - mae: 14.5893\n",
            "Epoch 2/100\n",
            "1/1 [==============================] - 0s 26ms/step - loss: 14.0562 - mae: 14.0562\n",
            "Epoch 3/100\n",
            "1/1 [==============================] - 0s 22ms/step - loss: 13.5346 - mae: 13.5346\n",
            "Epoch 4/100\n",
            "1/1 [==============================] - 0s 37ms/step - loss: 13.0182 - mae: 13.0182\n",
            "Epoch 5/100\n",
            "1/1 [==============================] - 0s 30ms/step - loss: 12.5056 - mae: 12.5056\n",
            "Epoch 6/100\n",
            "1/1 [==============================] - 0s 25ms/step - loss: 11.9965 - mae: 11.9965\n",
            "Epoch 7/100\n",
            "1/1 [==============================] - 0s 40ms/step - loss: 11.4842 - mae: 11.4842\n",
            "Epoch 8/100\n",
            "1/1 [==============================] - 0s 45ms/step - loss: 10.9581 - mae: 10.9581\n",
            "Epoch 9/100\n",
            "1/1 [==============================] - 0s 42ms/step - loss: 10.4184 - mae: 10.4184\n",
            "Epoch 10/100\n",
            "1/1 [==============================] - 0s 33ms/step - loss: 9.8681 - mae: 9.8681\n",
            "Epoch 11/100\n",
            "1/1 [==============================] - 0s 25ms/step - loss: 9.2960 - mae: 9.2960\n",
            "Epoch 12/100\n",
            "1/1 [==============================] - 0s 19ms/step - loss: 8.6876 - mae: 8.6876\n",
            "Epoch 13/100\n",
            "1/1 [==============================] - 0s 47ms/step - loss: 8.0407 - mae: 8.0407\n",
            "Epoch 14/100\n",
            "1/1 [==============================] - 0s 26ms/step - loss: 7.3470 - mae: 7.3470\n",
            "Epoch 15/100\n",
            "1/1 [==============================] - 0s 15ms/step - loss: 6.6035 - mae: 6.6035\n",
            "Epoch 16/100\n",
            "1/1 [==============================] - 0s 21ms/step - loss: 5.8015 - mae: 5.8015\n",
            "Epoch 17/100\n",
            "1/1 [==============================] - 0s 28ms/step - loss: 4.9346 - mae: 4.9346\n",
            "Epoch 18/100\n",
            "1/1 [==============================] - 0s 30ms/step - loss: 4.1214 - mae: 4.1214\n",
            "Epoch 19/100\n",
            "1/1 [==============================] - 0s 25ms/step - loss: 4.0328 - mae: 4.0328\n",
            "Epoch 20/100\n",
            "1/1 [==============================] - 0s 12ms/step - loss: 3.9384 - mae: 3.9384\n",
            "Epoch 21/100\n",
            "1/1 [==============================] - 0s 11ms/step - loss: 3.9082 - mae: 3.9082\n",
            "Epoch 22/100\n",
            "1/1 [==============================] - 0s 11ms/step - loss: 3.9134 - mae: 3.9134\n",
            "Epoch 23/100\n",
            "1/1 [==============================] - 0s 13ms/step - loss: 3.9145 - mae: 3.9145\n",
            "Epoch 24/100\n",
            "1/1 [==============================] - 0s 18ms/step - loss: 3.8883 - mae: 3.8883\n",
            "Epoch 25/100\n",
            "1/1 [==============================] - 0s 13ms/step - loss: 3.9210 - mae: 3.9210\n",
            "Epoch 26/100\n",
            "1/1 [==============================] - 0s 16ms/step - loss: 3.8663 - mae: 3.8663\n",
            "Epoch 27/100\n",
            "1/1 [==============================] - 0s 21ms/step - loss: 3.9362 - mae: 3.9362\n",
            "Epoch 28/100\n",
            "1/1 [==============================] - 0s 30ms/step - loss: 3.8706 - mae: 3.8706\n",
            "Epoch 29/100\n",
            "1/1 [==============================] - 0s 22ms/step - loss: 3.9167 - mae: 3.9167\n",
            "Epoch 30/100\n",
            "1/1 [==============================] - 0s 17ms/step - loss: 3.8771 - mae: 3.8771\n",
            "Epoch 31/100\n",
            "1/1 [==============================] - 0s 12ms/step - loss: 3.8914 - mae: 3.8914\n",
            "Epoch 32/100\n",
            "1/1 [==============================] - 0s 12ms/step - loss: 3.8836 - mae: 3.8836\n",
            "Epoch 33/100\n",
            "1/1 [==============================] - 0s 11ms/step - loss: 3.8660 - mae: 3.8660\n",
            "Epoch 34/100\n",
            "1/1 [==============================] - 0s 54ms/step - loss: 3.8919 - mae: 3.8919\n",
            "Epoch 35/100\n",
            "1/1 [==============================] - 0s 36ms/step - loss: 3.8484 - mae: 3.8484\n",
            "Epoch 36/100\n",
            "1/1 [==============================] - 0s 26ms/step - loss: 3.9056 - mae: 3.9056\n",
            "Epoch 37/100\n",
            "1/1 [==============================] - 0s 22ms/step - loss: 3.8405 - mae: 3.8405\n",
            "Epoch 38/100\n",
            "1/1 [==============================] - 0s 32ms/step - loss: 3.8937 - mae: 3.8937\n",
            "Epoch 39/100\n",
            "1/1 [==============================] - 0s 23ms/step - loss: 3.8471 - mae: 3.8471\n",
            "Epoch 40/100\n",
            "1/1 [==============================] - 0s 34ms/step - loss: 3.8682 - mae: 3.8682\n",
            "Epoch 41/100\n",
            "1/1 [==============================] - 0s 31ms/step - loss: 3.8539 - mae: 3.8539\n",
            "Epoch 42/100\n",
            "1/1 [==============================] - 0s 28ms/step - loss: 3.8429 - mae: 3.8429\n",
            "Epoch 43/100\n",
            "1/1 [==============================] - 0s 28ms/step - loss: 3.8693 - mae: 3.8693\n",
            "Epoch 44/100\n",
            "1/1 [==============================] - 0s 49ms/step - loss: 3.8247 - mae: 3.8247\n",
            "Epoch 45/100\n",
            "1/1 [==============================] - 0s 29ms/step - loss: 3.8762 - mae: 3.8762\n",
            "Epoch 46/100\n",
            "1/1 [==============================] - 0s 16ms/step - loss: 3.8115 - mae: 3.8115\n",
            "Epoch 47/100\n",
            "1/1 [==============================] - 0s 18ms/step - loss: 3.8695 - mae: 3.8695\n",
            "Epoch 48/100\n",
            "1/1 [==============================] - 0s 18ms/step - loss: 3.8183 - mae: 3.8183\n",
            "Epoch 49/100\n",
            "1/1 [==============================] - 0s 17ms/step - loss: 3.8438 - mae: 3.8438\n",
            "Epoch 50/100\n",
            "1/1 [==============================] - 0s 23ms/step - loss: 3.8253 - mae: 3.8253\n",
            "Epoch 51/100\n",
            "1/1 [==============================] - 0s 20ms/step - loss: 3.8244 - mae: 3.8244\n",
            "Epoch 52/100\n",
            "1/1 [==============================] - 0s 19ms/step - loss: 3.8409 - mae: 3.8409\n",
            "Epoch 53/100\n",
            "1/1 [==============================] - 0s 19ms/step - loss: 3.7997 - mae: 3.7997\n",
            "Epoch 54/100\n",
            "1/1 [==============================] - 0s 32ms/step - loss: 3.8481 - mae: 3.8481\n",
            "Epoch 55/100\n",
            "1/1 [==============================] - 0s 22ms/step - loss: 3.7837 - mae: 3.7837\n",
            "Epoch 56/100\n",
            "1/1 [==============================] - 0s 34ms/step - loss: 3.8441 - mae: 3.8441\n",
            "Epoch 57/100\n",
            "1/1 [==============================] - 0s 27ms/step - loss: 3.7907 - mae: 3.7907\n",
            "Epoch 58/100\n",
            "1/1 [==============================] - 0s 51ms/step - loss: 3.8181 - mae: 3.8181\n",
            "Epoch 59/100\n",
            "1/1 [==============================] - 0s 40ms/step - loss: 3.8019 - mae: 3.8019\n",
            "Epoch 60/100\n",
            "1/1 [==============================] - 0s 25ms/step - loss: 3.7998 - mae: 3.7998\n",
            "Epoch 61/100\n",
            "1/1 [==============================] - 0s 40ms/step - loss: 3.8137 - mae: 3.8137\n",
            "Epoch 62/100\n",
            "1/1 [==============================] - 0s 47ms/step - loss: 3.7734 - mae: 3.7734\n",
            "Epoch 63/100\n",
            "1/1 [==============================] - 0s 33ms/step - loss: 3.8210 - mae: 3.8210\n",
            "Epoch 64/100\n",
            "1/1 [==============================] - 0s 16ms/step - loss: 3.7570 - mae: 3.7570\n",
            "Epoch 65/100\n",
            "1/1 [==============================] - 0s 26ms/step - loss: 3.8174 - mae: 3.8174\n",
            "Epoch 66/100\n",
            "1/1 [==============================] - 0s 30ms/step - loss: 3.7642 - mae: 3.7642\n",
            "Epoch 67/100\n",
            "1/1 [==============================] - 0s 20ms/step - loss: 3.7930 - mae: 3.7930\n",
            "Epoch 68/100\n",
            "1/1 [==============================] - 0s 46ms/step - loss: 3.7801 - mae: 3.7801\n",
            "Epoch 69/100\n",
            "1/1 [==============================] - 0s 20ms/step - loss: 3.7725 - mae: 3.7725\n",
            "Epoch 70/100\n",
            "1/1 [==============================] - 0s 21ms/step - loss: 3.7875 - mae: 3.7875\n",
            "Epoch 71/100\n",
            "1/1 [==============================] - 0s 15ms/step - loss: 3.7458 - mae: 3.7458\n",
            "Epoch 72/100\n",
            "1/1 [==============================] - 0s 33ms/step - loss: 3.7950 - mae: 3.7950\n",
            "Epoch 73/100\n",
            "1/1 [==============================] - 0s 39ms/step - loss: 3.7313 - mae: 3.7313\n",
            "Epoch 74/100\n",
            "1/1 [==============================] - 0s 25ms/step - loss: 3.7894 - mae: 3.7894\n",
            "Epoch 75/100\n",
            "1/1 [==============================] - 0s 27ms/step - loss: 3.7388 - mae: 3.7388\n",
            "Epoch 76/100\n",
            "1/1 [==============================] - 0s 23ms/step - loss: 3.7703 - mae: 3.7703\n",
            "Epoch 77/100\n",
            "1/1 [==============================] - 0s 35ms/step - loss: 3.7548 - mae: 3.7548\n",
            "Epoch 78/100\n",
            "1/1 [==============================] - 0s 37ms/step - loss: 3.7439 - mae: 3.7439\n",
            "Epoch 79/100\n",
            "1/1 [==============================] - 0s 42ms/step - loss: 3.7624 - mae: 3.7624\n",
            "Epoch 80/100\n",
            "1/1 [==============================] - 0s 15ms/step - loss: 3.7169 - mae: 3.7169\n",
            "Epoch 81/100\n",
            "1/1 [==============================] - 0s 18ms/step - loss: 3.7701 - mae: 3.7701\n",
            "Epoch 82/100\n",
            "1/1 [==============================] - 0s 32ms/step - loss: 3.7067 - mae: 3.7067\n",
            "Epoch 83/100\n",
            "1/1 [==============================] - 0s 34ms/step - loss: 3.7602 - mae: 3.7602\n",
            "Epoch 84/100\n",
            "1/1 [==============================] - 0s 46ms/step - loss: 3.7189 - mae: 3.7189\n",
            "Epoch 85/100\n",
            "1/1 [==============================] - 0s 22ms/step - loss: 3.7411 - mae: 3.7411\n",
            "Epoch 86/100\n",
            "1/1 [==============================] - 0s 23ms/step - loss: 3.7305 - mae: 3.7305\n",
            "Epoch 87/100\n",
            "1/1 [==============================] - 0s 19ms/step - loss: 3.7139 - mae: 3.7139\n",
            "Epoch 88/100\n",
            "1/1 [==============================] - 0s 22ms/step - loss: 3.7383 - mae: 3.7383\n",
            "Epoch 89/100\n",
            "1/1 [==============================] - 0s 35ms/step - loss: 3.6866 - mae: 3.6866\n",
            "Epoch 90/100\n",
            "1/1 [==============================] - 0s 30ms/step - loss: 3.7462 - mae: 3.7462\n",
            "Epoch 91/100\n",
            "1/1 [==============================] - 0s 18ms/step - loss: 3.6830 - mae: 3.6830\n",
            "Epoch 92/100\n",
            "1/1 [==============================] - 0s 30ms/step - loss: 3.7318 - mae: 3.7318\n",
            "Epoch 93/100\n",
            "1/1 [==============================] - 0s 20ms/step - loss: 3.6993 - mae: 3.6993\n",
            "Epoch 94/100\n",
            "1/1 [==============================] - 0s 37ms/step - loss: 3.7101 - mae: 3.7101\n",
            "Epoch 95/100\n",
            "1/1 [==============================] - 0s 42ms/step - loss: 3.7072 - mae: 3.7072\n",
            "Epoch 96/100\n",
            "1/1 [==============================] - 0s 34ms/step - loss: 3.6826 - mae: 3.6826\n",
            "Epoch 97/100\n",
            "1/1 [==============================] - 0s 43ms/step - loss: 3.7152 - mae: 3.7152\n",
            "Epoch 98/100\n",
            "1/1 [==============================] - 0s 23ms/step - loss: 3.6550 - mae: 3.6550\n",
            "Epoch 99/100\n",
            "1/1 [==============================] - 0s 36ms/step - loss: 3.7234 - mae: 3.7234\n",
            "Epoch 100/100\n",
            "1/1 [==============================] - 0s 29ms/step - loss: 3.6603 - mae: 3.6603\n"
          ]
        },
        {
          "output_type": "execute_result",
          "data": {
            "text/plain": [
              "<keras.src.callbacks.History at 0x7d98dde3c670>"
            ]
          },
          "metadata": {},
          "execution_count": 12
        }
      ]
    },
    {
      "cell_type": "code",
      "source": [
        "# Make a prediction with the model\n",
        "\n",
        "model.predict([17.0])"
      ],
      "metadata": {
        "colab": {
          "base_uri": "https://localhost:8080/"
        },
        "id": "Pfe9sU_9ob3r",
        "outputId": "61cb84ab-cf66-4a90-8e55-425538a3e6fb"
      },
      "execution_count": null,
      "outputs": [
        {
          "output_type": "stream",
          "name": "stdout",
          "text": [
            "1/1 [==============================] - 0s 130ms/step\n"
          ]
        },
        {
          "output_type": "execute_result",
          "data": {
            "text/plain": [
              "array([[31.313456]], dtype=float32)"
            ]
          },
          "metadata": {},
          "execution_count": 13
        }
      ]
    },
    {
      "cell_type": "code",
      "source": [
        "# Rebuild the model\n",
        "\n",
        "# 1. Create the model\n",
        "model=tf.keras.Sequential([tf.keras.layers.Dense(100,activation='relu'),\n",
        "                           tf.keras.layers.Dense(100,activation='relu'),\n",
        "                           tf.keras.layers.Dense(100,activation='relu'),\n",
        "                           tf.keras.layers.Dense(1)])\n",
        "\n",
        "# 2. compile\n",
        "\n",
        "model.compile(loss=tf.keras.losses.mae,\n",
        "              optimizer=tf.keras.optimizers.Adam(learning_rate=0.001),\n",
        "              metrics=[\"mae\"])\n",
        "\n",
        "# 3. Fit the model\n",
        "\n",
        "model.fit(tf.expand_dims(X, axis=-1), y, epochs=100)"
      ],
      "metadata": {
        "colab": {
          "base_uri": "https://localhost:8080/"
        },
        "id": "xqHeWYc0oj2b",
        "outputId": "0bc2f920-b27c-4392-bc56-d8729c597326"
      },
      "execution_count": null,
      "outputs": [
        {
          "output_type": "stream",
          "name": "stdout",
          "text": [
            "Epoch 1/100\n",
            "1/1 [==============================] - 2s 2s/step - loss: 13.5136 - mae: 13.5136\n",
            "Epoch 2/100\n",
            "1/1 [==============================] - 0s 20ms/step - loss: 13.2165 - mae: 13.2165\n",
            "Epoch 3/100\n",
            "1/1 [==============================] - 0s 16ms/step - loss: 12.9442 - mae: 12.9442\n",
            "Epoch 4/100\n",
            "1/1 [==============================] - 0s 16ms/step - loss: 12.6919 - mae: 12.6919\n",
            "Epoch 5/100\n",
            "1/1 [==============================] - 0s 16ms/step - loss: 12.4552 - mae: 12.4552\n",
            "Epoch 6/100\n",
            "1/1 [==============================] - 0s 14ms/step - loss: 12.2206 - mae: 12.2206\n",
            "Epoch 7/100\n",
            "1/1 [==============================] - 0s 13ms/step - loss: 11.9783 - mae: 11.9783\n",
            "Epoch 8/100\n",
            "1/1 [==============================] - 0s 14ms/step - loss: 11.7328 - mae: 11.7328\n",
            "Epoch 9/100\n",
            "1/1 [==============================] - 0s 15ms/step - loss: 11.4993 - mae: 11.4993\n",
            "Epoch 10/100\n",
            "1/1 [==============================] - 0s 22ms/step - loss: 11.3079 - mae: 11.3079\n",
            "Epoch 11/100\n",
            "1/1 [==============================] - 0s 15ms/step - loss: 11.1660 - mae: 11.1660\n",
            "Epoch 12/100\n",
            "1/1 [==============================] - 0s 16ms/step - loss: 11.0169 - mae: 11.0169\n",
            "Epoch 13/100\n",
            "1/1 [==============================] - 0s 14ms/step - loss: 10.8514 - mae: 10.8514\n",
            "Epoch 14/100\n",
            "1/1 [==============================] - 0s 44ms/step - loss: 10.6787 - mae: 10.6787\n",
            "Epoch 15/100\n",
            "1/1 [==============================] - 0s 27ms/step - loss: 10.4935 - mae: 10.4935\n",
            "Epoch 16/100\n",
            "1/1 [==============================] - 0s 26ms/step - loss: 10.2948 - mae: 10.2948\n",
            "Epoch 17/100\n",
            "1/1 [==============================] - 0s 17ms/step - loss: 10.0818 - mae: 10.0818\n",
            "Epoch 18/100\n",
            "1/1 [==============================] - 0s 25ms/step - loss: 9.8562 - mae: 9.8562\n",
            "Epoch 19/100\n",
            "1/1 [==============================] - 0s 29ms/step - loss: 9.6162 - mae: 9.6162\n",
            "Epoch 20/100\n",
            "1/1 [==============================] - 0s 69ms/step - loss: 9.3643 - mae: 9.3643\n",
            "Epoch 21/100\n",
            "1/1 [==============================] - 0s 21ms/step - loss: 9.0993 - mae: 9.0993\n",
            "Epoch 22/100\n",
            "1/1 [==============================] - 0s 41ms/step - loss: 8.8183 - mae: 8.8183\n",
            "Epoch 23/100\n",
            "1/1 [==============================] - 0s 23ms/step - loss: 8.5187 - mae: 8.5187\n",
            "Epoch 24/100\n",
            "1/1 [==============================] - 0s 35ms/step - loss: 8.1995 - mae: 8.1995\n",
            "Epoch 25/100\n",
            "1/1 [==============================] - 0s 24ms/step - loss: 7.8595 - mae: 7.8595\n",
            "Epoch 26/100\n",
            "1/1 [==============================] - 0s 26ms/step - loss: 7.4973 - mae: 7.4973\n",
            "Epoch 27/100\n",
            "1/1 [==============================] - 0s 19ms/step - loss: 7.1116 - mae: 7.1116\n",
            "Epoch 28/100\n",
            "1/1 [==============================] - 0s 42ms/step - loss: 6.7016 - mae: 6.7016\n",
            "Epoch 29/100\n",
            "1/1 [==============================] - 0s 17ms/step - loss: 6.2648 - mae: 6.2648\n",
            "Epoch 30/100\n",
            "1/1 [==============================] - 0s 20ms/step - loss: 5.8011 - mae: 5.8011\n",
            "Epoch 31/100\n",
            "1/1 [==============================] - 0s 20ms/step - loss: 5.3093 - mae: 5.3093\n",
            "Epoch 32/100\n",
            "1/1 [==============================] - 0s 11ms/step - loss: 4.7875 - mae: 4.7875\n",
            "Epoch 33/100\n",
            "1/1 [==============================] - 0s 11ms/step - loss: 4.2331 - mae: 4.2331\n",
            "Epoch 34/100\n",
            "1/1 [==============================] - 0s 13ms/step - loss: 3.9549 - mae: 3.9549\n",
            "Epoch 35/100\n",
            "1/1 [==============================] - 0s 13ms/step - loss: 3.8256 - mae: 3.8256\n",
            "Epoch 36/100\n",
            "1/1 [==============================] - 0s 12ms/step - loss: 3.9337 - mae: 3.9337\n",
            "Epoch 37/100\n",
            "1/1 [==============================] - 0s 12ms/step - loss: 4.0264 - mae: 4.0264\n",
            "Epoch 38/100\n",
            "1/1 [==============================] - 0s 11ms/step - loss: 4.1051 - mae: 4.1051\n",
            "Epoch 39/100\n",
            "1/1 [==============================] - 0s 11ms/step - loss: 4.2890 - mae: 4.2890\n",
            "Epoch 40/100\n",
            "1/1 [==============================] - 0s 10ms/step - loss: 4.4194 - mae: 4.4194\n",
            "Epoch 41/100\n",
            "1/1 [==============================] - 0s 10ms/step - loss: 4.4840 - mae: 4.4840\n",
            "Epoch 42/100\n",
            "1/1 [==============================] - 0s 10ms/step - loss: 4.4882 - mae: 4.4882\n",
            "Epoch 43/100\n",
            "1/1 [==============================] - 0s 14ms/step - loss: 4.4389 - mae: 4.4389\n",
            "Epoch 44/100\n",
            "1/1 [==============================] - 0s 11ms/step - loss: 4.3443 - mae: 4.3443\n",
            "Epoch 45/100\n",
            "1/1 [==============================] - 0s 12ms/step - loss: 4.2116 - mae: 4.2116\n",
            "Epoch 46/100\n",
            "1/1 [==============================] - 0s 13ms/step - loss: 4.0473 - mae: 4.0473\n",
            "Epoch 47/100\n",
            "1/1 [==============================] - 0s 10ms/step - loss: 3.9437 - mae: 3.9437\n",
            "Epoch 48/100\n",
            "1/1 [==============================] - 0s 17ms/step - loss: 3.8673 - mae: 3.8673\n",
            "Epoch 49/100\n",
            "1/1 [==============================] - 0s 13ms/step - loss: 3.7931 - mae: 3.7931\n",
            "Epoch 50/100\n",
            "1/1 [==============================] - 0s 12ms/step - loss: 3.7443 - mae: 3.7443\n",
            "Epoch 51/100\n",
            "1/1 [==============================] - 0s 12ms/step - loss: 3.6715 - mae: 3.6715\n",
            "Epoch 52/100\n",
            "1/1 [==============================] - 0s 11ms/step - loss: 3.5984 - mae: 3.5984\n",
            "Epoch 53/100\n",
            "1/1 [==============================] - 0s 11ms/step - loss: 3.6605 - mae: 3.6605\n",
            "Epoch 54/100\n",
            "1/1 [==============================] - 0s 11ms/step - loss: 3.7107 - mae: 3.7107\n",
            "Epoch 55/100\n",
            "1/1 [==============================] - 0s 12ms/step - loss: 3.7430 - mae: 3.7430\n",
            "Epoch 56/100\n",
            "1/1 [==============================] - 0s 12ms/step - loss: 3.7601 - mae: 3.7601\n",
            "Epoch 57/100\n",
            "1/1 [==============================] - 0s 12ms/step - loss: 3.7629 - mae: 3.7629\n",
            "Epoch 58/100\n",
            "1/1 [==============================] - 0s 13ms/step - loss: 3.7527 - mae: 3.7527\n",
            "Epoch 59/100\n",
            "1/1 [==============================] - 0s 13ms/step - loss: 3.7315 - mae: 3.7315\n",
            "Epoch 60/100\n",
            "1/1 [==============================] - 0s 14ms/step - loss: 3.6992 - mae: 3.6992\n",
            "Epoch 61/100\n",
            "1/1 [==============================] - 0s 12ms/step - loss: 3.6576 - mae: 3.6576\n",
            "Epoch 62/100\n",
            "1/1 [==============================] - 0s 16ms/step - loss: 3.6064 - mae: 3.6064\n",
            "Epoch 63/100\n",
            "1/1 [==============================] - 0s 14ms/step - loss: 3.5449 - mae: 3.5449\n",
            "Epoch 64/100\n",
            "1/1 [==============================] - 0s 12ms/step - loss: 3.4749 - mae: 3.4749\n",
            "Epoch 65/100\n",
            "1/1 [==============================] - 0s 17ms/step - loss: 3.4958 - mae: 3.4958\n",
            "Epoch 66/100\n",
            "1/1 [==============================] - 0s 12ms/step - loss: 3.5102 - mae: 3.5102\n",
            "Epoch 67/100\n",
            "1/1 [==============================] - 0s 20ms/step - loss: 3.5226 - mae: 3.5226\n",
            "Epoch 68/100\n",
            "1/1 [==============================] - 0s 14ms/step - loss: 3.5273 - mae: 3.5273\n",
            "Epoch 69/100\n",
            "1/1 [==============================] - 0s 18ms/step - loss: 3.5233 - mae: 3.5233\n",
            "Epoch 70/100\n",
            "1/1 [==============================] - 0s 12ms/step - loss: 3.5105 - mae: 3.5105\n",
            "Epoch 71/100\n",
            "1/1 [==============================] - 0s 11ms/step - loss: 3.4888 - mae: 3.4888\n",
            "Epoch 72/100\n",
            "1/1 [==============================] - 0s 11ms/step - loss: 3.4608 - mae: 3.4608\n",
            "Epoch 73/100\n",
            "1/1 [==============================] - 0s 11ms/step - loss: 3.4379 - mae: 3.4379\n",
            "Epoch 74/100\n",
            "1/1 [==============================] - 0s 11ms/step - loss: 3.4028 - mae: 3.4028\n",
            "Epoch 75/100\n",
            "1/1 [==============================] - 0s 11ms/step - loss: 3.3707 - mae: 3.3707\n",
            "Epoch 76/100\n",
            "1/1 [==============================] - 0s 18ms/step - loss: 3.3309 - mae: 3.3309\n",
            "Epoch 77/100\n",
            "1/1 [==============================] - 0s 12ms/step - loss: 3.2911 - mae: 3.2911\n",
            "Epoch 78/100\n",
            "1/1 [==============================] - 0s 11ms/step - loss: 3.2907 - mae: 3.2907\n",
            "Epoch 79/100\n",
            "1/1 [==============================] - 0s 10ms/step - loss: 3.2906 - mae: 3.2906\n",
            "Epoch 80/100\n",
            "1/1 [==============================] - 0s 11ms/step - loss: 3.2682 - mae: 3.2682\n",
            "Epoch 81/100\n",
            "1/1 [==============================] - 0s 12ms/step - loss: 3.2250 - mae: 3.2250\n",
            "Epoch 82/100\n",
            "1/1 [==============================] - 0s 11ms/step - loss: 3.1850 - mae: 3.1850\n",
            "Epoch 83/100\n",
            "1/1 [==============================] - 0s 12ms/step - loss: 3.1967 - mae: 3.1967\n",
            "Epoch 84/100\n",
            "1/1 [==============================] - 0s 13ms/step - loss: 3.1595 - mae: 3.1595\n",
            "Epoch 85/100\n",
            "1/1 [==============================] - 0s 12ms/step - loss: 3.1406 - mae: 3.1406\n",
            "Epoch 86/100\n",
            "1/1 [==============================] - 0s 11ms/step - loss: 3.1117 - mae: 3.1117\n",
            "Epoch 87/100\n",
            "1/1 [==============================] - 0s 13ms/step - loss: 3.0729 - mae: 3.0729\n",
            "Epoch 88/100\n",
            "1/1 [==============================] - 0s 11ms/step - loss: 3.0709 - mae: 3.0709\n",
            "Epoch 89/100\n",
            "1/1 [==============================] - 0s 10ms/step - loss: 3.0454 - mae: 3.0454\n",
            "Epoch 90/100\n",
            "1/1 [==============================] - 0s 10ms/step - loss: 2.9894 - mae: 2.9894\n",
            "Epoch 91/100\n",
            "1/1 [==============================] - 0s 10ms/step - loss: 2.9846 - mae: 2.9846\n",
            "Epoch 92/100\n",
            "1/1 [==============================] - 0s 11ms/step - loss: 2.9638 - mae: 2.9638\n",
            "Epoch 93/100\n",
            "1/1 [==============================] - 0s 10ms/step - loss: 2.9436 - mae: 2.9436\n",
            "Epoch 94/100\n",
            "1/1 [==============================] - 0s 11ms/step - loss: 2.9126 - mae: 2.9126\n",
            "Epoch 95/100\n",
            "1/1 [==============================] - 0s 11ms/step - loss: 2.8695 - mae: 2.8695\n",
            "Epoch 96/100\n",
            "1/1 [==============================] - 0s 11ms/step - loss: 2.8217 - mae: 2.8217\n",
            "Epoch 97/100\n",
            "1/1 [==============================] - 0s 11ms/step - loss: 2.7898 - mae: 2.7898\n",
            "Epoch 98/100\n",
            "1/1 [==============================] - 0s 11ms/step - loss: 2.7629 - mae: 2.7629\n",
            "Epoch 99/100\n",
            "1/1 [==============================] - 0s 19ms/step - loss: 2.7020 - mae: 2.7020\n",
            "Epoch 100/100\n",
            "1/1 [==============================] - 0s 11ms/step - loss: 2.6849 - mae: 2.6849\n"
          ]
        },
        {
          "output_type": "execute_result",
          "data": {
            "text/plain": [
              "<keras.src.callbacks.History at 0x7d98ddd24700>"
            ]
          },
          "metadata": {},
          "execution_count": 14
        }
      ]
    },
    {
      "cell_type": "code",
      "source": [
        "# Make a prediction with the model\n",
        "\n",
        "model.predict([17.0])"
      ],
      "metadata": {
        "colab": {
          "base_uri": "https://localhost:8080/"
        },
        "id": "kIznY64grrTy",
        "outputId": "2515a347-20e1-4d47-d97d-93ba83ee305a"
      },
      "execution_count": null,
      "outputs": [
        {
          "output_type": "stream",
          "name": "stdout",
          "text": [
            "1/1 [==============================] - 0s 88ms/step\n"
          ]
        },
        {
          "output_type": "execute_result",
          "data": {
            "text/plain": [
              "array([[31.480474]], dtype=float32)"
            ]
          },
          "metadata": {},
          "execution_count": 15
        }
      ]
    },
    {
      "cell_type": "code",
      "source": [
        "# Rebuild the model\n",
        "\n",
        "# 1. Create the model\n",
        "model=tf.keras.Sequential([tf.keras.layers.Dense(100,activation='relu'),\n",
        "\n",
        "                           tf.keras.layers.Dense(1)])\n",
        "\n",
        "# 2. compile\n",
        "\n",
        "model.compile(loss=tf.keras.losses.mae,\n",
        "              optimizer=tf.keras.optimizers.Adam(learning_rate=0.0001),\n",
        "              metrics=[\"mae\"])\n",
        "\n",
        "# 3. Fit the model\n",
        "\n",
        "model.fit(tf.expand_dims(X, axis=-1), y, epochs=100)"
      ],
      "metadata": {
        "id": "dmhQ29OvsUDN",
        "colab": {
          "base_uri": "https://localhost:8080/"
        },
        "outputId": "317947c9-f5ba-4cf3-b1ae-040963fcea2f"
      },
      "execution_count": null,
      "outputs": [
        {
          "output_type": "stream",
          "name": "stdout",
          "text": [
            "Epoch 1/100\n",
            "1/1 [==============================] - 1s 607ms/step - loss: 13.5654 - mae: 13.5654\n",
            "Epoch 2/100\n",
            "1/1 [==============================] - 0s 12ms/step - loss: 13.5570 - mae: 13.5570\n",
            "Epoch 3/100\n",
            "1/1 [==============================] - 0s 11ms/step - loss: 13.5486 - mae: 13.5486\n",
            "Epoch 4/100\n",
            "1/1 [==============================] - 0s 11ms/step - loss: 13.5402 - mae: 13.5402\n",
            "Epoch 5/100\n",
            "1/1 [==============================] - 0s 13ms/step - loss: 13.5319 - mae: 13.5319\n",
            "Epoch 6/100\n",
            "1/1 [==============================] - 0s 14ms/step - loss: 13.5235 - mae: 13.5235\n",
            "Epoch 7/100\n",
            "1/1 [==============================] - 0s 11ms/step - loss: 13.5151 - mae: 13.5151\n",
            "Epoch 8/100\n",
            "1/1 [==============================] - 0s 11ms/step - loss: 13.5067 - mae: 13.5067\n",
            "Epoch 9/100\n",
            "1/1 [==============================] - 0s 15ms/step - loss: 13.4983 - mae: 13.4983\n",
            "Epoch 10/100\n",
            "1/1 [==============================] - 0s 10ms/step - loss: 13.4899 - mae: 13.4899\n",
            "Epoch 11/100\n",
            "1/1 [==============================] - 0s 10ms/step - loss: 13.4815 - mae: 13.4815\n",
            "Epoch 12/100\n",
            "1/1 [==============================] - 0s 11ms/step - loss: 13.4731 - mae: 13.4731\n",
            "Epoch 13/100\n",
            "1/1 [==============================] - 0s 11ms/step - loss: 13.4648 - mae: 13.4648\n",
            "Epoch 14/100\n",
            "1/1 [==============================] - 0s 11ms/step - loss: 13.4564 - mae: 13.4564\n",
            "Epoch 15/100\n",
            "1/1 [==============================] - 0s 11ms/step - loss: 13.4480 - mae: 13.4480\n",
            "Epoch 16/100\n",
            "1/1 [==============================] - 0s 11ms/step - loss: 13.4396 - mae: 13.4396\n",
            "Epoch 17/100\n",
            "1/1 [==============================] - 0s 10ms/step - loss: 13.4312 - mae: 13.4312\n",
            "Epoch 18/100\n",
            "1/1 [==============================] - 0s 13ms/step - loss: 13.4228 - mae: 13.4228\n",
            "Epoch 19/100\n",
            "1/1 [==============================] - 0s 13ms/step - loss: 13.4144 - mae: 13.4144\n",
            "Epoch 20/100\n",
            "1/1 [==============================] - 0s 17ms/step - loss: 13.4060 - mae: 13.4060\n",
            "Epoch 21/100\n",
            "1/1 [==============================] - 0s 11ms/step - loss: 13.3976 - mae: 13.3976\n",
            "Epoch 22/100\n",
            "1/1 [==============================] - 0s 12ms/step - loss: 13.3892 - mae: 13.3892\n",
            "Epoch 23/100\n",
            "1/1 [==============================] - 0s 17ms/step - loss: 13.3808 - mae: 13.3808\n",
            "Epoch 24/100\n",
            "1/1 [==============================] - 0s 10ms/step - loss: 13.3723 - mae: 13.3723\n",
            "Epoch 25/100\n",
            "1/1 [==============================] - 0s 10ms/step - loss: 13.3639 - mae: 13.3639\n",
            "Epoch 26/100\n",
            "1/1 [==============================] - 0s 11ms/step - loss: 13.3555 - mae: 13.3555\n",
            "Epoch 27/100\n",
            "1/1 [==============================] - 0s 10ms/step - loss: 13.3471 - mae: 13.3471\n",
            "Epoch 28/100\n",
            "1/1 [==============================] - 0s 13ms/step - loss: 13.3387 - mae: 13.3387\n",
            "Epoch 29/100\n",
            "1/1 [==============================] - 0s 11ms/step - loss: 13.3303 - mae: 13.3303\n",
            "Epoch 30/100\n",
            "1/1 [==============================] - 0s 10ms/step - loss: 13.3219 - mae: 13.3219\n",
            "Epoch 31/100\n",
            "1/1 [==============================] - 0s 11ms/step - loss: 13.3134 - mae: 13.3134\n",
            "Epoch 32/100\n",
            "1/1 [==============================] - 0s 12ms/step - loss: 13.3050 - mae: 13.3050\n",
            "Epoch 33/100\n",
            "1/1 [==============================] - 0s 11ms/step - loss: 13.2966 - mae: 13.2966\n",
            "Epoch 34/100\n",
            "1/1 [==============================] - 0s 13ms/step - loss: 13.2882 - mae: 13.2882\n",
            "Epoch 35/100\n",
            "1/1 [==============================] - 0s 11ms/step - loss: 13.2797 - mae: 13.2797\n",
            "Epoch 36/100\n",
            "1/1 [==============================] - 0s 10ms/step - loss: 13.2713 - mae: 13.2713\n",
            "Epoch 37/100\n",
            "1/1 [==============================] - 0s 10ms/step - loss: 13.2629 - mae: 13.2629\n",
            "Epoch 38/100\n",
            "1/1 [==============================] - 0s 10ms/step - loss: 13.2544 - mae: 13.2544\n",
            "Epoch 39/100\n",
            "1/1 [==============================] - 0s 12ms/step - loss: 13.2460 - mae: 13.2460\n",
            "Epoch 40/100\n",
            "1/1 [==============================] - 0s 11ms/step - loss: 13.2376 - mae: 13.2376\n",
            "Epoch 41/100\n",
            "1/1 [==============================] - 0s 14ms/step - loss: 13.2291 - mae: 13.2291\n",
            "Epoch 42/100\n",
            "1/1 [==============================] - 0s 15ms/step - loss: 13.2207 - mae: 13.2207\n",
            "Epoch 43/100\n",
            "1/1 [==============================] - 0s 13ms/step - loss: 13.2122 - mae: 13.2122\n",
            "Epoch 44/100\n",
            "1/1 [==============================] - 0s 11ms/step - loss: 13.2038 - mae: 13.2038\n",
            "Epoch 45/100\n",
            "1/1 [==============================] - 0s 11ms/step - loss: 13.1953 - mae: 13.1953\n",
            "Epoch 46/100\n",
            "1/1 [==============================] - 0s 11ms/step - loss: 13.1869 - mae: 13.1869\n",
            "Epoch 47/100\n",
            "1/1 [==============================] - 0s 11ms/step - loss: 13.1784 - mae: 13.1784\n",
            "Epoch 48/100\n",
            "1/1 [==============================] - 0s 10ms/step - loss: 13.1700 - mae: 13.1700\n",
            "Epoch 49/100\n",
            "1/1 [==============================] - 0s 10ms/step - loss: 13.1615 - mae: 13.1615\n",
            "Epoch 50/100\n",
            "1/1 [==============================] - 0s 10ms/step - loss: 13.1531 - mae: 13.1531\n",
            "Epoch 51/100\n",
            "1/1 [==============================] - 0s 11ms/step - loss: 13.1446 - mae: 13.1446\n",
            "Epoch 52/100\n",
            "1/1 [==============================] - 0s 11ms/step - loss: 13.1362 - mae: 13.1362\n",
            "Epoch 53/100\n",
            "1/1 [==============================] - 0s 10ms/step - loss: 13.1277 - mae: 13.1277\n",
            "Epoch 54/100\n",
            "1/1 [==============================] - 0s 10ms/step - loss: 13.1192 - mae: 13.1192\n",
            "Epoch 55/100\n",
            "1/1 [==============================] - 0s 10ms/step - loss: 13.1108 - mae: 13.1108\n",
            "Epoch 56/100\n",
            "1/1 [==============================] - 0s 10ms/step - loss: 13.1023 - mae: 13.1023\n",
            "Epoch 57/100\n",
            "1/1 [==============================] - 0s 9ms/step - loss: 13.0938 - mae: 13.0938\n",
            "Epoch 58/100\n",
            "1/1 [==============================] - 0s 10ms/step - loss: 13.0853 - mae: 13.0853\n",
            "Epoch 59/100\n",
            "1/1 [==============================] - 0s 11ms/step - loss: 13.0769 - mae: 13.0769\n",
            "Epoch 60/100\n",
            "1/1 [==============================] - 0s 11ms/step - loss: 13.0684 - mae: 13.0684\n",
            "Epoch 61/100\n",
            "1/1 [==============================] - 0s 11ms/step - loss: 13.0599 - mae: 13.0599\n",
            "Epoch 62/100\n",
            "1/1 [==============================] - 0s 13ms/step - loss: 13.0514 - mae: 13.0514\n",
            "Epoch 63/100\n",
            "1/1 [==============================] - 0s 10ms/step - loss: 13.0429 - mae: 13.0429\n",
            "Epoch 64/100\n",
            "1/1 [==============================] - 0s 10ms/step - loss: 13.0344 - mae: 13.0344\n",
            "Epoch 65/100\n",
            "1/1 [==============================] - 0s 10ms/step - loss: 13.0259 - mae: 13.0259\n",
            "Epoch 66/100\n",
            "1/1 [==============================] - 0s 11ms/step - loss: 13.0174 - mae: 13.0174\n",
            "Epoch 67/100\n",
            "1/1 [==============================] - 0s 10ms/step - loss: 13.0089 - mae: 13.0089\n",
            "Epoch 68/100\n",
            "1/1 [==============================] - 0s 10ms/step - loss: 13.0004 - mae: 13.0004\n",
            "Epoch 69/100\n",
            "1/1 [==============================] - 0s 10ms/step - loss: 12.9919 - mae: 12.9919\n",
            "Epoch 70/100\n",
            "1/1 [==============================] - 0s 10ms/step - loss: 12.9834 - mae: 12.9834\n",
            "Epoch 71/100\n",
            "1/1 [==============================] - 0s 10ms/step - loss: 12.9749 - mae: 12.9749\n",
            "Epoch 72/100\n",
            "1/1 [==============================] - 0s 10ms/step - loss: 12.9664 - mae: 12.9664\n",
            "Epoch 73/100\n",
            "1/1 [==============================] - 0s 10ms/step - loss: 12.9579 - mae: 12.9579\n",
            "Epoch 74/100\n",
            "1/1 [==============================] - 0s 11ms/step - loss: 12.9494 - mae: 12.9494\n",
            "Epoch 75/100\n",
            "1/1 [==============================] - 0s 13ms/step - loss: 12.9409 - mae: 12.9409\n",
            "Epoch 76/100\n",
            "1/1 [==============================] - 0s 10ms/step - loss: 12.9324 - mae: 12.9324\n",
            "Epoch 77/100\n",
            "1/1 [==============================] - 0s 11ms/step - loss: 12.9239 - mae: 12.9239\n",
            "Epoch 78/100\n",
            "1/1 [==============================] - 0s 10ms/step - loss: 12.9154 - mae: 12.9154\n",
            "Epoch 79/100\n",
            "1/1 [==============================] - 0s 10ms/step - loss: 12.9068 - mae: 12.9068\n",
            "Epoch 80/100\n",
            "1/1 [==============================] - 0s 13ms/step - loss: 12.8983 - mae: 12.8983\n",
            "Epoch 81/100\n",
            "1/1 [==============================] - 0s 11ms/step - loss: 12.8898 - mae: 12.8898\n",
            "Epoch 82/100\n",
            "1/1 [==============================] - 0s 10ms/step - loss: 12.8813 - mae: 12.8813\n",
            "Epoch 83/100\n",
            "1/1 [==============================] - 0s 12ms/step - loss: 12.8728 - mae: 12.8728\n",
            "Epoch 84/100\n",
            "1/1 [==============================] - 0s 11ms/step - loss: 12.8643 - mae: 12.8643\n",
            "Epoch 85/100\n",
            "1/1 [==============================] - 0s 11ms/step - loss: 12.8558 - mae: 12.8558\n",
            "Epoch 86/100\n",
            "1/1 [==============================] - 0s 10ms/step - loss: 12.8472 - mae: 12.8472\n",
            "Epoch 87/100\n",
            "1/1 [==============================] - 0s 11ms/step - loss: 12.8387 - mae: 12.8387\n",
            "Epoch 88/100\n",
            "1/1 [==============================] - 0s 11ms/step - loss: 12.8302 - mae: 12.8302\n",
            "Epoch 89/100\n",
            "1/1 [==============================] - 0s 13ms/step - loss: 12.8217 - mae: 12.8217\n",
            "Epoch 90/100\n",
            "1/1 [==============================] - 0s 11ms/step - loss: 12.8131 - mae: 12.8131\n",
            "Epoch 91/100\n",
            "1/1 [==============================] - 0s 12ms/step - loss: 12.8046 - mae: 12.8046\n",
            "Epoch 92/100\n",
            "1/1 [==============================] - 0s 12ms/step - loss: 12.7960 - mae: 12.7960\n",
            "Epoch 93/100\n",
            "1/1 [==============================] - 0s 11ms/step - loss: 12.7875 - mae: 12.7875\n",
            "Epoch 94/100\n",
            "1/1 [==============================] - 0s 10ms/step - loss: 12.7790 - mae: 12.7790\n",
            "Epoch 95/100\n",
            "1/1 [==============================] - 0s 12ms/step - loss: 12.7704 - mae: 12.7704\n",
            "Epoch 96/100\n",
            "1/1 [==============================] - 0s 11ms/step - loss: 12.7619 - mae: 12.7619\n",
            "Epoch 97/100\n",
            "1/1 [==============================] - 0s 11ms/step - loss: 12.7533 - mae: 12.7533\n",
            "Epoch 98/100\n",
            "1/1 [==============================] - 0s 12ms/step - loss: 12.7447 - mae: 12.7447\n",
            "Epoch 99/100\n",
            "1/1 [==============================] - 0s 11ms/step - loss: 12.7362 - mae: 12.7362\n",
            "Epoch 100/100\n",
            "1/1 [==============================] - 0s 10ms/step - loss: 12.7276 - mae: 12.7276\n"
          ]
        },
        {
          "output_type": "execute_result",
          "data": {
            "text/plain": [
              "<keras.src.callbacks.History at 0x7d98dc257d30>"
            ]
          },
          "metadata": {},
          "execution_count": 16
        }
      ]
    },
    {
      "cell_type": "code",
      "source": [
        "model.predict([17])"
      ],
      "metadata": {
        "colab": {
          "base_uri": "https://localhost:8080/"
        },
        "id": "6aFCIUbjpMOX",
        "outputId": "aa9d6160-cb27-4d61-c9c8-b615bed2298b"
      },
      "execution_count": null,
      "outputs": [
        {
          "output_type": "stream",
          "name": "stderr",
          "text": [
            "WARNING:tensorflow:5 out of the last 5 calls to <function Model.make_predict_function.<locals>.predict_function at 0x7d98ddd2f400> triggered tf.function retracing. Tracing is expensive and the excessive number of tracings could be due to (1) creating @tf.function repeatedly in a loop, (2) passing tensors with different shapes, (3) passing Python objects instead of tensors. For (1), please define your @tf.function outside of the loop. For (2), @tf.function has reduce_retracing=True option that can avoid unnecessary retracing. For (3), please refer to https://www.tensorflow.org/guide/function#controlling_retracing and https://www.tensorflow.org/api_docs/python/tf/function for  more details.\n"
          ]
        },
        {
          "output_type": "stream",
          "name": "stdout",
          "text": [
            "1/1 [==============================] - 0s 85ms/step\n"
          ]
        },
        {
          "output_type": "execute_result",
          "data": {
            "text/plain": [
              "array([[2.6758552]], dtype=float32)"
            ]
          },
          "metadata": {},
          "execution_count": 17
        }
      ]
    },
    {
      "cell_type": "code",
      "source": [
        "\n",
        "# Rebuild the model\n",
        "\n",
        "# 1. Create the model\n",
        "model=tf.keras.Sequential([\n",
        "    tf.keras.layers.Dense(1)\n",
        "])\n",
        "\n",
        "# 2. compile\n",
        "\n",
        "model.compile(loss=tf.keras.losses.mae,\n",
        "              optimizer=tf.keras.optimizers.Adam(learning_rate=0.0001),\n",
        "              metrics=[\"mae\"])\n",
        "\n",
        "# 3. Fit the model\n",
        "\n",
        "model.fit(tf.expand_dims(X, axis=-1), y, epochs=100)"
      ],
      "metadata": {
        "colab": {
          "base_uri": "https://localhost:8080/"
        },
        "id": "C5W6M2VXmxP0",
        "outputId": "125e7a31-f474-457d-f330-cb6acb346024"
      },
      "execution_count": null,
      "outputs": [
        {
          "output_type": "stream",
          "name": "stdout",
          "text": [
            "Epoch 1/100\n",
            "1/1 [==============================] - 0s 431ms/step - loss: 14.0618 - mae: 14.0618\n",
            "Epoch 2/100\n",
            "1/1 [==============================] - 0s 11ms/step - loss: 14.0613 - mae: 14.0613\n",
            "Epoch 3/100\n",
            "1/1 [==============================] - 0s 12ms/step - loss: 14.0609 - mae: 14.0609\n",
            "Epoch 4/100\n",
            "1/1 [==============================] - 0s 11ms/step - loss: 14.0604 - mae: 14.0604\n",
            "Epoch 5/100\n",
            "1/1 [==============================] - 0s 11ms/step - loss: 14.0600 - mae: 14.0600\n",
            "Epoch 6/100\n",
            "1/1 [==============================] - 0s 10ms/step - loss: 14.0595 - mae: 14.0595\n",
            "Epoch 7/100\n",
            "1/1 [==============================] - 0s 11ms/step - loss: 14.0591 - mae: 14.0591\n",
            "Epoch 8/100\n",
            "1/1 [==============================] - 0s 11ms/step - loss: 14.0586 - mae: 14.0586\n",
            "Epoch 9/100\n",
            "1/1 [==============================] - 0s 12ms/step - loss: 14.0582 - mae: 14.0582\n",
            "Epoch 10/100\n",
            "1/1 [==============================] - 0s 11ms/step - loss: 14.0577 - mae: 14.0577\n",
            "Epoch 11/100\n",
            "1/1 [==============================] - 0s 10ms/step - loss: 14.0573 - mae: 14.0573\n",
            "Epoch 12/100\n",
            "1/1 [==============================] - 0s 12ms/step - loss: 14.0568 - mae: 14.0568\n",
            "Epoch 13/100\n",
            "1/1 [==============================] - 0s 11ms/step - loss: 14.0564 - mae: 14.0564\n",
            "Epoch 14/100\n",
            "1/1 [==============================] - 0s 10ms/step - loss: 14.0559 - mae: 14.0559\n",
            "Epoch 15/100\n",
            "1/1 [==============================] - 0s 11ms/step - loss: 14.0555 - mae: 14.0555\n",
            "Epoch 16/100\n",
            "1/1 [==============================] - 0s 16ms/step - loss: 14.0550 - mae: 14.0550\n",
            "Epoch 17/100\n",
            "1/1 [==============================] - 0s 9ms/step - loss: 14.0546 - mae: 14.0546\n",
            "Epoch 18/100\n",
            "1/1 [==============================] - 0s 9ms/step - loss: 14.0541 - mae: 14.0541\n",
            "Epoch 19/100\n",
            "1/1 [==============================] - 0s 13ms/step - loss: 14.0537 - mae: 14.0537\n",
            "Epoch 20/100\n",
            "1/1 [==============================] - 0s 11ms/step - loss: 14.0532 - mae: 14.0532\n",
            "Epoch 21/100\n",
            "1/1 [==============================] - 0s 10ms/step - loss: 14.0528 - mae: 14.0528\n",
            "Epoch 22/100\n",
            "1/1 [==============================] - 0s 10ms/step - loss: 14.0523 - mae: 14.0523\n",
            "Epoch 23/100\n",
            "1/1 [==============================] - 0s 11ms/step - loss: 14.0519 - mae: 14.0519\n",
            "Epoch 24/100\n",
            "1/1 [==============================] - 0s 11ms/step - loss: 14.0514 - mae: 14.0514\n",
            "Epoch 25/100\n",
            "1/1 [==============================] - 0s 11ms/step - loss: 14.0510 - mae: 14.0510\n",
            "Epoch 26/100\n",
            "1/1 [==============================] - 0s 10ms/step - loss: 14.0505 - mae: 14.0505\n",
            "Epoch 27/100\n",
            "1/1 [==============================] - 0s 10ms/step - loss: 14.0501 - mae: 14.0501\n",
            "Epoch 28/100\n",
            "1/1 [==============================] - 0s 10ms/step - loss: 14.0496 - mae: 14.0496\n",
            "Epoch 29/100\n",
            "1/1 [==============================] - 0s 10ms/step - loss: 14.0492 - mae: 14.0492\n",
            "Epoch 30/100\n",
            "1/1 [==============================] - 0s 11ms/step - loss: 14.0487 - mae: 14.0487\n",
            "Epoch 31/100\n",
            "1/1 [==============================] - 0s 11ms/step - loss: 14.0483 - mae: 14.0483\n",
            "Epoch 32/100\n",
            "1/1 [==============================] - 0s 10ms/step - loss: 14.0478 - mae: 14.0478\n",
            "Epoch 33/100\n",
            "1/1 [==============================] - 0s 9ms/step - loss: 14.0474 - mae: 14.0474\n",
            "Epoch 34/100\n",
            "1/1 [==============================] - 0s 10ms/step - loss: 14.0469 - mae: 14.0469\n",
            "Epoch 35/100\n",
            "1/1 [==============================] - 0s 13ms/step - loss: 14.0465 - mae: 14.0465\n",
            "Epoch 36/100\n",
            "1/1 [==============================] - 0s 14ms/step - loss: 14.0460 - mae: 14.0460\n",
            "Epoch 37/100\n",
            "1/1 [==============================] - 0s 11ms/step - loss: 14.0456 - mae: 14.0456\n",
            "Epoch 38/100\n",
            "1/1 [==============================] - 0s 13ms/step - loss: 14.0451 - mae: 14.0451\n",
            "Epoch 39/100\n",
            "1/1 [==============================] - 0s 15ms/step - loss: 14.0447 - mae: 14.0447\n",
            "Epoch 40/100\n",
            "1/1 [==============================] - 0s 11ms/step - loss: 14.0442 - mae: 14.0442\n",
            "Epoch 41/100\n",
            "1/1 [==============================] - 0s 11ms/step - loss: 14.0438 - mae: 14.0438\n",
            "Epoch 42/100\n",
            "1/1 [==============================] - 0s 13ms/step - loss: 14.0433 - mae: 14.0433\n",
            "Epoch 43/100\n",
            "1/1 [==============================] - 0s 12ms/step - loss: 14.0429 - mae: 14.0429\n",
            "Epoch 44/100\n",
            "1/1 [==============================] - 0s 10ms/step - loss: 14.0424 - mae: 14.0424\n",
            "Epoch 45/100\n",
            "1/1 [==============================] - 0s 10ms/step - loss: 14.0420 - mae: 14.0420\n",
            "Epoch 46/100\n",
            "1/1 [==============================] - 0s 11ms/step - loss: 14.0415 - mae: 14.0415\n",
            "Epoch 47/100\n",
            "1/1 [==============================] - 0s 15ms/step - loss: 14.0411 - mae: 14.0411\n",
            "Epoch 48/100\n",
            "1/1 [==============================] - 0s 9ms/step - loss: 14.0406 - mae: 14.0406\n",
            "Epoch 49/100\n",
            "1/1 [==============================] - 0s 10ms/step - loss: 14.0402 - mae: 14.0402\n",
            "Epoch 50/100\n",
            "1/1 [==============================] - 0s 9ms/step - loss: 14.0397 - mae: 14.0397\n",
            "Epoch 51/100\n",
            "1/1 [==============================] - 0s 10ms/step - loss: 14.0393 - mae: 14.0393\n",
            "Epoch 52/100\n",
            "1/1 [==============================] - 0s 9ms/step - loss: 14.0388 - mae: 14.0388\n",
            "Epoch 53/100\n",
            "1/1 [==============================] - 0s 13ms/step - loss: 14.0384 - mae: 14.0384\n",
            "Epoch 54/100\n",
            "1/1 [==============================] - 0s 10ms/step - loss: 14.0379 - mae: 14.0379\n",
            "Epoch 55/100\n",
            "1/1 [==============================] - 0s 10ms/step - loss: 14.0375 - mae: 14.0375\n",
            "Epoch 56/100\n",
            "1/1 [==============================] - 0s 10ms/step - loss: 14.0370 - mae: 14.0370\n",
            "Epoch 57/100\n",
            "1/1 [==============================] - 0s 11ms/step - loss: 14.0366 - mae: 14.0366\n",
            "Epoch 58/100\n",
            "1/1 [==============================] - 0s 10ms/step - loss: 14.0361 - mae: 14.0361\n",
            "Epoch 59/100\n",
            "1/1 [==============================] - 0s 15ms/step - loss: 14.0357 - mae: 14.0357\n",
            "Epoch 60/100\n",
            "1/1 [==============================] - 0s 9ms/step - loss: 14.0352 - mae: 14.0352\n",
            "Epoch 61/100\n",
            "1/1 [==============================] - 0s 10ms/step - loss: 14.0348 - mae: 14.0348\n",
            "Epoch 62/100\n",
            "1/1 [==============================] - 0s 11ms/step - loss: 14.0343 - mae: 14.0343\n",
            "Epoch 63/100\n",
            "1/1 [==============================] - 0s 13ms/step - loss: 14.0339 - mae: 14.0339\n",
            "Epoch 64/100\n",
            "1/1 [==============================] - 0s 10ms/step - loss: 14.0334 - mae: 14.0334\n",
            "Epoch 65/100\n",
            "1/1 [==============================] - 0s 10ms/step - loss: 14.0330 - mae: 14.0330\n",
            "Epoch 66/100\n",
            "1/1 [==============================] - 0s 11ms/step - loss: 14.0325 - mae: 14.0325\n",
            "Epoch 67/100\n",
            "1/1 [==============================] - 0s 11ms/step - loss: 14.0321 - mae: 14.0321\n",
            "Epoch 68/100\n",
            "1/1 [==============================] - 0s 11ms/step - loss: 14.0316 - mae: 14.0316\n",
            "Epoch 69/100\n",
            "1/1 [==============================] - 0s 11ms/step - loss: 14.0312 - mae: 14.0312\n",
            "Epoch 70/100\n",
            "1/1 [==============================] - 0s 11ms/step - loss: 14.0307 - mae: 14.0307\n",
            "Epoch 71/100\n",
            "1/1 [==============================] - 0s 15ms/step - loss: 14.0303 - mae: 14.0303\n",
            "Epoch 72/100\n",
            "1/1 [==============================] - 0s 12ms/step - loss: 14.0298 - mae: 14.0298\n",
            "Epoch 73/100\n",
            "1/1 [==============================] - 0s 12ms/step - loss: 14.0294 - mae: 14.0294\n",
            "Epoch 74/100\n",
            "1/1 [==============================] - 0s 14ms/step - loss: 14.0289 - mae: 14.0289\n",
            "Epoch 75/100\n",
            "1/1 [==============================] - 0s 13ms/step - loss: 14.0285 - mae: 14.0285\n",
            "Epoch 76/100\n",
            "1/1 [==============================] - 0s 10ms/step - loss: 14.0280 - mae: 14.0280\n",
            "Epoch 77/100\n",
            "1/1 [==============================] - 0s 10ms/step - loss: 14.0276 - mae: 14.0276\n",
            "Epoch 78/100\n",
            "1/1 [==============================] - 0s 14ms/step - loss: 14.0271 - mae: 14.0271\n",
            "Epoch 79/100\n",
            "1/1 [==============================] - 0s 11ms/step - loss: 14.0267 - mae: 14.0267\n",
            "Epoch 80/100\n",
            "1/1 [==============================] - 0s 11ms/step - loss: 14.0262 - mae: 14.0262\n",
            "Epoch 81/100\n",
            "1/1 [==============================] - 0s 11ms/step - loss: 14.0258 - mae: 14.0258\n",
            "Epoch 82/100\n",
            "1/1 [==============================] - 0s 11ms/step - loss: 14.0253 - mae: 14.0253\n",
            "Epoch 83/100\n",
            "1/1 [==============================] - 0s 11ms/step - loss: 14.0249 - mae: 14.0249\n",
            "Epoch 84/100\n",
            "1/1 [==============================] - 0s 11ms/step - loss: 14.0244 - mae: 14.0244\n",
            "Epoch 85/100\n",
            "1/1 [==============================] - 0s 18ms/step - loss: 14.0240 - mae: 14.0240\n",
            "Epoch 86/100\n",
            "1/1 [==============================] - 0s 12ms/step - loss: 14.0235 - mae: 14.0235\n",
            "Epoch 87/100\n",
            "1/1 [==============================] - 0s 12ms/step - loss: 14.0231 - mae: 14.0231\n",
            "Epoch 88/100\n",
            "1/1 [==============================] - 0s 12ms/step - loss: 14.0226 - mae: 14.0226\n",
            "Epoch 89/100\n",
            "1/1 [==============================] - 0s 13ms/step - loss: 14.0222 - mae: 14.0222\n",
            "Epoch 90/100\n",
            "1/1 [==============================] - 0s 12ms/step - loss: 14.0217 - mae: 14.0217\n",
            "Epoch 91/100\n",
            "1/1 [==============================] - 0s 13ms/step - loss: 14.0213 - mae: 14.0213\n",
            "Epoch 92/100\n",
            "1/1 [==============================] - 0s 11ms/step - loss: 14.0208 - mae: 14.0208\n",
            "Epoch 93/100\n",
            "1/1 [==============================] - 0s 12ms/step - loss: 14.0204 - mae: 14.0204\n",
            "Epoch 94/100\n",
            "1/1 [==============================] - 0s 14ms/step - loss: 14.0199 - mae: 14.0199\n",
            "Epoch 95/100\n",
            "1/1 [==============================] - 0s 12ms/step - loss: 14.0195 - mae: 14.0195\n",
            "Epoch 96/100\n",
            "1/1 [==============================] - 0s 11ms/step - loss: 14.0190 - mae: 14.0190\n",
            "Epoch 97/100\n",
            "1/1 [==============================] - 0s 11ms/step - loss: 14.0186 - mae: 14.0186\n",
            "Epoch 98/100\n",
            "1/1 [==============================] - 0s 11ms/step - loss: 14.0181 - mae: 14.0181\n",
            "Epoch 99/100\n",
            "1/1 [==============================] - 0s 11ms/step - loss: 14.0177 - mae: 14.0177\n",
            "Epoch 100/100\n",
            "1/1 [==============================] - 0s 10ms/step - loss: 14.0172 - mae: 14.0172\n"
          ]
        },
        {
          "output_type": "execute_result",
          "data": {
            "text/plain": [
              "<keras.src.callbacks.History at 0x7d98dc119a80>"
            ]
          },
          "metadata": {},
          "execution_count": 18
        }
      ]
    },
    {
      "cell_type": "code",
      "source": [
        "model.predict([17])"
      ],
      "metadata": {
        "id": "MvgUvBaf2eb0",
        "outputId": "fdffaf2c-da0f-440e-c3c9-557528f602b4",
        "colab": {
          "base_uri": "https://localhost:8080/"
        }
      },
      "execution_count": null,
      "outputs": [
        {
          "output_type": "stream",
          "name": "stderr",
          "text": [
            "WARNING:tensorflow:6 out of the last 6 calls to <function Model.make_predict_function.<locals>.predict_function at 0x7d98dc17d6c0> triggered tf.function retracing. Tracing is expensive and the excessive number of tracings could be due to (1) creating @tf.function repeatedly in a loop, (2) passing tensors with different shapes, (3) passing Python objects instead of tensors. For (1), please define your @tf.function outside of the loop. For (2), @tf.function has reduce_retracing=True option that can avoid unnecessary retracing. For (3), please refer to https://www.tensorflow.org/guide/function#controlling_retracing and https://www.tensorflow.org/api_docs/python/tf/function for  more details.\n"
          ]
        },
        {
          "output_type": "stream",
          "name": "stdout",
          "text": [
            "1/1 [==============================] - 0s 105ms/step\n"
          ]
        },
        {
          "output_type": "execute_result",
          "data": {
            "text/plain": [
              "array([[-2.5487006]], dtype=float32)"
            ]
          },
          "metadata": {},
          "execution_count": 19
        }
      ]
    },
    {
      "cell_type": "code",
      "source": [
        "# Rebuild the model\n",
        "\n",
        "# 1. Create the model\n",
        "model=tf.keras.Sequential([tf.keras.layers.Dense(50,activation=None),\n",
        "                           tf.keras.layers.Dense(1)])\n",
        "\n",
        "#2 Compile the model\n",
        "\n",
        "model.compile(loss=tf.keras.losses.mae,\n",
        "              optimizer=tf.keras.optimizers.Adam(learning_rate=0.01),\n",
        "              metrics=['mae'])\n",
        "\n",
        "#3 Fit the model\n",
        "model.fit(tf.expand_dims(X, axis=-1), y, epochs=100)"
      ],
      "metadata": {
        "colab": {
          "base_uri": "https://localhost:8080/"
        },
        "id": "g6YKbqzVqCS4",
        "outputId": "116c183f-993d-41da-c567-564d8f65e8bc"
      },
      "execution_count": null,
      "outputs": [
        {
          "output_type": "stream",
          "name": "stdout",
          "text": [
            "Epoch 1/100\n",
            "1/1 [==============================] - 1s 889ms/step - loss: 12.4995 - mae: 12.4995\n",
            "Epoch 2/100\n",
            "1/1 [==============================] - 0s 14ms/step - loss: 11.8170 - mae: 11.8170\n",
            "Epoch 3/100\n",
            "1/1 [==============================] - 0s 14ms/step - loss: 11.1330 - mae: 11.1330\n",
            "Epoch 4/100\n",
            "1/1 [==============================] - 0s 14ms/step - loss: 10.4435 - mae: 10.4435\n",
            "Epoch 5/100\n",
            "1/1 [==============================] - 0s 14ms/step - loss: 9.7457 - mae: 9.7457\n",
            "Epoch 6/100\n",
            "1/1 [==============================] - 0s 13ms/step - loss: 9.0362 - mae: 9.0362\n",
            "Epoch 7/100\n",
            "1/1 [==============================] - 0s 14ms/step - loss: 8.3120 - mae: 8.3120\n",
            "Epoch 8/100\n",
            "1/1 [==============================] - 0s 14ms/step - loss: 7.5700 - mae: 7.5700\n",
            "Epoch 9/100\n",
            "1/1 [==============================] - 0s 16ms/step - loss: 6.8873 - mae: 6.8873\n",
            "Epoch 10/100\n",
            "1/1 [==============================] - 0s 16ms/step - loss: 6.8627 - mae: 6.8627\n",
            "Epoch 11/100\n",
            "1/1 [==============================] - 0s 18ms/step - loss: 7.1288 - mae: 7.1288\n",
            "Epoch 12/100\n",
            "1/1 [==============================] - 0s 17ms/step - loss: 7.2775 - mae: 7.2775\n",
            "Epoch 13/100\n",
            "1/1 [==============================] - 0s 17ms/step - loss: 7.3280 - mae: 7.3280\n",
            "Epoch 14/100\n",
            "1/1 [==============================] - 0s 18ms/step - loss: 7.2987 - mae: 7.2987\n",
            "Epoch 15/100\n",
            "1/1 [==============================] - 0s 20ms/step - loss: 7.1602 - mae: 7.1602\n",
            "Epoch 16/100\n",
            "1/1 [==============================] - 0s 15ms/step - loss: 6.9787 - mae: 6.9787\n",
            "Epoch 17/100\n",
            "1/1 [==============================] - 0s 14ms/step - loss: 6.7617 - mae: 6.7617\n",
            "Epoch 18/100\n",
            "1/1 [==============================] - 0s 16ms/step - loss: 6.5167 - mae: 6.5167\n",
            "Epoch 19/100\n",
            "1/1 [==============================] - 0s 11ms/step - loss: 6.2499 - mae: 6.2499\n",
            "Epoch 20/100\n",
            "1/1 [==============================] - 0s 16ms/step - loss: 6.1547 - mae: 6.1547\n",
            "Epoch 21/100\n",
            "1/1 [==============================] - 0s 19ms/step - loss: 6.1032 - mae: 6.1032\n",
            "Epoch 22/100\n",
            "1/1 [==============================] - 0s 12ms/step - loss: 6.2191 - mae: 6.2191\n",
            "Epoch 23/100\n",
            "1/1 [==============================] - 0s 13ms/step - loss: 6.2614 - mae: 6.2614\n",
            "Epoch 24/100\n",
            "1/1 [==============================] - 0s 12ms/step - loss: 6.1945 - mae: 6.1945\n",
            "Epoch 25/100\n",
            "1/1 [==============================] - 0s 13ms/step - loss: 6.0329 - mae: 6.0329\n",
            "Epoch 26/100\n",
            "1/1 [==============================] - 0s 13ms/step - loss: 5.7867 - mae: 5.7867\n",
            "Epoch 27/100\n",
            "1/1 [==============================] - 0s 15ms/step - loss: 5.6036 - mae: 5.6036\n",
            "Epoch 28/100\n",
            "1/1 [==============================] - 0s 12ms/step - loss: 5.4912 - mae: 5.4912\n",
            "Epoch 29/100\n",
            "1/1 [==============================] - 0s 12ms/step - loss: 5.4223 - mae: 5.4223\n",
            "Epoch 30/100\n",
            "1/1 [==============================] - 0s 12ms/step - loss: 5.4190 - mae: 5.4190\n",
            "Epoch 31/100\n",
            "1/1 [==============================] - 0s 12ms/step - loss: 5.3665 - mae: 5.3665\n",
            "Epoch 32/100\n",
            "1/1 [==============================] - 0s 15ms/step - loss: 5.2686 - mae: 5.2686\n",
            "Epoch 33/100\n",
            "1/1 [==============================] - 0s 15ms/step - loss: 5.1291 - mae: 5.1291\n",
            "Epoch 34/100\n",
            "1/1 [==============================] - 0s 16ms/step - loss: 4.9518 - mae: 4.9518\n",
            "Epoch 35/100\n",
            "1/1 [==============================] - 0s 14ms/step - loss: 4.7628 - mae: 4.7628\n",
            "Epoch 36/100\n",
            "1/1 [==============================] - 0s 13ms/step - loss: 4.6608 - mae: 4.6608\n",
            "Epoch 37/100\n",
            "1/1 [==============================] - 0s 13ms/step - loss: 4.5508 - mae: 4.5508\n",
            "Epoch 38/100\n",
            "1/1 [==============================] - 0s 14ms/step - loss: 4.4327 - mae: 4.4327\n",
            "Epoch 39/100\n",
            "1/1 [==============================] - 0s 13ms/step - loss: 4.3209 - mae: 4.3209\n",
            "Epoch 40/100\n",
            "1/1 [==============================] - 0s 13ms/step - loss: 4.1614 - mae: 4.1614\n",
            "Epoch 41/100\n",
            "1/1 [==============================] - 0s 17ms/step - loss: 4.0086 - mae: 4.0086\n",
            "Epoch 42/100\n",
            "1/1 [==============================] - 0s 15ms/step - loss: 3.8477 - mae: 3.8477\n",
            "Epoch 43/100\n",
            "1/1 [==============================] - 0s 12ms/step - loss: 3.6784 - mae: 3.6784\n",
            "Epoch 44/100\n",
            "1/1 [==============================] - 0s 11ms/step - loss: 3.5005 - mae: 3.5005\n",
            "Epoch 45/100\n",
            "1/1 [==============================] - 0s 12ms/step - loss: 3.3314 - mae: 3.3314\n",
            "Epoch 46/100\n",
            "1/1 [==============================] - 0s 16ms/step - loss: 3.1532 - mae: 3.1532\n",
            "Epoch 47/100\n",
            "1/1 [==============================] - 0s 14ms/step - loss: 2.9477 - mae: 2.9477\n",
            "Epoch 48/100\n",
            "1/1 [==============================] - 0s 12ms/step - loss: 2.7545 - mae: 2.7545\n",
            "Epoch 49/100\n",
            "1/1 [==============================] - 0s 13ms/step - loss: 2.5498 - mae: 2.5498\n",
            "Epoch 50/100\n",
            "1/1 [==============================] - 0s 15ms/step - loss: 2.3336 - mae: 2.3336\n",
            "Epoch 51/100\n",
            "1/1 [==============================] - 0s 15ms/step - loss: 2.1055 - mae: 2.1055\n",
            "Epoch 52/100\n",
            "1/1 [==============================] - 0s 15ms/step - loss: 1.8655 - mae: 1.8655\n",
            "Epoch 53/100\n",
            "1/1 [==============================] - 0s 13ms/step - loss: 1.6133 - mae: 1.6133\n",
            "Epoch 54/100\n",
            "1/1 [==============================] - 0s 16ms/step - loss: 1.3487 - mae: 1.3487\n",
            "Epoch 55/100\n",
            "1/1 [==============================] - 0s 14ms/step - loss: 1.0716 - mae: 1.0716\n",
            "Epoch 56/100\n",
            "1/1 [==============================] - 0s 13ms/step - loss: 0.8122 - mae: 0.8122\n",
            "Epoch 57/100\n",
            "1/1 [==============================] - 0s 14ms/step - loss: 0.4931 - mae: 0.4931\n",
            "Epoch 58/100\n",
            "1/1 [==============================] - 0s 19ms/step - loss: 0.2414 - mae: 0.2414\n",
            "Epoch 59/100\n",
            "1/1 [==============================] - 0s 14ms/step - loss: 0.2302 - mae: 0.2302\n",
            "Epoch 60/100\n",
            "1/1 [==============================] - 0s 20ms/step - loss: 0.3922 - mae: 0.3922\n",
            "Epoch 61/100\n",
            "1/1 [==============================] - 0s 13ms/step - loss: 0.7473 - mae: 0.7473\n",
            "Epoch 62/100\n",
            "1/1 [==============================] - 0s 16ms/step - loss: 0.8480 - mae: 0.8480\n",
            "Epoch 63/100\n",
            "1/1 [==============================] - 0s 13ms/step - loss: 0.7559 - mae: 0.7559\n",
            "Epoch 64/100\n",
            "1/1 [==============================] - 0s 11ms/step - loss: 0.9321 - mae: 0.9321\n",
            "Epoch 65/100\n",
            "1/1 [==============================] - 0s 11ms/step - loss: 0.8880 - mae: 0.8880\n",
            "Epoch 66/100\n",
            "1/1 [==============================] - 0s 11ms/step - loss: 0.7307 - mae: 0.7307\n",
            "Epoch 67/100\n",
            "1/1 [==============================] - 0s 11ms/step - loss: 0.6994 - mae: 0.6994\n",
            "Epoch 68/100\n",
            "1/1 [==============================] - 0s 11ms/step - loss: 0.5272 - mae: 0.5272\n",
            "Epoch 69/100\n",
            "1/1 [==============================] - 0s 11ms/step - loss: 0.4636 - mae: 0.4636\n",
            "Epoch 70/100\n",
            "1/1 [==============================] - 0s 16ms/step - loss: 0.2448 - mae: 0.2448\n",
            "Epoch 71/100\n",
            "1/1 [==============================] - 0s 13ms/step - loss: 0.1998 - mae: 0.1998\n",
            "Epoch 72/100\n",
            "1/1 [==============================] - 0s 12ms/step - loss: 0.1266 - mae: 0.1266\n",
            "Epoch 73/100\n",
            "1/1 [==============================] - 0s 12ms/step - loss: 0.2195 - mae: 0.2195\n",
            "Epoch 74/100\n",
            "1/1 [==============================] - 0s 14ms/step - loss: 0.3147 - mae: 0.3147\n",
            "Epoch 75/100\n",
            "1/1 [==============================] - 0s 12ms/step - loss: 0.3939 - mae: 0.3939\n",
            "Epoch 76/100\n",
            "1/1 [==============================] - 0s 13ms/step - loss: 0.3606 - mae: 0.3606\n",
            "Epoch 77/100\n",
            "1/1 [==============================] - 0s 12ms/step - loss: 0.3853 - mae: 0.3853\n",
            "Epoch 78/100\n",
            "1/1 [==============================] - 0s 13ms/step - loss: 0.3038 - mae: 0.3038\n",
            "Epoch 79/100\n",
            "1/1 [==============================] - 0s 12ms/step - loss: 0.3168 - mae: 0.3168\n",
            "Epoch 80/100\n",
            "1/1 [==============================] - 0s 12ms/step - loss: 0.1861 - mae: 0.1861\n",
            "Epoch 81/100\n",
            "1/1 [==============================] - 0s 12ms/step - loss: 0.2654 - mae: 0.2654\n",
            "Epoch 82/100\n",
            "1/1 [==============================] - 0s 12ms/step - loss: 0.2874 - mae: 0.2874\n",
            "Epoch 83/100\n",
            "1/1 [==============================] - 0s 12ms/step - loss: 0.1856 - mae: 0.1856\n",
            "Epoch 84/100\n",
            "1/1 [==============================] - 0s 12ms/step - loss: 0.2672 - mae: 0.2672\n",
            "Epoch 85/100\n",
            "1/1 [==============================] - 0s 11ms/step - loss: 0.1699 - mae: 0.1699\n",
            "Epoch 86/100\n",
            "1/1 [==============================] - 0s 13ms/step - loss: 0.3150 - mae: 0.3150\n",
            "Epoch 87/100\n",
            "1/1 [==============================] - 0s 12ms/step - loss: 0.2600 - mae: 0.2600\n",
            "Epoch 88/100\n",
            "1/1 [==============================] - 0s 13ms/step - loss: 0.1143 - mae: 0.1143\n",
            "Epoch 89/100\n",
            "1/1 [==============================] - 0s 13ms/step - loss: 0.1258 - mae: 0.1258\n",
            "Epoch 90/100\n",
            "1/1 [==============================] - 0s 13ms/step - loss: 0.1817 - mae: 0.1817\n",
            "Epoch 91/100\n",
            "1/1 [==============================] - 0s 13ms/step - loss: 0.1687 - mae: 0.1687\n",
            "Epoch 92/100\n",
            "1/1 [==============================] - 0s 13ms/step - loss: 0.1370 - mae: 0.1370\n",
            "Epoch 93/100\n",
            "1/1 [==============================] - 0s 12ms/step - loss: 0.1026 - mae: 0.1026\n",
            "Epoch 94/100\n",
            "1/1 [==============================] - 0s 12ms/step - loss: 0.2235 - mae: 0.2235\n",
            "Epoch 95/100\n",
            "1/1 [==============================] - 0s 15ms/step - loss: 0.2196 - mae: 0.2196\n",
            "Epoch 96/100\n",
            "1/1 [==============================] - 0s 12ms/step - loss: 0.1104 - mae: 0.1104\n",
            "Epoch 97/100\n",
            "1/1 [==============================] - 0s 12ms/step - loss: 0.1730 - mae: 0.1730\n",
            "Epoch 98/100\n",
            "1/1 [==============================] - 0s 12ms/step - loss: 0.0383 - mae: 0.0383\n",
            "Epoch 99/100\n",
            "1/1 [==============================] - 0s 13ms/step - loss: 0.0640 - mae: 0.0640\n",
            "Epoch 100/100\n",
            "1/1 [==============================] - 0s 14ms/step - loss: 0.1327 - mae: 0.1327\n"
          ]
        },
        {
          "output_type": "execute_result",
          "data": {
            "text/plain": [
              "<keras.src.callbacks.History at 0x7d98dc16aa10>"
            ]
          },
          "metadata": {},
          "execution_count": 20
        }
      ]
    },
    {
      "cell_type": "code",
      "source": [
        "model.predict([17])"
      ],
      "metadata": {
        "colab": {
          "base_uri": "https://localhost:8080/"
        },
        "id": "gLDuYhd4doXf",
        "outputId": "2ecb89ea-dac4-44e1-c156-a7699721a14f"
      },
      "execution_count": null,
      "outputs": [
        {
          "output_type": "stream",
          "name": "stdout",
          "text": [
            "1/1 [==============================] - 0s 94ms/step\n"
          ]
        },
        {
          "output_type": "execute_result",
          "data": {
            "text/plain": [
              "array([[26.92579]], dtype=float32)"
            ]
          },
          "metadata": {},
          "execution_count": 21
        }
      ]
    },
    {
      "cell_type": "markdown",
      "source": [
        "# Evaluating a model\n",
        "\n",
        "A typical workflow you'll go through when building neural networks is:\n",
        "\n",
        "Build a model -> evaluate it -> build (tweak) a model -> evaulate it -> build (tweak) a model -> evaluate it...\n",
        "\n",
        "It's a good idea to visualize:\n",
        "\n",
        "The data - what data are you working with? What does it look like?\n",
        "The model itself - what does the architecture look like? What are the different shapes?\n",
        "The training of a model - how does a model perform while it learns?\n",
        "The predictions of a model - how do the predictions of a model line up against the ground truth (the original labels)?"
      ],
      "metadata": {
        "id": "dbM5qLbjdeJZ"
      }
    },
    {
      "cell_type": "code",
      "source": [
        "# Make a bigger dataset\n",
        "\n",
        "X=np.arange(-100,100,4)\n",
        "X"
      ],
      "metadata": {
        "colab": {
          "base_uri": "https://localhost:8080/"
        },
        "id": "3o61gjj5un3V",
        "outputId": "d79d19a6-2d18-4792-f5ce-613f963f2d4a"
      },
      "execution_count": null,
      "outputs": [
        {
          "output_type": "execute_result",
          "data": {
            "text/plain": [
              "array([-100,  -96,  -92,  -88,  -84,  -80,  -76,  -72,  -68,  -64,  -60,\n",
              "        -56,  -52,  -48,  -44,  -40,  -36,  -32,  -28,  -24,  -20,  -16,\n",
              "        -12,   -8,   -4,    0,    4,    8,   12,   16,   20,   24,   28,\n",
              "         32,   36,   40,   44,   48,   52,   56,   60,   64,   68,   72,\n",
              "         76,   80,   84,   88,   92,   96])"
            ]
          },
          "metadata": {},
          "execution_count": 22
        }
      ]
    },
    {
      "cell_type": "code",
      "source": [
        "# create labels\n",
        "\n",
        "y=X+10\n",
        "y"
      ],
      "metadata": {
        "colab": {
          "base_uri": "https://localhost:8080/"
        },
        "id": "Y8eVLpKVusxe",
        "outputId": "34ee3713-bf0b-4553-8e0f-0b6432d0fe1f"
      },
      "execution_count": null,
      "outputs": [
        {
          "output_type": "execute_result",
          "data": {
            "text/plain": [
              "array([-90, -86, -82, -78, -74, -70, -66, -62, -58, -54, -50, -46, -42,\n",
              "       -38, -34, -30, -26, -22, -18, -14, -10,  -6,  -2,   2,   6,  10,\n",
              "        14,  18,  22,  26,  30,  34,  38,  42,  46,  50,  54,  58,  62,\n",
              "        66,  70,  74,  78,  82,  86,  90,  94,  98, 102, 106])"
            ]
          },
          "metadata": {},
          "execution_count": 23
        }
      ]
    },
    {
      "cell_type": "markdown",
      "source": [
        "# Visualizing the data"
      ],
      "metadata": {
        "id": "qXS8jfqnvSok"
      }
    },
    {
      "cell_type": "code",
      "source": [
        "import matplotlib.pyplot as plt\n",
        "\n",
        "plt.scatter(X,y)"
      ],
      "metadata": {
        "colab": {
          "base_uri": "https://localhost:8080/",
          "height": 447
        },
        "id": "A9QcY14BvW1a",
        "outputId": "ce8adbcf-ed95-4b5e-94aa-97346f773326"
      },
      "execution_count": null,
      "outputs": [
        {
          "output_type": "execute_result",
          "data": {
            "text/plain": [
              "<matplotlib.collections.PathCollection at 0x7d98cff80760>"
            ]
          },
          "metadata": {},
          "execution_count": 24
        },
        {
          "output_type": "display_data",
          "data": {
            "text/plain": [
              "<Figure size 640x480 with 1 Axes>"
            ],
            "image/png": "[encoded data removed]"
          },
          "metadata": {}
        }
      ]
    },
    {
      "cell_type": "markdown",
      "source": [
        "# Split data into training/test set\n",
        "\n",
        "**Training set** - the model learns from this data, which is typically 70-80% of the total data available (like the course materials you study during the semester).\n",
        "\n",
        "**Validation set** - the model gets tuned on this data, which is typically 10-15% of the total data available (like the practice exam you take before the final exam).\n",
        "\n",
        "**Test set** - the model gets evaluated on this data to test what it has learned, it's typically 10-15% of the total data available (like the final exam you take at the end of the semester).\n",
        "\n",
        "\n"
      ],
      "metadata": {
        "id": "9UZqFYjcvLZC"
      }
    },
    {
      "cell_type": "code",
      "source": [
        "# Spliting the data\n",
        "X_train=X[:40]\n",
        "y_train=y[:40]\n",
        "\n",
        "X_test=y[40:]\n",
        "y_test=y[40:]\n",
        "\n",
        "len(X_train), len(X_test), len(y_train), len(y_test)"
      ],
      "metadata": {
        "colab": {
          "base_uri": "https://localhost:8080/"
        },
        "id": "zExMviJIvJLF",
        "outputId": "fb30ffee-ce0d-4651-c1d6-21c2e2addf14"
      },
      "execution_count": null,
      "outputs": [
        {
          "output_type": "execute_result",
          "data": {
            "text/plain": [
              "(40, 10, 40, 10)"
            ]
          },
          "metadata": {},
          "execution_count": 25
        }
      ]
    },
    {
      "cell_type": "markdown",
      "source": [
        "# Visualising the training and test data"
      ],
      "metadata": {
        "id": "1X1yQ4Xex5Hm"
      }
    },
    {
      "cell_type": "code",
      "source": [
        "plt.figure(figsize=(10,7))\n",
        "#Plot taining data\n",
        "plt.scatter(X_train, y_train, c='b', label='Training data')\n",
        "# Plot test data\n",
        "plt.scatter(X_test, y_test, c='g', label='Testing data')\n",
        "# Show a legend\n",
        "plt.legend()\n",
        "\n"
      ],
      "metadata": {
        "colab": {
          "base_uri": "https://localhost:8080/",
          "height": 616
        },
        "id": "69MgYrkewmA8",
        "outputId": "1bf4cf5c-7673-47e7-8818-93a681e9712b"
      },
      "execution_count": null,
      "outputs": [
        {
          "output_type": "execute_result",
          "data": {
            "text/plain": [
              "<matplotlib.legend.Legend at 0x7d98cfed02e0>"
            ]
          },
          "metadata": {},
          "execution_count": 26
        },
        {
          "output_type": "display_data",
          "data": {
            "text/plain": [
              "<Figure size 1000x700 with 1 Axes>"
            ],
            "image/png": "[encoded data removed]"
          },
          "metadata": {}
        }
      ]
    },
    {
      "cell_type": "code",
      "source": [
        "# Build a model\n",
        "\n",
        "#Set random seed\n",
        "tf.random.set_seed(42)\n",
        "\n",
        "#Create a model\n",
        "\n",
        "model=tf.keras.Sequential([tf.keras.layers.Dense(1)])\n",
        "\n",
        "#Compile the model\n",
        "\n",
        "model.compile(loss=tf.keras.losses.mae,\n",
        "              optimizer=tf.keras.optimizers.SGD(),\n",
        "              metrics=[\"mae\"])\n",
        "#fit the model\n",
        "#model.fit(X_train,y_train,epochs=100) # commented out on purpose"
      ],
      "metadata": {
        "id": "WxeEJF6kzBCj"
      },
      "execution_count": null,
      "outputs": []
    },
    {
      "cell_type": "code",
      "source": [
        "# Doesn't work (model not fit/built)\n",
        "model.summary()"
      ],
      "metadata": {
        "colab": {
          "base_uri": "https://localhost:8080/",
          "height": 280
        },
        "id": "PLn2WHqXKWz_",
        "outputId": "d7857b76-1e05-4607-cff5-625b11136419"
      },
      "execution_count": null,
      "outputs": [
        {
          "output_type": "error",
          "ename": "ValueError",
          "evalue": "This model has not yet been built. Build the model first by calling `build()` or by calling the model on a batch of data.",
          "traceback": [
            "\u001b[0;31m---------------------------------------------------------------------------\u001b[0m",
            "\u001b[0;31mValueError\u001b[0m                                Traceback (most recent call last)",
            "\u001b[0;32m<ipython-input-28-7d09d31d4e66>\u001b[0m in \u001b[0;36m<cell line: 2>\u001b[0;34m()\u001b[0m\n\u001b[1;32m      1\u001b[0m \u001b[0;31m# Doesn't work (model not fit/built)\u001b[0m\u001b[0;34m\u001b[0m\u001b[0;34m\u001b[0m\u001b[0m\n\u001b[0;32m----> 2\u001b[0;31m \u001b[0mmodel\u001b[0m\u001b[0;34m.\u001b[0m\u001b[0msummary\u001b[0m\u001b[0;34m(\u001b[0m\u001b[0;34m)\u001b[0m\u001b[0;34m\u001b[0m\u001b[0;34m\u001b[0m\u001b[0m\n\u001b[0m",
            "\u001b[0;32m/usr/local/lib/python3.10/dist-packages/keras/src/engine/training.py\u001b[0m in \u001b[0;36msummary\u001b[0;34m(self, line_length, positions, print_fn, expand_nested, show_trainable, layer_range)\u001b[0m\n\u001b[1;32m   3504\u001b[0m         \"\"\"\n\u001b[1;32m   3505\u001b[0m         \u001b[0;32mif\u001b[0m \u001b[0;32mnot\u001b[0m \u001b[0mself\u001b[0m\u001b[0;34m.\u001b[0m\u001b[0mbuilt\u001b[0m\u001b[0;34m:\u001b[0m\u001b[0;34m\u001b[0m\u001b[0;34m\u001b[0m\u001b[0m\n\u001b[0;32m-> 3506\u001b[0;31m             raise ValueError(\n\u001b[0m\u001b[1;32m   3507\u001b[0m                 \u001b[0;34m\"This model has not yet been built. \"\u001b[0m\u001b[0;34m\u001b[0m\u001b[0;34m\u001b[0m\u001b[0m\n\u001b[1;32m   3508\u001b[0m                 \u001b[0;34m\"Build the model first by calling `build()` or by calling \"\u001b[0m\u001b[0;34m\u001b[0m\u001b[0;34m\u001b[0m\u001b[0m\n",
            "\u001b[0;31mValueError\u001b[0m: This model has not yet been built. Build the model first by calling `build()` or by calling the model on a batch of data."
          ]
        }
      ]
    },
    {
      "cell_type": "markdown",
      "source": [
        "the cell above errors because we haven't fit or built our modeland also haven't told it what input shape it should be expecting."
      ],
      "metadata": {
        "id": "nmM_hB-zKtMX"
      }
    },
    {
      "cell_type": "code",
      "source": [
        "#Create a model with input_shape\n",
        "\n",
        "#Set random seed\n",
        "tf.random.set_seed(42)\n",
        "\n",
        "#Create the model\n",
        "\n",
        "model=tf.keras.Sequential([tf.keras.layers.Dense(10,input_shape=[1], name=\"input_layer\"),\n",
        "                           tf.keras.layers.Dense(1,name=\"output_layer\")], name=\"model_1\") #Define the input shape\n",
        "\n",
        "# Compile the model\n",
        "model.compile(loss=tf.keras.losses.mae,\n",
        "              optimizer=tf.keras.optimizers.Adam(learning_rate=0.001),\n",
        "              metrics=[\"mae\"])\n"
      ],
      "metadata": {
        "id": "Pt5dp8EEK7Ti"
      },
      "execution_count": null,
      "outputs": []
    },
    {
      "cell_type": "code",
      "source": [
        "#Model summary\n",
        "model.summary()"
      ],
      "metadata": {
        "colab": {
          "base_uri": "https://localhost:8080/"
        },
        "id": "ME5utNa3MWfp",
        "outputId": "c15fcfba-e5d3-4526-9453-93778f20e782"
      },
      "execution_count": null,
      "outputs": [
        {
          "output_type": "stream",
          "name": "stdout",
          "text": [
            "Model: \"model_1\"\n",
            "_________________________________________________________________\n",
            " Layer (type)                Output Shape              Param #   \n",
            "=================================================================\n",
            " input_layer (Dense)         (None, 10)                20        \n",
            "                                                                 \n",
            " output_layer (Dense)        (None, 1)                 11        \n",
            "                                                                 \n",
            "=================================================================\n",
            "Total params: 31 (124.00 Byte)\n",
            "Trainable params: 31 (124.00 Byte)\n",
            "Non-trainable params: 0 (0.00 Byte)\n",
            "_________________________________________________________________\n"
          ]
        }
      ]
    },
    {
      "cell_type": "markdown",
      "source": [
        "**Total params** - total number of parameters in the model.\n",
        "\n",
        "**Trainable parameters** - these are the parameters (patterns) the model can update as it trains.\n",
        "\n",
        "**Non-trainable parameters -** these parameters aren't updated during training (this is typical when you bring in the already learned patterns from other models during transfer learning)."
      ],
      "metadata": {
        "id": "6y8hatukMlU7"
      }
    },
    {
      "cell_type": "code",
      "source": [
        "#Fit the model to the training data\n",
        "model.fit(X_train,y_train,epochs=100, verbose=0)"
      ],
      "metadata": {
        "colab": {
          "base_uri": "https://localhost:8080/"
        },
        "id": "uz1sUb-8MgYL",
        "outputId": "28722e8e-bfb0-49a6-f253-06b33801f741"
      },
      "execution_count": null,
      "outputs": [
        {
          "output_type": "execute_result",
          "data": {
            "text/plain": [
              "<keras.src.callbacks.History at 0x7d98dd5856c0>"
            ]
          },
          "metadata": {},
          "execution_count": 46
        }
      ]
    },
    {
      "cell_type": "markdown",
      "source": [
        "By setting verbose 0, 1 or 2 you just say how do you want to 'see' the training progress for each epoch.\n",
        "\n",
        "verbose=0 will show you nothing (silent)\n",
        "\n",
        "verbose=1 will show you an animated progress bar like this:\n",
        "\n",
        "progres_bar\n",
        "\n",
        "verbose=2 will just mention the number of epoch like this:\n",
        "\n",
        "enter image description here"
      ],
      "metadata": {
        "id": "xGtTHExzN8Fw"
      }
    },
    {
      "cell_type": "code",
      "source": [
        "# Check the model summary\n",
        "model.summary()"
      ],
      "metadata": {
        "colab": {
          "base_uri": "https://localhost:8080/"
        },
        "id": "suOzfqWhNSab",
        "outputId": "0f25a246-7af2-4917-e63b-f011b28edb62"
      },
      "execution_count": null,
      "outputs": [
        {
          "output_type": "stream",
          "name": "stdout",
          "text": [
            "Model: \"model_1\"\n",
            "_________________________________________________________________\n",
            " Layer (type)                Output Shape              Param #   \n",
            "=================================================================\n",
            " input_layer (Dense)         (None, 10)                20        \n",
            "                                                                 \n",
            " output_layer (Dense)        (None, 1)                 11        \n",
            "                                                                 \n",
            "=================================================================\n",
            "Total params: 31 (124.00 Byte)\n",
            "Trainable params: 31 (124.00 Byte)\n",
            "Non-trainable params: 0 (0.00 Byte)\n",
            "_________________________________________________________________\n"
          ]
        }
      ]
    },
    {
      "cell_type": "markdown",
      "source": [
        "# 2D plot of the model using plot_model()"
      ],
      "metadata": {
        "id": "NYgh9bw4fRII"
      }
    },
    {
      "cell_type": "code",
      "source": [
        "from tensorflow.keras.utils import plot_model\n"
      ],
      "metadata": {
        "id": "PLBHZVHsfMjP"
      },
      "execution_count": null,
      "outputs": []
    },
    {
      "cell_type": "code",
      "source": [
        "plot_model(model,show_shapes=True)"
      ],
      "metadata": {
        "colab": {
          "base_uri": "https://localhost:8080/",
          "height": 312
        },
        "id": "BDizL0dofr-X",
        "outputId": "7e010a69-bb24-423d-b72f-71f289edcf45"
      },
      "execution_count": null,
      "outputs": [
        {
          "output_type": "execute_result",
          "data": {
            "image/png": "[encoded data removed]",
            "text/plain": [
              "<IPython.core.display.Image object>"
            ]
          },
          "metadata": {},
          "execution_count": 48
        }
      ]
    },
    {
      "cell_type": "markdown",
      "source": [
        "# Visualizing the predictions\n",
        "\n",
        "To visualize predictions, it's always a good idea to plot them against the ground truth labels.\n",
        "\n",
        "Often you'll see this in the form of y_test vs. y_pred (ground truth vs. predictions).\n",
        "\n",
        "First, we'll make some predictions on the test data (X_test), remember the model has never seen the test data.\n",
        "\n"
      ],
      "metadata": {
        "id": "P3MbY1iZc14V"
      }
    },
    {
      "cell_type": "code",
      "source": [
        "# Make prediction\n",
        "y_preds=model.predict(X_test)"
      ],
      "metadata": {
        "colab": {
          "base_uri": "https://localhost:8080/"
        },
        "id": "IfXdG5QOf2TP",
        "outputId": "6628f86c-a211-4c3d-a0ff-478e214f40e1"
      },
      "execution_count": null,
      "outputs": [
        {
          "output_type": "stream",
          "name": "stdout",
          "text": [
            "1/1 [==============================] - 0s 55ms/step\n"
          ]
        }
      ]
    },
    {
      "cell_type": "code",
      "source": [
        "#View the predictions\n",
        "y_preds"
      ],
      "metadata": {
        "colab": {
          "base_uri": "https://localhost:8080/"
        },
        "id": "7ZxTy5USd_FQ",
        "outputId": "472987c5-fb6e-439d-a590-dfce9be5eebd"
      },
      "execution_count": null,
      "outputs": [
        {
          "output_type": "execute_result",
          "data": {
            "text/plain": [
              "array([[63.59604 ],\n",
              "       [67.16994 ],\n",
              "       [70.74385 ],\n",
              "       [74.317764],\n",
              "       [77.89168 ],\n",
              "       [81.465576],\n",
              "       [85.0395  ],\n",
              "       [88.6134  ],\n",
              "       [92.18731 ],\n",
              "       [95.76122 ]], dtype=float32)"
            ]
          },
          "metadata": {},
          "execution_count": 50
        }
      ]
    },
    {
      "cell_type": "code",
      "source": [
        "# ploting function to visualize the predictions\n",
        "\n",
        "def plot_predictions(train_data=X_train,\n",
        "                     train_labels=y_train,\n",
        "                     test_data=X_test,\n",
        "                     test_labels=y_test,\n",
        "                     predictions=y_preds):\n",
        "  \"\"\"\n",
        "  Plots training data, test data and compares predictions.\n",
        "  \"\"\"\n",
        "  plt.figure(figsize=(10,7))\n",
        "  # Plot training data in blue\n",
        "  plt.scatter(train_data,train_labels,c=\"b\", label=\"Training data\")\n",
        "  # Plot test data in green\n",
        "  plt.scatter(test_data, test_labels, c=\"g\", label=\"Testing data\")\n",
        "  #Plot the predictions in red\n",
        "  plt.scatter(test_data,predictions,c=\"r\",label=\"Predictions\")\n",
        "  # Shoe the Legend\n",
        "  plt.legend();"
      ],
      "metadata": {
        "id": "oSKVh3tceFVT"
      },
      "execution_count": null,
      "outputs": []
    },
    {
      "cell_type": "code",
      "source": [
        "plot_predictions(train_data=X_train,\n",
        "                 train_labels=y_train,\n",
        "                 test_data=X_test,\n",
        "                 test_labels=y_test,\n",
        "                 predictions=y_preds)"
      ],
      "metadata": {
        "colab": {
          "base_uri": "https://localhost:8080/",
          "height": 599
        },
        "id": "HXoQD3m4gWGI",
        "outputId": "3cd040d6-f4f9-453c-8c61-b341b7a8577f"
      },
      "execution_count": null,
      "outputs": [
        {
          "output_type": "display_data",
          "data": {
            "text/plain": [
              "<Figure size 1000x700 with 1 Axes>"
            ],
            "image/png": "[encoded data removed]"
          },
          "metadata": {}
        }
      ]
    },
    {
      "cell_type": "markdown",
      "source": [
        "# Evaluating predictions\n",
        "Two of the main metrics used for regression problems are:\n",
        "\n",
        "Mean absolute error (MAE) - the mean difference between each of the predictions.\n",
        "Mean squared error (MSE) - the squared mean difference between of the predictions (use if larger errors are more detrimental than smaller errors).\n",
        "The lower each of these values, the better.\n",
        "\n",
        "You can also use model.evaluate() which will return the loss of the model as well as any metrics setup during the compile step."
      ],
      "metadata": {
        "id": "T0vdcrRRlqxt"
      }
    },
    {
      "cell_type": "code",
      "source": [
        "# Evaluate the model on the test set\n",
        "model.evaluate(X_test,y_test)"
      ],
      "metadata": {
        "colab": {
          "base_uri": "https://localhost:8080/"
        },
        "id": "uSrf3z4BgWf5",
        "outputId": "bb98f60e-8da9-4bf6-840d-fc1ca0f388c6"
      },
      "execution_count": null,
      "outputs": [
        {
          "output_type": "stream",
          "name": "stdout",
          "text": [
            "1/1 [==============================] - 0s 165ms/step - loss: 8.3214 - mae: 8.3214\n"
          ]
        },
        {
          "output_type": "execute_result",
          "data": {
            "text/plain": [
              "[8.321374893188477, 8.321374893188477]"
            ]
          },
          "metadata": {},
          "execution_count": 53
        }
      ]
    },
    {
      "cell_type": "code",
      "source": [
        "# Calculate the mean absolute error\n",
        "mae=tf.metrics.mean_absolute_error(y_true=y_test,y_pred=y_preds)\n",
        "mae"
      ],
      "metadata": {
        "colab": {
          "base_uri": "https://localhost:8080/"
        },
        "id": "kjOQk-ZHl3Nt",
        "outputId": "57515376-2505-45c5-ceb2-7465d984935c"
      },
      "execution_count": null,
      "outputs": [
        {
          "output_type": "execute_result",
          "data": {
            "text/plain": [
              "<tf.Tensor: shape=(10,), dtype=float32, numpy=\n",
              "array([24.403961 , 20.830063 , 17.404919 , 14.609342 , 12.4649935,\n",
              "       11.013769 , 10.192101 , 10.       , 10.437462 , 11.504489 ],\n",
              "      dtype=float32)>"
            ]
          },
          "metadata": {},
          "execution_count": 54
        }
      ]
    },
    {
      "cell_type": "code",
      "source": [
        "# Check the test label tensor values\n",
        "y_test\n"
      ],
      "metadata": {
        "colab": {
          "base_uri": "https://localhost:8080/"
        },
        "id": "jz3BESFumHeU",
        "outputId": "20abc36b-4649-4527-b7b2-3b6f1509e7ae"
      },
      "execution_count": null,
      "outputs": [
        {
          "output_type": "execute_result",
          "data": {
            "text/plain": [
              "array([ 70,  74,  78,  82,  86,  90,  94,  98, 102, 106])"
            ]
          },
          "metadata": {},
          "execution_count": 55
        }
      ]
    },
    {
      "cell_type": "code",
      "source": [
        "\n",
        "# Check the predictions tensor values (notice the extra square brackets)\n",
        "y_preds\n"
      ],
      "metadata": {
        "colab": {
          "base_uri": "https://localhost:8080/"
        },
        "id": "nJuh1VWKmfUd",
        "outputId": "4fed20e6-c8fa-4641-ddf1-c946146dffa3"
      },
      "execution_count": null,
      "outputs": [
        {
          "output_type": "execute_result",
          "data": {
            "text/plain": [
              "array([[63.59604 ],\n",
              "       [67.16994 ],\n",
              "       [70.74385 ],\n",
              "       [74.317764],\n",
              "       [77.89168 ],\n",
              "       [81.465576],\n",
              "       [85.0395  ],\n",
              "       [88.6134  ],\n",
              "       [92.18731 ],\n",
              "       [95.76122 ]], dtype=float32)"
            ]
          },
          "metadata": {},
          "execution_count": 56
        }
      ]
    },
    {
      "cell_type": "code",
      "source": [
        "\n",
        "# Check the tensor shapes\n",
        "y_test.shape, y_preds.shape"
      ],
      "metadata": {
        "colab": {
          "base_uri": "https://localhost:8080/"
        },
        "id": "_Ug8wr0Wmg6E",
        "outputId": "5b0ef195-537a-4a71-b8b7-966ae66200ff"
      },
      "execution_count": null,
      "outputs": [
        {
          "output_type": "execute_result",
          "data": {
            "text/plain": [
              "((10,), (10, 1))"
            ]
          },
          "metadata": {},
          "execution_count": 57
        }
      ]
    },
    {
      "cell_type": "code",
      "source": [
        "\n",
        "\n",
        "# Shape after squeeze()\n",
        "y_preds.squeeze().shape\n",
        "\n"
      ],
      "metadata": {
        "colab": {
          "base_uri": "https://localhost:8080/"
        },
        "id": "A7QvGZjzmjK8",
        "outputId": "66aefd92-7dad-4faf-88c2-aa1fc540ab5a"
      },
      "execution_count": null,
      "outputs": [
        {
          "output_type": "execute_result",
          "data": {
            "text/plain": [
              "(10,)"
            ]
          },
          "metadata": {},
          "execution_count": 58
        }
      ]
    },
    {
      "cell_type": "code",
      "source": [
        "# Calcuate the MAE\n",
        "mae = tf.metrics.mean_absolute_error(y_true=y_test,\n",
        "                                     y_pred=y_preds.squeeze()) # use squeeze() to make same shape\n",
        "mae"
      ],
      "metadata": {
        "colab": {
          "base_uri": "https://localhost:8080/"
        },
        "id": "h20cLiWhmlnb",
        "outputId": "25bfeb78-bf1d-4b66-9985-b8b680d7d8c2"
      },
      "execution_count": null,
      "outputs": [
        {
          "output_type": "execute_result",
          "data": {
            "text/plain": [
              "<tf.Tensor: shape=(), dtype=float32, numpy=8.321372>"
            ]
          },
          "metadata": {},
          "execution_count": 59
        }
      ]
    },
    {
      "cell_type": "code",
      "source": [
        "# Calculate the MSE\n",
        "mse = tf.metrics.mean_squared_error(y_true=y_test,\n",
        "                                    y_pred=y_preds.squeeze())\n",
        "mse"
      ],
      "metadata": {
        "colab": {
          "base_uri": "https://localhost:8080/"
        },
        "id": "e7EHg1HtmsEu",
        "outputId": "2fdc14d4-25f3-4f93-a25b-99d156f48cf3"
      },
      "execution_count": null,
      "outputs": [
        {
          "output_type": "execute_result",
          "data": {
            "text/plain": [
              "<tf.Tensor: shape=(), dtype=float32, numpy=70.74304>"
            ]
          },
          "metadata": {},
          "execution_count": 60
        }
      ]
    },
    {
      "cell_type": "code",
      "source": [
        "def mae(y_test, y_pred):\n",
        "  \"\"\"\n",
        "  Calculuates mean absolute error between y_test and y_preds.\n",
        "  \"\"\"\n",
        "  return tf.metrics.mean_absolute_error(y_test,\n",
        "                                        y_pred)\n",
        "\n",
        "def mse(y_test, y_pred):\n",
        "  \"\"\"\n",
        "  Calculates mean squared error between y_test and y_preds.\n",
        "  \"\"\"\n",
        "  return tf.metrics.mean_squared_error(y_test,\n",
        "                                       y_pred)"
      ],
      "metadata": {
        "id": "rzJQ1_PbnBrt"
      },
      "execution_count": 61,
      "outputs": []
    }
  ]
}